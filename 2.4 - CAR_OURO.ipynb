{
 "cells": [
  {
   "cell_type": "markdown",
   "metadata": {
    "application/vnd.databricks.v1+cell": {
     "cellMetadata": {
      "byteLimit": 2048000,
      "rowLimit": 10000
     },
     "inputWidgets": {},
     "nuid": "3682a465-dce9-4a7c-a914-42d531aba30e",
     "showTitle": false,
     "title": ""
    }
   },
   "source": [
    "### Carga da Tabela Ouro da Arquitetura Medallion"
   ]
  },
  {
   "cell_type": "code",
   "execution_count": 0,
   "metadata": {
    "application/vnd.databricks.v1+cell": {
     "cellMetadata": {
      "byteLimit": 2048000,
      "implicitDf": true,
      "rowLimit": 10000
     },
     "inputWidgets": {},
     "nuid": "7828c2ee-a3ef-4a0c-9ff0-168a092e5bd5",
     "showTitle": false,
     "title": ""
    }
   },
   "outputs": [
    {
     "output_type": "display_data",
     "data": {
      "text/html": [
       "<style scoped>\n",
       "  .table-result-container {\n",
       "    max-height: 300px;\n",
       "    overflow: auto;\n",
       "  }\n",
       "  table, th, td {\n",
       "    border: 1px solid black;\n",
       "    border-collapse: collapse;\n",
       "  }\n",
       "  th, td {\n",
       "    padding: 5px;\n",
       "  }\n",
       "  th {\n",
       "    text-align: left;\n",
       "  }\n",
       "</style><div class='table-result-container'><table class='table-result'><thead style='background-color: white'><tr><th>TITULO</th><th>NOTA_POPULARIDADE</th><th>GENERO</th><th>DATA_DE_LANCAMENTO</th><th>DIRETORIO_POSTER</th><th>SINOPSE</th></tr></thead><tbody><tr><td>Avatar: O Caminho da Água</td><td>214.78</td><td>List(Ação, Aventura, Ficção científica)</td><td>14-12-2022</td><td>https://image.tmdb.org/t/p/original/mbYQLLluS651W89jO7MOZcLSCUw.jpg</td><td>12 anos depois de explorar Pandora e se juntar aos Na'vi, Jake Sully formou uma família com Neytiri e se estabeleceu entre os clãs do novo mundo. Porém, a paz não durará para sempre.</td></tr><tr><td>A Sociedade da Neve</td><td>169.11</td><td>List(Drama, História)</td><td>13-12-2023</td><td>https://image.tmdb.org/t/p/original/7fQTmvKgVGxifieVryqqlxohkoW.jpg</td><td>Em 13 de outubro de 1972, o voo 571 da Força Aérea Uruguaia, fretado para levar um time de rúgbi ao Chile, cai em uma geleira no coração da Cordilheira dos Andes.</td></tr><tr><td>O Protetor: Capítulo Final</td><td>160.2</td><td>List(Ação, Crime, Thriller)</td><td>30-08-2023</td><td>https://image.tmdb.org/t/p/original/AnJOKbSQsp0QqiUhsQooqFRjPsD.jpg</td><td>Sentindo-se em casa no sul da Itália, o ex-agente Robert McCall logo descobre que seus novos amigos estão sob o controle dos chefes do crime local.  À medida que os acontecimentos se tornam mortais, McCall sabe o que tem de fazer: tornar-se o protetor dos seus amigos, enfrentando a máfia.</td></tr><tr><td>O Hobbit: A Batalha dos Cinco Exércitos</td><td>152.89</td><td>List(Ação, Aventura, Fantasia)</td><td>10-12-2014</td><td>https://image.tmdb.org/t/p/original/5tGL0dbQpAkK9ItUaDrUbTvTMDp.jpg</td><td>O dragão Smaug lança sua fúria ardente contra a Cidade do Lago que fica próxima da montanha de Erebor. Bard consegue derrotá-lo, mas, rapidamente, sem a ameaça do dragão, inicia-se uma batalha pelo controle de Erebor e sua riqueza. Os anões, liderados por Thorin, adentram a montanha e estão dispostos a impedir a entrada de elfos, anões e orcs. Bilbo Bolseiro e Gandalf tentam impedir a guerra.</td></tr><tr><td>Interestelar</td><td>138.63</td><td>List(Aventura, Drama, Ficção científica)</td><td>05-11-2014</td><td>https://image.tmdb.org/t/p/original/nCbkOyOMTEwlEV0LtCOvCnwEONA.jpg</td><td>As reservas naturais da Terra estão chegando ao fim e um grupo de astronautas recebe a missão de verificar possíveis planetas para receberem a população mundial, possibilitando a continuação da espécie. Cooper é chamado para liderar o grupo e aceita a missão sabendo que pode nunca mais ver os filhos. Ao lado de Brand, Jenkins e Doyle, ele seguirá em busca de um novo lar.</td></tr><tr><td>O Protetor</td><td>138.28</td><td>List(Ação, Crime, Thriller)</td><td>24-09-2014</td><td>https://image.tmdb.org/t/p/original/xTSOdJ0Ljs439lnKB7NsWlTibZN.jpg</td><td>O ex-agente secreto Robert McCall acredita que seu passado ficou para trás e tenta viver uma nova vida. Porém, quando ele conhece Teri, uma jovem que está em poder de uma quadrilha russa, ele simplesmente não consegue ignorá-la. Munido de suas extraordinárias habilidades, ele ressurge como um verdadeiro anjo vingador. Fora da aposentadoria e com um novo desejo de fazer justiça, McCall decide ajudar quem foi brutalizado e oprimido.</td></tr><tr><td>Forrest Gump: O Contador de Histórias</td><td>131.33</td><td>List(Comédia, Drama, Romance)</td><td>23-06-1994</td><td>https://image.tmdb.org/t/p/original/d74WpIsH8379TIL4wUxDneRCYv2.jpg</td><td>Quarenta anos da história dos Estados Unidos, vistos pelos olhos de Forrest Gump, um rapaz com QI abaixo da média e com boas intenções. Por obra do acaso, ele consegue participar de momentos cruciais, como a Guerra do Vietnã e o Caso Watergate, mas continua pensando no seu amor de infância, Jenny Curran.</td></tr><tr><td>Um Sonho de Liberdade</td><td>128.97</td><td>List(Crime, Drama)</td><td>23-09-1994</td><td>https://image.tmdb.org/t/p/original/umX3lBhHoTV7Lsci140Yr8VpXyN.jpg</td><td>Em 1946, Andy Dufresne, um banqueiro jovem e bem sucedido, tem a sua vida radicalmente modificada ao ser condenado por um crime que nunca cometeu, o homicídio de sua esposa e do amante dela. Ele é mandado para uma prisão que é o pesadelo de qualquer detento, a Penitenciária Estadual de Shawshank, no Maine. Lá ele irá cumprir a pena perpétua. Andy logo será apresentado a Warden Norton, o corrupto e cruel agente penitenciário, que usa a Bíblia como arma de controle e ao Capitão Byron Hadley que trata os internos como animais. Andy faz amizade com Ellis Boyd Redding, um prisioneiro que cumpre pena há 20 anos e controla o mercado negro da instituição.</td></tr><tr><td>Godzilla vs. Kong</td><td>123.7</td><td>List(Ação, Ficção científica, Thriller)</td><td>24-03-2021</td><td>https://image.tmdb.org/t/p/original/klAIFewuqcyEmH1SMtR2XbMyqzM.jpg</td><td>Em uma época em que os monstros andam na Terra, a luta da humanidade por seu futuro coloca Godzilla e Kong em rota de colisão que verá as duas forças mais poderosas da natureza no planeta se confrontarem em uma batalha espetacular para as idades. Enquanto Monarch embarca em uma missão perigosa em terreno desconhecido e descobre pistas sobre as origens dos Titãs, uma conspiração humana ameaça tirar as criaturas, boas e más, da face da terra para sempre.</td></tr><tr><td>O Senhor dos Anéis: A Sociedade do Anel</td><td>121.61</td><td>List(Ação, Aventura, Fantasia)</td><td>18-12-2001</td><td>https://image.tmdb.org/t/p/original/hq45YolNIGtrQZRJdjIRZOyONJa.jpg</td><td>Em uma terra fantástica e única, um hobbit recebe de presente de seu tio um anel mágico e maligno que precisa ser destruído antes que caia nas mãos do mal. Para isso, o hobbit Frodo tem um caminho árduo pela frente, onde encontra perigo, medo e seres bizarros. Ao seu lado para o cumprimento desta jornada, ele aos poucos pode contar com outros hobbits, um elfo, um anão, dois humanos e um mago, totalizando nove pessoas que formam a Sociedade do Anel.</td></tr></tbody></table></div>"
      ]
     },
     "metadata": {
      "application/vnd.databricks.v1+output": {
       "addedWidgets": {},
       "aggData": [],
       "aggError": "",
       "aggOverflow": false,
       "aggSchema": [],
       "aggSeriesLimitReached": false,
       "aggType": "",
       "arguments": {},
       "columnCustomDisplayInfos": {},
       "data": [
        [
         "Avatar: O Caminho da Água",
         214.78,
         [
          "Ação",
          "Aventura",
          "Ficção científica"
         ],
         "14-12-2022",
         "https://image.tmdb.org/t/p/original/mbYQLLluS651W89jO7MOZcLSCUw.jpg",
         "12 anos depois de explorar Pandora e se juntar aos Na'vi, Jake Sully formou uma família com Neytiri e se estabeleceu entre os clãs do novo mundo. Porém, a paz não durará para sempre."
        ],
        [
         "A Sociedade da Neve",
         169.11,
         [
          "Drama",
          "História"
         ],
         "13-12-2023",
         "https://image.tmdb.org/t/p/original/7fQTmvKgVGxifieVryqqlxohkoW.jpg",
         "Em 13 de outubro de 1972, o voo 571 da Força Aérea Uruguaia, fretado para levar um time de rúgbi ao Chile, cai em uma geleira no coração da Cordilheira dos Andes."
        ],
        [
         "O Protetor: Capítulo Final",
         160.2,
         [
          "Ação",
          "Crime",
          "Thriller"
         ],
         "30-08-2023",
         "https://image.tmdb.org/t/p/original/AnJOKbSQsp0QqiUhsQooqFRjPsD.jpg",
         "Sentindo-se em casa no sul da Itália, o ex-agente Robert McCall logo descobre que seus novos amigos estão sob o controle dos chefes do crime local.  À medida que os acontecimentos se tornam mortais, McCall sabe o que tem de fazer: tornar-se o protetor dos seus amigos, enfrentando a máfia."
        ],
        [
         "O Hobbit: A Batalha dos Cinco Exércitos",
         152.89,
         [
          "Ação",
          "Aventura",
          "Fantasia"
         ],
         "10-12-2014",
         "https://image.tmdb.org/t/p/original/5tGL0dbQpAkK9ItUaDrUbTvTMDp.jpg",
         "O dragão Smaug lança sua fúria ardente contra a Cidade do Lago que fica próxima da montanha de Erebor. Bard consegue derrotá-lo, mas, rapidamente, sem a ameaça do dragão, inicia-se uma batalha pelo controle de Erebor e sua riqueza. Os anões, liderados por Thorin, adentram a montanha e estão dispostos a impedir a entrada de elfos, anões e orcs. Bilbo Bolseiro e Gandalf tentam impedir a guerra."
        ],
        [
         "Interestelar",
         138.63,
         [
          "Aventura",
          "Drama",
          "Ficção científica"
         ],
         "05-11-2014",
         "https://image.tmdb.org/t/p/original/nCbkOyOMTEwlEV0LtCOvCnwEONA.jpg",
         "As reservas naturais da Terra estão chegando ao fim e um grupo de astronautas recebe a missão de verificar possíveis planetas para receberem a população mundial, possibilitando a continuação da espécie. Cooper é chamado para liderar o grupo e aceita a missão sabendo que pode nunca mais ver os filhos. Ao lado de Brand, Jenkins e Doyle, ele seguirá em busca de um novo lar."
        ],
        [
         "O Protetor",
         138.28,
         [
          "Ação",
          "Crime",
          "Thriller"
         ],
         "24-09-2014",
         "https://image.tmdb.org/t/p/original/xTSOdJ0Ljs439lnKB7NsWlTibZN.jpg",
         "O ex-agente secreto Robert McCall acredita que seu passado ficou para trás e tenta viver uma nova vida. Porém, quando ele conhece Teri, uma jovem que está em poder de uma quadrilha russa, ele simplesmente não consegue ignorá-la. Munido de suas extraordinárias habilidades, ele ressurge como um verdadeiro anjo vingador. Fora da aposentadoria e com um novo desejo de fazer justiça, McCall decide ajudar quem foi brutalizado e oprimido."
        ],
        [
         "Forrest Gump: O Contador de Histórias",
         131.33,
         [
          "Comédia",
          "Drama",
          "Romance"
         ],
         "23-06-1994",
         "https://image.tmdb.org/t/p/original/d74WpIsH8379TIL4wUxDneRCYv2.jpg",
         "Quarenta anos da história dos Estados Unidos, vistos pelos olhos de Forrest Gump, um rapaz com QI abaixo da média e com boas intenções. Por obra do acaso, ele consegue participar de momentos cruciais, como a Guerra do Vietnã e o Caso Watergate, mas continua pensando no seu amor de infância, Jenny Curran."
        ],
        [
         "Um Sonho de Liberdade",
         128.97,
         [
          "Crime",
          "Drama"
         ],
         "23-09-1994",
         "https://image.tmdb.org/t/p/original/umX3lBhHoTV7Lsci140Yr8VpXyN.jpg",
         "Em 1946, Andy Dufresne, um banqueiro jovem e bem sucedido, tem a sua vida radicalmente modificada ao ser condenado por um crime que nunca cometeu, o homicídio de sua esposa e do amante dela. Ele é mandado para uma prisão que é o pesadelo de qualquer detento, a Penitenciária Estadual de Shawshank, no Maine. Lá ele irá cumprir a pena perpétua. Andy logo será apresentado a Warden Norton, o corrupto e cruel agente penitenciário, que usa a Bíblia como arma de controle e ao Capitão Byron Hadley que trata os internos como animais. Andy faz amizade com Ellis Boyd Redding, um prisioneiro que cumpre pena há 20 anos e controla o mercado negro da instituição."
        ],
        [
         "Godzilla vs. Kong",
         123.7,
         [
          "Ação",
          "Ficção científica",
          "Thriller"
         ],
         "24-03-2021",
         "https://image.tmdb.org/t/p/original/klAIFewuqcyEmH1SMtR2XbMyqzM.jpg",
         "Em uma época em que os monstros andam na Terra, a luta da humanidade por seu futuro coloca Godzilla e Kong em rota de colisão que verá as duas forças mais poderosas da natureza no planeta se confrontarem em uma batalha espetacular para as idades. Enquanto Monarch embarca em uma missão perigosa em terreno desconhecido e descobre pistas sobre as origens dos Titãs, uma conspiração humana ameaça tirar as criaturas, boas e más, da face da terra para sempre."
        ],
        [
         "O Senhor dos Anéis: A Sociedade do Anel",
         121.61,
         [
          "Ação",
          "Aventura",
          "Fantasia"
         ],
         "18-12-2001",
         "https://image.tmdb.org/t/p/original/hq45YolNIGtrQZRJdjIRZOyONJa.jpg",
         "Em uma terra fantástica e única, um hobbit recebe de presente de seu tio um anel mágico e maligno que precisa ser destruído antes que caia nas mãos do mal. Para isso, o hobbit Frodo tem um caminho árduo pela frente, onde encontra perigo, medo e seres bizarros. Ao seu lado para o cumprimento desta jornada, ele aos poucos pode contar com outros hobbits, um elfo, um anão, dois humanos e um mago, totalizando nove pessoas que formam a Sociedade do Anel."
        ]
       ],
       "datasetInfos": [],
       "dbfsResultPath": null,
       "isJsonSchema": true,
       "metadata": {
        "dataframeName": "_sqldf",
        "executionCount": 29
       },
       "overflow": false,
       "plotOptions": {
        "customPlotOptions": {},
        "displayType": "table",
        "pivotAggregation": null,
        "pivotColumns": null,
        "xColumns": null,
        "yColumns": null
       },
       "removedWidgets": [],
       "schema": [
        {
         "metadata": "{}",
         "name": "TITULO",
         "type": "\"string\""
        },
        {
         "metadata": "{}",
         "name": "NOTA_POPULARIDADE",
         "type": "\"float\""
        },
        {
         "metadata": "{}",
         "name": "GENERO",
         "type": "{\"type\":\"array\",\"elementType\":\"string\",\"containsNull\":true}"
        },
        {
         "metadata": "{}",
         "name": "DATA_DE_LANCAMENTO",
         "type": "\"string\""
        },
        {
         "metadata": "{}",
         "name": "DIRETORIO_POSTER",
         "type": "\"string\""
        },
        {
         "metadata": "{}",
         "name": "SINOPSE",
         "type": "\"string\""
        }
       ],
       "type": "table"
      }
     },
     "output_type": "display_data"
    }
   ],
   "source": [
    "%sql\n",
    "USE DBTMDB;\n",
    "--lista de 10 filmes por popularidade para criar tabela ouro\n",
    "SELECT \n",
    "TITLE AS TITULO,\n",
    "POPULARITY AS NOTA_POPULARIDADE,\n",
    "GENERO,\n",
    "date_format(RELEASE_DATE, 'dd-MM-yyyy') AS DATA_DE_LANCAMENTO,\n",
    "POSTER_PATH AS DIRETORIO_POSTER,\n",
    "OVERVIEW AS SINOPSE\n",
    "FROM TMDB_PRATA ORDER BY POPULARITY DESC\n",
    "LIMIT 10;"
   ]
  },
  {
   "cell_type": "code",
   "execution_count": 0,
   "metadata": {
    "application/vnd.databricks.v1+cell": {
     "cellMetadata": {
      "byteLimit": 2048000,
      "implicitDf": true,
      "rowLimit": 10000
     },
     "inputWidgets": {},
     "nuid": "e06c841f-afc4-440f-8f61-17f37445f16b",
     "showTitle": false,
     "title": ""
    }
   },
   "outputs": [
    {
     "output_type": "display_data",
     "data": {
      "text/html": [
       "<style scoped>\n",
       "  .table-result-container {\n",
       "    max-height: 300px;\n",
       "    overflow: auto;\n",
       "  }\n",
       "  table, th, td {\n",
       "    border: 1px solid black;\n",
       "    border-collapse: collapse;\n",
       "  }\n",
       "  th, td {\n",
       "    padding: 5px;\n",
       "  }\n",
       "  th {\n",
       "    text-align: left;\n",
       "  }\n",
       "</style><div class='table-result-container'><table class='table-result'><thead style='background-color: white'><tr><th>TITULO</th><th>NOTA_POPULARIDADE</th><th>GENERO</th><th>DATA_DE_LANCAMENTO</th><th>DIRETORIO_POSTER</th><th>SINOPSE</th></tr></thead><tbody><tr><td>Avatar: O Caminho da Água</td><td>214.78</td><td>List(Ação, Aventura, Ficção científica)</td><td>14-12-2022</td><td>https://image.tmdb.org/t/p/original/mbYQLLluS651W89jO7MOZcLSCUw.jpg</td><td>12 anos depois de explorar Pandora e se juntar aos Na'vi, Jake Sully formou uma família com Neytiri e se estabeleceu entre os clãs do novo mundo. Porém, a paz não durará para sempre.</td></tr><tr><td>A Sociedade da Neve</td><td>169.11</td><td>List(Drama, História)</td><td>13-12-2023</td><td>https://image.tmdb.org/t/p/original/7fQTmvKgVGxifieVryqqlxohkoW.jpg</td><td>Em 13 de outubro de 1972, o voo 571 da Força Aérea Uruguaia, fretado para levar um time de rúgbi ao Chile, cai em uma geleira no coração da Cordilheira dos Andes.</td></tr><tr><td>O Protetor: Capítulo Final</td><td>160.2</td><td>List(Ação, Crime, Thriller)</td><td>30-08-2023</td><td>https://image.tmdb.org/t/p/original/AnJOKbSQsp0QqiUhsQooqFRjPsD.jpg</td><td>Sentindo-se em casa no sul da Itália, o ex-agente Robert McCall logo descobre que seus novos amigos estão sob o controle dos chefes do crime local.  À medida que os acontecimentos se tornam mortais, McCall sabe o que tem de fazer: tornar-se o protetor dos seus amigos, enfrentando a máfia.</td></tr><tr><td>O Hobbit: A Batalha dos Cinco Exércitos</td><td>152.89</td><td>List(Ação, Aventura, Fantasia)</td><td>10-12-2014</td><td>https://image.tmdb.org/t/p/original/5tGL0dbQpAkK9ItUaDrUbTvTMDp.jpg</td><td>O dragão Smaug lança sua fúria ardente contra a Cidade do Lago que fica próxima da montanha de Erebor. Bard consegue derrotá-lo, mas, rapidamente, sem a ameaça do dragão, inicia-se uma batalha pelo controle de Erebor e sua riqueza. Os anões, liderados por Thorin, adentram a montanha e estão dispostos a impedir a entrada de elfos, anões e orcs. Bilbo Bolseiro e Gandalf tentam impedir a guerra.</td></tr><tr><td>Interestelar</td><td>138.63</td><td>List(Aventura, Drama, Ficção científica)</td><td>05-11-2014</td><td>https://image.tmdb.org/t/p/original/nCbkOyOMTEwlEV0LtCOvCnwEONA.jpg</td><td>As reservas naturais da Terra estão chegando ao fim e um grupo de astronautas recebe a missão de verificar possíveis planetas para receberem a população mundial, possibilitando a continuação da espécie. Cooper é chamado para liderar o grupo e aceita a missão sabendo que pode nunca mais ver os filhos. Ao lado de Brand, Jenkins e Doyle, ele seguirá em busca de um novo lar.</td></tr><tr><td>O Protetor</td><td>138.28</td><td>List(Ação, Crime, Thriller)</td><td>24-09-2014</td><td>https://image.tmdb.org/t/p/original/xTSOdJ0Ljs439lnKB7NsWlTibZN.jpg</td><td>O ex-agente secreto Robert McCall acredita que seu passado ficou para trás e tenta viver uma nova vida. Porém, quando ele conhece Teri, uma jovem que está em poder de uma quadrilha russa, ele simplesmente não consegue ignorá-la. Munido de suas extraordinárias habilidades, ele ressurge como um verdadeiro anjo vingador. Fora da aposentadoria e com um novo desejo de fazer justiça, McCall decide ajudar quem foi brutalizado e oprimido.</td></tr><tr><td>Forrest Gump: O Contador de Histórias</td><td>131.33</td><td>List(Comédia, Drama, Romance)</td><td>23-06-1994</td><td>https://image.tmdb.org/t/p/original/d74WpIsH8379TIL4wUxDneRCYv2.jpg</td><td>Quarenta anos da história dos Estados Unidos, vistos pelos olhos de Forrest Gump, um rapaz com QI abaixo da média e com boas intenções. Por obra do acaso, ele consegue participar de momentos cruciais, como a Guerra do Vietnã e o Caso Watergate, mas continua pensando no seu amor de infância, Jenny Curran.</td></tr><tr><td>Um Sonho de Liberdade</td><td>128.97</td><td>List(Crime, Drama)</td><td>23-09-1994</td><td>https://image.tmdb.org/t/p/original/umX3lBhHoTV7Lsci140Yr8VpXyN.jpg</td><td>Em 1946, Andy Dufresne, um banqueiro jovem e bem sucedido, tem a sua vida radicalmente modificada ao ser condenado por um crime que nunca cometeu, o homicídio de sua esposa e do amante dela. Ele é mandado para uma prisão que é o pesadelo de qualquer detento, a Penitenciária Estadual de Shawshank, no Maine. Lá ele irá cumprir a pena perpétua. Andy logo será apresentado a Warden Norton, o corrupto e cruel agente penitenciário, que usa a Bíblia como arma de controle e ao Capitão Byron Hadley que trata os internos como animais. Andy faz amizade com Ellis Boyd Redding, um prisioneiro que cumpre pena há 20 anos e controla o mercado negro da instituição.</td></tr><tr><td>Godzilla vs. Kong</td><td>123.7</td><td>List(Ação, Ficção científica, Thriller)</td><td>24-03-2021</td><td>https://image.tmdb.org/t/p/original/klAIFewuqcyEmH1SMtR2XbMyqzM.jpg</td><td>Em uma época em que os monstros andam na Terra, a luta da humanidade por seu futuro coloca Godzilla e Kong em rota de colisão que verá as duas forças mais poderosas da natureza no planeta se confrontarem em uma batalha espetacular para as idades. Enquanto Monarch embarca em uma missão perigosa em terreno desconhecido e descobre pistas sobre as origens dos Titãs, uma conspiração humana ameaça tirar as criaturas, boas e más, da face da terra para sempre.</td></tr><tr><td>O Senhor dos Anéis: A Sociedade do Anel</td><td>121.61</td><td>List(Ação, Aventura, Fantasia)</td><td>18-12-2001</td><td>https://image.tmdb.org/t/p/original/hq45YolNIGtrQZRJdjIRZOyONJa.jpg</td><td>Em uma terra fantástica e única, um hobbit recebe de presente de seu tio um anel mágico e maligno que precisa ser destruído antes que caia nas mãos do mal. Para isso, o hobbit Frodo tem um caminho árduo pela frente, onde encontra perigo, medo e seres bizarros. Ao seu lado para o cumprimento desta jornada, ele aos poucos pode contar com outros hobbits, um elfo, um anão, dois humanos e um mago, totalizando nove pessoas que formam a Sociedade do Anel.</td></tr></tbody></table></div>"
      ]
     },
     "metadata": {
      "application/vnd.databricks.v1+output": {
       "addedWidgets": {},
       "aggData": [],
       "aggError": "",
       "aggOverflow": false,
       "aggSchema": [],
       "aggSeriesLimitReached": false,
       "aggType": "",
       "arguments": {},
       "columnCustomDisplayInfos": {},
       "data": [
        [
         "Avatar: O Caminho da Água",
         214.78,
         [
          "Ação",
          "Aventura",
          "Ficção científica"
         ],
         "14-12-2022",
         "https://image.tmdb.org/t/p/original/mbYQLLluS651W89jO7MOZcLSCUw.jpg",
         "12 anos depois de explorar Pandora e se juntar aos Na'vi, Jake Sully formou uma família com Neytiri e se estabeleceu entre os clãs do novo mundo. Porém, a paz não durará para sempre."
        ],
        [
         "A Sociedade da Neve",
         169.11,
         [
          "Drama",
          "História"
         ],
         "13-12-2023",
         "https://image.tmdb.org/t/p/original/7fQTmvKgVGxifieVryqqlxohkoW.jpg",
         "Em 13 de outubro de 1972, o voo 571 da Força Aérea Uruguaia, fretado para levar um time de rúgbi ao Chile, cai em uma geleira no coração da Cordilheira dos Andes."
        ],
        [
         "O Protetor: Capítulo Final",
         160.2,
         [
          "Ação",
          "Crime",
          "Thriller"
         ],
         "30-08-2023",
         "https://image.tmdb.org/t/p/original/AnJOKbSQsp0QqiUhsQooqFRjPsD.jpg",
         "Sentindo-se em casa no sul da Itália, o ex-agente Robert McCall logo descobre que seus novos amigos estão sob o controle dos chefes do crime local.  À medida que os acontecimentos se tornam mortais, McCall sabe o que tem de fazer: tornar-se o protetor dos seus amigos, enfrentando a máfia."
        ],
        [
         "O Hobbit: A Batalha dos Cinco Exércitos",
         152.89,
         [
          "Ação",
          "Aventura",
          "Fantasia"
         ],
         "10-12-2014",
         "https://image.tmdb.org/t/p/original/5tGL0dbQpAkK9ItUaDrUbTvTMDp.jpg",
         "O dragão Smaug lança sua fúria ardente contra a Cidade do Lago que fica próxima da montanha de Erebor. Bard consegue derrotá-lo, mas, rapidamente, sem a ameaça do dragão, inicia-se uma batalha pelo controle de Erebor e sua riqueza. Os anões, liderados por Thorin, adentram a montanha e estão dispostos a impedir a entrada de elfos, anões e orcs. Bilbo Bolseiro e Gandalf tentam impedir a guerra."
        ],
        [
         "Interestelar",
         138.63,
         [
          "Aventura",
          "Drama",
          "Ficção científica"
         ],
         "05-11-2014",
         "https://image.tmdb.org/t/p/original/nCbkOyOMTEwlEV0LtCOvCnwEONA.jpg",
         "As reservas naturais da Terra estão chegando ao fim e um grupo de astronautas recebe a missão de verificar possíveis planetas para receberem a população mundial, possibilitando a continuação da espécie. Cooper é chamado para liderar o grupo e aceita a missão sabendo que pode nunca mais ver os filhos. Ao lado de Brand, Jenkins e Doyle, ele seguirá em busca de um novo lar."
        ],
        [
         "O Protetor",
         138.28,
         [
          "Ação",
          "Crime",
          "Thriller"
         ],
         "24-09-2014",
         "https://image.tmdb.org/t/p/original/xTSOdJ0Ljs439lnKB7NsWlTibZN.jpg",
         "O ex-agente secreto Robert McCall acredita que seu passado ficou para trás e tenta viver uma nova vida. Porém, quando ele conhece Teri, uma jovem que está em poder de uma quadrilha russa, ele simplesmente não consegue ignorá-la. Munido de suas extraordinárias habilidades, ele ressurge como um verdadeiro anjo vingador. Fora da aposentadoria e com um novo desejo de fazer justiça, McCall decide ajudar quem foi brutalizado e oprimido."
        ],
        [
         "Forrest Gump: O Contador de Histórias",
         131.33,
         [
          "Comédia",
          "Drama",
          "Romance"
         ],
         "23-06-1994",
         "https://image.tmdb.org/t/p/original/d74WpIsH8379TIL4wUxDneRCYv2.jpg",
         "Quarenta anos da história dos Estados Unidos, vistos pelos olhos de Forrest Gump, um rapaz com QI abaixo da média e com boas intenções. Por obra do acaso, ele consegue participar de momentos cruciais, como a Guerra do Vietnã e o Caso Watergate, mas continua pensando no seu amor de infância, Jenny Curran."
        ],
        [
         "Um Sonho de Liberdade",
         128.97,
         [
          "Crime",
          "Drama"
         ],
         "23-09-1994",
         "https://image.tmdb.org/t/p/original/umX3lBhHoTV7Lsci140Yr8VpXyN.jpg",
         "Em 1946, Andy Dufresne, um banqueiro jovem e bem sucedido, tem a sua vida radicalmente modificada ao ser condenado por um crime que nunca cometeu, o homicídio de sua esposa e do amante dela. Ele é mandado para uma prisão que é o pesadelo de qualquer detento, a Penitenciária Estadual de Shawshank, no Maine. Lá ele irá cumprir a pena perpétua. Andy logo será apresentado a Warden Norton, o corrupto e cruel agente penitenciário, que usa a Bíblia como arma de controle e ao Capitão Byron Hadley que trata os internos como animais. Andy faz amizade com Ellis Boyd Redding, um prisioneiro que cumpre pena há 20 anos e controla o mercado negro da instituição."
        ],
        [
         "Godzilla vs. Kong",
         123.7,
         [
          "Ação",
          "Ficção científica",
          "Thriller"
         ],
         "24-03-2021",
         "https://image.tmdb.org/t/p/original/klAIFewuqcyEmH1SMtR2XbMyqzM.jpg",
         "Em uma época em que os monstros andam na Terra, a luta da humanidade por seu futuro coloca Godzilla e Kong em rota de colisão que verá as duas forças mais poderosas da natureza no planeta se confrontarem em uma batalha espetacular para as idades. Enquanto Monarch embarca em uma missão perigosa em terreno desconhecido e descobre pistas sobre as origens dos Titãs, uma conspiração humana ameaça tirar as criaturas, boas e más, da face da terra para sempre."
        ],
        [
         "O Senhor dos Anéis: A Sociedade do Anel",
         121.61,
         [
          "Ação",
          "Aventura",
          "Fantasia"
         ],
         "18-12-2001",
         "https://image.tmdb.org/t/p/original/hq45YolNIGtrQZRJdjIRZOyONJa.jpg",
         "Em uma terra fantástica e única, um hobbit recebe de presente de seu tio um anel mágico e maligno que precisa ser destruído antes que caia nas mãos do mal. Para isso, o hobbit Frodo tem um caminho árduo pela frente, onde encontra perigo, medo e seres bizarros. Ao seu lado para o cumprimento desta jornada, ele aos poucos pode contar com outros hobbits, um elfo, um anão, dois humanos e um mago, totalizando nove pessoas que formam a Sociedade do Anel."
        ]
       ],
       "datasetInfos": [],
       "dbfsResultPath": null,
       "isJsonSchema": true,
       "metadata": {
        "dataframeName": "_sqldf",
        "executionCount": 30
       },
       "overflow": false,
       "plotOptions": {
        "customPlotOptions": {},
        "displayType": "table",
        "pivotAggregation": null,
        "pivotColumns": null,
        "xColumns": null,
        "yColumns": null
       },
       "removedWidgets": [],
       "schema": [
        {
         "metadata": "{}",
         "name": "TITULO",
         "type": "\"string\""
        },
        {
         "metadata": "{}",
         "name": "NOTA_POPULARIDADE",
         "type": "\"float\""
        },
        {
         "metadata": "{}",
         "name": "GENERO",
         "type": "{\"type\":\"array\",\"elementType\":\"string\",\"containsNull\":true}"
        },
        {
         "metadata": "{}",
         "name": "DATA_DE_LANCAMENTO",
         "type": "\"string\""
        },
        {
         "metadata": "{}",
         "name": "DIRETORIO_POSTER",
         "type": "\"string\""
        },
        {
         "metadata": "{}",
         "name": "SINOPSE",
         "type": "\"string\""
        }
       ],
       "type": "table"
      }
     },
     "output_type": "display_data"
    }
   ],
   "source": [
    "%sql\n",
    "--Criando tabela ouro com a lista de 10 filmes por popularidade\n",
    "USE DBTMDB;\n",
    "\n",
    "CREATE OR REPLACE TABLE TMDB_OURO_POPULARIDADE AS\n",
    "SELECT \n",
    "TITLE AS TITULO,\n",
    "POPULARITY AS NOTA_POPULARIDADE,\n",
    "GENERO,\n",
    "date_format(RELEASE_DATE, 'dd-MM-yyyy') AS DATA_DE_LANCAMENTO,\n",
    "POSTER_PATH AS DIRETORIO_POSTER,\n",
    "OVERVIEW AS SINOPSE\n",
    "FROM TMDB_PRATA ORDER BY POPULARITY DESC\n",
    "LIMIT 10;\n",
    "\n",
    "SELECT * FROM TMDB_OURO_POPULARIDADE ORDER BY NOTA_POPULARIDADE DESC;"
   ]
  },
  {
   "cell_type": "code",
   "execution_count": 0,
   "metadata": {
    "application/vnd.databricks.v1+cell": {
     "cellMetadata": {
      "byteLimit": 2048000,
      "implicitDf": true,
      "rowLimit": 10000
     },
     "inputWidgets": {},
     "nuid": "67011963-0bea-4b0c-a937-953c9606a3b9",
     "showTitle": false,
     "title": ""
    }
   },
   "outputs": [
    {
     "output_type": "display_data",
     "data": {
      "text/html": [
       "<style scoped>\n",
       "  .table-result-container {\n",
       "    max-height: 300px;\n",
       "    overflow: auto;\n",
       "  }\n",
       "  table, th, td {\n",
       "    border: 1px solid black;\n",
       "    border-collapse: collapse;\n",
       "  }\n",
       "  th, td {\n",
       "    padding: 5px;\n",
       "  }\n",
       "  th {\n",
       "    text-align: left;\n",
       "  }\n",
       "</style><div class='table-result-container'><table class='table-result'><thead style='background-color: white'><tr><th>TITULO</th><th>NOTA_AVALIACAO</th><th>GENERO</th><th>DATA_DE_LANCAMENTO</th><th>DIRETORIO_POSTER</th><th>SINOPSE</th></tr></thead><tbody><tr><td>Um Sonho de Liberdade</td><td>8.7</td><td>List(Crime, Drama)</td><td>23-09-1994</td><td>https://image.tmdb.org/t/p/original/umX3lBhHoTV7Lsci140Yr8VpXyN.jpg</td><td>Em 1946, Andy Dufresne, um banqueiro jovem e bem sucedido, tem a sua vida radicalmente modificada ao ser condenado por um crime que nunca cometeu, o homicídio de sua esposa e do amante dela. Ele é mandado para uma prisão que é o pesadelo de qualquer detento, a Penitenciária Estadual de Shawshank, no Maine. Lá ele irá cumprir a pena perpétua. Andy logo será apresentado a Warden Norton, o corrupto e cruel agente penitenciário, que usa a Bíblia como arma de controle e ao Capitão Byron Hadley que trata os internos como animais. Andy faz amizade com Ellis Boyd Redding, um prisioneiro que cumpre pena há 20 anos e controla o mercado negro da instituição.</td></tr><tr><td>O Poderoso Chefão</td><td>8.695</td><td>List(Crime, Drama)</td><td>14-03-1972</td><td>https://image.tmdb.org/t/p/original/oJagOzBu9Rdd9BrciseCm3U3MCU.jpg</td><td>Em 1945, Don Corleone é o chefe de uma mafiosa família italiana de Nova York. Ele costuma apadrinhar várias pessoas, realizando importantes favores para elas, em troca de favores futuros. Com a chegada das drogas, as famílias começam uma disputa pelo promissor mercado. Quando Corleone se recusa a facilitar a entrada dos narcóticos na cidade, não oferecendo ajuda política e policial, sua família começa a sofrer atentados para que mudem de posição. É nessa complicada época que Michael, um herói de guerra nunca envolvido nos negócios da família, vê a necessidade de proteger o seu pai e tudo o que ele construiu ao longo dos anos.</td></tr><tr><td>O Poderoso Chefão: Parte II</td><td>8.6</td><td>List(Crime, Drama)</td><td>20-12-1974</td><td>https://image.tmdb.org/t/p/original/7g6wvsWHxBQujUcSXvZLhdFpDUy.jpg</td><td>Após a máfia matar sua família, o jovem Vito foge da sua cidade na Sicília e vai para a América. Vito luta para manter sua família. Ele mata Black Hand Fanucci, que exigia dos comerciantes uma parte dos seus ganhos. Com a morte de Fanucci, o poderio de Vito cresce, mas sua família é o que mais importa para ele. Agora baseado no Lago Tahoe, Michael planeja fazer incursões em Las Vegas e Havana instalando negócios ligados ao lazer, mas descobre que aliados como Hyman Roth estão tentando matá-lo.</td></tr><tr><td>A Lista de Schindler</td><td>8.565</td><td>List(Drama, História, Guerra)</td><td>15-12-1993</td><td>https://image.tmdb.org/t/p/original/tagKKnJLK8W5qKJW7Cl2GR2OPCs.jpg</td><td>O alemão Oskar Schindler viu na mão de obra judia uma solução barata e viável para lucrar com negócios durante a guerra. Com sua forte influência dentro do partido nazista, foi fácil conseguir as autorizações e abrir uma fábrica. O que poderia parecer uma atitude de um homem não muito bondoso, transformou-se em um dos maiores casos de amor à vida da História, pois este alemão abdicou de toda sua fortuna para salvar a vida de mais de mil judeus em plena luta contra o extermínio alemão.</td></tr><tr><td>À Espera de um Milagre</td><td>8.508</td><td>List(Crime, Drama, Fantasia)</td><td>10-12-1999</td><td>https://image.tmdb.org/t/p/original/14hEqW67IiHlKpzKMLUXyktzZIV.jpg</td><td>Milagres acontecem em lugares inesperados, mesmo no bloco de celas para o corredor da morte na Penitenciária Cold Mountain. Lá, John Coffey, um gentil e gigante prisioneiro com poderes sobrenaturais, traz um senso de espírito e humanidade aos seus guardas e colegas de cela.</td></tr><tr><td>Forrest Gump: O Contador de Histórias</td><td>8.5</td><td>List(Comédia, Drama, Romance)</td><td>23-06-1994</td><td>https://image.tmdb.org/t/p/original/d74WpIsH8379TIL4wUxDneRCYv2.jpg</td><td>Quarenta anos da história dos Estados Unidos, vistos pelos olhos de Forrest Gump, um rapaz com QI abaixo da média e com boas intenções. Por obra do acaso, ele consegue participar de momentos cruciais, como a Guerra do Vietnã e o Caso Watergate, mas continua pensando no seu amor de infância, Jenny Curran.</td></tr><tr><td>O Senhor dos Anéis: O Retorno do Rei</td><td>8.477</td><td>List(Ação, Aventura, Fantasia)</td><td>01-12-2003</td><td>https://image.tmdb.org/t/p/original/aXS3D94iIO9dheHrG0BhgUR4Wuy.jpg</td><td>O confronto final entre as forças do bem e do mal que lutam pelo controle do futuro da Terra Média se aproxima. Sauron planeja um grande ataque a Minas Tirith, capital de Gondor, o que faz com que Gandalf e Pippin partam para o local na intenção de ajudar a resistência. Um exército é reunido por Theoden em Rohan, em mais uma tentativa de deter as forças de Sauron. Enquanto isso, Frodo, Sam e Gollum seguem sua viagem rumo à Montanha da Perdição para destruir o anel.</td></tr><tr><td>Cidade de Deus</td><td>8.434</td><td>List(Crime, Drama)</td><td>30-08-2002</td><td>https://image.tmdb.org/t/p/original/gfnXixcGC060QcG6JPxN6AMdVsq.jpg</td><td>Buscapé é um jovem morador da Cidade de Deus que cresce em meio à violência. Com medo de se tornar um bandido, enxerga na fotografia uma oportunidade de ter uma vida digna.</td></tr><tr><td>Interestelar</td><td>8.429</td><td>List(Aventura, Drama, Ficção científica)</td><td>05-11-2014</td><td>https://image.tmdb.org/t/p/original/nCbkOyOMTEwlEV0LtCOvCnwEONA.jpg</td><td>As reservas naturais da Terra estão chegando ao fim e um grupo de astronautas recebe a missão de verificar possíveis planetas para receberem a população mundial, possibilitando a continuação da espécie. Cooper é chamado para liderar o grupo e aceita a missão sabendo que pode nunca mais ver os filhos. Ao lado de Brand, Jenkins e Doyle, ele seguirá em busca de um novo lar.</td></tr><tr><td>O Senhor dos Anéis: A Sociedade do Anel</td><td>8.409</td><td>List(Ação, Aventura, Fantasia)</td><td>18-12-2001</td><td>https://image.tmdb.org/t/p/original/hq45YolNIGtrQZRJdjIRZOyONJa.jpg</td><td>Em uma terra fantástica e única, um hobbit recebe de presente de seu tio um anel mágico e maligno que precisa ser destruído antes que caia nas mãos do mal. Para isso, o hobbit Frodo tem um caminho árduo pela frente, onde encontra perigo, medo e seres bizarros. Ao seu lado para o cumprimento desta jornada, ele aos poucos pode contar com outros hobbits, um elfo, um anão, dois humanos e um mago, totalizando nove pessoas que formam a Sociedade do Anel.</td></tr></tbody></table></div>"
      ]
     },
     "metadata": {
      "application/vnd.databricks.v1+output": {
       "addedWidgets": {},
       "aggData": [],
       "aggError": "",
       "aggOverflow": false,
       "aggSchema": [],
       "aggSeriesLimitReached": false,
       "aggType": "",
       "arguments": {},
       "columnCustomDisplayInfos": {},
       "data": [
        [
         "Um Sonho de Liberdade",
         8.7,
         [
          "Crime",
          "Drama"
         ],
         "23-09-1994",
         "https://image.tmdb.org/t/p/original/umX3lBhHoTV7Lsci140Yr8VpXyN.jpg",
         "Em 1946, Andy Dufresne, um banqueiro jovem e bem sucedido, tem a sua vida radicalmente modificada ao ser condenado por um crime que nunca cometeu, o homicídio de sua esposa e do amante dela. Ele é mandado para uma prisão que é o pesadelo de qualquer detento, a Penitenciária Estadual de Shawshank, no Maine. Lá ele irá cumprir a pena perpétua. Andy logo será apresentado a Warden Norton, o corrupto e cruel agente penitenciário, que usa a Bíblia como arma de controle e ao Capitão Byron Hadley que trata os internos como animais. Andy faz amizade com Ellis Boyd Redding, um prisioneiro que cumpre pena há 20 anos e controla o mercado negro da instituição."
        ],
        [
         "O Poderoso Chefão",
         8.695,
         [
          "Crime",
          "Drama"
         ],
         "14-03-1972",
         "https://image.tmdb.org/t/p/original/oJagOzBu9Rdd9BrciseCm3U3MCU.jpg",
         "Em 1945, Don Corleone é o chefe de uma mafiosa família italiana de Nova York. Ele costuma apadrinhar várias pessoas, realizando importantes favores para elas, em troca de favores futuros. Com a chegada das drogas, as famílias começam uma disputa pelo promissor mercado. Quando Corleone se recusa a facilitar a entrada dos narcóticos na cidade, não oferecendo ajuda política e policial, sua família começa a sofrer atentados para que mudem de posição. É nessa complicada época que Michael, um herói de guerra nunca envolvido nos negócios da família, vê a necessidade de proteger o seu pai e tudo o que ele construiu ao longo dos anos."
        ],
        [
         "O Poderoso Chefão: Parte II",
         8.6,
         [
          "Crime",
          "Drama"
         ],
         "20-12-1974",
         "https://image.tmdb.org/t/p/original/7g6wvsWHxBQujUcSXvZLhdFpDUy.jpg",
         "Após a máfia matar sua família, o jovem Vito foge da sua cidade na Sicília e vai para a América. Vito luta para manter sua família. Ele mata Black Hand Fanucci, que exigia dos comerciantes uma parte dos seus ganhos. Com a morte de Fanucci, o poderio de Vito cresce, mas sua família é o que mais importa para ele. Agora baseado no Lago Tahoe, Michael planeja fazer incursões em Las Vegas e Havana instalando negócios ligados ao lazer, mas descobre que aliados como Hyman Roth estão tentando matá-lo."
        ],
        [
         "A Lista de Schindler",
         8.565,
         [
          "Drama",
          "História",
          "Guerra"
         ],
         "15-12-1993",
         "https://image.tmdb.org/t/p/original/tagKKnJLK8W5qKJW7Cl2GR2OPCs.jpg",
         "O alemão Oskar Schindler viu na mão de obra judia uma solução barata e viável para lucrar com negócios durante a guerra. Com sua forte influência dentro do partido nazista, foi fácil conseguir as autorizações e abrir uma fábrica. O que poderia parecer uma atitude de um homem não muito bondoso, transformou-se em um dos maiores casos de amor à vida da História, pois este alemão abdicou de toda sua fortuna para salvar a vida de mais de mil judeus em plena luta contra o extermínio alemão."
        ],
        [
         "À Espera de um Milagre",
         8.508,
         [
          "Crime",
          "Drama",
          "Fantasia"
         ],
         "10-12-1999",
         "https://image.tmdb.org/t/p/original/14hEqW67IiHlKpzKMLUXyktzZIV.jpg",
         "Milagres acontecem em lugares inesperados, mesmo no bloco de celas para o corredor da morte na Penitenciária Cold Mountain. Lá, John Coffey, um gentil e gigante prisioneiro com poderes sobrenaturais, traz um senso de espírito e humanidade aos seus guardas e colegas de cela."
        ],
        [
         "Forrest Gump: O Contador de Histórias",
         8.5,
         [
          "Comédia",
          "Drama",
          "Romance"
         ],
         "23-06-1994",
         "https://image.tmdb.org/t/p/original/d74WpIsH8379TIL4wUxDneRCYv2.jpg",
         "Quarenta anos da história dos Estados Unidos, vistos pelos olhos de Forrest Gump, um rapaz com QI abaixo da média e com boas intenções. Por obra do acaso, ele consegue participar de momentos cruciais, como a Guerra do Vietnã e o Caso Watergate, mas continua pensando no seu amor de infância, Jenny Curran."
        ],
        [
         "O Senhor dos Anéis: O Retorno do Rei",
         8.477,
         [
          "Ação",
          "Aventura",
          "Fantasia"
         ],
         "01-12-2003",
         "https://image.tmdb.org/t/p/original/aXS3D94iIO9dheHrG0BhgUR4Wuy.jpg",
         "O confronto final entre as forças do bem e do mal que lutam pelo controle do futuro da Terra Média se aproxima. Sauron planeja um grande ataque a Minas Tirith, capital de Gondor, o que faz com que Gandalf e Pippin partam para o local na intenção de ajudar a resistência. Um exército é reunido por Theoden em Rohan, em mais uma tentativa de deter as forças de Sauron. Enquanto isso, Frodo, Sam e Gollum seguem sua viagem rumo à Montanha da Perdição para destruir o anel."
        ],
        [
         "Cidade de Deus",
         8.434,
         [
          "Crime",
          "Drama"
         ],
         "30-08-2002",
         "https://image.tmdb.org/t/p/original/gfnXixcGC060QcG6JPxN6AMdVsq.jpg",
         "Buscapé é um jovem morador da Cidade de Deus que cresce em meio à violência. Com medo de se tornar um bandido, enxerga na fotografia uma oportunidade de ter uma vida digna."
        ],
        [
         "Interestelar",
         8.429,
         [
          "Aventura",
          "Drama",
          "Ficção científica"
         ],
         "05-11-2014",
         "https://image.tmdb.org/t/p/original/nCbkOyOMTEwlEV0LtCOvCnwEONA.jpg",
         "As reservas naturais da Terra estão chegando ao fim e um grupo de astronautas recebe a missão de verificar possíveis planetas para receberem a população mundial, possibilitando a continuação da espécie. Cooper é chamado para liderar o grupo e aceita a missão sabendo que pode nunca mais ver os filhos. Ao lado de Brand, Jenkins e Doyle, ele seguirá em busca de um novo lar."
        ],
        [
         "O Senhor dos Anéis: A Sociedade do Anel",
         8.409,
         [
          "Ação",
          "Aventura",
          "Fantasia"
         ],
         "18-12-2001",
         "https://image.tmdb.org/t/p/original/hq45YolNIGtrQZRJdjIRZOyONJa.jpg",
         "Em uma terra fantástica e única, um hobbit recebe de presente de seu tio um anel mágico e maligno que precisa ser destruído antes que caia nas mãos do mal. Para isso, o hobbit Frodo tem um caminho árduo pela frente, onde encontra perigo, medo e seres bizarros. Ao seu lado para o cumprimento desta jornada, ele aos poucos pode contar com outros hobbits, um elfo, um anão, dois humanos e um mago, totalizando nove pessoas que formam a Sociedade do Anel."
        ]
       ],
       "datasetInfos": [],
       "dbfsResultPath": null,
       "isJsonSchema": true,
       "metadata": {
        "dataframeName": "_sqldf",
        "executionCount": 31
       },
       "overflow": false,
       "plotOptions": {
        "customPlotOptions": {},
        "displayType": "table",
        "pivotAggregation": null,
        "pivotColumns": null,
        "xColumns": null,
        "yColumns": null
       },
       "removedWidgets": [],
       "schema": [
        {
         "metadata": "{}",
         "name": "TITULO",
         "type": "\"string\""
        },
        {
         "metadata": "{}",
         "name": "NOTA_AVALIACAO",
         "type": "\"float\""
        },
        {
         "metadata": "{}",
         "name": "GENERO",
         "type": "{\"type\":\"array\",\"elementType\":\"string\",\"containsNull\":true}"
        },
        {
         "metadata": "{}",
         "name": "DATA_DE_LANCAMENTO",
         "type": "\"string\""
        },
        {
         "metadata": "{}",
         "name": "DIRETORIO_POSTER",
         "type": "\"string\""
        },
        {
         "metadata": "{}",
         "name": "SINOPSE",
         "type": "\"string\""
        }
       ],
       "type": "table"
      }
     },
     "output_type": "display_data"
    }
   ],
   "source": [
    "%sql\n",
    "--lista de 10 filmes por avaliação para criar tabela ouro\n",
    "SELECT \n",
    "TITLE AS TITULO,\n",
    "VOTE_AVERAGE AS NOTA_AVALIACAO,\n",
    "GENERO,\n",
    "date_format(RELEASE_DATE, 'dd-MM-yyyy') AS DATA_DE_LANCAMENTO,\n",
    "POSTER_PATH AS DIRETORIO_POSTER,\n",
    "OVERVIEW AS SINOPSE\n",
    "FROM TMDB_PRATA \n",
    "ORDER BY VOTE_AVERAGE DESC \n",
    "LIMIT 10;"
   ]
  },
  {
   "cell_type": "code",
   "execution_count": 0,
   "metadata": {
    "application/vnd.databricks.v1+cell": {
     "cellMetadata": {
      "byteLimit": 2048000,
      "implicitDf": true,
      "rowLimit": 10000
     },
     "inputWidgets": {},
     "nuid": "97cef45c-d0c9-4cd7-956c-cbf9fd3a3e20",
     "showTitle": false,
     "title": ""
    }
   },
   "outputs": [
    {
     "output_type": "display_data",
     "data": {
      "text/html": [
       "<style scoped>\n",
       "  .table-result-container {\n",
       "    max-height: 300px;\n",
       "    overflow: auto;\n",
       "  }\n",
       "  table, th, td {\n",
       "    border: 1px solid black;\n",
       "    border-collapse: collapse;\n",
       "  }\n",
       "  th, td {\n",
       "    padding: 5px;\n",
       "  }\n",
       "  th {\n",
       "    text-align: left;\n",
       "  }\n",
       "</style><div class='table-result-container'><table class='table-result'><thead style='background-color: white'><tr><th>TITULO</th><th>NOTA_AVALIACAO</th><th>GENERO</th><th>DATA_DE_LANCAMENTO</th><th>DIRETORIO_POSTER</th><th>SINOPSE</th></tr></thead><tbody><tr><td>Um Sonho de Liberdade</td><td>8.7</td><td>List(Crime, Drama)</td><td>23-09-1994</td><td>https://image.tmdb.org/t/p/original/umX3lBhHoTV7Lsci140Yr8VpXyN.jpg</td><td>Em 1946, Andy Dufresne, um banqueiro jovem e bem sucedido, tem a sua vida radicalmente modificada ao ser condenado por um crime que nunca cometeu, o homicídio de sua esposa e do amante dela. Ele é mandado para uma prisão que é o pesadelo de qualquer detento, a Penitenciária Estadual de Shawshank, no Maine. Lá ele irá cumprir a pena perpétua. Andy logo será apresentado a Warden Norton, o corrupto e cruel agente penitenciário, que usa a Bíblia como arma de controle e ao Capitão Byron Hadley que trata os internos como animais. Andy faz amizade com Ellis Boyd Redding, um prisioneiro que cumpre pena há 20 anos e controla o mercado negro da instituição.</td></tr><tr><td>O Poderoso Chefão</td><td>8.695</td><td>List(Crime, Drama)</td><td>14-03-1972</td><td>https://image.tmdb.org/t/p/original/oJagOzBu9Rdd9BrciseCm3U3MCU.jpg</td><td>Em 1945, Don Corleone é o chefe de uma mafiosa família italiana de Nova York. Ele costuma apadrinhar várias pessoas, realizando importantes favores para elas, em troca de favores futuros. Com a chegada das drogas, as famílias começam uma disputa pelo promissor mercado. Quando Corleone se recusa a facilitar a entrada dos narcóticos na cidade, não oferecendo ajuda política e policial, sua família começa a sofrer atentados para que mudem de posição. É nessa complicada época que Michael, um herói de guerra nunca envolvido nos negócios da família, vê a necessidade de proteger o seu pai e tudo o que ele construiu ao longo dos anos.</td></tr><tr><td>O Poderoso Chefão: Parte II</td><td>8.6</td><td>List(Crime, Drama)</td><td>20-12-1974</td><td>https://image.tmdb.org/t/p/original/7g6wvsWHxBQujUcSXvZLhdFpDUy.jpg</td><td>Após a máfia matar sua família, o jovem Vito foge da sua cidade na Sicília e vai para a América. Vito luta para manter sua família. Ele mata Black Hand Fanucci, que exigia dos comerciantes uma parte dos seus ganhos. Com a morte de Fanucci, o poderio de Vito cresce, mas sua família é o que mais importa para ele. Agora baseado no Lago Tahoe, Michael planeja fazer incursões em Las Vegas e Havana instalando negócios ligados ao lazer, mas descobre que aliados como Hyman Roth estão tentando matá-lo.</td></tr><tr><td>A Lista de Schindler</td><td>8.565</td><td>List(Drama, História, Guerra)</td><td>15-12-1993</td><td>https://image.tmdb.org/t/p/original/tagKKnJLK8W5qKJW7Cl2GR2OPCs.jpg</td><td>O alemão Oskar Schindler viu na mão de obra judia uma solução barata e viável para lucrar com negócios durante a guerra. Com sua forte influência dentro do partido nazista, foi fácil conseguir as autorizações e abrir uma fábrica. O que poderia parecer uma atitude de um homem não muito bondoso, transformou-se em um dos maiores casos de amor à vida da História, pois este alemão abdicou de toda sua fortuna para salvar a vida de mais de mil judeus em plena luta contra o extermínio alemão.</td></tr><tr><td>À Espera de um Milagre</td><td>8.508</td><td>List(Crime, Drama, Fantasia)</td><td>10-12-1999</td><td>https://image.tmdb.org/t/p/original/14hEqW67IiHlKpzKMLUXyktzZIV.jpg</td><td>Milagres acontecem em lugares inesperados, mesmo no bloco de celas para o corredor da morte na Penitenciária Cold Mountain. Lá, John Coffey, um gentil e gigante prisioneiro com poderes sobrenaturais, traz um senso de espírito e humanidade aos seus guardas e colegas de cela.</td></tr><tr><td>Forrest Gump: O Contador de Histórias</td><td>8.5</td><td>List(Comédia, Drama, Romance)</td><td>23-06-1994</td><td>https://image.tmdb.org/t/p/original/d74WpIsH8379TIL4wUxDneRCYv2.jpg</td><td>Quarenta anos da história dos Estados Unidos, vistos pelos olhos de Forrest Gump, um rapaz com QI abaixo da média e com boas intenções. Por obra do acaso, ele consegue participar de momentos cruciais, como a Guerra do Vietnã e o Caso Watergate, mas continua pensando no seu amor de infância, Jenny Curran.</td></tr><tr><td>O Senhor dos Anéis: O Retorno do Rei</td><td>8.477</td><td>List(Ação, Aventura, Fantasia)</td><td>01-12-2003</td><td>https://image.tmdb.org/t/p/original/aXS3D94iIO9dheHrG0BhgUR4Wuy.jpg</td><td>O confronto final entre as forças do bem e do mal que lutam pelo controle do futuro da Terra Média se aproxima. Sauron planeja um grande ataque a Minas Tirith, capital de Gondor, o que faz com que Gandalf e Pippin partam para o local na intenção de ajudar a resistência. Um exército é reunido por Theoden em Rohan, em mais uma tentativa de deter as forças de Sauron. Enquanto isso, Frodo, Sam e Gollum seguem sua viagem rumo à Montanha da Perdição para destruir o anel.</td></tr><tr><td>Cidade de Deus</td><td>8.434</td><td>List(Crime, Drama)</td><td>30-08-2002</td><td>https://image.tmdb.org/t/p/original/gfnXixcGC060QcG6JPxN6AMdVsq.jpg</td><td>Buscapé é um jovem morador da Cidade de Deus que cresce em meio à violência. Com medo de se tornar um bandido, enxerga na fotografia uma oportunidade de ter uma vida digna.</td></tr><tr><td>Interestelar</td><td>8.429</td><td>List(Aventura, Drama, Ficção científica)</td><td>05-11-2014</td><td>https://image.tmdb.org/t/p/original/nCbkOyOMTEwlEV0LtCOvCnwEONA.jpg</td><td>As reservas naturais da Terra estão chegando ao fim e um grupo de astronautas recebe a missão de verificar possíveis planetas para receberem a população mundial, possibilitando a continuação da espécie. Cooper é chamado para liderar o grupo e aceita a missão sabendo que pode nunca mais ver os filhos. Ao lado de Brand, Jenkins e Doyle, ele seguirá em busca de um novo lar.</td></tr><tr><td>O Senhor dos Anéis: A Sociedade do Anel</td><td>8.409</td><td>List(Ação, Aventura, Fantasia)</td><td>18-12-2001</td><td>https://image.tmdb.org/t/p/original/hq45YolNIGtrQZRJdjIRZOyONJa.jpg</td><td>Em uma terra fantástica e única, um hobbit recebe de presente de seu tio um anel mágico e maligno que precisa ser destruído antes que caia nas mãos do mal. Para isso, o hobbit Frodo tem um caminho árduo pela frente, onde encontra perigo, medo e seres bizarros. Ao seu lado para o cumprimento desta jornada, ele aos poucos pode contar com outros hobbits, um elfo, um anão, dois humanos e um mago, totalizando nove pessoas que formam a Sociedade do Anel.</td></tr></tbody></table></div>"
      ]
     },
     "metadata": {
      "application/vnd.databricks.v1+output": {
       "addedWidgets": {},
       "aggData": [],
       "aggError": "",
       "aggOverflow": false,
       "aggSchema": [],
       "aggSeriesLimitReached": false,
       "aggType": "",
       "arguments": {},
       "columnCustomDisplayInfos": {},
       "data": [
        [
         "Um Sonho de Liberdade",
         8.7,
         [
          "Crime",
          "Drama"
         ],
         "23-09-1994",
         "https://image.tmdb.org/t/p/original/umX3lBhHoTV7Lsci140Yr8VpXyN.jpg",
         "Em 1946, Andy Dufresne, um banqueiro jovem e bem sucedido, tem a sua vida radicalmente modificada ao ser condenado por um crime que nunca cometeu, o homicídio de sua esposa e do amante dela. Ele é mandado para uma prisão que é o pesadelo de qualquer detento, a Penitenciária Estadual de Shawshank, no Maine. Lá ele irá cumprir a pena perpétua. Andy logo será apresentado a Warden Norton, o corrupto e cruel agente penitenciário, que usa a Bíblia como arma de controle e ao Capitão Byron Hadley que trata os internos como animais. Andy faz amizade com Ellis Boyd Redding, um prisioneiro que cumpre pena há 20 anos e controla o mercado negro da instituição."
        ],
        [
         "O Poderoso Chefão",
         8.695,
         [
          "Crime",
          "Drama"
         ],
         "14-03-1972",
         "https://image.tmdb.org/t/p/original/oJagOzBu9Rdd9BrciseCm3U3MCU.jpg",
         "Em 1945, Don Corleone é o chefe de uma mafiosa família italiana de Nova York. Ele costuma apadrinhar várias pessoas, realizando importantes favores para elas, em troca de favores futuros. Com a chegada das drogas, as famílias começam uma disputa pelo promissor mercado. Quando Corleone se recusa a facilitar a entrada dos narcóticos na cidade, não oferecendo ajuda política e policial, sua família começa a sofrer atentados para que mudem de posição. É nessa complicada época que Michael, um herói de guerra nunca envolvido nos negócios da família, vê a necessidade de proteger o seu pai e tudo o que ele construiu ao longo dos anos."
        ],
        [
         "O Poderoso Chefão: Parte II",
         8.6,
         [
          "Crime",
          "Drama"
         ],
         "20-12-1974",
         "https://image.tmdb.org/t/p/original/7g6wvsWHxBQujUcSXvZLhdFpDUy.jpg",
         "Após a máfia matar sua família, o jovem Vito foge da sua cidade na Sicília e vai para a América. Vito luta para manter sua família. Ele mata Black Hand Fanucci, que exigia dos comerciantes uma parte dos seus ganhos. Com a morte de Fanucci, o poderio de Vito cresce, mas sua família é o que mais importa para ele. Agora baseado no Lago Tahoe, Michael planeja fazer incursões em Las Vegas e Havana instalando negócios ligados ao lazer, mas descobre que aliados como Hyman Roth estão tentando matá-lo."
        ],
        [
         "A Lista de Schindler",
         8.565,
         [
          "Drama",
          "História",
          "Guerra"
         ],
         "15-12-1993",
         "https://image.tmdb.org/t/p/original/tagKKnJLK8W5qKJW7Cl2GR2OPCs.jpg",
         "O alemão Oskar Schindler viu na mão de obra judia uma solução barata e viável para lucrar com negócios durante a guerra. Com sua forte influência dentro do partido nazista, foi fácil conseguir as autorizações e abrir uma fábrica. O que poderia parecer uma atitude de um homem não muito bondoso, transformou-se em um dos maiores casos de amor à vida da História, pois este alemão abdicou de toda sua fortuna para salvar a vida de mais de mil judeus em plena luta contra o extermínio alemão."
        ],
        [
         "À Espera de um Milagre",
         8.508,
         [
          "Crime",
          "Drama",
          "Fantasia"
         ],
         "10-12-1999",
         "https://image.tmdb.org/t/p/original/14hEqW67IiHlKpzKMLUXyktzZIV.jpg",
         "Milagres acontecem em lugares inesperados, mesmo no bloco de celas para o corredor da morte na Penitenciária Cold Mountain. Lá, John Coffey, um gentil e gigante prisioneiro com poderes sobrenaturais, traz um senso de espírito e humanidade aos seus guardas e colegas de cela."
        ],
        [
         "Forrest Gump: O Contador de Histórias",
         8.5,
         [
          "Comédia",
          "Drama",
          "Romance"
         ],
         "23-06-1994",
         "https://image.tmdb.org/t/p/original/d74WpIsH8379TIL4wUxDneRCYv2.jpg",
         "Quarenta anos da história dos Estados Unidos, vistos pelos olhos de Forrest Gump, um rapaz com QI abaixo da média e com boas intenções. Por obra do acaso, ele consegue participar de momentos cruciais, como a Guerra do Vietnã e o Caso Watergate, mas continua pensando no seu amor de infância, Jenny Curran."
        ],
        [
         "O Senhor dos Anéis: O Retorno do Rei",
         8.477,
         [
          "Ação",
          "Aventura",
          "Fantasia"
         ],
         "01-12-2003",
         "https://image.tmdb.org/t/p/original/aXS3D94iIO9dheHrG0BhgUR4Wuy.jpg",
         "O confronto final entre as forças do bem e do mal que lutam pelo controle do futuro da Terra Média se aproxima. Sauron planeja um grande ataque a Minas Tirith, capital de Gondor, o que faz com que Gandalf e Pippin partam para o local na intenção de ajudar a resistência. Um exército é reunido por Theoden em Rohan, em mais uma tentativa de deter as forças de Sauron. Enquanto isso, Frodo, Sam e Gollum seguem sua viagem rumo à Montanha da Perdição para destruir o anel."
        ],
        [
         "Cidade de Deus",
         8.434,
         [
          "Crime",
          "Drama"
         ],
         "30-08-2002",
         "https://image.tmdb.org/t/p/original/gfnXixcGC060QcG6JPxN6AMdVsq.jpg",
         "Buscapé é um jovem morador da Cidade de Deus que cresce em meio à violência. Com medo de se tornar um bandido, enxerga na fotografia uma oportunidade de ter uma vida digna."
        ],
        [
         "Interestelar",
         8.429,
         [
          "Aventura",
          "Drama",
          "Ficção científica"
         ],
         "05-11-2014",
         "https://image.tmdb.org/t/p/original/nCbkOyOMTEwlEV0LtCOvCnwEONA.jpg",
         "As reservas naturais da Terra estão chegando ao fim e um grupo de astronautas recebe a missão de verificar possíveis planetas para receberem a população mundial, possibilitando a continuação da espécie. Cooper é chamado para liderar o grupo e aceita a missão sabendo que pode nunca mais ver os filhos. Ao lado de Brand, Jenkins e Doyle, ele seguirá em busca de um novo lar."
        ],
        [
         "O Senhor dos Anéis: A Sociedade do Anel",
         8.409,
         [
          "Ação",
          "Aventura",
          "Fantasia"
         ],
         "18-12-2001",
         "https://image.tmdb.org/t/p/original/hq45YolNIGtrQZRJdjIRZOyONJa.jpg",
         "Em uma terra fantástica e única, um hobbit recebe de presente de seu tio um anel mágico e maligno que precisa ser destruído antes que caia nas mãos do mal. Para isso, o hobbit Frodo tem um caminho árduo pela frente, onde encontra perigo, medo e seres bizarros. Ao seu lado para o cumprimento desta jornada, ele aos poucos pode contar com outros hobbits, um elfo, um anão, dois humanos e um mago, totalizando nove pessoas que formam a Sociedade do Anel."
        ]
       ],
       "datasetInfos": [],
       "dbfsResultPath": null,
       "isJsonSchema": true,
       "metadata": {
        "dataframeName": "_sqldf",
        "executionCount": 32
       },
       "overflow": false,
       "plotOptions": {
        "customPlotOptions": {},
        "displayType": "table",
        "pivotAggregation": null,
        "pivotColumns": null,
        "xColumns": null,
        "yColumns": null
       },
       "removedWidgets": [],
       "schema": [
        {
         "metadata": "{}",
         "name": "TITULO",
         "type": "\"string\""
        },
        {
         "metadata": "{}",
         "name": "NOTA_AVALIACAO",
         "type": "\"float\""
        },
        {
         "metadata": "{}",
         "name": "GENERO",
         "type": "{\"type\":\"array\",\"elementType\":\"string\",\"containsNull\":true}"
        },
        {
         "metadata": "{}",
         "name": "DATA_DE_LANCAMENTO",
         "type": "\"string\""
        },
        {
         "metadata": "{}",
         "name": "DIRETORIO_POSTER",
         "type": "\"string\""
        },
        {
         "metadata": "{}",
         "name": "SINOPSE",
         "type": "\"string\""
        }
       ],
       "type": "table"
      }
     },
     "output_type": "display_data"
    }
   ],
   "source": [
    "%sql\n",
    "--Criando tabela ouro com a lista de 10 filmes por avaliação\n",
    "USE DBTMDB;\n",
    "\n",
    "CREATE OR REPLACE TABLE TMDB_OURO_AVALIACAO AS\n",
    "SELECT \n",
    "TITLE AS TITULO,\n",
    "VOTE_AVERAGE AS NOTA_AVALIACAO,\n",
    "GENERO,\n",
    "date_format(RELEASE_DATE, 'dd-MM-yyyy') AS DATA_DE_LANCAMENTO,\n",
    "POSTER_PATH AS DIRETORIO_POSTER,\n",
    "OVERVIEW AS SINOPSE\n",
    "FROM TMDB_PRATA \n",
    "ORDER BY VOTE_AVERAGE DESC \n",
    "LIMIT 10;\n",
    "\n",
    "SELECT * FROM TMDB_OURO_AVALIACAO ORDER BY NOTA_AVALIACAO DESC;"
   ]
  },
  {
   "cell_type": "code",
   "execution_count": 0,
   "metadata": {
    "application/vnd.databricks.v1+cell": {
     "cellMetadata": {
      "byteLimit": 2048000,
      "implicitDf": true,
      "rowLimit": 10000
     },
     "inputWidgets": {},
     "nuid": "fecc9389-f289-43c5-9387-a245757de4ba",
     "showTitle": false,
     "title": ""
    }
   },
   "outputs": [
    {
     "output_type": "display_data",
     "data": {
      "text/html": [
       "<style scoped>\n",
       "  .table-result-container {\n",
       "    max-height: 300px;\n",
       "    overflow: auto;\n",
       "  }\n",
       "  table, th, td {\n",
       "    border: 1px solid black;\n",
       "    border-collapse: collapse;\n",
       "  }\n",
       "  th, td {\n",
       "    padding: 5px;\n",
       "  }\n",
       "  th {\n",
       "    text-align: left;\n",
       "  }\n",
       "</style><div class='table-result-container'><table class='table-result'><thead style='background-color: white'><tr><th>QTDE_FILMES</th><th>ANO_LANCAMENTO</th></tr></thead><tbody><tr><td>5</td><td>2023</td></tr><tr><td>2</td><td>2022</td></tr><tr><td>2</td><td>2021</td></tr><tr><td>1</td><td>2020</td></tr><tr><td>7</td><td>2019</td></tr><tr><td>4</td><td>2018</td></tr><tr><td>3</td><td>2017</td></tr><tr><td>3</td><td>2016</td></tr><tr><td>4</td><td>2015</td></tr><tr><td>8</td><td>2014</td></tr><tr><td>3</td><td>2013</td></tr><tr><td>1</td><td>2012</td></tr><tr><td>1</td><td>2011</td></tr><tr><td>5</td><td>2010</td></tr><tr><td>1</td><td>2009</td></tr><tr><td>4</td><td>2007</td></tr><tr><td>3</td><td>2006</td></tr><tr><td>1</td><td>2004</td></tr><tr><td>4</td><td>2003</td></tr><tr><td>3</td><td>2002</td></tr><tr><td>3</td><td>2001</td></tr><tr><td>5</td><td>2000</td></tr><tr><td>3</td><td>1999</td></tr><tr><td>1</td><td>1998</td></tr><tr><td>4</td><td>1997</td></tr><tr><td>1</td><td>1996</td></tr><tr><td>3</td><td>1995</td></tr><tr><td>2</td><td>1994</td></tr><tr><td>3</td><td>1993</td></tr><tr><td>1</td><td>1987</td></tr><tr><td>1</td><td>1985</td></tr><tr><td>1</td><td>1984</td></tr><tr><td>1</td><td>1983</td></tr><tr><td>1</td><td>1981</td></tr><tr><td>1</td><td>1976</td></tr><tr><td>1</td><td>1974</td></tr><tr><td>1</td><td>1972</td></tr><tr><td>1</td><td>1968</td></tr><tr><td>1</td><td>1940</td></tr></tbody></table></div>"
      ]
     },
     "metadata": {
      "application/vnd.databricks.v1+output": {
       "addedWidgets": {},
       "aggData": [],
       "aggError": "",
       "aggOverflow": false,
       "aggSchema": [],
       "aggSeriesLimitReached": false,
       "aggType": "",
       "arguments": {},
       "columnCustomDisplayInfos": {},
       "data": [
        [
         5,
         2023
        ],
        [
         2,
         2022
        ],
        [
         2,
         2021
        ],
        [
         1,
         2020
        ],
        [
         7,
         2019
        ],
        [
         4,
         2018
        ],
        [
         3,
         2017
        ],
        [
         3,
         2016
        ],
        [
         4,
         2015
        ],
        [
         8,
         2014
        ],
        [
         3,
         2013
        ],
        [
         1,
         2012
        ],
        [
         1,
         2011
        ],
        [
         5,
         2010
        ],
        [
         1,
         2009
        ],
        [
         4,
         2007
        ],
        [
         3,
         2006
        ],
        [
         1,
         2004
        ],
        [
         4,
         2003
        ],
        [
         3,
         2002
        ],
        [
         3,
         2001
        ],
        [
         5,
         2000
        ],
        [
         3,
         1999
        ],
        [
         1,
         1998
        ],
        [
         4,
         1997
        ],
        [
         1,
         1996
        ],
        [
         3,
         1995
        ],
        [
         2,
         1994
        ],
        [
         3,
         1993
        ],
        [
         1,
         1987
        ],
        [
         1,
         1985
        ],
        [
         1,
         1984
        ],
        [
         1,
         1983
        ],
        [
         1,
         1981
        ],
        [
         1,
         1976
        ],
        [
         1,
         1974
        ],
        [
         1,
         1972
        ],
        [
         1,
         1968
        ],
        [
         1,
         1940
        ]
       ],
       "datasetInfos": [],
       "dbfsResultPath": null,
       "isJsonSchema": true,
       "metadata": {
        "dataframeName": "_sqldf",
        "executionCount": 33
       },
       "overflow": false,
       "plotOptions": {
        "customPlotOptions": {},
        "displayType": "table",
        "pivotAggregation": null,
        "pivotColumns": null,
        "xColumns": null,
        "yColumns": null
       },
       "removedWidgets": [],
       "schema": [
        {
         "metadata": "{}",
         "name": "QTDE_FILMES",
         "type": "\"long\""
        },
        {
         "metadata": "{}",
         "name": "ANO_LANCAMENTO",
         "type": "\"integer\""
        }
       ],
       "type": "table"
      }
     },
     "output_type": "display_data"
    }
   ],
   "source": [
    "%sql\n",
    "--lista de quantidade de filmes lançados por ano para criar tabela ouro\n",
    "SELECT \n",
    "COUNT(1) AS QTDE_FILMES,\n",
    "year(RELEASE_DATE) AS ANO_LANCAMENTO\n",
    "FROM TMDB_PRATA\n",
    "GROUP BY year(RELEASE_DATE)\n",
    "ORDER BY year(RELEASE_DATE) DESC;"
   ]
  },
  {
   "cell_type": "code",
   "execution_count": 0,
   "metadata": {
    "application/vnd.databricks.v1+cell": {
     "cellMetadata": {
      "byteLimit": 2048000,
      "implicitDf": true,
      "rowLimit": 10000
     },
     "inputWidgets": {},
     "nuid": "9604b89b-bb84-4deb-9c14-6188d023edcc",
     "showTitle": false,
     "title": ""
    }
   },
   "outputs": [
    {
     "output_type": "display_data",
     "data": {
      "text/html": [
       "<style scoped>\n",
       "  .table-result-container {\n",
       "    max-height: 300px;\n",
       "    overflow: auto;\n",
       "  }\n",
       "  table, th, td {\n",
       "    border: 1px solid black;\n",
       "    border-collapse: collapse;\n",
       "  }\n",
       "  th, td {\n",
       "    padding: 5px;\n",
       "  }\n",
       "  th {\n",
       "    text-align: left;\n",
       "  }\n",
       "</style><div class='table-result-container'><table class='table-result'><thead style='background-color: white'><tr><th>QTDE_FILMES</th><th>ANO_LANCAMENTO</th></tr></thead><tbody><tr><td>5</td><td>2023</td></tr><tr><td>2</td><td>2022</td></tr><tr><td>2</td><td>2021</td></tr><tr><td>1</td><td>2020</td></tr><tr><td>7</td><td>2019</td></tr><tr><td>4</td><td>2018</td></tr><tr><td>3</td><td>2017</td></tr><tr><td>3</td><td>2016</td></tr><tr><td>4</td><td>2015</td></tr><tr><td>8</td><td>2014</td></tr><tr><td>3</td><td>2013</td></tr><tr><td>1</td><td>2012</td></tr><tr><td>1</td><td>2011</td></tr><tr><td>5</td><td>2010</td></tr><tr><td>1</td><td>2009</td></tr><tr><td>4</td><td>2007</td></tr><tr><td>3</td><td>2006</td></tr><tr><td>1</td><td>2004</td></tr><tr><td>4</td><td>2003</td></tr><tr><td>3</td><td>2002</td></tr><tr><td>3</td><td>2001</td></tr><tr><td>5</td><td>2000</td></tr><tr><td>3</td><td>1999</td></tr><tr><td>1</td><td>1998</td></tr><tr><td>4</td><td>1997</td></tr><tr><td>1</td><td>1996</td></tr><tr><td>3</td><td>1995</td></tr><tr><td>2</td><td>1994</td></tr><tr><td>3</td><td>1993</td></tr><tr><td>1</td><td>1987</td></tr><tr><td>1</td><td>1985</td></tr><tr><td>1</td><td>1984</td></tr><tr><td>1</td><td>1983</td></tr><tr><td>1</td><td>1981</td></tr><tr><td>1</td><td>1976</td></tr><tr><td>1</td><td>1974</td></tr><tr><td>1</td><td>1972</td></tr><tr><td>1</td><td>1968</td></tr><tr><td>1</td><td>1940</td></tr></tbody></table></div>"
      ]
     },
     "metadata": {
      "application/vnd.databricks.v1+output": {
       "addedWidgets": {},
       "aggData": [],
       "aggError": "",
       "aggOverflow": false,
       "aggSchema": [],
       "aggSeriesLimitReached": false,
       "aggType": "",
       "arguments": {},
       "columnCustomDisplayInfos": {},
       "data": [
        [
         5,
         2023
        ],
        [
         2,
         2022
        ],
        [
         2,
         2021
        ],
        [
         1,
         2020
        ],
        [
         7,
         2019
        ],
        [
         4,
         2018
        ],
        [
         3,
         2017
        ],
        [
         3,
         2016
        ],
        [
         4,
         2015
        ],
        [
         8,
         2014
        ],
        [
         3,
         2013
        ],
        [
         1,
         2012
        ],
        [
         1,
         2011
        ],
        [
         5,
         2010
        ],
        [
         1,
         2009
        ],
        [
         4,
         2007
        ],
        [
         3,
         2006
        ],
        [
         1,
         2004
        ],
        [
         4,
         2003
        ],
        [
         3,
         2002
        ],
        [
         3,
         2001
        ],
        [
         5,
         2000
        ],
        [
         3,
         1999
        ],
        [
         1,
         1998
        ],
        [
         4,
         1997
        ],
        [
         1,
         1996
        ],
        [
         3,
         1995
        ],
        [
         2,
         1994
        ],
        [
         3,
         1993
        ],
        [
         1,
         1987
        ],
        [
         1,
         1985
        ],
        [
         1,
         1984
        ],
        [
         1,
         1983
        ],
        [
         1,
         1981
        ],
        [
         1,
         1976
        ],
        [
         1,
         1974
        ],
        [
         1,
         1972
        ],
        [
         1,
         1968
        ],
        [
         1,
         1940
        ]
       ],
       "datasetInfos": [],
       "dbfsResultPath": null,
       "isJsonSchema": true,
       "metadata": {
        "dataframeName": "_sqldf",
        "executionCount": 34
       },
       "overflow": false,
       "plotOptions": {
        "customPlotOptions": {},
        "displayType": "table",
        "pivotAggregation": null,
        "pivotColumns": null,
        "xColumns": null,
        "yColumns": null
       },
       "removedWidgets": [],
       "schema": [
        {
         "metadata": "{}",
         "name": "QTDE_FILMES",
         "type": "\"long\""
        },
        {
         "metadata": "{}",
         "name": "ANO_LANCAMENTO",
         "type": "\"integer\""
        }
       ],
       "type": "table"
      }
     },
     "output_type": "display_data"
    }
   ],
   "source": [
    "%sql\n",
    "--Criando tabela ouro com a quantidade de filmes lançados por ano\n",
    "USE DBTMDB;\n",
    "\n",
    "CREATE OR REPLACE TABLE TMDB_OURO_FILMES_POR_ANO AS\n",
    "SELECT \n",
    "COUNT(1) AS QTDE_FILMES,\n",
    "year(RELEASE_DATE) AS ANO_LANCAMENTO\n",
    "FROM TMDB_PRATA\n",
    "GROUP BY year(RELEASE_DATE)\n",
    "ORDER BY year(RELEASE_DATE) DESC; \n",
    "\n",
    "SELECT * FROM TMDB_OURO_FILMES_POR_ANO ORDER BY ANO_LANCAMENTO DESC;"
   ]
  },
  {
   "cell_type": "code",
   "execution_count": 0,
   "metadata": {
    "application/vnd.databricks.v1+cell": {
     "cellMetadata": {
      "byteLimit": 2048000,
      "implicitDf": true,
      "rowLimit": 10000
     },
     "inputWidgets": {},
     "nuid": "30ddd832-e84c-496f-848f-8ec49af64e39",
     "showTitle": false,
     "title": ""
    }
   },
   "outputs": [
    {
     "output_type": "display_data",
     "data": {
      "text/html": [
       "<style scoped>\n",
       "  .table-result-container {\n",
       "    max-height: 300px;\n",
       "    overflow: auto;\n",
       "  }\n",
       "  table, th, td {\n",
       "    border: 1px solid black;\n",
       "    border-collapse: collapse;\n",
       "  }\n",
       "  th, td {\n",
       "    padding: 5px;\n",
       "  }\n",
       "  th {\n",
       "    text-align: left;\n",
       "  }\n",
       "</style><div class='table-result-container'><table class='table-result'><thead style='background-color: white'><tr><th>TITULO</th><th>DATA_DE_LANCAMENTO</th><th>DATA_CORTE_15_ANOS</th><th>GENERO</th><th>DIRETORIO_POSTER</th><th>SINOPSE</th></tr></thead><tbody><tr><td>A Sociedade da Neve</td><td>13-12-2023</td><td>05-03-2009</td><td>List(Drama, História)</td><td>https://image.tmdb.org/t/p/original/7fQTmvKgVGxifieVryqqlxohkoW.jpg</td><td>Em 13 de outubro de 1972, o voo 571 da Força Aérea Uruguaia, fretado para levar um time de rúgbi ao Chile, cai em uma geleira no coração da Cordilheira dos Andes.</td></tr><tr><td>O Protetor: Capítulo Final</td><td>30-08-2023</td><td>05-03-2009</td><td>List(Ação, Crime, Thriller)</td><td>https://image.tmdb.org/t/p/original/AnJOKbSQsp0QqiUhsQooqFRjPsD.jpg</td><td>Sentindo-se em casa no sul da Itália, o ex-agente Robert McCall logo descobre que seus novos amigos estão sob o controle dos chefes do crime local.  À medida que os acontecimentos se tornam mortais, McCall sabe o que tem de fazer: tornar-se o protetor dos seus amigos, enfrentando a máfia.</td></tr><tr><td>Agente Infiltrado</td><td>28-04-2023</td><td>05-03-2009</td><td>List(Ação)</td><td>https://image.tmdb.org/t/p/original/mOP3FjJuOe38grWMgdtuVGNMFzZ.jpg</td><td>Um homem enfrenta um dilema moral depois de se infiltrar em um grupo criminoso. A situação piora quando o filho do chefe, um garoto de oito anos, entra na jogada.</td></tr><tr><td>O Pacto</td><td>19-04-2023</td><td>05-03-2009</td><td>List(Ação, Thriller, Guerra)</td><td>https://image.tmdb.org/t/p/original/pTQZT9R6YjKrweJ0llPtq57j1Z0.jpg</td><td>Um sargento do Exército é resgatado de uma missão no Afeganistão pelo seu intérprete. Naquela que seria a sua última missão no estrangeiro, Kinley fica à beira da morte mas sobrevive graças a Ahmed, que o protege e o carrega por quilometros a fim de garantir a sua segurança. Sem se lembrar muito bem do que aconteceu, o sargento apenas sabe que quando o homem se encontra em risco de vida, como a sua família, é a sua verdadeira missão retribuir o favor e ajudá-lo a sobreviver.</td></tr><tr><td>Creed III</td><td>01-03-2023</td><td>05-03-2009</td><td>List(Ação, Drama)</td><td>https://image.tmdb.org/t/p/original/3VkER73o8NDqAYf5gI5bXwhtGbW.jpg</td><td>Depois de dominar o mundo do boxe, Adonis Creed tem prosperado em sua carreira e vida familiar. Quando um amigo de infância e ex-prodígio do boxe, Damien Anderson, ressurge depois de cumprir uma longa sentença na prisão, ele está ansioso para provar que merece sua chance no ringue. O confronto entre ex-amigos é mais do que apenas uma briga. Para acertar as contas, Adonis deve colocar seu futuro em risco para lutar contra Damien - um lutador que não tem nada a perder.</td></tr><tr><td>Avatar: O Caminho da Água</td><td>14-12-2022</td><td>05-03-2009</td><td>List(Ação, Aventura, Ficção científica)</td><td>https://image.tmdb.org/t/p/original/mbYQLLluS651W89jO7MOZcLSCUw.jpg</td><td>12 anos depois de explorar Pandora e se juntar aos Na'vi, Jake Sully formou uma família com Neytiri e se estabeleceu entre os clãs do novo mundo. Porém, a paz não durará para sempre.</td></tr><tr><td>Nada de Novo no Front</td><td>07-10-2022</td><td>05-03-2009</td><td>List(Ação, Drama, Guerra)</td><td>https://image.tmdb.org/t/p/original/qmcKs0Aoft7MBdBoj1haZyPRgM2.jpg</td><td>Convocado para a linha de frente da Primeira Guerra Mundial, o adolescente Paul encara a dura realidade da vida nas trincheiras.</td></tr><tr><td>Viagem ao Topo da Terra</td><td>22-09-2021</td><td>05-03-2009</td><td>List(Aventura, Animação, Mistério)</td><td>https://image.tmdb.org/t/p/original/fj8wv7ip5JbnJFqwNicNKHLClYH.jpg</td><td>Um fotojornalista que investiga a primeira expedição ao Everest acaba se envolvendo na busca por um respeitado alpinista que desapareceu.</td></tr><tr><td>Godzilla vs. Kong</td><td>24-03-2021</td><td>05-03-2009</td><td>List(Ação, Ficção científica, Thriller)</td><td>https://image.tmdb.org/t/p/original/klAIFewuqcyEmH1SMtR2XbMyqzM.jpg</td><td>Em uma época em que os monstros andam na Terra, a luta da humanidade por seu futuro coloca Godzilla e Kong em rota de colisão que verá as duas forças mais poderosas da natureza no planeta se confrontarem em uma batalha espetacular para as idades. Enquanto Monarch embarca em uma missão perigosa em terreno desconhecido e descobre pistas sobre as origens dos Titãs, uma conspiração humana ameaça tirar as criaturas, boas e más, da face da terra para sempre.</td></tr><tr><td>Resgate</td><td>24-04-2020</td><td>05-03-2009</td><td>List(Ação, Thriller)</td><td>https://image.tmdb.org/t/p/original/zxahunlqvMPWzUBd1XSRsGawdS9.jpg</td><td>Em Bangladesh, o mercenário Tyler Rake luta para sobreviver durante a missão para resgatar o filho de um chefão do crime.</td></tr><tr><td>Jumanji: Próxima Fase</td><td>04-12-2019</td><td>05-03-2009</td><td>List(Aventura, Comédia, Fantasia)</td><td>https://image.tmdb.org/t/p/original/bBRDUTr6jgbD8I8A9DvVGrVbdfB.jpg</td><td>A turma está de volta, mas o jogo mudou. Quando voltam para Jumanji para resgatar um amigo, descobrem que nada do que esperavam. Com mais ação e surpresas, os jogadores terão que desbravar partes desconhecidas e inexploradas, dos desertos áridos até montanhas de neve, para escapar.</td></tr><tr><td>O Poço</td><td>08-11-2019</td><td>05-03-2009</td><td>List(Drama, Ficção científica, Thriller)</td><td>https://image.tmdb.org/t/p/original/kY0ET33EoiJhjaPCzzvywCDqP6b.jpg</td><td>Em uma prisão onde os detentos são alimentados por uma plataforma descendente, os que estão nos níveis mais altos comem mais do que precisam enquanto os dos andares mais baixos ficam com as migalhas. Até que um homem decide mudar o sistema.</td></tr><tr><td>Milagre na Cela 7</td><td>10-10-2019</td><td>05-03-2009</td><td>List(Drama)</td><td>https://image.tmdb.org/t/p/original/q5Sj4pMaKpdMyywQIJhexNvCZYz.jpg</td><td>Separado de sua filha, um homem com deficiência intelectual precisa provar sua inocência ao ser preso pela morte da filha de um comandante.</td></tr><tr><td>Coringa</td><td>01-10-2019</td><td>05-03-2009</td><td>List(Crime, Drama, Thriller)</td><td>https://image.tmdb.org/t/p/original/xLxgVxFWvb9hhUyCDDXxRPPnFck.jpg</td><td>Isolado, intimidado e desconsiderado pela sociedade, o fracassado comediante Arthur Fleck inicia seu caminho como uma mente criminosa após assassinar três homens em pleno metrô. Sua ação inicia um movimento popular contra a elite de Gotham City, da qual Thomas Wayne é seu maior representante.</td></tr><tr><td>O Rei Leão</td><td>12-07-2019</td><td>05-03-2009</td><td>List(Aventura, Animação, Drama, Família)</td><td>https://image.tmdb.org/t/p/original/wrHr8eEJYDAA7WYybyH162s4oZ4.jpg</td><td>Simba é um jovem leão cujo destino é se tornar o rei da selva. Entretanto, uma armadilha elaborada por seu tio Scar faz com que Mufasa, o atual rei, morra ao tentar salvar o filhote. Consumido pela culpa, Simba deixa o reino rumo a um local distante, onde encontra amigos que o ensinam a mais uma vez ter prazer pela vida.</td></tr><tr><td>O Menino que Descobriu o Vento</td><td>14-02-2019</td><td>05-03-2009</td><td>List(Drama, Família, História)</td><td>https://image.tmdb.org/t/p/original/jZofpz4gmiH7MQAYWrgvTtdIq3l.jpg</td><td>Inspirado por um livro de ciências, um garoto constrói uma turbina eólica para salvar seu vilarejo da fome. Baseado em uma história real.</td></tr><tr><td>Amigos para Sempre</td><td>10-01-2019</td><td>05-03-2009</td><td>List(Comédia, Drama)</td><td>https://image.tmdb.org/t/p/original/lYv3Mwm3t7FWEMli8ASMIhZBUBC.jpg</td><td>Um jovem negro aceita trabalhar para um homem branco paraplégico e acaba dando início a uma grande e inusitada amizade. Versão americana de \"Intocáveis\", filme francês de 2012 que fez grande sucesso mundial.</td></tr><tr><td>Bohemian Rhapsody</td><td>24-10-2018</td><td>05-03-2009</td><td>List(Drama, Música)</td><td>https://image.tmdb.org/t/p/original/qxgdqcxI216kEoypGbA9BemB7mW.jpg</td><td>Freddie Mercury e seus companheiros Brian May, Roger Taylor e John Deacon mudam o mundo da música para sempre ao formar a banda Queen, durante a década de 1970. Porém, quando o estilo de vida extravagante de Mercury começa a sair do controle, a banda tem que enfrentar o desafio de conciliar a fama e o sucesso com suas vidas pessoais cada vez mais complicadas.</td></tr><tr><td>Free Solo</td><td>28-09-2018</td><td>05-03-2009</td><td>List(Aventura, Documentário)</td><td>https://image.tmdb.org/t/p/original/v4QfYZMACODlWul9doN9RxE99ag.jpg</td><td>Aos 30 anos de idade, Alex Honnold já era um dos mais renomados alpinistas de sua geração. Porém, independente de todas as suas conquistas, ele permaneceu obcecado com um desafio que nenhum outro alpinista havia conseguido realizar: escalar sem equipamento de segurança a rocha El Capitan, no Parque Nacional de Yosemite, na Califórnia. Os diretores E. Chai Vasarhelyi e Jimmy Chin acompanham Honnold por dois anos enquanto ele testa os limites de sua ambição.</td></tr><tr><td>Terremoto</td><td>31-08-2018</td><td>05-03-2009</td><td>List(Ação, Drama, Thriller)</td><td>https://image.tmdb.org/t/p/original/oujtI4p0lolCnjBt2kvkPvmm0qK.jpg</td><td>Em 1904, um terremoto de magnitude 5,4 na escala Richter sacudiu Oslo. Seu epicentro foi no \"Oslo Graben\", uma fenda que atravessa diretamente a cidade. Desde então, a população da capital norueguesa pode esperar futuros terremotos na área.</td></tr><tr><td>O Protetor 2</td><td>19-07-2018</td><td>05-03-2009</td><td>List(Ação, Crime, Thriller)</td><td>https://image.tmdb.org/t/p/original/REWunAyKGCbxvg2UJGMEHuQd2c.jpg</td><td>Criminosos assassinam Susan Plummer, a melhor amiga de Robert McCall e sua ex-colega de trabalho. Obcecado, Robert pensa apenas em eliminar o bando de assassinos profissionais que destruiu sua vida.</td></tr><tr><td>Mulher-Maravilha</td><td>30-05-2017</td><td>05-03-2009</td><td>List(Ação, Aventura, Fantasia)</td><td>https://image.tmdb.org/t/p/original/ujQthWB6c0ojlARk28NSTmqidbF.jpg</td><td>Treinada desde cedo para ser uma guerreira imbatível, Diana Prince (Gal Gadot) nunca saiu da paradisíaca ilha em que é reconhecida como Princesa das Amazonas. Quando o piloto Steve Trevor (Chris Pine) se acidenta e cai numa praia do local, ela descobre que uma guerra sem precedentes está se espalhando pelo mundo e decide deixar seu lar certa de que pode parar o conflito. Lutando para acabar com todas as lutas, Diana percebe o alcance de seus poderes e sua verdadeira missão na Terra.</td></tr><tr><td>A Escalada</td><td>25-01-2017</td><td>05-03-2009</td><td>List(Aventura, Comédia, Romance)</td><td>https://image.tmdb.org/t/p/original/jxmnYUawdlSUctpN1JJ9wvE47ZH.jpg</td><td>\"Para você, eu poderia escalar o Everest!\" Samy teria feito melhor se tivesse ficado calado aquele dia... Especialmente por que Nadia não acredita muito em palavras. Por amor a ela, Samy deixa projetos de vida de lado e vai subir os 8.848 metros que fazem do Everest o telhado do mundo.</td></tr><tr><td>Um Contratempo</td><td>06-01-2017</td><td>05-03-2009</td><td>List(Drama, Mistério, Thriller)</td><td>https://image.tmdb.org/t/p/original/pOnbhr6DbPgKjvcNexbRdmR37De.jpg</td><td>Após acordar ao lado de sua amante assassinada em um quarto de hotel, um empresário contrata uma advogada para descobrir como ele acabou sendo suspeito de um homicídio.</td></tr><tr><td>O Contador</td><td>13-10-2016</td><td>05-03-2009</td><td>List(Crime, Drama, Thriller)</td><td>https://image.tmdb.org/t/p/original/vgJt4ADIjm5U2y3oPLu6kXEXOCY.jpg</td><td>O matemático Christian Wolff sente-se muito mais à vontade lidando com números do que com pessoas. Atualmente, trabalha como contador autônomo para uma das maiores organizações criminosas do mundo. Com a receita federal no encalço, ele resolve mudar de ares e atender um novo cliente, uma empresa de equipamentos robóticos onde um dos funcionários descobriu um desvio gigantesco de recursos. À medida que Christian se aprofunda nos registros da empresa e se aproxima da verdade, o número de cadáveres começa a crescer rapidamente.</td></tr><tr><td>Até o Último Homem</td><td>07-10-2016</td><td>05-03-2009</td><td>List(Drama, História, Guerra)</td><td>https://image.tmdb.org/t/p/original/88sCL8OQMoieKpHClqRCCbcgH6w.jpg</td><td>Desmond T. Doss, foi o médico do Exército Americano da Segunda Guerra Mundial, que serviu durante a Batalha de Okinawa, se recusando a matar pessoas, tornando-se o primeiro homem da história americana a receber a Medalha de Honra sem disparar um tiro.</td></tr><tr><td>Truque de Mestre: O 2º Ato</td><td>02-06-2016</td><td>05-03-2009</td><td>List(Ação, Crime, Mistério, Thriller)</td><td>https://image.tmdb.org/t/p/original/9uCUHxN5MD4vX6q1YEnpL6bQLiw.jpg</td><td>Após enganarem o FBI, os cavaleiros Daniel Atlas, Merritt McKinney e Jack Wilder estão foragidos. Eles seguem as ordens de Dylan Rhodes, que segue trabalhando no FBI de forma a impedir os avanços na procura dos próprios cavaleiros. Paralelamente, o grupo planeja seu novo ato: desmascarar um jovem gênio da informática, cujo novo lançamento coleta dados pessoais dos usuários.</td></tr><tr><td>O Regresso</td><td>25-12-2015</td><td>05-03-2009</td><td>List(Aventura, Drama, Faroeste)</td><td>https://image.tmdb.org/t/p/original/x1jViuXsm5ZmrR6uFmxU6AVdXzs.jpg</td><td>Em uma expedição pelo desconhecido deserto americano, o lendário explorador Hugh Glass é brutalmente atacado por um urso e deixado como morto pelos membros de sua própria equipe de caça. Em uma luta para sobreviver, Glass resiste à dor inimaginável, bem como à traição de seu confidente, John Fitzgerald. Guiado pela força de vontade e pelo amor de sua família, Glass deve navegar um inverno brutal em uma incessante busca por sobrevivência e redenção.</td></tr><tr><td>Perdido em Marte</td><td>30-09-2015</td><td>05-03-2009</td><td>List(Aventura, Drama, Ficção científica)</td><td>https://image.tmdb.org/t/p/original/fG3S4zdgnsaF77tJGK3rA9tHBu4.jpg</td><td>O astronauta Mark Watney é enviado a uma missão em Marte. Após uma severa tempestade ele é dado como morto, abandonado pelos colegas e acorda sozinho no misterioso planeta com escassos suprimentos, sem saber como reencontrar os companheiros ou retornar à Terra.</td></tr><tr><td>Evereste</td><td>10-09-2015</td><td>05-03-2009</td><td>List(Aventura, Drama, História)</td><td>https://image.tmdb.org/t/p/original/2PkYTktwBeaB7xbBatMJmAY67lD.jpg</td><td>Inspirado nos incríveis acontecimentos em torno da montanha mais alta do mundo, Evereste documenta a inspiradora jornada de dois diferentes grupos de expedição que são desafiados além de seus limites quando são acometidos por uma das maiores avalanches já registradas. Com a coragem testada por um dos fenômenos mais severos do planeta, os escaladores terão de enfrentar obstáculos quase impossíveis em busca de sobrevivência.</td></tr><tr><td>A Onda</td><td>28-08-2015</td><td>05-03-2009</td><td>List(Ação, Drama, Thriller)</td><td>https://image.tmdb.org/t/p/original/1y2F6xuKuSpXd7OaMa6K4vetzGb.jpg</td><td>Localizado na Noruega, o Fiorde de Geiranger é um dos pontos turísticos mais espetaculares da região, mas também é um local propício para cataclismas. Após anos no centro de alerta do local, o geólogo Kristian sente que alguma coisa não está normal, os substratos estão mudando. Em plena alta temporada turística, uma onda gigante atinge o local, colocando a montanha abaixo e dando apenas dez minutos para que as pessoas consigam chegar a um terreno elevado.</td></tr><tr><td>O Hobbit: A Batalha dos Cinco Exércitos</td><td>10-12-2014</td><td>05-03-2009</td><td>List(Ação, Aventura, Fantasia)</td><td>https://image.tmdb.org/t/p/original/5tGL0dbQpAkK9ItUaDrUbTvTMDp.jpg</td><td>O dragão Smaug lança sua fúria ardente contra a Cidade do Lago que fica próxima da montanha de Erebor. Bard consegue derrotá-lo, mas, rapidamente, sem a ameaça do dragão, inicia-se uma batalha pelo controle de Erebor e sua riqueza. Os anões, liderados por Thorin, adentram a montanha e estão dispostos a impedir a entrada de elfos, anões e orcs. Bilbo Bolseiro e Gandalf tentam impedir a guerra.</td></tr><tr><td>O Jogo da Imitação</td><td>14-11-2014</td><td>05-03-2009</td><td>List(Drama, História, Thriller, Guerra)</td><td>https://image.tmdb.org/t/p/original/bwWCFjhwrs5my4FUoeWdTa2GYlB.jpg</td><td>Em 1939, a recém-criada agência de inteligência britânica MI6 recruta Alan Turing, um aluno da Universidade de Cambridge, para entender códigos nazistas, incluindo o \"Enigma\", que criptógrafos acreditavam ser inquebrável. A equipe de Turing, incluindo Joan Clarke, analisa as mensagens de \"Enigma\", enquanto ele constrói uma máquina para decifrá-las.</td></tr><tr><td>Interestelar</td><td>05-11-2014</td><td>05-03-2009</td><td>List(Aventura, Drama, Ficção científica)</td><td>https://image.tmdb.org/t/p/original/nCbkOyOMTEwlEV0LtCOvCnwEONA.jpg</td><td>As reservas naturais da Terra estão chegando ao fim e um grupo de astronautas recebe a missão de verificar possíveis planetas para receberem a população mundial, possibilitando a continuação da espécie. Cooper é chamado para liderar o grupo e aceita a missão sabendo que pode nunca mais ver os filhos. Ao lado de Brand, Jenkins e Doyle, ele seguirá em busca de um novo lar.</td></tr><tr><td>Corações de Ferro</td><td>15-10-2014</td><td>05-03-2009</td><td>List(Ação, Drama, Guerra)</td><td>https://image.tmdb.org/t/p/original/8WtUjpboPESZbabGbC4ryd81KcR.jpg</td><td>Durante o final da Segunda Guerra Mundial, um grupo de cinco soldados americanos é encarregado de atacar os nazistas dentro da própria Alemanha. Apesar de estarem em quantidade inferior e terem poucas armas, eles são liderados pelo enfurecido Wardaddy, sargento que pretende levá-los à vitória, enquanto ensina o novato Norman a lutar.</td></tr><tr><td>O Protetor</td><td>24-09-2014</td><td>05-03-2009</td><td>List(Ação, Crime, Thriller)</td><td>https://image.tmdb.org/t/p/original/xTSOdJ0Ljs439lnKB7NsWlTibZN.jpg</td><td>O ex-agente secreto Robert McCall acredita que seu passado ficou para trás e tenta viver uma nova vida. Porém, quando ele conhece Teri, uma jovem que está em poder de uma quadrilha russa, ele simplesmente não consegue ignorá-la. Munido de suas extraordinárias habilidades, ele ressurge como um verdadeiro anjo vingador. Fora da aposentadoria e com um novo desejo de fazer justiça, McCall decide ajudar quem foi brutalizado e oprimido.</td></tr><tr><td>Planeta dos Macacos: O Confronto</td><td>08-07-2014</td><td>05-03-2009</td><td>List(Ação, Drama, Ficção científica, Thriller)</td><td>https://image.tmdb.org/t/p/original/4vLhF6R3lmhTjTVUdK4gI1s5a8v.jpg</td><td>Em 2026, a humanidade está enfrentando sua pior crise e está muito próxima da extinção por conta de um vírus mortal. Um grupo de sobreviventes organiza uma expedição pelas florestas próximas de São Francisco em busca de uma nova fonte de energia quando se deparam com uma comunidade, muito evoluída, de macacos liderados por César. Alguns dissidentes, mesmo com o pacto de paz firmado, quebram a trégua e dão início a uma guerra sem precedentes entre as duas espécies.</td></tr><tr><td>Divergente</td><td>14-03-2014</td><td>05-03-2009</td><td>List(Ação, Aventura, Ficção científica)</td><td>https://image.tmdb.org/t/p/original/gktEuhRYZrlinT3sLSt7Fvmqbe5.jpg</td><td>Na futurística cidade de Chicago, ao completar 16 anos, Beatrice precisa escolher entre as diferentes facções em que a cidade está dividida. Cada uma representa um valor diferente e, ao contrário de sua família, a jovem opta pela facção dos destemidos, a Audácia. Ela então se torna Tris e inicia uma jornada para afastar seus medos e descobrir quem realmente é. Durante essa jornada, acaba conhecendo o jovem Quatro, um rapaz experiente que tem o dom de intrigá-la e de encantá-la ao mesmo tempo.</td></tr><tr><td>Livre</td><td>16-01-2014</td><td>05-03-2009</td><td>List(Drama)</td><td>https://image.tmdb.org/t/p/original/l0b26MyxquriVDIcfNgo84Gg1v4.jpg</td><td>Após a morte de sua mãe, um divórcio e uma fase de autodestruição repleta de heroína, Cheryl Strayed (Reese Witherspoon) decide mudar e investir em uma nova vida junto à natureza selvagem. Para tanto, ela se aventura em uma trilha de 1100 milhas pela costa do oceano Pacífico.</td></tr><tr><td>O Lobo de Wall Street</td><td>25-12-2013</td><td>05-03-2009</td><td>List(Comédia, Crime, Drama)</td><td>https://image.tmdb.org/t/p/original/esJTXTdj4JZDyP5LUI1Fq3kyNda.jpg</td><td>Durante seis meses, Jordan Belfort (Leonardo DiCaprio) trabalhou duro em uma corretora de Wall Street, seguindo os ensinamentos de seu mentor Mark Hanna (Matthew McConaughey). Quando finalmente consegue ser contratado como corretor da firma, acontece o Black Monday, que faz com que as bolsas de vários países caiam repentinamente. Sem emprego e bastante ambicioso, ele acaba trabalhando para uma empresa de fundo de quintal que lida com papéis de baixo valor, que não estão na bolsa de valores. É lá que Belfort tem a idéia de montar uma empresa focada neste tipo de negócio, cujas vendas são de valores mais baixos mas, em compensação, o retorno para o corretor é bem mais vantajoso. Ao lado de Donnie (Jonah Hill) e outros amigos dos velhos tempos, ele cria a Stratton Oakmont, uma empresa que faz com que todos enriqueçam rapidamente e, também, levem uma vida dedicada ao prazer.</td></tr><tr><td>O Hobbit: A Desolação de Smaug</td><td>11-12-2013</td><td>05-03-2009</td><td>List(Ação, Aventura, Fantasia)</td><td>https://image.tmdb.org/t/p/original/beqHE5BZY5LczMxJezL4FdY7mBp.jpg</td><td>Ao lado de um grupo de anões e de Gandalf, Bilbo segue em direção à Montanha Solitária, onde deverá ajudar seus companheiros a retomar a Pedra de Arken. O problema é que o artefato está perdido em meio a um tesouro protegido pelo temido dragão Smaug.</td></tr><tr><td>Gravidade</td><td>03-10-2013</td><td>05-03-2009</td><td>List(Drama, Ficção científica, Thriller)</td><td>https://image.tmdb.org/t/p/original/eHLufJ1bHy4PtEBJdPSTu4jIhZ0.jpg</td><td>Matt Kowalski é um astronauta experiente que está em missão de conserto ao telescópio Hubble juntamente com a doutora Ryan Stone. Ambos são surpreendidos por uma chuva de destroços decorrente da destruição de um satélite por um míssil russo, que faz com que sejam jogados no espaço sideral. Sem qualquer apoio da base terrestre da NASA, eles precisam encontrar um meio de sobreviver em meio a um ambiente completamente inóspito para a vida humana.</td></tr><tr><td>O Hobbit: Uma Jornada Inesperada</td><td>12-12-2012</td><td>05-03-2009</td><td>List(Ação, Aventura, Fantasia)</td><td>https://image.tmdb.org/t/p/original/qmHzmfcCWKyQZ8NFQkIYH8JdShI.jpg</td><td>Como a maioria dos hobbits, Bilbo Bolseiro leva uma vida tranquila até o dia em que recebe uma missão do mago Gandalf. Acompanhado por um grupo de anões, ele parte numa jornada até a Montanha Solitária para libertar o Reino de Erebor do dragão Smaug.</td></tr><tr><td>Planeta dos Macacos: A Origem</td><td>03-08-2011</td><td>05-03-2009</td><td>List(Ação, Drama, Ficção científica, Thriller)</td><td>https://image.tmdb.org/t/p/original/qxe4ONZAgtC0mfsIuOyqVU9JREj.jpg</td><td>Nossa maior descoberta tornar-se-á a maior ameaça para a humanidade quando um cientista na iminência de um grande avanço da medicina começa a fazer testes num jovem chimpanzé chamado César. Quando o chimpanzé desenvolve inteligência e emoções semelhantes às dos humanos, uma batalha épica surge para determinar a espécie dominante no planeta!</td></tr><tr><td>127 Horas</td><td>12-11-2010</td><td>05-03-2009</td><td>List(Aventura, Drama, Thriller)</td><td>https://image.tmdb.org/t/p/original/1HoqPAq2HMUMwI0u4mpcBN4v9WJ.jpg</td><td>Ao explorar um cânion remoto em Utah, o alpinista e aventureiro Aron Ralston fica preso em uma fenda quando uma pedra cai. Nos cinco dias seguintes, Ralston examina sua vida e considera suas opções, as quais o levam a uma situação angustiante. Aron precisa tomar uma atitude para que possa se libertar e tentar voltar para a civilização.</td></tr><tr><td>Tropa de Elite 2: O Inimigo Agora é Outro</td><td>08-10-2010</td><td>05-03-2009</td><td>List(Ação, Crime, Drama)</td><td>https://image.tmdb.org/t/p/original/8G7F938AHqBBLc5yJXPUJhSJzN5.jpg</td><td>O destino da cidade do Rio de Janeiro e de Nascimento se cruzam em \"Tropa de Elite 2\", quando suas obrigações de pai se chocam com as de policial. Mais maduro, estratégico e solitário, o agora Coronel Nascimento faz o bope crescer e coloca o tráfico de drogas de joelho. Isto apenas para descobrir que na segurança pública do Rio de Janeiro nada é o que parece. O sistema se reinventa e descobre como lucrar sem o intermédio do tráfico. Em perseguição ao caminho trilhado pelo sistema, Nascimento vai além dos limites do quartel, revelando as ligações das milícias com o Estado. E o preço por essa descoberta é alto: o inimigo agora é outro.</td></tr><tr><td>Em Busca de um Caminho</td><td>10-09-2010</td><td>05-03-2009</td><td>List(Aventura, Comédia, Drama)</td><td>https://image.tmdb.org/t/p/original/4wJb8HLMWaJXrYznXNf7eqFUJKL.jpg</td><td>O oftalmologista Tom Avery (Martin Sheen) e seu único filho Daniel (Emilio Estevez) têm uma relação distante. Quando o rapaz viaja para a Espanha para cruzar o Caminho de Santiago de Compostela, acaba perdendo a vida em uma fatalidade. Tom, então, vai até a França para recolher o corpo de seu filho. Chegando lá, ele resolve fazer o Caminho, completando o percurso que Daniel havia começado, levando junto as cinzas do rapaz. Durante a empreitada, ele encontra companheiros que vão lhe mostrar que nenhum caminho deve ser percorrido sozinho.</td></tr><tr><td>A Origem</td><td>15-07-2010</td><td>05-03-2009</td><td>List(Ação, Aventura, Ficção científica)</td><td>https://image.tmdb.org/t/p/original/9e3Dz7aCANy5aRUQF745IlNloJ1.jpg</td><td>Um ladrão que rouba segredos corporativos por meio do uso da tecnologia de compartilhamento de sonhos, recebe a tarefa inversa de plantar uma ideia na mente de um Diretor Executivo.</td></tr><tr><td>O Livro de Eli</td><td>14-01-2010</td><td>05-03-2009</td><td>List(Ação, Ficção científica, Thriller)</td><td>https://image.tmdb.org/t/p/original/AvPmDjktmbme4QTGRiQxUj2dbJV.jpg</td><td>Trinta anos depois da guerra ter dizimado o mundo, um guerreiro solitário chamado Eli caminha por horizontes arruinados dando esperança para os que restaram. Apenas um outro homem compreende o poder de um livro que Eli carrega e está determinado a se apoderar dele. Apesar de Eli preferir a paz, ele arriscará a sua vida para proteger a sua carga preciosa, pois precisa cumprir o seu destino de ajudar a restaurar a humanidade.</td></tr><tr><td>Anjos e Demônios</td><td>13-05-2009</td><td>05-03-2009</td><td>List(Mistério, Thriller)</td><td>https://image.tmdb.org/t/p/original/pVhKBn8HTJVksw3Msk76MgMogiy.jpg</td><td>O professor de simbologia Robert Langdon (Tom Hanks), depois de decifrar o código DaVinci, é chamado pelo Vaticano para investigar o misterioso desaparecimento de quatro cardeais. Agora, além de enfrentar a resistência da própria igreja em ajudá-lo nos detalhes de sua investigação, Langdon precisa decifrar charadas numa verdadeira corrida contra o tempo porque a sociedade secreta por trás do crime em andamento tem planos de explodir o Vaticano.</td></tr></tbody></table></div>"
      ]
     },
     "metadata": {
      "application/vnd.databricks.v1+output": {
       "addedWidgets": {},
       "aggData": [],
       "aggError": "",
       "aggOverflow": false,
       "aggSchema": [],
       "aggSeriesLimitReached": false,
       "aggType": "",
       "arguments": {},
       "columnCustomDisplayInfos": {},
       "data": [
        [
         "A Sociedade da Neve",
         "13-12-2023",
         "05-03-2009",
         [
          "Drama",
          "História"
         ],
         "https://image.tmdb.org/t/p/original/7fQTmvKgVGxifieVryqqlxohkoW.jpg",
         "Em 13 de outubro de 1972, o voo 571 da Força Aérea Uruguaia, fretado para levar um time de rúgbi ao Chile, cai em uma geleira no coração da Cordilheira dos Andes."
        ],
        [
         "O Protetor: Capítulo Final",
         "30-08-2023",
         "05-03-2009",
         [
          "Ação",
          "Crime",
          "Thriller"
         ],
         "https://image.tmdb.org/t/p/original/AnJOKbSQsp0QqiUhsQooqFRjPsD.jpg",
         "Sentindo-se em casa no sul da Itália, o ex-agente Robert McCall logo descobre que seus novos amigos estão sob o controle dos chefes do crime local.  À medida que os acontecimentos se tornam mortais, McCall sabe o que tem de fazer: tornar-se o protetor dos seus amigos, enfrentando a máfia."
        ],
        [
         "Agente Infiltrado",
         "28-04-2023",
         "05-03-2009",
         [
          "Ação"
         ],
         "https://image.tmdb.org/t/p/original/mOP3FjJuOe38grWMgdtuVGNMFzZ.jpg",
         "Um homem enfrenta um dilema moral depois de se infiltrar em um grupo criminoso. A situação piora quando o filho do chefe, um garoto de oito anos, entra na jogada."
        ],
        [
         "O Pacto",
         "19-04-2023",
         "05-03-2009",
         [
          "Ação",
          "Thriller",
          "Guerra"
         ],
         "https://image.tmdb.org/t/p/original/pTQZT9R6YjKrweJ0llPtq57j1Z0.jpg",
         "Um sargento do Exército é resgatado de uma missão no Afeganistão pelo seu intérprete. Naquela que seria a sua última missão no estrangeiro, Kinley fica à beira da morte mas sobrevive graças a Ahmed, que o protege e o carrega por quilometros a fim de garantir a sua segurança. Sem se lembrar muito bem do que aconteceu, o sargento apenas sabe que quando o homem se encontra em risco de vida, como a sua família, é a sua verdadeira missão retribuir o favor e ajudá-lo a sobreviver."
        ],
        [
         "Creed III",
         "01-03-2023",
         "05-03-2009",
         [
          "Ação",
          "Drama"
         ],
         "https://image.tmdb.org/t/p/original/3VkER73o8NDqAYf5gI5bXwhtGbW.jpg",
         "Depois de dominar o mundo do boxe, Adonis Creed tem prosperado em sua carreira e vida familiar. Quando um amigo de infância e ex-prodígio do boxe, Damien Anderson, ressurge depois de cumprir uma longa sentença na prisão, ele está ansioso para provar que merece sua chance no ringue. O confronto entre ex-amigos é mais do que apenas uma briga. Para acertar as contas, Adonis deve colocar seu futuro em risco para lutar contra Damien - um lutador que não tem nada a perder."
        ],
        [
         "Avatar: O Caminho da Água",
         "14-12-2022",
         "05-03-2009",
         [
          "Ação",
          "Aventura",
          "Ficção científica"
         ],
         "https://image.tmdb.org/t/p/original/mbYQLLluS651W89jO7MOZcLSCUw.jpg",
         "12 anos depois de explorar Pandora e se juntar aos Na'vi, Jake Sully formou uma família com Neytiri e se estabeleceu entre os clãs do novo mundo. Porém, a paz não durará para sempre."
        ],
        [
         "Nada de Novo no Front",
         "07-10-2022",
         "05-03-2009",
         [
          "Ação",
          "Drama",
          "Guerra"
         ],
         "https://image.tmdb.org/t/p/original/qmcKs0Aoft7MBdBoj1haZyPRgM2.jpg",
         "Convocado para a linha de frente da Primeira Guerra Mundial, o adolescente Paul encara a dura realidade da vida nas trincheiras."
        ],
        [
         "Viagem ao Topo da Terra",
         "22-09-2021",
         "05-03-2009",
         [
          "Aventura",
          "Animação",
          "Mistério"
         ],
         "https://image.tmdb.org/t/p/original/fj8wv7ip5JbnJFqwNicNKHLClYH.jpg",
         "Um fotojornalista que investiga a primeira expedição ao Everest acaba se envolvendo na busca por um respeitado alpinista que desapareceu."
        ],
        [
         "Godzilla vs. Kong",
         "24-03-2021",
         "05-03-2009",
         [
          "Ação",
          "Ficção científica",
          "Thriller"
         ],
         "https://image.tmdb.org/t/p/original/klAIFewuqcyEmH1SMtR2XbMyqzM.jpg",
         "Em uma época em que os monstros andam na Terra, a luta da humanidade por seu futuro coloca Godzilla e Kong em rota de colisão que verá as duas forças mais poderosas da natureza no planeta se confrontarem em uma batalha espetacular para as idades. Enquanto Monarch embarca em uma missão perigosa em terreno desconhecido e descobre pistas sobre as origens dos Titãs, uma conspiração humana ameaça tirar as criaturas, boas e más, da face da terra para sempre."
        ],
        [
         "Resgate",
         "24-04-2020",
         "05-03-2009",
         [
          "Ação",
          "Thriller"
         ],
         "https://image.tmdb.org/t/p/original/zxahunlqvMPWzUBd1XSRsGawdS9.jpg",
         "Em Bangladesh, o mercenário Tyler Rake luta para sobreviver durante a missão para resgatar o filho de um chefão do crime."
        ],
        [
         "Jumanji: Próxima Fase",
         "04-12-2019",
         "05-03-2009",
         [
          "Aventura",
          "Comédia",
          "Fantasia"
         ],
         "https://image.tmdb.org/t/p/original/bBRDUTr6jgbD8I8A9DvVGrVbdfB.jpg",
         "A turma está de volta, mas o jogo mudou. Quando voltam para Jumanji para resgatar um amigo, descobrem que nada do que esperavam. Com mais ação e surpresas, os jogadores terão que desbravar partes desconhecidas e inexploradas, dos desertos áridos até montanhas de neve, para escapar."
        ],
        [
         "O Poço",
         "08-11-2019",
         "05-03-2009",
         [
          "Drama",
          "Ficção científica",
          "Thriller"
         ],
         "https://image.tmdb.org/t/p/original/kY0ET33EoiJhjaPCzzvywCDqP6b.jpg",
         "Em uma prisão onde os detentos são alimentados por uma plataforma descendente, os que estão nos níveis mais altos comem mais do que precisam enquanto os dos andares mais baixos ficam com as migalhas. Até que um homem decide mudar o sistema."
        ],
        [
         "Milagre na Cela 7",
         "10-10-2019",
         "05-03-2009",
         [
          "Drama"
         ],
         "https://image.tmdb.org/t/p/original/q5Sj4pMaKpdMyywQIJhexNvCZYz.jpg",
         "Separado de sua filha, um homem com deficiência intelectual precisa provar sua inocência ao ser preso pela morte da filha de um comandante."
        ],
        [
         "Coringa",
         "01-10-2019",
         "05-03-2009",
         [
          "Crime",
          "Drama",
          "Thriller"
         ],
         "https://image.tmdb.org/t/p/original/xLxgVxFWvb9hhUyCDDXxRPPnFck.jpg",
         "Isolado, intimidado e desconsiderado pela sociedade, o fracassado comediante Arthur Fleck inicia seu caminho como uma mente criminosa após assassinar três homens em pleno metrô. Sua ação inicia um movimento popular contra a elite de Gotham City, da qual Thomas Wayne é seu maior representante."
        ],
        [
         "O Rei Leão",
         "12-07-2019",
         "05-03-2009",
         [
          "Aventura",
          "Animação",
          "Drama",
          "Família"
         ],
         "https://image.tmdb.org/t/p/original/wrHr8eEJYDAA7WYybyH162s4oZ4.jpg",
         "Simba é um jovem leão cujo destino é se tornar o rei da selva. Entretanto, uma armadilha elaborada por seu tio Scar faz com que Mufasa, o atual rei, morra ao tentar salvar o filhote. Consumido pela culpa, Simba deixa o reino rumo a um local distante, onde encontra amigos que o ensinam a mais uma vez ter prazer pela vida."
        ],
        [
         "O Menino que Descobriu o Vento",
         "14-02-2019",
         "05-03-2009",
         [
          "Drama",
          "Família",
          "História"
         ],
         "https://image.tmdb.org/t/p/original/jZofpz4gmiH7MQAYWrgvTtdIq3l.jpg",
         "Inspirado por um livro de ciências, um garoto constrói uma turbina eólica para salvar seu vilarejo da fome. Baseado em uma história real."
        ],
        [
         "Amigos para Sempre",
         "10-01-2019",
         "05-03-2009",
         [
          "Comédia",
          "Drama"
         ],
         "https://image.tmdb.org/t/p/original/lYv3Mwm3t7FWEMli8ASMIhZBUBC.jpg",
         "Um jovem negro aceita trabalhar para um homem branco paraplégico e acaba dando início a uma grande e inusitada amizade. Versão americana de \"Intocáveis\", filme francês de 2012 que fez grande sucesso mundial."
        ],
        [
         "Bohemian Rhapsody",
         "24-10-2018",
         "05-03-2009",
         [
          "Drama",
          "Música"
         ],
         "https://image.tmdb.org/t/p/original/qxgdqcxI216kEoypGbA9BemB7mW.jpg",
         "Freddie Mercury e seus companheiros Brian May, Roger Taylor e John Deacon mudam o mundo da música para sempre ao formar a banda Queen, durante a década de 1970. Porém, quando o estilo de vida extravagante de Mercury começa a sair do controle, a banda tem que enfrentar o desafio de conciliar a fama e o sucesso com suas vidas pessoais cada vez mais complicadas."
        ],
        [
         "Free Solo",
         "28-09-2018",
         "05-03-2009",
         [
          "Aventura",
          "Documentário"
         ],
         "https://image.tmdb.org/t/p/original/v4QfYZMACODlWul9doN9RxE99ag.jpg",
         "Aos 30 anos de idade, Alex Honnold já era um dos mais renomados alpinistas de sua geração. Porém, independente de todas as suas conquistas, ele permaneceu obcecado com um desafio que nenhum outro alpinista havia conseguido realizar: escalar sem equipamento de segurança a rocha El Capitan, no Parque Nacional de Yosemite, na Califórnia. Os diretores E. Chai Vasarhelyi e Jimmy Chin acompanham Honnold por dois anos enquanto ele testa os limites de sua ambição."
        ],
        [
         "Terremoto",
         "31-08-2018",
         "05-03-2009",
         [
          "Ação",
          "Drama",
          "Thriller"
         ],
         "https://image.tmdb.org/t/p/original/oujtI4p0lolCnjBt2kvkPvmm0qK.jpg",
         "Em 1904, um terremoto de magnitude 5,4 na escala Richter sacudiu Oslo. Seu epicentro foi no \"Oslo Graben\", uma fenda que atravessa diretamente a cidade. Desde então, a população da capital norueguesa pode esperar futuros terremotos na área."
        ],
        [
         "O Protetor 2",
         "19-07-2018",
         "05-03-2009",
         [
          "Ação",
          "Crime",
          "Thriller"
         ],
         "https://image.tmdb.org/t/p/original/REWunAyKGCbxvg2UJGMEHuQd2c.jpg",
         "Criminosos assassinam Susan Plummer, a melhor amiga de Robert McCall e sua ex-colega de trabalho. Obcecado, Robert pensa apenas em eliminar o bando de assassinos profissionais que destruiu sua vida."
        ],
        [
         "Mulher-Maravilha",
         "30-05-2017",
         "05-03-2009",
         [
          "Ação",
          "Aventura",
          "Fantasia"
         ],
         "https://image.tmdb.org/t/p/original/ujQthWB6c0ojlARk28NSTmqidbF.jpg",
         "Treinada desde cedo para ser uma guerreira imbatível, Diana Prince (Gal Gadot) nunca saiu da paradisíaca ilha em que é reconhecida como Princesa das Amazonas. Quando o piloto Steve Trevor (Chris Pine) se acidenta e cai numa praia do local, ela descobre que uma guerra sem precedentes está se espalhando pelo mundo e decide deixar seu lar certa de que pode parar o conflito. Lutando para acabar com todas as lutas, Diana percebe o alcance de seus poderes e sua verdadeira missão na Terra."
        ],
        [
         "A Escalada",
         "25-01-2017",
         "05-03-2009",
         [
          "Aventura",
          "Comédia",
          "Romance"
         ],
         "https://image.tmdb.org/t/p/original/jxmnYUawdlSUctpN1JJ9wvE47ZH.jpg",
         "\"Para você, eu poderia escalar o Everest!\" Samy teria feito melhor se tivesse ficado calado aquele dia... Especialmente por que Nadia não acredita muito em palavras. Por amor a ela, Samy deixa projetos de vida de lado e vai subir os 8.848 metros que fazem do Everest o telhado do mundo."
        ],
        [
         "Um Contratempo",
         "06-01-2017",
         "05-03-2009",
         [
          "Drama",
          "Mistério",
          "Thriller"
         ],
         "https://image.tmdb.org/t/p/original/pOnbhr6DbPgKjvcNexbRdmR37De.jpg",
         "Após acordar ao lado de sua amante assassinada em um quarto de hotel, um empresário contrata uma advogada para descobrir como ele acabou sendo suspeito de um homicídio."
        ],
        [
         "O Contador",
         "13-10-2016",
         "05-03-2009",
         [
          "Crime",
          "Drama",
          "Thriller"
         ],
         "https://image.tmdb.org/t/p/original/vgJt4ADIjm5U2y3oPLu6kXEXOCY.jpg",
         "O matemático Christian Wolff sente-se muito mais à vontade lidando com números do que com pessoas. Atualmente, trabalha como contador autônomo para uma das maiores organizações criminosas do mundo. Com a receita federal no encalço, ele resolve mudar de ares e atender um novo cliente, uma empresa de equipamentos robóticos onde um dos funcionários descobriu um desvio gigantesco de recursos. À medida que Christian se aprofunda nos registros da empresa e se aproxima da verdade, o número de cadáveres começa a crescer rapidamente."
        ],
        [
         "Até o Último Homem",
         "07-10-2016",
         "05-03-2009",
         [
          "Drama",
          "História",
          "Guerra"
         ],
         "https://image.tmdb.org/t/p/original/88sCL8OQMoieKpHClqRCCbcgH6w.jpg",
         "Desmond T. Doss, foi o médico do Exército Americano da Segunda Guerra Mundial, que serviu durante a Batalha de Okinawa, se recusando a matar pessoas, tornando-se o primeiro homem da história americana a receber a Medalha de Honra sem disparar um tiro."
        ],
        [
         "Truque de Mestre: O 2º Ato",
         "02-06-2016",
         "05-03-2009",
         [
          "Ação",
          "Crime",
          "Mistério",
          "Thriller"
         ],
         "https://image.tmdb.org/t/p/original/9uCUHxN5MD4vX6q1YEnpL6bQLiw.jpg",
         "Após enganarem o FBI, os cavaleiros Daniel Atlas, Merritt McKinney e Jack Wilder estão foragidos. Eles seguem as ordens de Dylan Rhodes, que segue trabalhando no FBI de forma a impedir os avanços na procura dos próprios cavaleiros. Paralelamente, o grupo planeja seu novo ato: desmascarar um jovem gênio da informática, cujo novo lançamento coleta dados pessoais dos usuários."
        ],
        [
         "O Regresso",
         "25-12-2015",
         "05-03-2009",
         [
          "Aventura",
          "Drama",
          "Faroeste"
         ],
         "https://image.tmdb.org/t/p/original/x1jViuXsm5ZmrR6uFmxU6AVdXzs.jpg",
         "Em uma expedição pelo desconhecido deserto americano, o lendário explorador Hugh Glass é brutalmente atacado por um urso e deixado como morto pelos membros de sua própria equipe de caça. Em uma luta para sobreviver, Glass resiste à dor inimaginável, bem como à traição de seu confidente, John Fitzgerald. Guiado pela força de vontade e pelo amor de sua família, Glass deve navegar um inverno brutal em uma incessante busca por sobrevivência e redenção."
        ],
        [
         "Perdido em Marte",
         "30-09-2015",
         "05-03-2009",
         [
          "Aventura",
          "Drama",
          "Ficção científica"
         ],
         "https://image.tmdb.org/t/p/original/fG3S4zdgnsaF77tJGK3rA9tHBu4.jpg",
         "O astronauta Mark Watney é enviado a uma missão em Marte. Após uma severa tempestade ele é dado como morto, abandonado pelos colegas e acorda sozinho no misterioso planeta com escassos suprimentos, sem saber como reencontrar os companheiros ou retornar à Terra."
        ],
        [
         "Evereste",
         "10-09-2015",
         "05-03-2009",
         [
          "Aventura",
          "Drama",
          "História"
         ],
         "https://image.tmdb.org/t/p/original/2PkYTktwBeaB7xbBatMJmAY67lD.jpg",
         "Inspirado nos incríveis acontecimentos em torno da montanha mais alta do mundo, Evereste documenta a inspiradora jornada de dois diferentes grupos de expedição que são desafiados além de seus limites quando são acometidos por uma das maiores avalanches já registradas. Com a coragem testada por um dos fenômenos mais severos do planeta, os escaladores terão de enfrentar obstáculos quase impossíveis em busca de sobrevivência."
        ],
        [
         "A Onda",
         "28-08-2015",
         "05-03-2009",
         [
          "Ação",
          "Drama",
          "Thriller"
         ],
         "https://image.tmdb.org/t/p/original/1y2F6xuKuSpXd7OaMa6K4vetzGb.jpg",
         "Localizado na Noruega, o Fiorde de Geiranger é um dos pontos turísticos mais espetaculares da região, mas também é um local propício para cataclismas. Após anos no centro de alerta do local, o geólogo Kristian sente que alguma coisa não está normal, os substratos estão mudando. Em plena alta temporada turística, uma onda gigante atinge o local, colocando a montanha abaixo e dando apenas dez minutos para que as pessoas consigam chegar a um terreno elevado."
        ],
        [
         "O Hobbit: A Batalha dos Cinco Exércitos",
         "10-12-2014",
         "05-03-2009",
         [
          "Ação",
          "Aventura",
          "Fantasia"
         ],
         "https://image.tmdb.org/t/p/original/5tGL0dbQpAkK9ItUaDrUbTvTMDp.jpg",
         "O dragão Smaug lança sua fúria ardente contra a Cidade do Lago que fica próxima da montanha de Erebor. Bard consegue derrotá-lo, mas, rapidamente, sem a ameaça do dragão, inicia-se uma batalha pelo controle de Erebor e sua riqueza. Os anões, liderados por Thorin, adentram a montanha e estão dispostos a impedir a entrada de elfos, anões e orcs. Bilbo Bolseiro e Gandalf tentam impedir a guerra."
        ],
        [
         "O Jogo da Imitação",
         "14-11-2014",
         "05-03-2009",
         [
          "Drama",
          "História",
          "Thriller",
          "Guerra"
         ],
         "https://image.tmdb.org/t/p/original/bwWCFjhwrs5my4FUoeWdTa2GYlB.jpg",
         "Em 1939, a recém-criada agência de inteligência britânica MI6 recruta Alan Turing, um aluno da Universidade de Cambridge, para entender códigos nazistas, incluindo o \"Enigma\", que criptógrafos acreditavam ser inquebrável. A equipe de Turing, incluindo Joan Clarke, analisa as mensagens de \"Enigma\", enquanto ele constrói uma máquina para decifrá-las."
        ],
        [
         "Interestelar",
         "05-11-2014",
         "05-03-2009",
         [
          "Aventura",
          "Drama",
          "Ficção científica"
         ],
         "https://image.tmdb.org/t/p/original/nCbkOyOMTEwlEV0LtCOvCnwEONA.jpg",
         "As reservas naturais da Terra estão chegando ao fim e um grupo de astronautas recebe a missão de verificar possíveis planetas para receberem a população mundial, possibilitando a continuação da espécie. Cooper é chamado para liderar o grupo e aceita a missão sabendo que pode nunca mais ver os filhos. Ao lado de Brand, Jenkins e Doyle, ele seguirá em busca de um novo lar."
        ],
        [
         "Corações de Ferro",
         "15-10-2014",
         "05-03-2009",
         [
          "Ação",
          "Drama",
          "Guerra"
         ],
         "https://image.tmdb.org/t/p/original/8WtUjpboPESZbabGbC4ryd81KcR.jpg",
         "Durante o final da Segunda Guerra Mundial, um grupo de cinco soldados americanos é encarregado de atacar os nazistas dentro da própria Alemanha. Apesar de estarem em quantidade inferior e terem poucas armas, eles são liderados pelo enfurecido Wardaddy, sargento que pretende levá-los à vitória, enquanto ensina o novato Norman a lutar."
        ],
        [
         "O Protetor",
         "24-09-2014",
         "05-03-2009",
         [
          "Ação",
          "Crime",
          "Thriller"
         ],
         "https://image.tmdb.org/t/p/original/xTSOdJ0Ljs439lnKB7NsWlTibZN.jpg",
         "O ex-agente secreto Robert McCall acredita que seu passado ficou para trás e tenta viver uma nova vida. Porém, quando ele conhece Teri, uma jovem que está em poder de uma quadrilha russa, ele simplesmente não consegue ignorá-la. Munido de suas extraordinárias habilidades, ele ressurge como um verdadeiro anjo vingador. Fora da aposentadoria e com um novo desejo de fazer justiça, McCall decide ajudar quem foi brutalizado e oprimido."
        ],
        [
         "Planeta dos Macacos: O Confronto",
         "08-07-2014",
         "05-03-2009",
         [
          "Ação",
          "Drama",
          "Ficção científica",
          "Thriller"
         ],
         "https://image.tmdb.org/t/p/original/4vLhF6R3lmhTjTVUdK4gI1s5a8v.jpg",
         "Em 2026, a humanidade está enfrentando sua pior crise e está muito próxima da extinção por conta de um vírus mortal. Um grupo de sobreviventes organiza uma expedição pelas florestas próximas de São Francisco em busca de uma nova fonte de energia quando se deparam com uma comunidade, muito evoluída, de macacos liderados por César. Alguns dissidentes, mesmo com o pacto de paz firmado, quebram a trégua e dão início a uma guerra sem precedentes entre as duas espécies."
        ],
        [
         "Divergente",
         "14-03-2014",
         "05-03-2009",
         [
          "Ação",
          "Aventura",
          "Ficção científica"
         ],
         "https://image.tmdb.org/t/p/original/gktEuhRYZrlinT3sLSt7Fvmqbe5.jpg",
         "Na futurística cidade de Chicago, ao completar 16 anos, Beatrice precisa escolher entre as diferentes facções em que a cidade está dividida. Cada uma representa um valor diferente e, ao contrário de sua família, a jovem opta pela facção dos destemidos, a Audácia. Ela então se torna Tris e inicia uma jornada para afastar seus medos e descobrir quem realmente é. Durante essa jornada, acaba conhecendo o jovem Quatro, um rapaz experiente que tem o dom de intrigá-la e de encantá-la ao mesmo tempo."
        ],
        [
         "Livre",
         "16-01-2014",
         "05-03-2009",
         [
          "Drama"
         ],
         "https://image.tmdb.org/t/p/original/l0b26MyxquriVDIcfNgo84Gg1v4.jpg",
         "Após a morte de sua mãe, um divórcio e uma fase de autodestruição repleta de heroína, Cheryl Strayed (Reese Witherspoon) decide mudar e investir em uma nova vida junto à natureza selvagem. Para tanto, ela se aventura em uma trilha de 1100 milhas pela costa do oceano Pacífico."
        ],
        [
         "O Lobo de Wall Street",
         "25-12-2013",
         "05-03-2009",
         [
          "Comédia",
          "Crime",
          "Drama"
         ],
         "https://image.tmdb.org/t/p/original/esJTXTdj4JZDyP5LUI1Fq3kyNda.jpg",
         "Durante seis meses, Jordan Belfort (Leonardo DiCaprio) trabalhou duro em uma corretora de Wall Street, seguindo os ensinamentos de seu mentor Mark Hanna (Matthew McConaughey). Quando finalmente consegue ser contratado como corretor da firma, acontece o Black Monday, que faz com que as bolsas de vários países caiam repentinamente. Sem emprego e bastante ambicioso, ele acaba trabalhando para uma empresa de fundo de quintal que lida com papéis de baixo valor, que não estão na bolsa de valores. É lá que Belfort tem a idéia de montar uma empresa focada neste tipo de negócio, cujas vendas são de valores mais baixos mas, em compensação, o retorno para o corretor é bem mais vantajoso. Ao lado de Donnie (Jonah Hill) e outros amigos dos velhos tempos, ele cria a Stratton Oakmont, uma empresa que faz com que todos enriqueçam rapidamente e, também, levem uma vida dedicada ao prazer."
        ],
        [
         "O Hobbit: A Desolação de Smaug",
         "11-12-2013",
         "05-03-2009",
         [
          "Ação",
          "Aventura",
          "Fantasia"
         ],
         "https://image.tmdb.org/t/p/original/beqHE5BZY5LczMxJezL4FdY7mBp.jpg",
         "Ao lado de um grupo de anões e de Gandalf, Bilbo segue em direção à Montanha Solitária, onde deverá ajudar seus companheiros a retomar a Pedra de Arken. O problema é que o artefato está perdido em meio a um tesouro protegido pelo temido dragão Smaug."
        ],
        [
         "Gravidade",
         "03-10-2013",
         "05-03-2009",
         [
          "Drama",
          "Ficção científica",
          "Thriller"
         ],
         "https://image.tmdb.org/t/p/original/eHLufJ1bHy4PtEBJdPSTu4jIhZ0.jpg",
         "Matt Kowalski é um astronauta experiente que está em missão de conserto ao telescópio Hubble juntamente com a doutora Ryan Stone. Ambos são surpreendidos por uma chuva de destroços decorrente da destruição de um satélite por um míssil russo, que faz com que sejam jogados no espaço sideral. Sem qualquer apoio da base terrestre da NASA, eles precisam encontrar um meio de sobreviver em meio a um ambiente completamente inóspito para a vida humana."
        ],
        [
         "O Hobbit: Uma Jornada Inesperada",
         "12-12-2012",
         "05-03-2009",
         [
          "Ação",
          "Aventura",
          "Fantasia"
         ],
         "https://image.tmdb.org/t/p/original/qmHzmfcCWKyQZ8NFQkIYH8JdShI.jpg",
         "Como a maioria dos hobbits, Bilbo Bolseiro leva uma vida tranquila até o dia em que recebe uma missão do mago Gandalf. Acompanhado por um grupo de anões, ele parte numa jornada até a Montanha Solitária para libertar o Reino de Erebor do dragão Smaug."
        ],
        [
         "Planeta dos Macacos: A Origem",
         "03-08-2011",
         "05-03-2009",
         [
          "Ação",
          "Drama",
          "Ficção científica",
          "Thriller"
         ],
         "https://image.tmdb.org/t/p/original/qxe4ONZAgtC0mfsIuOyqVU9JREj.jpg",
         "Nossa maior descoberta tornar-se-á a maior ameaça para a humanidade quando um cientista na iminência de um grande avanço da medicina começa a fazer testes num jovem chimpanzé chamado César. Quando o chimpanzé desenvolve inteligência e emoções semelhantes às dos humanos, uma batalha épica surge para determinar a espécie dominante no planeta!"
        ],
        [
         "127 Horas",
         "12-11-2010",
         "05-03-2009",
         [
          "Aventura",
          "Drama",
          "Thriller"
         ],
         "https://image.tmdb.org/t/p/original/1HoqPAq2HMUMwI0u4mpcBN4v9WJ.jpg",
         "Ao explorar um cânion remoto em Utah, o alpinista e aventureiro Aron Ralston fica preso em uma fenda quando uma pedra cai. Nos cinco dias seguintes, Ralston examina sua vida e considera suas opções, as quais o levam a uma situação angustiante. Aron precisa tomar uma atitude para que possa se libertar e tentar voltar para a civilização."
        ],
        [
         "Tropa de Elite 2: O Inimigo Agora é Outro",
         "08-10-2010",
         "05-03-2009",
         [
          "Ação",
          "Crime",
          "Drama"
         ],
         "https://image.tmdb.org/t/p/original/8G7F938AHqBBLc5yJXPUJhSJzN5.jpg",
         "O destino da cidade do Rio de Janeiro e de Nascimento se cruzam em \"Tropa de Elite 2\", quando suas obrigações de pai se chocam com as de policial. Mais maduro, estratégico e solitário, o agora Coronel Nascimento faz o bope crescer e coloca o tráfico de drogas de joelho. Isto apenas para descobrir que na segurança pública do Rio de Janeiro nada é o que parece. O sistema se reinventa e descobre como lucrar sem o intermédio do tráfico. Em perseguição ao caminho trilhado pelo sistema, Nascimento vai além dos limites do quartel, revelando as ligações das milícias com o Estado. E o preço por essa descoberta é alto: o inimigo agora é outro."
        ],
        [
         "Em Busca de um Caminho",
         "10-09-2010",
         "05-03-2009",
         [
          "Aventura",
          "Comédia",
          "Drama"
         ],
         "https://image.tmdb.org/t/p/original/4wJb8HLMWaJXrYznXNf7eqFUJKL.jpg",
         "O oftalmologista Tom Avery (Martin Sheen) e seu único filho Daniel (Emilio Estevez) têm uma relação distante. Quando o rapaz viaja para a Espanha para cruzar o Caminho de Santiago de Compostela, acaba perdendo a vida em uma fatalidade. Tom, então, vai até a França para recolher o corpo de seu filho. Chegando lá, ele resolve fazer o Caminho, completando o percurso que Daniel havia começado, levando junto as cinzas do rapaz. Durante a empreitada, ele encontra companheiros que vão lhe mostrar que nenhum caminho deve ser percorrido sozinho."
        ],
        [
         "A Origem",
         "15-07-2010",
         "05-03-2009",
         [
          "Ação",
          "Aventura",
          "Ficção científica"
         ],
         "https://image.tmdb.org/t/p/original/9e3Dz7aCANy5aRUQF745IlNloJ1.jpg",
         "Um ladrão que rouba segredos corporativos por meio do uso da tecnologia de compartilhamento de sonhos, recebe a tarefa inversa de plantar uma ideia na mente de um Diretor Executivo."
        ],
        [
         "O Livro de Eli",
         "14-01-2010",
         "05-03-2009",
         [
          "Ação",
          "Ficção científica",
          "Thriller"
         ],
         "https://image.tmdb.org/t/p/original/AvPmDjktmbme4QTGRiQxUj2dbJV.jpg",
         "Trinta anos depois da guerra ter dizimado o mundo, um guerreiro solitário chamado Eli caminha por horizontes arruinados dando esperança para os que restaram. Apenas um outro homem compreende o poder de um livro que Eli carrega e está determinado a se apoderar dele. Apesar de Eli preferir a paz, ele arriscará a sua vida para proteger a sua carga preciosa, pois precisa cumprir o seu destino de ajudar a restaurar a humanidade."
        ],
        [
         "Anjos e Demônios",
         "13-05-2009",
         "05-03-2009",
         [
          "Mistério",
          "Thriller"
         ],
         "https://image.tmdb.org/t/p/original/pVhKBn8HTJVksw3Msk76MgMogiy.jpg",
         "O professor de simbologia Robert Langdon (Tom Hanks), depois de decifrar o código DaVinci, é chamado pelo Vaticano para investigar o misterioso desaparecimento de quatro cardeais. Agora, além de enfrentar a resistência da própria igreja em ajudá-lo nos detalhes de sua investigação, Langdon precisa decifrar charadas numa verdadeira corrida contra o tempo porque a sociedade secreta por trás do crime em andamento tem planos de explodir o Vaticano."
        ]
       ],
       "datasetInfos": [],
       "dbfsResultPath": null,
       "isJsonSchema": true,
       "metadata": {
        "dataframeName": "_sqldf",
        "executionCount": 35
       },
       "overflow": false,
       "plotOptions": {
        "customPlotOptions": {},
        "displayType": "table",
        "pivotAggregation": null,
        "pivotColumns": null,
        "xColumns": null,
        "yColumns": null
       },
       "removedWidgets": [],
       "schema": [
        {
         "metadata": "{}",
         "name": "TITULO",
         "type": "\"string\""
        },
        {
         "metadata": "{}",
         "name": "DATA_DE_LANCAMENTO",
         "type": "\"string\""
        },
        {
         "metadata": "{}",
         "name": "DATA_CORTE_15_ANOS",
         "type": "\"string\""
        },
        {
         "metadata": "{}",
         "name": "GENERO",
         "type": "{\"type\":\"array\",\"elementType\":\"string\",\"containsNull\":true}"
        },
        {
         "metadata": "{}",
         "name": "DIRETORIO_POSTER",
         "type": "\"string\""
        },
        {
         "metadata": "{}",
         "name": "SINOPSE",
         "type": "\"string\""
        }
       ],
       "type": "table"
      }
     },
     "output_type": "display_data"
    }
   ],
   "source": [
    "%sql\n",
    "--lista de filmes lançados nos últimos 15 anos para criar tabela ouro\n",
    "SELECT \n",
    "TITLE AS TITULO,\n",
    "date_format(RELEASE_DATE, 'dd-MM-yyyy') AS DATA_DE_LANCAMENTO,\n",
    "date_format(date_sub(current_date(), 15 * 365),'dd-MM-yyyy') as DATA_CORTE_15_ANOS,\n",
    "GENERO,\n",
    "POSTER_PATH AS DIRETORIO_POSTER,\n",
    "OVERVIEW AS SINOPSE\n",
    "FROM TMDB_PRATA\n",
    "WHERE RELEASE_DATE >= date_sub(current_date(), 15 * 365)\n",
    "ORDER BY RELEASE_DATE DESC;"
   ]
  },
  {
   "cell_type": "code",
   "execution_count": 0,
   "metadata": {
    "application/vnd.databricks.v1+cell": {
     "cellMetadata": {
      "byteLimit": 2048000,
      "implicitDf": true,
      "rowLimit": 10000
     },
     "inputWidgets": {},
     "nuid": "4e0ae22c-7f7a-40bb-8e02-a9859093d4b7",
     "showTitle": false,
     "title": ""
    }
   },
   "outputs": [
    {
     "output_type": "display_data",
     "data": {
      "text/html": [
       "<style scoped>\n",
       "  .table-result-container {\n",
       "    max-height: 300px;\n",
       "    overflow: auto;\n",
       "  }\n",
       "  table, th, td {\n",
       "    border: 1px solid black;\n",
       "    border-collapse: collapse;\n",
       "  }\n",
       "  th, td {\n",
       "    padding: 5px;\n",
       "  }\n",
       "  th {\n",
       "    text-align: left;\n",
       "  }\n",
       "</style><div class='table-result-container'><table class='table-result'><thead style='background-color: white'><tr><th>TITULO</th><th>DATA_DE_LANCAMENTO</th><th>GENERO</th><th>DIRETORIO_POSTER</th><th>SINOPSE</th></tr></thead><tbody><tr><td>A Sociedade da Neve</td><td>13-12-2023</td><td>List(Drama, História)</td><td>https://image.tmdb.org/t/p/original/7fQTmvKgVGxifieVryqqlxohkoW.jpg</td><td>Em 13 de outubro de 1972, o voo 571 da Força Aérea Uruguaia, fretado para levar um time de rúgbi ao Chile, cai em uma geleira no coração da Cordilheira dos Andes.</td></tr><tr><td>O Protetor: Capítulo Final</td><td>30-08-2023</td><td>List(Ação, Crime, Thriller)</td><td>https://image.tmdb.org/t/p/original/AnJOKbSQsp0QqiUhsQooqFRjPsD.jpg</td><td>Sentindo-se em casa no sul da Itália, o ex-agente Robert McCall logo descobre que seus novos amigos estão sob o controle dos chefes do crime local.  À medida que os acontecimentos se tornam mortais, McCall sabe o que tem de fazer: tornar-se o protetor dos seus amigos, enfrentando a máfia.</td></tr><tr><td>Agente Infiltrado</td><td>28-04-2023</td><td>List(Ação)</td><td>https://image.tmdb.org/t/p/original/mOP3FjJuOe38grWMgdtuVGNMFzZ.jpg</td><td>Um homem enfrenta um dilema moral depois de se infiltrar em um grupo criminoso. A situação piora quando o filho do chefe, um garoto de oito anos, entra na jogada.</td></tr><tr><td>O Pacto</td><td>19-04-2023</td><td>List(Ação, Thriller, Guerra)</td><td>https://image.tmdb.org/t/p/original/pTQZT9R6YjKrweJ0llPtq57j1Z0.jpg</td><td>Um sargento do Exército é resgatado de uma missão no Afeganistão pelo seu intérprete. Naquela que seria a sua última missão no estrangeiro, Kinley fica à beira da morte mas sobrevive graças a Ahmed, que o protege e o carrega por quilometros a fim de garantir a sua segurança. Sem se lembrar muito bem do que aconteceu, o sargento apenas sabe que quando o homem se encontra em risco de vida, como a sua família, é a sua verdadeira missão retribuir o favor e ajudá-lo a sobreviver.</td></tr><tr><td>Creed III</td><td>01-03-2023</td><td>List(Ação, Drama)</td><td>https://image.tmdb.org/t/p/original/3VkER73o8NDqAYf5gI5bXwhtGbW.jpg</td><td>Depois de dominar o mundo do boxe, Adonis Creed tem prosperado em sua carreira e vida familiar. Quando um amigo de infância e ex-prodígio do boxe, Damien Anderson, ressurge depois de cumprir uma longa sentença na prisão, ele está ansioso para provar que merece sua chance no ringue. O confronto entre ex-amigos é mais do que apenas uma briga. Para acertar as contas, Adonis deve colocar seu futuro em risco para lutar contra Damien - um lutador que não tem nada a perder.</td></tr><tr><td>Avatar: O Caminho da Água</td><td>14-12-2022</td><td>List(Ação, Aventura, Ficção científica)</td><td>https://image.tmdb.org/t/p/original/mbYQLLluS651W89jO7MOZcLSCUw.jpg</td><td>12 anos depois de explorar Pandora e se juntar aos Na'vi, Jake Sully formou uma família com Neytiri e se estabeleceu entre os clãs do novo mundo. Porém, a paz não durará para sempre.</td></tr><tr><td>Nada de Novo no Front</td><td>07-10-2022</td><td>List(Ação, Drama, Guerra)</td><td>https://image.tmdb.org/t/p/original/qmcKs0Aoft7MBdBoj1haZyPRgM2.jpg</td><td>Convocado para a linha de frente da Primeira Guerra Mundial, o adolescente Paul encara a dura realidade da vida nas trincheiras.</td></tr><tr><td>Viagem ao Topo da Terra</td><td>22-09-2021</td><td>List(Aventura, Animação, Mistério)</td><td>https://image.tmdb.org/t/p/original/fj8wv7ip5JbnJFqwNicNKHLClYH.jpg</td><td>Um fotojornalista que investiga a primeira expedição ao Everest acaba se envolvendo na busca por um respeitado alpinista que desapareceu.</td></tr><tr><td>Godzilla vs. Kong</td><td>24-03-2021</td><td>List(Ação, Ficção científica, Thriller)</td><td>https://image.tmdb.org/t/p/original/klAIFewuqcyEmH1SMtR2XbMyqzM.jpg</td><td>Em uma época em que os monstros andam na Terra, a luta da humanidade por seu futuro coloca Godzilla e Kong em rota de colisão que verá as duas forças mais poderosas da natureza no planeta se confrontarem em uma batalha espetacular para as idades. Enquanto Monarch embarca em uma missão perigosa em terreno desconhecido e descobre pistas sobre as origens dos Titãs, uma conspiração humana ameaça tirar as criaturas, boas e más, da face da terra para sempre.</td></tr><tr><td>Resgate</td><td>24-04-2020</td><td>List(Ação, Thriller)</td><td>https://image.tmdb.org/t/p/original/zxahunlqvMPWzUBd1XSRsGawdS9.jpg</td><td>Em Bangladesh, o mercenário Tyler Rake luta para sobreviver durante a missão para resgatar o filho de um chefão do crime.</td></tr><tr><td>Jumanji: Próxima Fase</td><td>04-12-2019</td><td>List(Aventura, Comédia, Fantasia)</td><td>https://image.tmdb.org/t/p/original/bBRDUTr6jgbD8I8A9DvVGrVbdfB.jpg</td><td>A turma está de volta, mas o jogo mudou. Quando voltam para Jumanji para resgatar um amigo, descobrem que nada do que esperavam. Com mais ação e surpresas, os jogadores terão que desbravar partes desconhecidas e inexploradas, dos desertos áridos até montanhas de neve, para escapar.</td></tr><tr><td>O Poço</td><td>08-11-2019</td><td>List(Drama, Ficção científica, Thriller)</td><td>https://image.tmdb.org/t/p/original/kY0ET33EoiJhjaPCzzvywCDqP6b.jpg</td><td>Em uma prisão onde os detentos são alimentados por uma plataforma descendente, os que estão nos níveis mais altos comem mais do que precisam enquanto os dos andares mais baixos ficam com as migalhas. Até que um homem decide mudar o sistema.</td></tr><tr><td>Milagre na Cela 7</td><td>10-10-2019</td><td>List(Drama)</td><td>https://image.tmdb.org/t/p/original/q5Sj4pMaKpdMyywQIJhexNvCZYz.jpg</td><td>Separado de sua filha, um homem com deficiência intelectual precisa provar sua inocência ao ser preso pela morte da filha de um comandante.</td></tr><tr><td>Coringa</td><td>01-10-2019</td><td>List(Crime, Drama, Thriller)</td><td>https://image.tmdb.org/t/p/original/xLxgVxFWvb9hhUyCDDXxRPPnFck.jpg</td><td>Isolado, intimidado e desconsiderado pela sociedade, o fracassado comediante Arthur Fleck inicia seu caminho como uma mente criminosa após assassinar três homens em pleno metrô. Sua ação inicia um movimento popular contra a elite de Gotham City, da qual Thomas Wayne é seu maior representante.</td></tr><tr><td>O Rei Leão</td><td>12-07-2019</td><td>List(Aventura, Animação, Drama, Família)</td><td>https://image.tmdb.org/t/p/original/wrHr8eEJYDAA7WYybyH162s4oZ4.jpg</td><td>Simba é um jovem leão cujo destino é se tornar o rei da selva. Entretanto, uma armadilha elaborada por seu tio Scar faz com que Mufasa, o atual rei, morra ao tentar salvar o filhote. Consumido pela culpa, Simba deixa o reino rumo a um local distante, onde encontra amigos que o ensinam a mais uma vez ter prazer pela vida.</td></tr><tr><td>O Menino que Descobriu o Vento</td><td>14-02-2019</td><td>List(Drama, Família, História)</td><td>https://image.tmdb.org/t/p/original/jZofpz4gmiH7MQAYWrgvTtdIq3l.jpg</td><td>Inspirado por um livro de ciências, um garoto constrói uma turbina eólica para salvar seu vilarejo da fome. Baseado em uma história real.</td></tr><tr><td>Amigos para Sempre</td><td>10-01-2019</td><td>List(Comédia, Drama)</td><td>https://image.tmdb.org/t/p/original/lYv3Mwm3t7FWEMli8ASMIhZBUBC.jpg</td><td>Um jovem negro aceita trabalhar para um homem branco paraplégico e acaba dando início a uma grande e inusitada amizade. Versão americana de \"Intocáveis\", filme francês de 2012 que fez grande sucesso mundial.</td></tr><tr><td>Bohemian Rhapsody</td><td>24-10-2018</td><td>List(Drama, Música)</td><td>https://image.tmdb.org/t/p/original/qxgdqcxI216kEoypGbA9BemB7mW.jpg</td><td>Freddie Mercury e seus companheiros Brian May, Roger Taylor e John Deacon mudam o mundo da música para sempre ao formar a banda Queen, durante a década de 1970. Porém, quando o estilo de vida extravagante de Mercury começa a sair do controle, a banda tem que enfrentar o desafio de conciliar a fama e o sucesso com suas vidas pessoais cada vez mais complicadas.</td></tr><tr><td>Free Solo</td><td>28-09-2018</td><td>List(Aventura, Documentário)</td><td>https://image.tmdb.org/t/p/original/v4QfYZMACODlWul9doN9RxE99ag.jpg</td><td>Aos 30 anos de idade, Alex Honnold já era um dos mais renomados alpinistas de sua geração. Porém, independente de todas as suas conquistas, ele permaneceu obcecado com um desafio que nenhum outro alpinista havia conseguido realizar: escalar sem equipamento de segurança a rocha El Capitan, no Parque Nacional de Yosemite, na Califórnia. Os diretores E. Chai Vasarhelyi e Jimmy Chin acompanham Honnold por dois anos enquanto ele testa os limites de sua ambição.</td></tr><tr><td>Terremoto</td><td>31-08-2018</td><td>List(Ação, Drama, Thriller)</td><td>https://image.tmdb.org/t/p/original/oujtI4p0lolCnjBt2kvkPvmm0qK.jpg</td><td>Em 1904, um terremoto de magnitude 5,4 na escala Richter sacudiu Oslo. Seu epicentro foi no \"Oslo Graben\", uma fenda que atravessa diretamente a cidade. Desde então, a população da capital norueguesa pode esperar futuros terremotos na área.</td></tr><tr><td>O Protetor 2</td><td>19-07-2018</td><td>List(Ação, Crime, Thriller)</td><td>https://image.tmdb.org/t/p/original/REWunAyKGCbxvg2UJGMEHuQd2c.jpg</td><td>Criminosos assassinam Susan Plummer, a melhor amiga de Robert McCall e sua ex-colega de trabalho. Obcecado, Robert pensa apenas em eliminar o bando de assassinos profissionais que destruiu sua vida.</td></tr><tr><td>Mulher-Maravilha</td><td>30-05-2017</td><td>List(Ação, Aventura, Fantasia)</td><td>https://image.tmdb.org/t/p/original/ujQthWB6c0ojlARk28NSTmqidbF.jpg</td><td>Treinada desde cedo para ser uma guerreira imbatível, Diana Prince (Gal Gadot) nunca saiu da paradisíaca ilha em que é reconhecida como Princesa das Amazonas. Quando o piloto Steve Trevor (Chris Pine) se acidenta e cai numa praia do local, ela descobre que uma guerra sem precedentes está se espalhando pelo mundo e decide deixar seu lar certa de que pode parar o conflito. Lutando para acabar com todas as lutas, Diana percebe o alcance de seus poderes e sua verdadeira missão na Terra.</td></tr><tr><td>A Escalada</td><td>25-01-2017</td><td>List(Aventura, Comédia, Romance)</td><td>https://image.tmdb.org/t/p/original/jxmnYUawdlSUctpN1JJ9wvE47ZH.jpg</td><td>\"Para você, eu poderia escalar o Everest!\" Samy teria feito melhor se tivesse ficado calado aquele dia... Especialmente por que Nadia não acredita muito em palavras. Por amor a ela, Samy deixa projetos de vida de lado e vai subir os 8.848 metros que fazem do Everest o telhado do mundo.</td></tr><tr><td>Um Contratempo</td><td>06-01-2017</td><td>List(Drama, Mistério, Thriller)</td><td>https://image.tmdb.org/t/p/original/pOnbhr6DbPgKjvcNexbRdmR37De.jpg</td><td>Após acordar ao lado de sua amante assassinada em um quarto de hotel, um empresário contrata uma advogada para descobrir como ele acabou sendo suspeito de um homicídio.</td></tr><tr><td>O Contador</td><td>13-10-2016</td><td>List(Crime, Drama, Thriller)</td><td>https://image.tmdb.org/t/p/original/vgJt4ADIjm5U2y3oPLu6kXEXOCY.jpg</td><td>O matemático Christian Wolff sente-se muito mais à vontade lidando com números do que com pessoas. Atualmente, trabalha como contador autônomo para uma das maiores organizações criminosas do mundo. Com a receita federal no encalço, ele resolve mudar de ares e atender um novo cliente, uma empresa de equipamentos robóticos onde um dos funcionários descobriu um desvio gigantesco de recursos. À medida que Christian se aprofunda nos registros da empresa e se aproxima da verdade, o número de cadáveres começa a crescer rapidamente.</td></tr><tr><td>Até o Último Homem</td><td>07-10-2016</td><td>List(Drama, História, Guerra)</td><td>https://image.tmdb.org/t/p/original/88sCL8OQMoieKpHClqRCCbcgH6w.jpg</td><td>Desmond T. Doss, foi o médico do Exército Americano da Segunda Guerra Mundial, que serviu durante a Batalha de Okinawa, se recusando a matar pessoas, tornando-se o primeiro homem da história americana a receber a Medalha de Honra sem disparar um tiro.</td></tr><tr><td>Truque de Mestre: O 2º Ato</td><td>02-06-2016</td><td>List(Ação, Crime, Mistério, Thriller)</td><td>https://image.tmdb.org/t/p/original/9uCUHxN5MD4vX6q1YEnpL6bQLiw.jpg</td><td>Após enganarem o FBI, os cavaleiros Daniel Atlas, Merritt McKinney e Jack Wilder estão foragidos. Eles seguem as ordens de Dylan Rhodes, que segue trabalhando no FBI de forma a impedir os avanços na procura dos próprios cavaleiros. Paralelamente, o grupo planeja seu novo ato: desmascarar um jovem gênio da informática, cujo novo lançamento coleta dados pessoais dos usuários.</td></tr><tr><td>O Regresso</td><td>25-12-2015</td><td>List(Aventura, Drama, Faroeste)</td><td>https://image.tmdb.org/t/p/original/x1jViuXsm5ZmrR6uFmxU6AVdXzs.jpg</td><td>Em uma expedição pelo desconhecido deserto americano, o lendário explorador Hugh Glass é brutalmente atacado por um urso e deixado como morto pelos membros de sua própria equipe de caça. Em uma luta para sobreviver, Glass resiste à dor inimaginável, bem como à traição de seu confidente, John Fitzgerald. Guiado pela força de vontade e pelo amor de sua família, Glass deve navegar um inverno brutal em uma incessante busca por sobrevivência e redenção.</td></tr><tr><td>Perdido em Marte</td><td>30-09-2015</td><td>List(Aventura, Drama, Ficção científica)</td><td>https://image.tmdb.org/t/p/original/fG3S4zdgnsaF77tJGK3rA9tHBu4.jpg</td><td>O astronauta Mark Watney é enviado a uma missão em Marte. Após uma severa tempestade ele é dado como morto, abandonado pelos colegas e acorda sozinho no misterioso planeta com escassos suprimentos, sem saber como reencontrar os companheiros ou retornar à Terra.</td></tr><tr><td>Evereste</td><td>10-09-2015</td><td>List(Aventura, Drama, História)</td><td>https://image.tmdb.org/t/p/original/2PkYTktwBeaB7xbBatMJmAY67lD.jpg</td><td>Inspirado nos incríveis acontecimentos em torno da montanha mais alta do mundo, Evereste documenta a inspiradora jornada de dois diferentes grupos de expedição que são desafiados além de seus limites quando são acometidos por uma das maiores avalanches já registradas. Com a coragem testada por um dos fenômenos mais severos do planeta, os escaladores terão de enfrentar obstáculos quase impossíveis em busca de sobrevivência.</td></tr><tr><td>A Onda</td><td>28-08-2015</td><td>List(Ação, Drama, Thriller)</td><td>https://image.tmdb.org/t/p/original/1y2F6xuKuSpXd7OaMa6K4vetzGb.jpg</td><td>Localizado na Noruega, o Fiorde de Geiranger é um dos pontos turísticos mais espetaculares da região, mas também é um local propício para cataclismas. Após anos no centro de alerta do local, o geólogo Kristian sente que alguma coisa não está normal, os substratos estão mudando. Em plena alta temporada turística, uma onda gigante atinge o local, colocando a montanha abaixo e dando apenas dez minutos para que as pessoas consigam chegar a um terreno elevado.</td></tr><tr><td>O Hobbit: A Batalha dos Cinco Exércitos</td><td>10-12-2014</td><td>List(Ação, Aventura, Fantasia)</td><td>https://image.tmdb.org/t/p/original/5tGL0dbQpAkK9ItUaDrUbTvTMDp.jpg</td><td>O dragão Smaug lança sua fúria ardente contra a Cidade do Lago que fica próxima da montanha de Erebor. Bard consegue derrotá-lo, mas, rapidamente, sem a ameaça do dragão, inicia-se uma batalha pelo controle de Erebor e sua riqueza. Os anões, liderados por Thorin, adentram a montanha e estão dispostos a impedir a entrada de elfos, anões e orcs. Bilbo Bolseiro e Gandalf tentam impedir a guerra.</td></tr><tr><td>O Jogo da Imitação</td><td>14-11-2014</td><td>List(Drama, História, Thriller, Guerra)</td><td>https://image.tmdb.org/t/p/original/bwWCFjhwrs5my4FUoeWdTa2GYlB.jpg</td><td>Em 1939, a recém-criada agência de inteligência britânica MI6 recruta Alan Turing, um aluno da Universidade de Cambridge, para entender códigos nazistas, incluindo o \"Enigma\", que criptógrafos acreditavam ser inquebrável. A equipe de Turing, incluindo Joan Clarke, analisa as mensagens de \"Enigma\", enquanto ele constrói uma máquina para decifrá-las.</td></tr><tr><td>Interestelar</td><td>05-11-2014</td><td>List(Aventura, Drama, Ficção científica)</td><td>https://image.tmdb.org/t/p/original/nCbkOyOMTEwlEV0LtCOvCnwEONA.jpg</td><td>As reservas naturais da Terra estão chegando ao fim e um grupo de astronautas recebe a missão de verificar possíveis planetas para receberem a população mundial, possibilitando a continuação da espécie. Cooper é chamado para liderar o grupo e aceita a missão sabendo que pode nunca mais ver os filhos. Ao lado de Brand, Jenkins e Doyle, ele seguirá em busca de um novo lar.</td></tr><tr><td>Corações de Ferro</td><td>15-10-2014</td><td>List(Ação, Drama, Guerra)</td><td>https://image.tmdb.org/t/p/original/8WtUjpboPESZbabGbC4ryd81KcR.jpg</td><td>Durante o final da Segunda Guerra Mundial, um grupo de cinco soldados americanos é encarregado de atacar os nazistas dentro da própria Alemanha. Apesar de estarem em quantidade inferior e terem poucas armas, eles são liderados pelo enfurecido Wardaddy, sargento que pretende levá-los à vitória, enquanto ensina o novato Norman a lutar.</td></tr><tr><td>O Protetor</td><td>24-09-2014</td><td>List(Ação, Crime, Thriller)</td><td>https://image.tmdb.org/t/p/original/xTSOdJ0Ljs439lnKB7NsWlTibZN.jpg</td><td>O ex-agente secreto Robert McCall acredita que seu passado ficou para trás e tenta viver uma nova vida. Porém, quando ele conhece Teri, uma jovem que está em poder de uma quadrilha russa, ele simplesmente não consegue ignorá-la. Munido de suas extraordinárias habilidades, ele ressurge como um verdadeiro anjo vingador. Fora da aposentadoria e com um novo desejo de fazer justiça, McCall decide ajudar quem foi brutalizado e oprimido.</td></tr><tr><td>Planeta dos Macacos: O Confronto</td><td>08-07-2014</td><td>List(Ação, Drama, Ficção científica, Thriller)</td><td>https://image.tmdb.org/t/p/original/4vLhF6R3lmhTjTVUdK4gI1s5a8v.jpg</td><td>Em 2026, a humanidade está enfrentando sua pior crise e está muito próxima da extinção por conta de um vírus mortal. Um grupo de sobreviventes organiza uma expedição pelas florestas próximas de São Francisco em busca de uma nova fonte de energia quando se deparam com uma comunidade, muito evoluída, de macacos liderados por César. Alguns dissidentes, mesmo com o pacto de paz firmado, quebram a trégua e dão início a uma guerra sem precedentes entre as duas espécies.</td></tr><tr><td>Divergente</td><td>14-03-2014</td><td>List(Ação, Aventura, Ficção científica)</td><td>https://image.tmdb.org/t/p/original/gktEuhRYZrlinT3sLSt7Fvmqbe5.jpg</td><td>Na futurística cidade de Chicago, ao completar 16 anos, Beatrice precisa escolher entre as diferentes facções em que a cidade está dividida. Cada uma representa um valor diferente e, ao contrário de sua família, a jovem opta pela facção dos destemidos, a Audácia. Ela então se torna Tris e inicia uma jornada para afastar seus medos e descobrir quem realmente é. Durante essa jornada, acaba conhecendo o jovem Quatro, um rapaz experiente que tem o dom de intrigá-la e de encantá-la ao mesmo tempo.</td></tr><tr><td>Livre</td><td>16-01-2014</td><td>List(Drama)</td><td>https://image.tmdb.org/t/p/original/l0b26MyxquriVDIcfNgo84Gg1v4.jpg</td><td>Após a morte de sua mãe, um divórcio e uma fase de autodestruição repleta de heroína, Cheryl Strayed (Reese Witherspoon) decide mudar e investir em uma nova vida junto à natureza selvagem. Para tanto, ela se aventura em uma trilha de 1100 milhas pela costa do oceano Pacífico.</td></tr><tr><td>O Lobo de Wall Street</td><td>25-12-2013</td><td>List(Comédia, Crime, Drama)</td><td>https://image.tmdb.org/t/p/original/esJTXTdj4JZDyP5LUI1Fq3kyNda.jpg</td><td>Durante seis meses, Jordan Belfort (Leonardo DiCaprio) trabalhou duro em uma corretora de Wall Street, seguindo os ensinamentos de seu mentor Mark Hanna (Matthew McConaughey). Quando finalmente consegue ser contratado como corretor da firma, acontece o Black Monday, que faz com que as bolsas de vários países caiam repentinamente. Sem emprego e bastante ambicioso, ele acaba trabalhando para uma empresa de fundo de quintal que lida com papéis de baixo valor, que não estão na bolsa de valores. É lá que Belfort tem a idéia de montar uma empresa focada neste tipo de negócio, cujas vendas são de valores mais baixos mas, em compensação, o retorno para o corretor é bem mais vantajoso. Ao lado de Donnie (Jonah Hill) e outros amigos dos velhos tempos, ele cria a Stratton Oakmont, uma empresa que faz com que todos enriqueçam rapidamente e, também, levem uma vida dedicada ao prazer.</td></tr><tr><td>O Hobbit: A Desolação de Smaug</td><td>11-12-2013</td><td>List(Ação, Aventura, Fantasia)</td><td>https://image.tmdb.org/t/p/original/beqHE5BZY5LczMxJezL4FdY7mBp.jpg</td><td>Ao lado de um grupo de anões e de Gandalf, Bilbo segue em direção à Montanha Solitária, onde deverá ajudar seus companheiros a retomar a Pedra de Arken. O problema é que o artefato está perdido em meio a um tesouro protegido pelo temido dragão Smaug.</td></tr><tr><td>Gravidade</td><td>03-10-2013</td><td>List(Drama, Ficção científica, Thriller)</td><td>https://image.tmdb.org/t/p/original/eHLufJ1bHy4PtEBJdPSTu4jIhZ0.jpg</td><td>Matt Kowalski é um astronauta experiente que está em missão de conserto ao telescópio Hubble juntamente com a doutora Ryan Stone. Ambos são surpreendidos por uma chuva de destroços decorrente da destruição de um satélite por um míssil russo, que faz com que sejam jogados no espaço sideral. Sem qualquer apoio da base terrestre da NASA, eles precisam encontrar um meio de sobreviver em meio a um ambiente completamente inóspito para a vida humana.</td></tr><tr><td>O Hobbit: Uma Jornada Inesperada</td><td>12-12-2012</td><td>List(Ação, Aventura, Fantasia)</td><td>https://image.tmdb.org/t/p/original/qmHzmfcCWKyQZ8NFQkIYH8JdShI.jpg</td><td>Como a maioria dos hobbits, Bilbo Bolseiro leva uma vida tranquila até o dia em que recebe uma missão do mago Gandalf. Acompanhado por um grupo de anões, ele parte numa jornada até a Montanha Solitária para libertar o Reino de Erebor do dragão Smaug.</td></tr><tr><td>Planeta dos Macacos: A Origem</td><td>03-08-2011</td><td>List(Ação, Drama, Ficção científica, Thriller)</td><td>https://image.tmdb.org/t/p/original/qxe4ONZAgtC0mfsIuOyqVU9JREj.jpg</td><td>Nossa maior descoberta tornar-se-á a maior ameaça para a humanidade quando um cientista na iminência de um grande avanço da medicina começa a fazer testes num jovem chimpanzé chamado César. Quando o chimpanzé desenvolve inteligência e emoções semelhantes às dos humanos, uma batalha épica surge para determinar a espécie dominante no planeta!</td></tr><tr><td>127 Horas</td><td>12-11-2010</td><td>List(Aventura, Drama, Thriller)</td><td>https://image.tmdb.org/t/p/original/1HoqPAq2HMUMwI0u4mpcBN4v9WJ.jpg</td><td>Ao explorar um cânion remoto em Utah, o alpinista e aventureiro Aron Ralston fica preso em uma fenda quando uma pedra cai. Nos cinco dias seguintes, Ralston examina sua vida e considera suas opções, as quais o levam a uma situação angustiante. Aron precisa tomar uma atitude para que possa se libertar e tentar voltar para a civilização.</td></tr><tr><td>Tropa de Elite 2: O Inimigo Agora é Outro</td><td>08-10-2010</td><td>List(Ação, Crime, Drama)</td><td>https://image.tmdb.org/t/p/original/8G7F938AHqBBLc5yJXPUJhSJzN5.jpg</td><td>O destino da cidade do Rio de Janeiro e de Nascimento se cruzam em \"Tropa de Elite 2\", quando suas obrigações de pai se chocam com as de policial. Mais maduro, estratégico e solitário, o agora Coronel Nascimento faz o bope crescer e coloca o tráfico de drogas de joelho. Isto apenas para descobrir que na segurança pública do Rio de Janeiro nada é o que parece. O sistema se reinventa e descobre como lucrar sem o intermédio do tráfico. Em perseguição ao caminho trilhado pelo sistema, Nascimento vai além dos limites do quartel, revelando as ligações das milícias com o Estado. E o preço por essa descoberta é alto: o inimigo agora é outro.</td></tr><tr><td>Em Busca de um Caminho</td><td>10-09-2010</td><td>List(Aventura, Comédia, Drama)</td><td>https://image.tmdb.org/t/p/original/4wJb8HLMWaJXrYznXNf7eqFUJKL.jpg</td><td>O oftalmologista Tom Avery (Martin Sheen) e seu único filho Daniel (Emilio Estevez) têm uma relação distante. Quando o rapaz viaja para a Espanha para cruzar o Caminho de Santiago de Compostela, acaba perdendo a vida em uma fatalidade. Tom, então, vai até a França para recolher o corpo de seu filho. Chegando lá, ele resolve fazer o Caminho, completando o percurso que Daniel havia começado, levando junto as cinzas do rapaz. Durante a empreitada, ele encontra companheiros que vão lhe mostrar que nenhum caminho deve ser percorrido sozinho.</td></tr><tr><td>A Origem</td><td>15-07-2010</td><td>List(Ação, Aventura, Ficção científica)</td><td>https://image.tmdb.org/t/p/original/9e3Dz7aCANy5aRUQF745IlNloJ1.jpg</td><td>Um ladrão que rouba segredos corporativos por meio do uso da tecnologia de compartilhamento de sonhos, recebe a tarefa inversa de plantar uma ideia na mente de um Diretor Executivo.</td></tr><tr><td>O Livro de Eli</td><td>14-01-2010</td><td>List(Ação, Ficção científica, Thriller)</td><td>https://image.tmdb.org/t/p/original/AvPmDjktmbme4QTGRiQxUj2dbJV.jpg</td><td>Trinta anos depois da guerra ter dizimado o mundo, um guerreiro solitário chamado Eli caminha por horizontes arruinados dando esperança para os que restaram. Apenas um outro homem compreende o poder de um livro que Eli carrega e está determinado a se apoderar dele. Apesar de Eli preferir a paz, ele arriscará a sua vida para proteger a sua carga preciosa, pois precisa cumprir o seu destino de ajudar a restaurar a humanidade.</td></tr><tr><td>Anjos e Demônios</td><td>13-05-2009</td><td>List(Mistério, Thriller)</td><td>https://image.tmdb.org/t/p/original/pVhKBn8HTJVksw3Msk76MgMogiy.jpg</td><td>O professor de simbologia Robert Langdon (Tom Hanks), depois de decifrar o código DaVinci, é chamado pelo Vaticano para investigar o misterioso desaparecimento de quatro cardeais. Agora, além de enfrentar a resistência da própria igreja em ajudá-lo nos detalhes de sua investigação, Langdon precisa decifrar charadas numa verdadeira corrida contra o tempo porque a sociedade secreta por trás do crime em andamento tem planos de explodir o Vaticano.</td></tr></tbody></table></div>"
      ]
     },
     "metadata": {
      "application/vnd.databricks.v1+output": {
       "addedWidgets": {},
       "aggData": [],
       "aggError": "",
       "aggOverflow": false,
       "aggSchema": [],
       "aggSeriesLimitReached": false,
       "aggType": "",
       "arguments": {},
       "columnCustomDisplayInfos": {},
       "data": [
        [
         "A Sociedade da Neve",
         "13-12-2023",
         [
          "Drama",
          "História"
         ],
         "https://image.tmdb.org/t/p/original/7fQTmvKgVGxifieVryqqlxohkoW.jpg",
         "Em 13 de outubro de 1972, o voo 571 da Força Aérea Uruguaia, fretado para levar um time de rúgbi ao Chile, cai em uma geleira no coração da Cordilheira dos Andes."
        ],
        [
         "O Protetor: Capítulo Final",
         "30-08-2023",
         [
          "Ação",
          "Crime",
          "Thriller"
         ],
         "https://image.tmdb.org/t/p/original/AnJOKbSQsp0QqiUhsQooqFRjPsD.jpg",
         "Sentindo-se em casa no sul da Itália, o ex-agente Robert McCall logo descobre que seus novos amigos estão sob o controle dos chefes do crime local.  À medida que os acontecimentos se tornam mortais, McCall sabe o que tem de fazer: tornar-se o protetor dos seus amigos, enfrentando a máfia."
        ],
        [
         "Agente Infiltrado",
         "28-04-2023",
         [
          "Ação"
         ],
         "https://image.tmdb.org/t/p/original/mOP3FjJuOe38grWMgdtuVGNMFzZ.jpg",
         "Um homem enfrenta um dilema moral depois de se infiltrar em um grupo criminoso. A situação piora quando o filho do chefe, um garoto de oito anos, entra na jogada."
        ],
        [
         "O Pacto",
         "19-04-2023",
         [
          "Ação",
          "Thriller",
          "Guerra"
         ],
         "https://image.tmdb.org/t/p/original/pTQZT9R6YjKrweJ0llPtq57j1Z0.jpg",
         "Um sargento do Exército é resgatado de uma missão no Afeganistão pelo seu intérprete. Naquela que seria a sua última missão no estrangeiro, Kinley fica à beira da morte mas sobrevive graças a Ahmed, que o protege e o carrega por quilometros a fim de garantir a sua segurança. Sem se lembrar muito bem do que aconteceu, o sargento apenas sabe que quando o homem se encontra em risco de vida, como a sua família, é a sua verdadeira missão retribuir o favor e ajudá-lo a sobreviver."
        ],
        [
         "Creed III",
         "01-03-2023",
         [
          "Ação",
          "Drama"
         ],
         "https://image.tmdb.org/t/p/original/3VkER73o8NDqAYf5gI5bXwhtGbW.jpg",
         "Depois de dominar o mundo do boxe, Adonis Creed tem prosperado em sua carreira e vida familiar. Quando um amigo de infância e ex-prodígio do boxe, Damien Anderson, ressurge depois de cumprir uma longa sentença na prisão, ele está ansioso para provar que merece sua chance no ringue. O confronto entre ex-amigos é mais do que apenas uma briga. Para acertar as contas, Adonis deve colocar seu futuro em risco para lutar contra Damien - um lutador que não tem nada a perder."
        ],
        [
         "Avatar: O Caminho da Água",
         "14-12-2022",
         [
          "Ação",
          "Aventura",
          "Ficção científica"
         ],
         "https://image.tmdb.org/t/p/original/mbYQLLluS651W89jO7MOZcLSCUw.jpg",
         "12 anos depois de explorar Pandora e se juntar aos Na'vi, Jake Sully formou uma família com Neytiri e se estabeleceu entre os clãs do novo mundo. Porém, a paz não durará para sempre."
        ],
        [
         "Nada de Novo no Front",
         "07-10-2022",
         [
          "Ação",
          "Drama",
          "Guerra"
         ],
         "https://image.tmdb.org/t/p/original/qmcKs0Aoft7MBdBoj1haZyPRgM2.jpg",
         "Convocado para a linha de frente da Primeira Guerra Mundial, o adolescente Paul encara a dura realidade da vida nas trincheiras."
        ],
        [
         "Viagem ao Topo da Terra",
         "22-09-2021",
         [
          "Aventura",
          "Animação",
          "Mistério"
         ],
         "https://image.tmdb.org/t/p/original/fj8wv7ip5JbnJFqwNicNKHLClYH.jpg",
         "Um fotojornalista que investiga a primeira expedição ao Everest acaba se envolvendo na busca por um respeitado alpinista que desapareceu."
        ],
        [
         "Godzilla vs. Kong",
         "24-03-2021",
         [
          "Ação",
          "Ficção científica",
          "Thriller"
         ],
         "https://image.tmdb.org/t/p/original/klAIFewuqcyEmH1SMtR2XbMyqzM.jpg",
         "Em uma época em que os monstros andam na Terra, a luta da humanidade por seu futuro coloca Godzilla e Kong em rota de colisão que verá as duas forças mais poderosas da natureza no planeta se confrontarem em uma batalha espetacular para as idades. Enquanto Monarch embarca em uma missão perigosa em terreno desconhecido e descobre pistas sobre as origens dos Titãs, uma conspiração humana ameaça tirar as criaturas, boas e más, da face da terra para sempre."
        ],
        [
         "Resgate",
         "24-04-2020",
         [
          "Ação",
          "Thriller"
         ],
         "https://image.tmdb.org/t/p/original/zxahunlqvMPWzUBd1XSRsGawdS9.jpg",
         "Em Bangladesh, o mercenário Tyler Rake luta para sobreviver durante a missão para resgatar o filho de um chefão do crime."
        ],
        [
         "Jumanji: Próxima Fase",
         "04-12-2019",
         [
          "Aventura",
          "Comédia",
          "Fantasia"
         ],
         "https://image.tmdb.org/t/p/original/bBRDUTr6jgbD8I8A9DvVGrVbdfB.jpg",
         "A turma está de volta, mas o jogo mudou. Quando voltam para Jumanji para resgatar um amigo, descobrem que nada do que esperavam. Com mais ação e surpresas, os jogadores terão que desbravar partes desconhecidas e inexploradas, dos desertos áridos até montanhas de neve, para escapar."
        ],
        [
         "O Poço",
         "08-11-2019",
         [
          "Drama",
          "Ficção científica",
          "Thriller"
         ],
         "https://image.tmdb.org/t/p/original/kY0ET33EoiJhjaPCzzvywCDqP6b.jpg",
         "Em uma prisão onde os detentos são alimentados por uma plataforma descendente, os que estão nos níveis mais altos comem mais do que precisam enquanto os dos andares mais baixos ficam com as migalhas. Até que um homem decide mudar o sistema."
        ],
        [
         "Milagre na Cela 7",
         "10-10-2019",
         [
          "Drama"
         ],
         "https://image.tmdb.org/t/p/original/q5Sj4pMaKpdMyywQIJhexNvCZYz.jpg",
         "Separado de sua filha, um homem com deficiência intelectual precisa provar sua inocência ao ser preso pela morte da filha de um comandante."
        ],
        [
         "Coringa",
         "01-10-2019",
         [
          "Crime",
          "Drama",
          "Thriller"
         ],
         "https://image.tmdb.org/t/p/original/xLxgVxFWvb9hhUyCDDXxRPPnFck.jpg",
         "Isolado, intimidado e desconsiderado pela sociedade, o fracassado comediante Arthur Fleck inicia seu caminho como uma mente criminosa após assassinar três homens em pleno metrô. Sua ação inicia um movimento popular contra a elite de Gotham City, da qual Thomas Wayne é seu maior representante."
        ],
        [
         "O Rei Leão",
         "12-07-2019",
         [
          "Aventura",
          "Animação",
          "Drama",
          "Família"
         ],
         "https://image.tmdb.org/t/p/original/wrHr8eEJYDAA7WYybyH162s4oZ4.jpg",
         "Simba é um jovem leão cujo destino é se tornar o rei da selva. Entretanto, uma armadilha elaborada por seu tio Scar faz com que Mufasa, o atual rei, morra ao tentar salvar o filhote. Consumido pela culpa, Simba deixa o reino rumo a um local distante, onde encontra amigos que o ensinam a mais uma vez ter prazer pela vida."
        ],
        [
         "O Menino que Descobriu o Vento",
         "14-02-2019",
         [
          "Drama",
          "Família",
          "História"
         ],
         "https://image.tmdb.org/t/p/original/jZofpz4gmiH7MQAYWrgvTtdIq3l.jpg",
         "Inspirado por um livro de ciências, um garoto constrói uma turbina eólica para salvar seu vilarejo da fome. Baseado em uma história real."
        ],
        [
         "Amigos para Sempre",
         "10-01-2019",
         [
          "Comédia",
          "Drama"
         ],
         "https://image.tmdb.org/t/p/original/lYv3Mwm3t7FWEMli8ASMIhZBUBC.jpg",
         "Um jovem negro aceita trabalhar para um homem branco paraplégico e acaba dando início a uma grande e inusitada amizade. Versão americana de \"Intocáveis\", filme francês de 2012 que fez grande sucesso mundial."
        ],
        [
         "Bohemian Rhapsody",
         "24-10-2018",
         [
          "Drama",
          "Música"
         ],
         "https://image.tmdb.org/t/p/original/qxgdqcxI216kEoypGbA9BemB7mW.jpg",
         "Freddie Mercury e seus companheiros Brian May, Roger Taylor e John Deacon mudam o mundo da música para sempre ao formar a banda Queen, durante a década de 1970. Porém, quando o estilo de vida extravagante de Mercury começa a sair do controle, a banda tem que enfrentar o desafio de conciliar a fama e o sucesso com suas vidas pessoais cada vez mais complicadas."
        ],
        [
         "Free Solo",
         "28-09-2018",
         [
          "Aventura",
          "Documentário"
         ],
         "https://image.tmdb.org/t/p/original/v4QfYZMACODlWul9doN9RxE99ag.jpg",
         "Aos 30 anos de idade, Alex Honnold já era um dos mais renomados alpinistas de sua geração. Porém, independente de todas as suas conquistas, ele permaneceu obcecado com um desafio que nenhum outro alpinista havia conseguido realizar: escalar sem equipamento de segurança a rocha El Capitan, no Parque Nacional de Yosemite, na Califórnia. Os diretores E. Chai Vasarhelyi e Jimmy Chin acompanham Honnold por dois anos enquanto ele testa os limites de sua ambição."
        ],
        [
         "Terremoto",
         "31-08-2018",
         [
          "Ação",
          "Drama",
          "Thriller"
         ],
         "https://image.tmdb.org/t/p/original/oujtI4p0lolCnjBt2kvkPvmm0qK.jpg",
         "Em 1904, um terremoto de magnitude 5,4 na escala Richter sacudiu Oslo. Seu epicentro foi no \"Oslo Graben\", uma fenda que atravessa diretamente a cidade. Desde então, a população da capital norueguesa pode esperar futuros terremotos na área."
        ],
        [
         "O Protetor 2",
         "19-07-2018",
         [
          "Ação",
          "Crime",
          "Thriller"
         ],
         "https://image.tmdb.org/t/p/original/REWunAyKGCbxvg2UJGMEHuQd2c.jpg",
         "Criminosos assassinam Susan Plummer, a melhor amiga de Robert McCall e sua ex-colega de trabalho. Obcecado, Robert pensa apenas em eliminar o bando de assassinos profissionais que destruiu sua vida."
        ],
        [
         "Mulher-Maravilha",
         "30-05-2017",
         [
          "Ação",
          "Aventura",
          "Fantasia"
         ],
         "https://image.tmdb.org/t/p/original/ujQthWB6c0ojlARk28NSTmqidbF.jpg",
         "Treinada desde cedo para ser uma guerreira imbatível, Diana Prince (Gal Gadot) nunca saiu da paradisíaca ilha em que é reconhecida como Princesa das Amazonas. Quando o piloto Steve Trevor (Chris Pine) se acidenta e cai numa praia do local, ela descobre que uma guerra sem precedentes está se espalhando pelo mundo e decide deixar seu lar certa de que pode parar o conflito. Lutando para acabar com todas as lutas, Diana percebe o alcance de seus poderes e sua verdadeira missão na Terra."
        ],
        [
         "A Escalada",
         "25-01-2017",
         [
          "Aventura",
          "Comédia",
          "Romance"
         ],
         "https://image.tmdb.org/t/p/original/jxmnYUawdlSUctpN1JJ9wvE47ZH.jpg",
         "\"Para você, eu poderia escalar o Everest!\" Samy teria feito melhor se tivesse ficado calado aquele dia... Especialmente por que Nadia não acredita muito em palavras. Por amor a ela, Samy deixa projetos de vida de lado e vai subir os 8.848 metros que fazem do Everest o telhado do mundo."
        ],
        [
         "Um Contratempo",
         "06-01-2017",
         [
          "Drama",
          "Mistério",
          "Thriller"
         ],
         "https://image.tmdb.org/t/p/original/pOnbhr6DbPgKjvcNexbRdmR37De.jpg",
         "Após acordar ao lado de sua amante assassinada em um quarto de hotel, um empresário contrata uma advogada para descobrir como ele acabou sendo suspeito de um homicídio."
        ],
        [
         "O Contador",
         "13-10-2016",
         [
          "Crime",
          "Drama",
          "Thriller"
         ],
         "https://image.tmdb.org/t/p/original/vgJt4ADIjm5U2y3oPLu6kXEXOCY.jpg",
         "O matemático Christian Wolff sente-se muito mais à vontade lidando com números do que com pessoas. Atualmente, trabalha como contador autônomo para uma das maiores organizações criminosas do mundo. Com a receita federal no encalço, ele resolve mudar de ares e atender um novo cliente, uma empresa de equipamentos robóticos onde um dos funcionários descobriu um desvio gigantesco de recursos. À medida que Christian se aprofunda nos registros da empresa e se aproxima da verdade, o número de cadáveres começa a crescer rapidamente."
        ],
        [
         "Até o Último Homem",
         "07-10-2016",
         [
          "Drama",
          "História",
          "Guerra"
         ],
         "https://image.tmdb.org/t/p/original/88sCL8OQMoieKpHClqRCCbcgH6w.jpg",
         "Desmond T. Doss, foi o médico do Exército Americano da Segunda Guerra Mundial, que serviu durante a Batalha de Okinawa, se recusando a matar pessoas, tornando-se o primeiro homem da história americana a receber a Medalha de Honra sem disparar um tiro."
        ],
        [
         "Truque de Mestre: O 2º Ato",
         "02-06-2016",
         [
          "Ação",
          "Crime",
          "Mistério",
          "Thriller"
         ],
         "https://image.tmdb.org/t/p/original/9uCUHxN5MD4vX6q1YEnpL6bQLiw.jpg",
         "Após enganarem o FBI, os cavaleiros Daniel Atlas, Merritt McKinney e Jack Wilder estão foragidos. Eles seguem as ordens de Dylan Rhodes, que segue trabalhando no FBI de forma a impedir os avanços na procura dos próprios cavaleiros. Paralelamente, o grupo planeja seu novo ato: desmascarar um jovem gênio da informática, cujo novo lançamento coleta dados pessoais dos usuários."
        ],
        [
         "O Regresso",
         "25-12-2015",
         [
          "Aventura",
          "Drama",
          "Faroeste"
         ],
         "https://image.tmdb.org/t/p/original/x1jViuXsm5ZmrR6uFmxU6AVdXzs.jpg",
         "Em uma expedição pelo desconhecido deserto americano, o lendário explorador Hugh Glass é brutalmente atacado por um urso e deixado como morto pelos membros de sua própria equipe de caça. Em uma luta para sobreviver, Glass resiste à dor inimaginável, bem como à traição de seu confidente, John Fitzgerald. Guiado pela força de vontade e pelo amor de sua família, Glass deve navegar um inverno brutal em uma incessante busca por sobrevivência e redenção."
        ],
        [
         "Perdido em Marte",
         "30-09-2015",
         [
          "Aventura",
          "Drama",
          "Ficção científica"
         ],
         "https://image.tmdb.org/t/p/original/fG3S4zdgnsaF77tJGK3rA9tHBu4.jpg",
         "O astronauta Mark Watney é enviado a uma missão em Marte. Após uma severa tempestade ele é dado como morto, abandonado pelos colegas e acorda sozinho no misterioso planeta com escassos suprimentos, sem saber como reencontrar os companheiros ou retornar à Terra."
        ],
        [
         "Evereste",
         "10-09-2015",
         [
          "Aventura",
          "Drama",
          "História"
         ],
         "https://image.tmdb.org/t/p/original/2PkYTktwBeaB7xbBatMJmAY67lD.jpg",
         "Inspirado nos incríveis acontecimentos em torno da montanha mais alta do mundo, Evereste documenta a inspiradora jornada de dois diferentes grupos de expedição que são desafiados além de seus limites quando são acometidos por uma das maiores avalanches já registradas. Com a coragem testada por um dos fenômenos mais severos do planeta, os escaladores terão de enfrentar obstáculos quase impossíveis em busca de sobrevivência."
        ],
        [
         "A Onda",
         "28-08-2015",
         [
          "Ação",
          "Drama",
          "Thriller"
         ],
         "https://image.tmdb.org/t/p/original/1y2F6xuKuSpXd7OaMa6K4vetzGb.jpg",
         "Localizado na Noruega, o Fiorde de Geiranger é um dos pontos turísticos mais espetaculares da região, mas também é um local propício para cataclismas. Após anos no centro de alerta do local, o geólogo Kristian sente que alguma coisa não está normal, os substratos estão mudando. Em plena alta temporada turística, uma onda gigante atinge o local, colocando a montanha abaixo e dando apenas dez minutos para que as pessoas consigam chegar a um terreno elevado."
        ],
        [
         "O Hobbit: A Batalha dos Cinco Exércitos",
         "10-12-2014",
         [
          "Ação",
          "Aventura",
          "Fantasia"
         ],
         "https://image.tmdb.org/t/p/original/5tGL0dbQpAkK9ItUaDrUbTvTMDp.jpg",
         "O dragão Smaug lança sua fúria ardente contra a Cidade do Lago que fica próxima da montanha de Erebor. Bard consegue derrotá-lo, mas, rapidamente, sem a ameaça do dragão, inicia-se uma batalha pelo controle de Erebor e sua riqueza. Os anões, liderados por Thorin, adentram a montanha e estão dispostos a impedir a entrada de elfos, anões e orcs. Bilbo Bolseiro e Gandalf tentam impedir a guerra."
        ],
        [
         "O Jogo da Imitação",
         "14-11-2014",
         [
          "Drama",
          "História",
          "Thriller",
          "Guerra"
         ],
         "https://image.tmdb.org/t/p/original/bwWCFjhwrs5my4FUoeWdTa2GYlB.jpg",
         "Em 1939, a recém-criada agência de inteligência britânica MI6 recruta Alan Turing, um aluno da Universidade de Cambridge, para entender códigos nazistas, incluindo o \"Enigma\", que criptógrafos acreditavam ser inquebrável. A equipe de Turing, incluindo Joan Clarke, analisa as mensagens de \"Enigma\", enquanto ele constrói uma máquina para decifrá-las."
        ],
        [
         "Interestelar",
         "05-11-2014",
         [
          "Aventura",
          "Drama",
          "Ficção científica"
         ],
         "https://image.tmdb.org/t/p/original/nCbkOyOMTEwlEV0LtCOvCnwEONA.jpg",
         "As reservas naturais da Terra estão chegando ao fim e um grupo de astronautas recebe a missão de verificar possíveis planetas para receberem a população mundial, possibilitando a continuação da espécie. Cooper é chamado para liderar o grupo e aceita a missão sabendo que pode nunca mais ver os filhos. Ao lado de Brand, Jenkins e Doyle, ele seguirá em busca de um novo lar."
        ],
        [
         "Corações de Ferro",
         "15-10-2014",
         [
          "Ação",
          "Drama",
          "Guerra"
         ],
         "https://image.tmdb.org/t/p/original/8WtUjpboPESZbabGbC4ryd81KcR.jpg",
         "Durante o final da Segunda Guerra Mundial, um grupo de cinco soldados americanos é encarregado de atacar os nazistas dentro da própria Alemanha. Apesar de estarem em quantidade inferior e terem poucas armas, eles são liderados pelo enfurecido Wardaddy, sargento que pretende levá-los à vitória, enquanto ensina o novato Norman a lutar."
        ],
        [
         "O Protetor",
         "24-09-2014",
         [
          "Ação",
          "Crime",
          "Thriller"
         ],
         "https://image.tmdb.org/t/p/original/xTSOdJ0Ljs439lnKB7NsWlTibZN.jpg",
         "O ex-agente secreto Robert McCall acredita que seu passado ficou para trás e tenta viver uma nova vida. Porém, quando ele conhece Teri, uma jovem que está em poder de uma quadrilha russa, ele simplesmente não consegue ignorá-la. Munido de suas extraordinárias habilidades, ele ressurge como um verdadeiro anjo vingador. Fora da aposentadoria e com um novo desejo de fazer justiça, McCall decide ajudar quem foi brutalizado e oprimido."
        ],
        [
         "Planeta dos Macacos: O Confronto",
         "08-07-2014",
         [
          "Ação",
          "Drama",
          "Ficção científica",
          "Thriller"
         ],
         "https://image.tmdb.org/t/p/original/4vLhF6R3lmhTjTVUdK4gI1s5a8v.jpg",
         "Em 2026, a humanidade está enfrentando sua pior crise e está muito próxima da extinção por conta de um vírus mortal. Um grupo de sobreviventes organiza uma expedição pelas florestas próximas de São Francisco em busca de uma nova fonte de energia quando se deparam com uma comunidade, muito evoluída, de macacos liderados por César. Alguns dissidentes, mesmo com o pacto de paz firmado, quebram a trégua e dão início a uma guerra sem precedentes entre as duas espécies."
        ],
        [
         "Divergente",
         "14-03-2014",
         [
          "Ação",
          "Aventura",
          "Ficção científica"
         ],
         "https://image.tmdb.org/t/p/original/gktEuhRYZrlinT3sLSt7Fvmqbe5.jpg",
         "Na futurística cidade de Chicago, ao completar 16 anos, Beatrice precisa escolher entre as diferentes facções em que a cidade está dividida. Cada uma representa um valor diferente e, ao contrário de sua família, a jovem opta pela facção dos destemidos, a Audácia. Ela então se torna Tris e inicia uma jornada para afastar seus medos e descobrir quem realmente é. Durante essa jornada, acaba conhecendo o jovem Quatro, um rapaz experiente que tem o dom de intrigá-la e de encantá-la ao mesmo tempo."
        ],
        [
         "Livre",
         "16-01-2014",
         [
          "Drama"
         ],
         "https://image.tmdb.org/t/p/original/l0b26MyxquriVDIcfNgo84Gg1v4.jpg",
         "Após a morte de sua mãe, um divórcio e uma fase de autodestruição repleta de heroína, Cheryl Strayed (Reese Witherspoon) decide mudar e investir em uma nova vida junto à natureza selvagem. Para tanto, ela se aventura em uma trilha de 1100 milhas pela costa do oceano Pacífico."
        ],
        [
         "O Lobo de Wall Street",
         "25-12-2013",
         [
          "Comédia",
          "Crime",
          "Drama"
         ],
         "https://image.tmdb.org/t/p/original/esJTXTdj4JZDyP5LUI1Fq3kyNda.jpg",
         "Durante seis meses, Jordan Belfort (Leonardo DiCaprio) trabalhou duro em uma corretora de Wall Street, seguindo os ensinamentos de seu mentor Mark Hanna (Matthew McConaughey). Quando finalmente consegue ser contratado como corretor da firma, acontece o Black Monday, que faz com que as bolsas de vários países caiam repentinamente. Sem emprego e bastante ambicioso, ele acaba trabalhando para uma empresa de fundo de quintal que lida com papéis de baixo valor, que não estão na bolsa de valores. É lá que Belfort tem a idéia de montar uma empresa focada neste tipo de negócio, cujas vendas são de valores mais baixos mas, em compensação, o retorno para o corretor é bem mais vantajoso. Ao lado de Donnie (Jonah Hill) e outros amigos dos velhos tempos, ele cria a Stratton Oakmont, uma empresa que faz com que todos enriqueçam rapidamente e, também, levem uma vida dedicada ao prazer."
        ],
        [
         "O Hobbit: A Desolação de Smaug",
         "11-12-2013",
         [
          "Ação",
          "Aventura",
          "Fantasia"
         ],
         "https://image.tmdb.org/t/p/original/beqHE5BZY5LczMxJezL4FdY7mBp.jpg",
         "Ao lado de um grupo de anões e de Gandalf, Bilbo segue em direção à Montanha Solitária, onde deverá ajudar seus companheiros a retomar a Pedra de Arken. O problema é que o artefato está perdido em meio a um tesouro protegido pelo temido dragão Smaug."
        ],
        [
         "Gravidade",
         "03-10-2013",
         [
          "Drama",
          "Ficção científica",
          "Thriller"
         ],
         "https://image.tmdb.org/t/p/original/eHLufJ1bHy4PtEBJdPSTu4jIhZ0.jpg",
         "Matt Kowalski é um astronauta experiente que está em missão de conserto ao telescópio Hubble juntamente com a doutora Ryan Stone. Ambos são surpreendidos por uma chuva de destroços decorrente da destruição de um satélite por um míssil russo, que faz com que sejam jogados no espaço sideral. Sem qualquer apoio da base terrestre da NASA, eles precisam encontrar um meio de sobreviver em meio a um ambiente completamente inóspito para a vida humana."
        ],
        [
         "O Hobbit: Uma Jornada Inesperada",
         "12-12-2012",
         [
          "Ação",
          "Aventura",
          "Fantasia"
         ],
         "https://image.tmdb.org/t/p/original/qmHzmfcCWKyQZ8NFQkIYH8JdShI.jpg",
         "Como a maioria dos hobbits, Bilbo Bolseiro leva uma vida tranquila até o dia em que recebe uma missão do mago Gandalf. Acompanhado por um grupo de anões, ele parte numa jornada até a Montanha Solitária para libertar o Reino de Erebor do dragão Smaug."
        ],
        [
         "Planeta dos Macacos: A Origem",
         "03-08-2011",
         [
          "Ação",
          "Drama",
          "Ficção científica",
          "Thriller"
         ],
         "https://image.tmdb.org/t/p/original/qxe4ONZAgtC0mfsIuOyqVU9JREj.jpg",
         "Nossa maior descoberta tornar-se-á a maior ameaça para a humanidade quando um cientista na iminência de um grande avanço da medicina começa a fazer testes num jovem chimpanzé chamado César. Quando o chimpanzé desenvolve inteligência e emoções semelhantes às dos humanos, uma batalha épica surge para determinar a espécie dominante no planeta!"
        ],
        [
         "127 Horas",
         "12-11-2010",
         [
          "Aventura",
          "Drama",
          "Thriller"
         ],
         "https://image.tmdb.org/t/p/original/1HoqPAq2HMUMwI0u4mpcBN4v9WJ.jpg",
         "Ao explorar um cânion remoto em Utah, o alpinista e aventureiro Aron Ralston fica preso em uma fenda quando uma pedra cai. Nos cinco dias seguintes, Ralston examina sua vida e considera suas opções, as quais o levam a uma situação angustiante. Aron precisa tomar uma atitude para que possa se libertar e tentar voltar para a civilização."
        ],
        [
         "Tropa de Elite 2: O Inimigo Agora é Outro",
         "08-10-2010",
         [
          "Ação",
          "Crime",
          "Drama"
         ],
         "https://image.tmdb.org/t/p/original/8G7F938AHqBBLc5yJXPUJhSJzN5.jpg",
         "O destino da cidade do Rio de Janeiro e de Nascimento se cruzam em \"Tropa de Elite 2\", quando suas obrigações de pai se chocam com as de policial. Mais maduro, estratégico e solitário, o agora Coronel Nascimento faz o bope crescer e coloca o tráfico de drogas de joelho. Isto apenas para descobrir que na segurança pública do Rio de Janeiro nada é o que parece. O sistema se reinventa e descobre como lucrar sem o intermédio do tráfico. Em perseguição ao caminho trilhado pelo sistema, Nascimento vai além dos limites do quartel, revelando as ligações das milícias com o Estado. E o preço por essa descoberta é alto: o inimigo agora é outro."
        ],
        [
         "Em Busca de um Caminho",
         "10-09-2010",
         [
          "Aventura",
          "Comédia",
          "Drama"
         ],
         "https://image.tmdb.org/t/p/original/4wJb8HLMWaJXrYznXNf7eqFUJKL.jpg",
         "O oftalmologista Tom Avery (Martin Sheen) e seu único filho Daniel (Emilio Estevez) têm uma relação distante. Quando o rapaz viaja para a Espanha para cruzar o Caminho de Santiago de Compostela, acaba perdendo a vida em uma fatalidade. Tom, então, vai até a França para recolher o corpo de seu filho. Chegando lá, ele resolve fazer o Caminho, completando o percurso que Daniel havia começado, levando junto as cinzas do rapaz. Durante a empreitada, ele encontra companheiros que vão lhe mostrar que nenhum caminho deve ser percorrido sozinho."
        ],
        [
         "A Origem",
         "15-07-2010",
         [
          "Ação",
          "Aventura",
          "Ficção científica"
         ],
         "https://image.tmdb.org/t/p/original/9e3Dz7aCANy5aRUQF745IlNloJ1.jpg",
         "Um ladrão que rouba segredos corporativos por meio do uso da tecnologia de compartilhamento de sonhos, recebe a tarefa inversa de plantar uma ideia na mente de um Diretor Executivo."
        ],
        [
         "O Livro de Eli",
         "14-01-2010",
         [
          "Ação",
          "Ficção científica",
          "Thriller"
         ],
         "https://image.tmdb.org/t/p/original/AvPmDjktmbme4QTGRiQxUj2dbJV.jpg",
         "Trinta anos depois da guerra ter dizimado o mundo, um guerreiro solitário chamado Eli caminha por horizontes arruinados dando esperança para os que restaram. Apenas um outro homem compreende o poder de um livro que Eli carrega e está determinado a se apoderar dele. Apesar de Eli preferir a paz, ele arriscará a sua vida para proteger a sua carga preciosa, pois precisa cumprir o seu destino de ajudar a restaurar a humanidade."
        ],
        [
         "Anjos e Demônios",
         "13-05-2009",
         [
          "Mistério",
          "Thriller"
         ],
         "https://image.tmdb.org/t/p/original/pVhKBn8HTJVksw3Msk76MgMogiy.jpg",
         "O professor de simbologia Robert Langdon (Tom Hanks), depois de decifrar o código DaVinci, é chamado pelo Vaticano para investigar o misterioso desaparecimento de quatro cardeais. Agora, além de enfrentar a resistência da própria igreja em ajudá-lo nos detalhes de sua investigação, Langdon precisa decifrar charadas numa verdadeira corrida contra o tempo porque a sociedade secreta por trás do crime em andamento tem planos de explodir o Vaticano."
        ]
       ],
       "datasetInfos": [],
       "dbfsResultPath": null,
       "isJsonSchema": true,
       "metadata": {
        "dataframeName": "_sqldf",
        "executionCount": 36
       },
       "overflow": false,
       "plotOptions": {
        "customPlotOptions": {},
        "displayType": "table",
        "pivotAggregation": null,
        "pivotColumns": null,
        "xColumns": null,
        "yColumns": null
       },
       "removedWidgets": [],
       "schema": [
        {
         "metadata": "{}",
         "name": "TITULO",
         "type": "\"string\""
        },
        {
         "metadata": "{}",
         "name": "DATA_DE_LANCAMENTO",
         "type": "\"string\""
        },
        {
         "metadata": "{}",
         "name": "GENERO",
         "type": "{\"type\":\"array\",\"elementType\":\"string\",\"containsNull\":true}"
        },
        {
         "metadata": "{}",
         "name": "DIRETORIO_POSTER",
         "type": "\"string\""
        },
        {
         "metadata": "{}",
         "name": "SINOPSE",
         "type": "\"string\""
        }
       ],
       "type": "table"
      }
     },
     "output_type": "display_data"
    }
   ],
   "source": [
    "%sql\n",
    "--Criando tabela ouro com os filmes lançados nos últimos 15 anos\n",
    "USE DBTMDB;\n",
    "\n",
    "CREATE OR REPLACE TABLE TMDB_OURO_FILMES_ULTIMOS_15A AS\n",
    "SELECT \n",
    "TITLE AS TITULO,\n",
    "date_format(RELEASE_DATE, 'dd-MM-yyyy') AS DATA_DE_LANCAMENTO,\n",
    "GENERO,\n",
    "POSTER_PATH AS DIRETORIO_POSTER,\n",
    "OVERVIEW AS SINOPSE\n",
    "FROM TMDB_PRATA\n",
    "WHERE RELEASE_DATE >= date_sub(current_date(), 15 * 365)\n",
    "ORDER BY RELEASE_DATE DESC;\n",
    "\n",
    "SELECT * FROM TMDB_OURO_FILMES_ULTIMOS_15A ORDER BY CAST(DATA_DE_LANCAMENTO AS DATE) DESC;"
   ]
  },
  {
   "cell_type": "code",
   "execution_count": 0,
   "metadata": {
    "application/vnd.databricks.v1+cell": {
     "cellMetadata": {
      "byteLimit": 2048000,
      "implicitDf": true,
      "rowLimit": 10000
     },
     "inputWidgets": {},
     "nuid": "9da03ad0-cba6-43dc-b34e-804004ae3995",
     "showTitle": false,
     "title": ""
    }
   },
   "outputs": [
    {
     "output_type": "display_data",
     "data": {
      "text/html": [
       "<style scoped>\n",
       "  .table-result-container {\n",
       "    max-height: 300px;\n",
       "    overflow: auto;\n",
       "  }\n",
       "  table, th, td {\n",
       "    border: 1px solid black;\n",
       "    border-collapse: collapse;\n",
       "  }\n",
       "  th, td {\n",
       "    padding: 5px;\n",
       "  }\n",
       "  th {\n",
       "    text-align: left;\n",
       "  }\n",
       "</style><div class='table-result-container'><table class='table-result'><thead style='background-color: white'><tr><th>TITULO</th><th>DATA_DE_LANCAMENTO</th><th>GENERO</th><th>NOTA_AVALIACAO</th><th>DIRETORIO_POSTER</th><th>SINOPSE</th></tr></thead><tbody><tr><td>O Senhor dos Anéis: O Retorno do Rei</td><td>01-12-2003</td><td>List(Ação, Aventura, Fantasia)</td><td>8.477</td><td>https://image.tmdb.org/t/p/original/aXS3D94iIO9dheHrG0BhgUR4Wuy.jpg</td><td>O confronto final entre as forças do bem e do mal que lutam pelo controle do futuro da Terra Média se aproxima. Sauron planeja um grande ataque a Minas Tirith, capital de Gondor, o que faz com que Gandalf e Pippin partam para o local na intenção de ajudar a resistência. Um exército é reunido por Theoden em Rohan, em mais uma tentativa de deter as forças de Sauron. Enquanto isso, Frodo, Sam e Gollum seguem sua viagem rumo à Montanha da Perdição para destruir o anel.</td></tr><tr><td>Interestelar</td><td>05-11-2014</td><td>List(Aventura, Drama, Ficção científica)</td><td>8.429</td><td>https://image.tmdb.org/t/p/original/nCbkOyOMTEwlEV0LtCOvCnwEONA.jpg</td><td>As reservas naturais da Terra estão chegando ao fim e um grupo de astronautas recebe a missão de verificar possíveis planetas para receberem a população mundial, possibilitando a continuação da espécie. Cooper é chamado para liderar o grupo e aceita a missão sabendo que pode nunca mais ver os filhos. Ao lado de Brand, Jenkins e Doyle, ele seguirá em busca de um novo lar.</td></tr><tr><td>O Senhor dos Anéis: A Sociedade do Anel</td><td>18-12-2001</td><td>List(Ação, Aventura, Fantasia)</td><td>8.409</td><td>https://image.tmdb.org/t/p/original/hq45YolNIGtrQZRJdjIRZOyONJa.jpg</td><td>Em uma terra fantástica e única, um hobbit recebe de presente de seu tio um anel mágico e maligno que precisa ser destruído antes que caia nas mãos do mal. Para isso, o hobbit Frodo tem um caminho árduo pela frente, onde encontra perigo, medo e seres bizarros. Ao seu lado para o cumprimento desta jornada, ele aos poucos pode contar com outros hobbits, um elfo, um anão, dois humanos e um mago, totalizando nove pessoas que formam a Sociedade do Anel.</td></tr><tr><td>O Senhor dos Anéis: As Duas Torres</td><td>18-12-2002</td><td>List(Ação, Aventura, Fantasia)</td><td>8.392</td><td>https://image.tmdb.org/t/p/original/20eUL6eN89SM0U7KPDw8iR82mOT.jpg</td><td>Após a captura de Merry e Pippy pelos orcs, a Sociedade do Anel é dissolvida. Frodo e Sam seguem sua jornada rumo à Montanha da Perdição para destruir o anel e descobrem que estão sendo perseguidos pelo misterioso Gollum. Enquanto isso, Aragorn, o elfo e arqueiro Legolas e o anão Gimli partem para resgatar os hobbits sequestrados e chegam ao reino de Rohan, onde o rei Theoden foi vítima de uma maldição mortal de Saruman.</td></tr><tr><td>A Origem</td><td>15-07-2010</td><td>List(Ação, Aventura, Ficção científica)</td><td>8.367</td><td>https://image.tmdb.org/t/p/original/9e3Dz7aCANy5aRUQF745IlNloJ1.jpg</td><td>Um ladrão que rouba segredos corporativos por meio do uso da tecnologia de compartilhamento de sonhos, recebe a tarefa inversa de plantar uma ideia na mente de um Diretor Executivo.</td></tr></tbody></table></div>"
      ]
     },
     "metadata": {
      "application/vnd.databricks.v1+output": {
       "addedWidgets": {},
       "aggData": [],
       "aggError": "",
       "aggOverflow": false,
       "aggSchema": [],
       "aggSeriesLimitReached": false,
       "aggType": "",
       "arguments": {},
       "columnCustomDisplayInfos": {},
       "data": [
        [
         "O Senhor dos Anéis: O Retorno do Rei",
         "01-12-2003",
         [
          "Ação",
          "Aventura",
          "Fantasia"
         ],
         8.477,
         "https://image.tmdb.org/t/p/original/aXS3D94iIO9dheHrG0BhgUR4Wuy.jpg",
         "O confronto final entre as forças do bem e do mal que lutam pelo controle do futuro da Terra Média se aproxima. Sauron planeja um grande ataque a Minas Tirith, capital de Gondor, o que faz com que Gandalf e Pippin partam para o local na intenção de ajudar a resistência. Um exército é reunido por Theoden em Rohan, em mais uma tentativa de deter as forças de Sauron. Enquanto isso, Frodo, Sam e Gollum seguem sua viagem rumo à Montanha da Perdição para destruir o anel."
        ],
        [
         "Interestelar",
         "05-11-2014",
         [
          "Aventura",
          "Drama",
          "Ficção científica"
         ],
         8.429,
         "https://image.tmdb.org/t/p/original/nCbkOyOMTEwlEV0LtCOvCnwEONA.jpg",
         "As reservas naturais da Terra estão chegando ao fim e um grupo de astronautas recebe a missão de verificar possíveis planetas para receberem a população mundial, possibilitando a continuação da espécie. Cooper é chamado para liderar o grupo e aceita a missão sabendo que pode nunca mais ver os filhos. Ao lado de Brand, Jenkins e Doyle, ele seguirá em busca de um novo lar."
        ],
        [
         "O Senhor dos Anéis: A Sociedade do Anel",
         "18-12-2001",
         [
          "Ação",
          "Aventura",
          "Fantasia"
         ],
         8.409,
         "https://image.tmdb.org/t/p/original/hq45YolNIGtrQZRJdjIRZOyONJa.jpg",
         "Em uma terra fantástica e única, um hobbit recebe de presente de seu tio um anel mágico e maligno que precisa ser destruído antes que caia nas mãos do mal. Para isso, o hobbit Frodo tem um caminho árduo pela frente, onde encontra perigo, medo e seres bizarros. Ao seu lado para o cumprimento desta jornada, ele aos poucos pode contar com outros hobbits, um elfo, um anão, dois humanos e um mago, totalizando nove pessoas que formam a Sociedade do Anel."
        ],
        [
         "O Senhor dos Anéis: As Duas Torres",
         "18-12-2002",
         [
          "Ação",
          "Aventura",
          "Fantasia"
         ],
         8.392,
         "https://image.tmdb.org/t/p/original/20eUL6eN89SM0U7KPDw8iR82mOT.jpg",
         "Após a captura de Merry e Pippy pelos orcs, a Sociedade do Anel é dissolvida. Frodo e Sam seguem sua jornada rumo à Montanha da Perdição para destruir o anel e descobrem que estão sendo perseguidos pelo misterioso Gollum. Enquanto isso, Aragorn, o elfo e arqueiro Legolas e o anão Gimli partem para resgatar os hobbits sequestrados e chegam ao reino de Rohan, onde o rei Theoden foi vítima de uma maldição mortal de Saruman."
        ],
        [
         "A Origem",
         "15-07-2010",
         [
          "Ação",
          "Aventura",
          "Ficção científica"
         ],
         8.367,
         "https://image.tmdb.org/t/p/original/9e3Dz7aCANy5aRUQF745IlNloJ1.jpg",
         "Um ladrão que rouba segredos corporativos por meio do uso da tecnologia de compartilhamento de sonhos, recebe a tarefa inversa de plantar uma ideia na mente de um Diretor Executivo."
        ]
       ],
       "datasetInfos": [],
       "dbfsResultPath": null,
       "isJsonSchema": true,
       "metadata": {
        "dataframeName": "_sqldf",
        "executionCount": 37
       },
       "overflow": false,
       "plotOptions": {
        "customPlotOptions": {},
        "displayType": "table",
        "pivotAggregation": null,
        "pivotColumns": null,
        "xColumns": null,
        "yColumns": null
       },
       "removedWidgets": [],
       "schema": [
        {
         "metadata": "{}",
         "name": "TITULO",
         "type": "\"string\""
        },
        {
         "metadata": "{}",
         "name": "DATA_DE_LANCAMENTO",
         "type": "\"string\""
        },
        {
         "metadata": "{}",
         "name": "GENERO",
         "type": "{\"type\":\"array\",\"elementType\":\"string\",\"containsNull\":true}"
        },
        {
         "metadata": "{}",
         "name": "NOTA_AVALIACAO",
         "type": "\"float\""
        },
        {
         "metadata": "{}",
         "name": "DIRETORIO_POSTER",
         "type": "\"string\""
        },
        {
         "metadata": "{}",
         "name": "SINOPSE",
         "type": "\"string\""
        }
       ],
       "type": "table"
      }
     },
     "output_type": "display_data"
    }
   ],
   "source": [
    "%sql\n",
    "--lista dos 5 melhores filmes de aventura para criar tabela ouro\n",
    "SELECT \n",
    "TITLE AS TITULO,\n",
    "date_format(RELEASE_DATE, 'dd-MM-yyyy') AS DATA_DE_LANCAMENTO,\n",
    "GENERO,\n",
    "VOTE_AVERAGE AS NOTA_AVALIACAO,\n",
    "POSTER_PATH AS DIRETORIO_POSTER,\n",
    "OVERVIEW AS SINOPSE\n",
    "FROM TMDB_PRATA\n",
    "WHERE array_contains(GENERO,'Aventura') \n",
    "ORDER BY VOTE_AVERAGE DESC\n",
    "LIMIT 5;"
   ]
  },
  {
   "cell_type": "code",
   "execution_count": 0,
   "metadata": {
    "application/vnd.databricks.v1+cell": {
     "cellMetadata": {
      "byteLimit": 2048000,
      "implicitDf": true,
      "rowLimit": 10000
     },
     "inputWidgets": {},
     "nuid": "ccb4c1b6-60d3-4f57-92b4-f4e14c71a1f8",
     "showTitle": false,
     "title": ""
    }
   },
   "outputs": [
    {
     "output_type": "display_data",
     "data": {
      "text/html": [
       "<style scoped>\n",
       "  .table-result-container {\n",
       "    max-height: 300px;\n",
       "    overflow: auto;\n",
       "  }\n",
       "  table, th, td {\n",
       "    border: 1px solid black;\n",
       "    border-collapse: collapse;\n",
       "  }\n",
       "  th, td {\n",
       "    padding: 5px;\n",
       "  }\n",
       "  th {\n",
       "    text-align: left;\n",
       "  }\n",
       "</style><div class='table-result-container'><table class='table-result'><thead style='background-color: white'><tr><th>TITULO</th><th>DATA_DE_LANCAMENTO</th><th>GENERO</th><th>NOTA_AVALIACAO</th><th>DIRETORIO_POSTER</th><th>SINOPSE</th></tr></thead><tbody><tr><td>O Senhor dos Anéis: O Retorno do Rei</td><td>01-12-2003</td><td>List(Ação, Aventura, Fantasia)</td><td>8.477</td><td>https://image.tmdb.org/t/p/original/aXS3D94iIO9dheHrG0BhgUR4Wuy.jpg</td><td>O confronto final entre as forças do bem e do mal que lutam pelo controle do futuro da Terra Média se aproxima. Sauron planeja um grande ataque a Minas Tirith, capital de Gondor, o que faz com que Gandalf e Pippin partam para o local na intenção de ajudar a resistência. Um exército é reunido por Theoden em Rohan, em mais uma tentativa de deter as forças de Sauron. Enquanto isso, Frodo, Sam e Gollum seguem sua viagem rumo à Montanha da Perdição para destruir o anel.</td></tr><tr><td>Interestelar</td><td>05-11-2014</td><td>List(Aventura, Drama, Ficção científica)</td><td>8.429</td><td>https://image.tmdb.org/t/p/original/nCbkOyOMTEwlEV0LtCOvCnwEONA.jpg</td><td>As reservas naturais da Terra estão chegando ao fim e um grupo de astronautas recebe a missão de verificar possíveis planetas para receberem a população mundial, possibilitando a continuação da espécie. Cooper é chamado para liderar o grupo e aceita a missão sabendo que pode nunca mais ver os filhos. Ao lado de Brand, Jenkins e Doyle, ele seguirá em busca de um novo lar.</td></tr><tr><td>O Senhor dos Anéis: A Sociedade do Anel</td><td>18-12-2001</td><td>List(Ação, Aventura, Fantasia)</td><td>8.409</td><td>https://image.tmdb.org/t/p/original/hq45YolNIGtrQZRJdjIRZOyONJa.jpg</td><td>Em uma terra fantástica e única, um hobbit recebe de presente de seu tio um anel mágico e maligno que precisa ser destruído antes que caia nas mãos do mal. Para isso, o hobbit Frodo tem um caminho árduo pela frente, onde encontra perigo, medo e seres bizarros. Ao seu lado para o cumprimento desta jornada, ele aos poucos pode contar com outros hobbits, um elfo, um anão, dois humanos e um mago, totalizando nove pessoas que formam a Sociedade do Anel.</td></tr><tr><td>O Senhor dos Anéis: As Duas Torres</td><td>18-12-2002</td><td>List(Ação, Aventura, Fantasia)</td><td>8.392</td><td>https://image.tmdb.org/t/p/original/20eUL6eN89SM0U7KPDw8iR82mOT.jpg</td><td>Após a captura de Merry e Pippy pelos orcs, a Sociedade do Anel é dissolvida. Frodo e Sam seguem sua jornada rumo à Montanha da Perdição para destruir o anel e descobrem que estão sendo perseguidos pelo misterioso Gollum. Enquanto isso, Aragorn, o elfo e arqueiro Legolas e o anão Gimli partem para resgatar os hobbits sequestrados e chegam ao reino de Rohan, onde o rei Theoden foi vítima de uma maldição mortal de Saruman.</td></tr><tr><td>A Origem</td><td>15-07-2010</td><td>List(Ação, Aventura, Ficção científica)</td><td>8.367</td><td>https://image.tmdb.org/t/p/original/9e3Dz7aCANy5aRUQF745IlNloJ1.jpg</td><td>Um ladrão que rouba segredos corporativos por meio do uso da tecnologia de compartilhamento de sonhos, recebe a tarefa inversa de plantar uma ideia na mente de um Diretor Executivo.</td></tr></tbody></table></div>"
      ]
     },
     "metadata": {
      "application/vnd.databricks.v1+output": {
       "addedWidgets": {},
       "aggData": [],
       "aggError": "",
       "aggOverflow": false,
       "aggSchema": [],
       "aggSeriesLimitReached": false,
       "aggType": "",
       "arguments": {},
       "columnCustomDisplayInfos": {},
       "data": [
        [
         "O Senhor dos Anéis: O Retorno do Rei",
         "01-12-2003",
         [
          "Ação",
          "Aventura",
          "Fantasia"
         ],
         8.477,
         "https://image.tmdb.org/t/p/original/aXS3D94iIO9dheHrG0BhgUR4Wuy.jpg",
         "O confronto final entre as forças do bem e do mal que lutam pelo controle do futuro da Terra Média se aproxima. Sauron planeja um grande ataque a Minas Tirith, capital de Gondor, o que faz com que Gandalf e Pippin partam para o local na intenção de ajudar a resistência. Um exército é reunido por Theoden em Rohan, em mais uma tentativa de deter as forças de Sauron. Enquanto isso, Frodo, Sam e Gollum seguem sua viagem rumo à Montanha da Perdição para destruir o anel."
        ],
        [
         "Interestelar",
         "05-11-2014",
         [
          "Aventura",
          "Drama",
          "Ficção científica"
         ],
         8.429,
         "https://image.tmdb.org/t/p/original/nCbkOyOMTEwlEV0LtCOvCnwEONA.jpg",
         "As reservas naturais da Terra estão chegando ao fim e um grupo de astronautas recebe a missão de verificar possíveis planetas para receberem a população mundial, possibilitando a continuação da espécie. Cooper é chamado para liderar o grupo e aceita a missão sabendo que pode nunca mais ver os filhos. Ao lado de Brand, Jenkins e Doyle, ele seguirá em busca de um novo lar."
        ],
        [
         "O Senhor dos Anéis: A Sociedade do Anel",
         "18-12-2001",
         [
          "Ação",
          "Aventura",
          "Fantasia"
         ],
         8.409,
         "https://image.tmdb.org/t/p/original/hq45YolNIGtrQZRJdjIRZOyONJa.jpg",
         "Em uma terra fantástica e única, um hobbit recebe de presente de seu tio um anel mágico e maligno que precisa ser destruído antes que caia nas mãos do mal. Para isso, o hobbit Frodo tem um caminho árduo pela frente, onde encontra perigo, medo e seres bizarros. Ao seu lado para o cumprimento desta jornada, ele aos poucos pode contar com outros hobbits, um elfo, um anão, dois humanos e um mago, totalizando nove pessoas que formam a Sociedade do Anel."
        ],
        [
         "O Senhor dos Anéis: As Duas Torres",
         "18-12-2002",
         [
          "Ação",
          "Aventura",
          "Fantasia"
         ],
         8.392,
         "https://image.tmdb.org/t/p/original/20eUL6eN89SM0U7KPDw8iR82mOT.jpg",
         "Após a captura de Merry e Pippy pelos orcs, a Sociedade do Anel é dissolvida. Frodo e Sam seguem sua jornada rumo à Montanha da Perdição para destruir o anel e descobrem que estão sendo perseguidos pelo misterioso Gollum. Enquanto isso, Aragorn, o elfo e arqueiro Legolas e o anão Gimli partem para resgatar os hobbits sequestrados e chegam ao reino de Rohan, onde o rei Theoden foi vítima de uma maldição mortal de Saruman."
        ],
        [
         "A Origem",
         "15-07-2010",
         [
          "Ação",
          "Aventura",
          "Ficção científica"
         ],
         8.367,
         "https://image.tmdb.org/t/p/original/9e3Dz7aCANy5aRUQF745IlNloJ1.jpg",
         "Um ladrão que rouba segredos corporativos por meio do uso da tecnologia de compartilhamento de sonhos, recebe a tarefa inversa de plantar uma ideia na mente de um Diretor Executivo."
        ]
       ],
       "datasetInfos": [],
       "dbfsResultPath": null,
       "isJsonSchema": true,
       "metadata": {
        "dataframeName": "_sqldf",
        "executionCount": 38
       },
       "overflow": false,
       "plotOptions": {
        "customPlotOptions": {},
        "displayType": "table",
        "pivotAggregation": null,
        "pivotColumns": null,
        "xColumns": null,
        "yColumns": null
       },
       "removedWidgets": [],
       "schema": [
        {
         "metadata": "{}",
         "name": "TITULO",
         "type": "\"string\""
        },
        {
         "metadata": "{}",
         "name": "DATA_DE_LANCAMENTO",
         "type": "\"string\""
        },
        {
         "metadata": "{}",
         "name": "GENERO",
         "type": "{\"type\":\"array\",\"elementType\":\"string\",\"containsNull\":true}"
        },
        {
         "metadata": "{}",
         "name": "NOTA_AVALIACAO",
         "type": "\"float\""
        },
        {
         "metadata": "{}",
         "name": "DIRETORIO_POSTER",
         "type": "\"string\""
        },
        {
         "metadata": "{}",
         "name": "SINOPSE",
         "type": "\"string\""
        }
       ],
       "type": "table"
      }
     },
     "output_type": "display_data"
    }
   ],
   "source": [
    "%sql\n",
    "--Criando tabela ouro com a lista dos 5 melhores filmes de aventura\n",
    "USE DBTMDB;\n",
    "CREATE OR REPLACE TABLE TMDB_OURO_5MELHORES_AVENTURA AS\n",
    "SELECT \n",
    "TITLE AS TITULO,\n",
    "date_format(RELEASE_DATE, 'dd-MM-yyyy') AS DATA_DE_LANCAMENTO,\n",
    "GENERO,\n",
    "VOTE_AVERAGE AS NOTA_AVALIACAO,\n",
    "POSTER_PATH AS DIRETORIO_POSTER,\n",
    "OVERVIEW AS SINOPSE\n",
    "FROM TMDB_PRATA\n",
    "WHERE array_contains(GENERO,'Aventura') \n",
    "ORDER BY VOTE_AVERAGE DESC\n",
    "LIMIT 5;\n",
    "\n",
    "SELECT * FROM TMDB_OURO_5MELHORES_AVENTURA ORDER BY NOTA_AVALIACAO DESC;"
   ]
  },
  {
   "cell_type": "code",
   "execution_count": 0,
   "metadata": {
    "application/vnd.databricks.v1+cell": {
     "cellMetadata": {
      "byteLimit": 2048000,
      "implicitDf": true,
      "rowLimit": 10000
     },
     "inputWidgets": {},
     "nuid": "25507d81-1452-48f7-93aa-d1536d49efdf",
     "showTitle": false,
     "title": ""
    }
   },
   "outputs": [
    {
     "output_type": "display_data",
     "data": {
      "text/html": [
       "<style scoped>\n",
       "  .table-result-container {\n",
       "    max-height: 300px;\n",
       "    overflow: auto;\n",
       "  }\n",
       "  table, th, td {\n",
       "    border: 1px solid black;\n",
       "    border-collapse: collapse;\n",
       "  }\n",
       "  th, td {\n",
       "    padding: 5px;\n",
       "  }\n",
       "  th {\n",
       "    text-align: left;\n",
       "  }\n",
       "</style><div class='table-result-container'><table class='table-result'><thead style='background-color: white'><tr><th>TITULO</th><th>DATA_DE_LANCAMENTO</th><th>GENERO</th><th>NOTA_AVALIACAO</th><th>DIRETORIO_POSTER</th><th>SINOPSE</th></tr></thead><tbody><tr><td>Forrest Gump: O Contador de Histórias</td><td>23-06-1994</td><td>List(Comédia, Drama, Romance)</td><td>8.5</td><td>https://image.tmdb.org/t/p/original/d74WpIsH8379TIL4wUxDneRCYv2.jpg</td><td>Quarenta anos da história dos Estados Unidos, vistos pelos olhos de Forrest Gump, um rapaz com QI abaixo da média e com boas intenções. Por obra do acaso, ele consegue participar de momentos cruciais, como a Guerra do Vietnã e o Caso Watergate, mas continua pensando no seu amor de infância, Jenny Curran.</td></tr><tr><td>O Auto da Compadecida</td><td>15-09-2000</td><td>List(Comédia, Drama, Fantasia)</td><td>8.4</td><td>https://image.tmdb.org/t/p/original/imcOp1kJsCsAFCoOtY5OnPrFbAf.jpg</td><td>As aventuras dos nordestinos João Grilo, um sertanejo pobre e mentiroso, e Chicó, o mais covarde dos homens. Ambos lutam pelo pão de cada dia e atravessam por vários episódios enganando a todos do pequeno vilarejo de Taperoá, no sertão da Paraíba. A salvação da dupla acontece com a aparição da Nossa Senhora. Adaptação da obra de Ariano Suassuna.</td></tr><tr><td>De Volta para o Futuro</td><td>03-07-1985</td><td>List(Aventura, Comédia, Ficção científica)</td><td>8.317</td><td>https://image.tmdb.org/t/p/original/4BTW7PyEYFUFlNpuSeS9hAbpk9P.jpg</td><td>Marty McFly, um típico adolescente americano dos anos 80, acidentalmente é enviado de volta ao ano de 1955 em um carro modificado para ser uma máquino do tempo, inventada por um cientista louco. Durante sua fantástica e maluca viagem no tempo, McFly tem que fazer com que seus futuros pais se encontrem e se apaixonem, para que assim ele possa ir de volta para o futuro.</td></tr><tr><td>O Lobo de Wall Street</td><td>25-12-2013</td><td>List(Comédia, Crime, Drama)</td><td>8.035</td><td>https://image.tmdb.org/t/p/original/esJTXTdj4JZDyP5LUI1Fq3kyNda.jpg</td><td>Durante seis meses, Jordan Belfort (Leonardo DiCaprio) trabalhou duro em uma corretora de Wall Street, seguindo os ensinamentos de seu mentor Mark Hanna (Matthew McConaughey). Quando finalmente consegue ser contratado como corretor da firma, acontece o Black Monday, que faz com que as bolsas de vários países caiam repentinamente. Sem emprego e bastante ambicioso, ele acaba trabalhando para uma empresa de fundo de quintal que lida com papéis de baixo valor, que não estão na bolsa de valores. É lá que Belfort tem a idéia de montar uma empresa focada neste tipo de negócio, cujas vendas são de valores mais baixos mas, em compensação, o retorno para o corretor é bem mais vantajoso. Ao lado de Donnie (Jonah Hill) e outros amigos dos velhos tempos, ele cria a Stratton Oakmont, uma empresa que faz com que todos enriqueçam rapidamente e, também, levem uma vida dedicada ao prazer.</td></tr><tr><td>MIB - Homens de Preto</td><td>02-07-1997</td><td>List(Ação, Aventura, Comédia, Ficção científica)</td><td>7.19</td><td>https://image.tmdb.org/t/p/original/bUA0TD2COayMP6ur9Qbewdbbm2e.jpg</td><td>Kay e Jay, os Homens de Preto, são o maior segredo já mantido no universo. Eles são agentes de uma agência não-oficial do governo e responsáveis por monitorar todos os encontros com alienígenas na Terra. Ao investigar uma série de atividades extraterrestres, descobrem um terrorista intergaláctico cuja missão é assassinar dois embaixadores de galáxias opostas.</td></tr></tbody></table></div>"
      ]
     },
     "metadata": {
      "application/vnd.databricks.v1+output": {
       "addedWidgets": {},
       "aggData": [],
       "aggError": "",
       "aggOverflow": false,
       "aggSchema": [],
       "aggSeriesLimitReached": false,
       "aggType": "",
       "arguments": {},
       "columnCustomDisplayInfos": {},
       "data": [
        [
         "Forrest Gump: O Contador de Histórias",
         "23-06-1994",
         [
          "Comédia",
          "Drama",
          "Romance"
         ],
         8.5,
         "https://image.tmdb.org/t/p/original/d74WpIsH8379TIL4wUxDneRCYv2.jpg",
         "Quarenta anos da história dos Estados Unidos, vistos pelos olhos de Forrest Gump, um rapaz com QI abaixo da média e com boas intenções. Por obra do acaso, ele consegue participar de momentos cruciais, como a Guerra do Vietnã e o Caso Watergate, mas continua pensando no seu amor de infância, Jenny Curran."
        ],
        [
         "O Auto da Compadecida",
         "15-09-2000",
         [
          "Comédia",
          "Drama",
          "Fantasia"
         ],
         8.4,
         "https://image.tmdb.org/t/p/original/imcOp1kJsCsAFCoOtY5OnPrFbAf.jpg",
         "As aventuras dos nordestinos João Grilo, um sertanejo pobre e mentiroso, e Chicó, o mais covarde dos homens. Ambos lutam pelo pão de cada dia e atravessam por vários episódios enganando a todos do pequeno vilarejo de Taperoá, no sertão da Paraíba. A salvação da dupla acontece com a aparição da Nossa Senhora. Adaptação da obra de Ariano Suassuna."
        ],
        [
         "De Volta para o Futuro",
         "03-07-1985",
         [
          "Aventura",
          "Comédia",
          "Ficção científica"
         ],
         8.317,
         "https://image.tmdb.org/t/p/original/4BTW7PyEYFUFlNpuSeS9hAbpk9P.jpg",
         "Marty McFly, um típico adolescente americano dos anos 80, acidentalmente é enviado de volta ao ano de 1955 em um carro modificado para ser uma máquino do tempo, inventada por um cientista louco. Durante sua fantástica e maluca viagem no tempo, McFly tem que fazer com que seus futuros pais se encontrem e se apaixonem, para que assim ele possa ir de volta para o futuro."
        ],
        [
         "O Lobo de Wall Street",
         "25-12-2013",
         [
          "Comédia",
          "Crime",
          "Drama"
         ],
         8.035,
         "https://image.tmdb.org/t/p/original/esJTXTdj4JZDyP5LUI1Fq3kyNda.jpg",
         "Durante seis meses, Jordan Belfort (Leonardo DiCaprio) trabalhou duro em uma corretora de Wall Street, seguindo os ensinamentos de seu mentor Mark Hanna (Matthew McConaughey). Quando finalmente consegue ser contratado como corretor da firma, acontece o Black Monday, que faz com que as bolsas de vários países caiam repentinamente. Sem emprego e bastante ambicioso, ele acaba trabalhando para uma empresa de fundo de quintal que lida com papéis de baixo valor, que não estão na bolsa de valores. É lá que Belfort tem a idéia de montar uma empresa focada neste tipo de negócio, cujas vendas são de valores mais baixos mas, em compensação, o retorno para o corretor é bem mais vantajoso. Ao lado de Donnie (Jonah Hill) e outros amigos dos velhos tempos, ele cria a Stratton Oakmont, uma empresa que faz com que todos enriqueçam rapidamente e, também, levem uma vida dedicada ao prazer."
        ],
        [
         "MIB - Homens de Preto",
         "02-07-1997",
         [
          "Ação",
          "Aventura",
          "Comédia",
          "Ficção científica"
         ],
         7.19,
         "https://image.tmdb.org/t/p/original/bUA0TD2COayMP6ur9Qbewdbbm2e.jpg",
         "Kay e Jay, os Homens de Preto, são o maior segredo já mantido no universo. Eles são agentes de uma agência não-oficial do governo e responsáveis por monitorar todos os encontros com alienígenas na Terra. Ao investigar uma série de atividades extraterrestres, descobrem um terrorista intergaláctico cuja missão é assassinar dois embaixadores de galáxias opostas."
        ]
       ],
       "datasetInfos": [],
       "dbfsResultPath": null,
       "isJsonSchema": true,
       "metadata": {
        "dataframeName": "_sqldf",
        "executionCount": 39
       },
       "overflow": false,
       "plotOptions": {
        "customPlotOptions": {},
        "displayType": "table",
        "pivotAggregation": null,
        "pivotColumns": null,
        "xColumns": null,
        "yColumns": null
       },
       "removedWidgets": [],
       "schema": [
        {
         "metadata": "{}",
         "name": "TITULO",
         "type": "\"string\""
        },
        {
         "metadata": "{}",
         "name": "DATA_DE_LANCAMENTO",
         "type": "\"string\""
        },
        {
         "metadata": "{}",
         "name": "GENERO",
         "type": "{\"type\":\"array\",\"elementType\":\"string\",\"containsNull\":true}"
        },
        {
         "metadata": "{}",
         "name": "NOTA_AVALIACAO",
         "type": "\"float\""
        },
        {
         "metadata": "{}",
         "name": "DIRETORIO_POSTER",
         "type": "\"string\""
        },
        {
         "metadata": "{}",
         "name": "SINOPSE",
         "type": "\"string\""
        }
       ],
       "type": "table"
      }
     },
     "output_type": "display_data"
    }
   ],
   "source": [
    "%sql\n",
    "--lista dos 5 melhores filmes de comédia para criar tabela ouro\n",
    "SELECT \n",
    "TITLE AS TITULO,\n",
    "date_format(RELEASE_DATE, 'dd-MM-yyyy') AS DATA_DE_LANCAMENTO,\n",
    "GENERO,\n",
    "VOTE_AVERAGE AS NOTA_AVALIACAO,\n",
    "POSTER_PATH AS DIRETORIO_POSTER,\n",
    "OVERVIEW AS SINOPSE\n",
    "FROM TMDB_PRATA\n",
    "WHERE array_contains(GENERO,'Comédia') \n",
    "ORDER BY VOTE_AVERAGE DESC\n",
    "LIMIT 5;"
   ]
  },
  {
   "cell_type": "code",
   "execution_count": 0,
   "metadata": {
    "application/vnd.databricks.v1+cell": {
     "cellMetadata": {
      "byteLimit": 2048000,
      "implicitDf": true,
      "rowLimit": 10000
     },
     "inputWidgets": {},
     "nuid": "0f01d053-f698-4b0d-a1a0-cf2655a5adbd",
     "showTitle": false,
     "title": ""
    }
   },
   "outputs": [
    {
     "output_type": "display_data",
     "data": {
      "text/html": [
       "<style scoped>\n",
       "  .table-result-container {\n",
       "    max-height: 300px;\n",
       "    overflow: auto;\n",
       "  }\n",
       "  table, th, td {\n",
       "    border: 1px solid black;\n",
       "    border-collapse: collapse;\n",
       "  }\n",
       "  th, td {\n",
       "    padding: 5px;\n",
       "  }\n",
       "  th {\n",
       "    text-align: left;\n",
       "  }\n",
       "</style><div class='table-result-container'><table class='table-result'><thead style='background-color: white'><tr><th>TITULO</th><th>DATA_DE_LANCAMENTO</th><th>GENERO</th><th>NOTA_AVALIACAO</th><th>DIRETORIO_POSTER</th><th>SINOPSE</th></tr></thead><tbody><tr><td>Forrest Gump: O Contador de Histórias</td><td>23-06-1994</td><td>List(Comédia, Drama, Romance)</td><td>8.5</td><td>https://image.tmdb.org/t/p/original/d74WpIsH8379TIL4wUxDneRCYv2.jpg</td><td>Quarenta anos da história dos Estados Unidos, vistos pelos olhos de Forrest Gump, um rapaz com QI abaixo da média e com boas intenções. Por obra do acaso, ele consegue participar de momentos cruciais, como a Guerra do Vietnã e o Caso Watergate, mas continua pensando no seu amor de infância, Jenny Curran.</td></tr><tr><td>O Auto da Compadecida</td><td>15-09-2000</td><td>List(Comédia, Drama, Fantasia)</td><td>8.4</td><td>https://image.tmdb.org/t/p/original/imcOp1kJsCsAFCoOtY5OnPrFbAf.jpg</td><td>As aventuras dos nordestinos João Grilo, um sertanejo pobre e mentiroso, e Chicó, o mais covarde dos homens. Ambos lutam pelo pão de cada dia e atravessam por vários episódios enganando a todos do pequeno vilarejo de Taperoá, no sertão da Paraíba. A salvação da dupla acontece com a aparição da Nossa Senhora. Adaptação da obra de Ariano Suassuna.</td></tr><tr><td>De Volta para o Futuro</td><td>03-07-1985</td><td>List(Aventura, Comédia, Ficção científica)</td><td>8.317</td><td>https://image.tmdb.org/t/p/original/4BTW7PyEYFUFlNpuSeS9hAbpk9P.jpg</td><td>Marty McFly, um típico adolescente americano dos anos 80, acidentalmente é enviado de volta ao ano de 1955 em um carro modificado para ser uma máquino do tempo, inventada por um cientista louco. Durante sua fantástica e maluca viagem no tempo, McFly tem que fazer com que seus futuros pais se encontrem e se apaixonem, para que assim ele possa ir de volta para o futuro.</td></tr><tr><td>O Lobo de Wall Street</td><td>25-12-2013</td><td>List(Comédia, Crime, Drama)</td><td>8.035</td><td>https://image.tmdb.org/t/p/original/esJTXTdj4JZDyP5LUI1Fq3kyNda.jpg</td><td>Durante seis meses, Jordan Belfort (Leonardo DiCaprio) trabalhou duro em uma corretora de Wall Street, seguindo os ensinamentos de seu mentor Mark Hanna (Matthew McConaughey). Quando finalmente consegue ser contratado como corretor da firma, acontece o Black Monday, que faz com que as bolsas de vários países caiam repentinamente. Sem emprego e bastante ambicioso, ele acaba trabalhando para uma empresa de fundo de quintal que lida com papéis de baixo valor, que não estão na bolsa de valores. É lá que Belfort tem a idéia de montar uma empresa focada neste tipo de negócio, cujas vendas são de valores mais baixos mas, em compensação, o retorno para o corretor é bem mais vantajoso. Ao lado de Donnie (Jonah Hill) e outros amigos dos velhos tempos, ele cria a Stratton Oakmont, uma empresa que faz com que todos enriqueçam rapidamente e, também, levem uma vida dedicada ao prazer.</td></tr><tr><td>MIB - Homens de Preto</td><td>02-07-1997</td><td>List(Ação, Aventura, Comédia, Ficção científica)</td><td>7.19</td><td>https://image.tmdb.org/t/p/original/bUA0TD2COayMP6ur9Qbewdbbm2e.jpg</td><td>Kay e Jay, os Homens de Preto, são o maior segredo já mantido no universo. Eles são agentes de uma agência não-oficial do governo e responsáveis por monitorar todos os encontros com alienígenas na Terra. Ao investigar uma série de atividades extraterrestres, descobrem um terrorista intergaláctico cuja missão é assassinar dois embaixadores de galáxias opostas.</td></tr></tbody></table></div>"
      ]
     },
     "metadata": {
      "application/vnd.databricks.v1+output": {
       "addedWidgets": {},
       "aggData": [],
       "aggError": "",
       "aggOverflow": false,
       "aggSchema": [],
       "aggSeriesLimitReached": false,
       "aggType": "",
       "arguments": {},
       "columnCustomDisplayInfos": {},
       "data": [
        [
         "Forrest Gump: O Contador de Histórias",
         "23-06-1994",
         [
          "Comédia",
          "Drama",
          "Romance"
         ],
         8.5,
         "https://image.tmdb.org/t/p/original/d74WpIsH8379TIL4wUxDneRCYv2.jpg",
         "Quarenta anos da história dos Estados Unidos, vistos pelos olhos de Forrest Gump, um rapaz com QI abaixo da média e com boas intenções. Por obra do acaso, ele consegue participar de momentos cruciais, como a Guerra do Vietnã e o Caso Watergate, mas continua pensando no seu amor de infância, Jenny Curran."
        ],
        [
         "O Auto da Compadecida",
         "15-09-2000",
         [
          "Comédia",
          "Drama",
          "Fantasia"
         ],
         8.4,
         "https://image.tmdb.org/t/p/original/imcOp1kJsCsAFCoOtY5OnPrFbAf.jpg",
         "As aventuras dos nordestinos João Grilo, um sertanejo pobre e mentiroso, e Chicó, o mais covarde dos homens. Ambos lutam pelo pão de cada dia e atravessam por vários episódios enganando a todos do pequeno vilarejo de Taperoá, no sertão da Paraíba. A salvação da dupla acontece com a aparição da Nossa Senhora. Adaptação da obra de Ariano Suassuna."
        ],
        [
         "De Volta para o Futuro",
         "03-07-1985",
         [
          "Aventura",
          "Comédia",
          "Ficção científica"
         ],
         8.317,
         "https://image.tmdb.org/t/p/original/4BTW7PyEYFUFlNpuSeS9hAbpk9P.jpg",
         "Marty McFly, um típico adolescente americano dos anos 80, acidentalmente é enviado de volta ao ano de 1955 em um carro modificado para ser uma máquino do tempo, inventada por um cientista louco. Durante sua fantástica e maluca viagem no tempo, McFly tem que fazer com que seus futuros pais se encontrem e se apaixonem, para que assim ele possa ir de volta para o futuro."
        ],
        [
         "O Lobo de Wall Street",
         "25-12-2013",
         [
          "Comédia",
          "Crime",
          "Drama"
         ],
         8.035,
         "https://image.tmdb.org/t/p/original/esJTXTdj4JZDyP5LUI1Fq3kyNda.jpg",
         "Durante seis meses, Jordan Belfort (Leonardo DiCaprio) trabalhou duro em uma corretora de Wall Street, seguindo os ensinamentos de seu mentor Mark Hanna (Matthew McConaughey). Quando finalmente consegue ser contratado como corretor da firma, acontece o Black Monday, que faz com que as bolsas de vários países caiam repentinamente. Sem emprego e bastante ambicioso, ele acaba trabalhando para uma empresa de fundo de quintal que lida com papéis de baixo valor, que não estão na bolsa de valores. É lá que Belfort tem a idéia de montar uma empresa focada neste tipo de negócio, cujas vendas são de valores mais baixos mas, em compensação, o retorno para o corretor é bem mais vantajoso. Ao lado de Donnie (Jonah Hill) e outros amigos dos velhos tempos, ele cria a Stratton Oakmont, uma empresa que faz com que todos enriqueçam rapidamente e, também, levem uma vida dedicada ao prazer."
        ],
        [
         "MIB - Homens de Preto",
         "02-07-1997",
         [
          "Ação",
          "Aventura",
          "Comédia",
          "Ficção científica"
         ],
         7.19,
         "https://image.tmdb.org/t/p/original/bUA0TD2COayMP6ur9Qbewdbbm2e.jpg",
         "Kay e Jay, os Homens de Preto, são o maior segredo já mantido no universo. Eles são agentes de uma agência não-oficial do governo e responsáveis por monitorar todos os encontros com alienígenas na Terra. Ao investigar uma série de atividades extraterrestres, descobrem um terrorista intergaláctico cuja missão é assassinar dois embaixadores de galáxias opostas."
        ]
       ],
       "datasetInfos": [],
       "dbfsResultPath": null,
       "isJsonSchema": true,
       "metadata": {
        "dataframeName": "_sqldf",
        "executionCount": 40
       },
       "overflow": false,
       "plotOptions": {
        "customPlotOptions": {},
        "displayType": "table",
        "pivotAggregation": null,
        "pivotColumns": null,
        "xColumns": null,
        "yColumns": null
       },
       "removedWidgets": [],
       "schema": [
        {
         "metadata": "{}",
         "name": "TITULO",
         "type": "\"string\""
        },
        {
         "metadata": "{}",
         "name": "DATA_DE_LANCAMENTO",
         "type": "\"string\""
        },
        {
         "metadata": "{}",
         "name": "GENERO",
         "type": "{\"type\":\"array\",\"elementType\":\"string\",\"containsNull\":true}"
        },
        {
         "metadata": "{}",
         "name": "NOTA_AVALIACAO",
         "type": "\"float\""
        },
        {
         "metadata": "{}",
         "name": "DIRETORIO_POSTER",
         "type": "\"string\""
        },
        {
         "metadata": "{}",
         "name": "SINOPSE",
         "type": "\"string\""
        }
       ],
       "type": "table"
      }
     },
     "output_type": "display_data"
    }
   ],
   "source": [
    "%sql\n",
    "--Criando tabela ouro com a lista dos 5 melhores filmes de comédia\n",
    "USE DBTMDB;\n",
    "CREATE OR REPLACE TABLE TMDB_OURO_5MELHORES_COMEDIA AS\n",
    "SELECT \n",
    "TITLE AS TITULO,\n",
    "date_format(RELEASE_DATE, 'dd-MM-yyyy') AS DATA_DE_LANCAMENTO,\n",
    "GENERO,\n",
    "VOTE_AVERAGE AS NOTA_AVALIACAO,\n",
    "POSTER_PATH AS DIRETORIO_POSTER,\n",
    "OVERVIEW AS SINOPSE\n",
    "FROM TMDB_PRATA\n",
    "WHERE array_contains(GENERO,'Comédia') \n",
    "ORDER BY VOTE_AVERAGE DESC\n",
    "LIMIT 5;\n",
    "\n",
    "SELECT * FROM TMDB_OURO_5MELHORES_COMEDIA ORDER BY NOTA_AVALIACAO DESC;"
   ]
  },
  {
   "cell_type": "code",
   "execution_count": 0,
   "metadata": {
    "application/vnd.databricks.v1+cell": {
     "cellMetadata": {
      "byteLimit": 2048000,
      "rowLimit": 10000
     },
     "inputWidgets": {},
     "nuid": "cec9b020-2b63-46bd-ac57-73f95b57e6dc",
     "showTitle": false,
     "title": ""
    }
   },
   "outputs": [],
   "source": []
  }
 ],
 "metadata": {
  "application/vnd.databricks.v1+notebook": {
   "dashboards": [],
   "language": "python",
   "notebookMetadata": {
    "mostRecentlyExecutedCommandWithImplicitDF": {
     "commandId": 612408246231194,
     "dataframes": [
      "_sqldf"
     ]
    },
    "pythonIndentUnit": 4
   },
   "notebookName": "2.4 - CAR_OURO",
   "widgets": {}
  }
 },
 "nbformat": 4,
 "nbformat_minor": 0
}
