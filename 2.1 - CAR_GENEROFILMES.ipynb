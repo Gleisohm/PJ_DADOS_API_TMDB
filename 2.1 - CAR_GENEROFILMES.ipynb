{
 "cells": [
  {
   "cell_type": "markdown",
   "metadata": {
    "application/vnd.databricks.v1+cell": {
     "cellMetadata": {
      "byteLimit": 2048000,
      "rowLimit": 10000
     },
     "inputWidgets": {},
     "nuid": "c6a27555-f158-4e77-9904-f048609a2f02",
     "showTitle": false,
     "title": ""
    }
   },
   "source": [
    "### Carga da lista de gêneros dos filmes favoritos no TMDB"
   ]
  },
  {
   "cell_type": "code",
   "execution_count": 0,
   "metadata": {
    "application/vnd.databricks.v1+cell": {
     "cellMetadata": {
      "byteLimit": 2048000,
      "rowLimit": 10000
     },
     "inputWidgets": {},
     "nuid": "b7f500f0-809f-4b99-9b0f-da39d7d03d44",
     "showTitle": false,
     "title": ""
    }
   },
   "outputs": [
    {
     "output_type": "display_data",
     "data": {
      "text/html": [
       "<style scoped>\n",
       "  .table-result-container {\n",
       "    max-height: 300px;\n",
       "    overflow: auto;\n",
       "  }\n",
       "  table, th, td {\n",
       "    border: 1px solid black;\n",
       "    border-collapse: collapse;\n",
       "  }\n",
       "  th, td {\n",
       "    padding: 5px;\n",
       "  }\n",
       "  th {\n",
       "    text-align: left;\n",
       "  }\n",
       "</style><div class='table-result-container'><table class='table-result'><thead style='background-color: white'><tr><th>genres</th></tr></thead><tbody><tr><td>List(List(28, Ação), List(12, Aventura), List(16, Animação), List(35, Comédia), List(80, Crime), List(99, Documentário), List(18, Drama), List(10751, Família), List(14, Fantasia), List(36, História), List(27, Terror), List(10402, Música), List(9648, Mistério), List(10749, Romance), List(878, Ficção científica), List(10770, Cinema TV), List(53, Thriller), List(10752, Guerra), List(37, Faroeste))</td></tr></tbody></table></div>"
      ]
     },
     "metadata": {
      "application/vnd.databricks.v1+output": {
       "addedWidgets": {},
       "aggData": [],
       "aggError": "",
       "aggOverflow": false,
       "aggSchema": [],
       "aggSeriesLimitReached": false,
       "aggType": "",
       "arguments": {},
       "columnCustomDisplayInfos": {},
       "data": [
        [
         [
          [
           28,
           "Ação"
          ],
          [
           12,
           "Aventura"
          ],
          [
           16,
           "Animação"
          ],
          [
           35,
           "Comédia"
          ],
          [
           80,
           "Crime"
          ],
          [
           99,
           "Documentário"
          ],
          [
           18,
           "Drama"
          ],
          [
           10751,
           "Família"
          ],
          [
           14,
           "Fantasia"
          ],
          [
           36,
           "História"
          ],
          [
           27,
           "Terror"
          ],
          [
           10402,
           "Música"
          ],
          [
           9648,
           "Mistério"
          ],
          [
           10749,
           "Romance"
          ],
          [
           878,
           "Ficção científica"
          ],
          [
           10770,
           "Cinema TV"
          ],
          [
           53,
           "Thriller"
          ],
          [
           10752,
           "Guerra"
          ],
          [
           37,
           "Faroeste"
          ]
         ]
        ]
       ],
       "datasetInfos": [],
       "dbfsResultPath": null,
       "isJsonSchema": true,
       "metadata": {},
       "overflow": false,
       "plotOptions": {
        "customPlotOptions": {},
        "displayType": "table",
        "pivotAggregation": null,
        "pivotColumns": null,
        "xColumns": null,
        "yColumns": null
       },
       "removedWidgets": [],
       "schema": [
        {
         "metadata": "{}",
         "name": "genres",
         "type": "{\"type\":\"array\",\"elementType\":{\"type\":\"struct\",\"fields\":[{\"name\":\"id\",\"type\":\"long\",\"nullable\":true,\"metadata\":{}},{\"name\":\"name\",\"type\":\"string\",\"nullable\":true,\"metadata\":{}}]},\"containsNull\":true}"
        }
       ],
       "type": "table"
      }
     },
     "output_type": "display_data"
    }
   ],
   "source": [
    "import json\n",
    "\n",
    "#leitura do arquivo json com Pyspark\n",
    "pyspark = spark.read.json('/temp/TMDB/ListaGenerosFilmesTMDB.json')\n",
    "display(pyspark)"
   ]
  },
  {
   "cell_type": "code",
   "execution_count": 0,
   "metadata": {
    "application/vnd.databricks.v1+cell": {
     "cellMetadata": {
      "byteLimit": 2048000,
      "rowLimit": 10000
     },
     "inputWidgets": {},
     "nuid": "4ec1e02f-3106-42e8-b5ef-6f1dd2463b78",
     "showTitle": false,
     "title": ""
    }
   },
   "outputs": [
    {
     "output_type": "display_data",
     "data": {
      "text/html": [
       "<style scoped>\n",
       "  .table-result-container {\n",
       "    max-height: 300px;\n",
       "    overflow: auto;\n",
       "  }\n",
       "  table, th, td {\n",
       "    border: 1px solid black;\n",
       "    border-collapse: collapse;\n",
       "  }\n",
       "  th, td {\n",
       "    padding: 5px;\n",
       "  }\n",
       "  th {\n",
       "    text-align: left;\n",
       "  }\n",
       "</style><div class='table-result-container'><table class='table-result'><thead style='background-color: white'><tr><th>path</th><th>name</th><th>size</th><th>modificationTime</th></tr></thead><tbody><tr><td>dbfs:/temp/TMDB/ListaGenerosFilmesTMDB.json</td><td>ListaGenerosFilmesTMDB.json</td><td>698</td><td>1709231980000</td></tr></tbody></table></div>"
      ]
     },
     "metadata": {
      "application/vnd.databricks.v1+output": {
       "addedWidgets": {},
       "aggData": [],
       "aggError": "",
       "aggOverflow": false,
       "aggSchema": [],
       "aggSeriesLimitReached": false,
       "aggType": "",
       "arguments": {},
       "columnCustomDisplayInfos": {},
       "data": [
        [
         "dbfs:/temp/TMDB/ListaGenerosFilmesTMDB.json",
         "ListaGenerosFilmesTMDB.json",
         698,
         1709231980000
        ]
       ],
       "datasetInfos": [],
       "dbfsResultPath": null,
       "isJsonSchema": true,
       "metadata": {},
       "overflow": false,
       "plotOptions": {
        "customPlotOptions": {},
        "displayType": "table",
        "pivotAggregation": null,
        "pivotColumns": null,
        "xColumns": null,
        "yColumns": null
       },
       "removedWidgets": [],
       "schema": [
        {
         "metadata": "{}",
         "name": "path",
         "type": "\"string\""
        },
        {
         "metadata": "{}",
         "name": "name",
         "type": "\"string\""
        },
        {
         "metadata": "{}",
         "name": "size",
         "type": "\"long\""
        },
        {
         "metadata": "{}",
         "name": "modificationTime",
         "type": "\"long\""
        }
       ],
       "type": "table"
      }
     },
     "output_type": "display_data"
    }
   ],
   "source": [
    "#consultando file system\n",
    "file = dbutils.fs.ls(f\"/temp/TMDB/ListaGenerosFilmesTMDB.json\")\n",
    "display (file)"
   ]
  },
  {
   "cell_type": "code",
   "execution_count": 0,
   "metadata": {
    "application/vnd.databricks.v1+cell": {
     "cellMetadata": {
      "byteLimit": 2048000,
      "implicitDf": true,
      "rowLimit": 10000
     },
     "inputWidgets": {},
     "nuid": "452395d0-c798-432e-829e-92d3c42dbf98",
     "showTitle": false,
     "title": ""
    }
   },
   "outputs": [
    {
     "output_type": "display_data",
     "data": {
      "text/html": [
       "<style scoped>\n",
       "  .table-result-container {\n",
       "    max-height: 300px;\n",
       "    overflow: auto;\n",
       "  }\n",
       "  table, th, td {\n",
       "    border: 1px solid black;\n",
       "    border-collapse: collapse;\n",
       "  }\n",
       "  th, td {\n",
       "    padding: 5px;\n",
       "  }\n",
       "  th {\n",
       "    text-align: left;\n",
       "  }\n",
       "</style><div class='table-result-container'><table class='table-result'><thead style='background-color: white'><tr><th>genres</th></tr></thead><tbody><tr><td>List(List(28, Ação), List(12, Aventura), List(16, Animação), List(35, Comédia), List(80, Crime), List(99, Documentário), List(18, Drama), List(10751, Família), List(14, Fantasia), List(36, História), List(27, Terror), List(10402, Música), List(9648, Mistério), List(10749, Romance), List(878, Ficção científica), List(10770, Cinema TV), List(53, Thriller), List(10752, Guerra), List(37, Faroeste))</td></tr></tbody></table></div>"
      ]
     },
     "metadata": {
      "application/vnd.databricks.v1+output": {
       "addedWidgets": {},
       "aggData": [],
       "aggError": "",
       "aggOverflow": false,
       "aggSchema": [],
       "aggSeriesLimitReached": false,
       "aggType": "",
       "arguments": {},
       "columnCustomDisplayInfos": {},
       "data": [
        [
         [
          [
           28,
           "Ação"
          ],
          [
           12,
           "Aventura"
          ],
          [
           16,
           "Animação"
          ],
          [
           35,
           "Comédia"
          ],
          [
           80,
           "Crime"
          ],
          [
           99,
           "Documentário"
          ],
          [
           18,
           "Drama"
          ],
          [
           10751,
           "Família"
          ],
          [
           14,
           "Fantasia"
          ],
          [
           36,
           "História"
          ],
          [
           27,
           "Terror"
          ],
          [
           10402,
           "Música"
          ],
          [
           9648,
           "Mistério"
          ],
          [
           10749,
           "Romance"
          ],
          [
           878,
           "Ficção científica"
          ],
          [
           10770,
           "Cinema TV"
          ],
          [
           53,
           "Thriller"
          ],
          [
           10752,
           "Guerra"
          ],
          [
           37,
           "Faroeste"
          ]
         ]
        ]
       ],
       "datasetInfos": [],
       "dbfsResultPath": null,
       "isJsonSchema": true,
       "metadata": {
        "dataframeName": "_sqldf",
        "executionCount": 3
       },
       "overflow": false,
       "plotOptions": {
        "customPlotOptions": {},
        "displayType": "table",
        "pivotAggregation": null,
        "pivotColumns": null,
        "xColumns": null,
        "yColumns": null
       },
       "removedWidgets": [],
       "schema": [
        {
         "metadata": "{}",
         "name": "genres",
         "type": "{\"type\":\"array\",\"elementType\":{\"type\":\"struct\",\"fields\":[{\"name\":\"id\",\"type\":\"long\",\"nullable\":true,\"metadata\":{}},{\"name\":\"name\",\"type\":\"string\",\"nullable\":true,\"metadata\":{}}]},\"containsNull\":true}"
        }
       ],
       "type": "table"
      }
     },
     "output_type": "display_data"
    }
   ],
   "source": [
    "%sql\n",
    "--consultando arquivo json em formato de tabela com SparkSQL (saída parecida com PySpark)\n",
    "SELECT * FROM json.`dbfs:/temp/TMDB/ListaGenerosFilmesTMDB.json`"
   ]
  },
  {
   "cell_type": "code",
   "execution_count": 0,
   "metadata": {
    "application/vnd.databricks.v1+cell": {
     "cellMetadata": {
      "byteLimit": 2048000,
      "implicitDf": true,
      "rowLimit": 10000
     },
     "inputWidgets": {},
     "nuid": "2a885fd2-4fc7-4c96-940a-2f1e35814cbe",
     "showTitle": false,
     "title": ""
    }
   },
   "outputs": [
    {
     "output_type": "display_data",
     "data": {
      "text/html": [
       "<style scoped>\n",
       "  .table-result-container {\n",
       "    max-height: 300px;\n",
       "    overflow: auto;\n",
       "  }\n",
       "  table, th, td {\n",
       "    border: 1px solid black;\n",
       "    border-collapse: collapse;\n",
       "  }\n",
       "  th, td {\n",
       "    padding: 5px;\n",
       "  }\n",
       "  th {\n",
       "    text-align: left;\n",
       "  }\n",
       "</style><div class='table-result-container'><table class='table-result'><thead style='background-color: white'><tr></tr></thead><tbody></tbody></table></div>"
      ]
     },
     "metadata": {
      "application/vnd.databricks.v1+output": {
       "addedWidgets": {},
       "aggData": [],
       "aggError": "",
       "aggOverflow": false,
       "aggSchema": [],
       "aggSeriesLimitReached": false,
       "aggType": "",
       "arguments": {},
       "columnCustomDisplayInfos": {},
       "data": [],
       "datasetInfos": [],
       "dbfsResultPath": null,
       "isJsonSchema": true,
       "metadata": {
        "dataframeName": null
       },
       "overflow": false,
       "plotOptions": {
        "customPlotOptions": {},
        "displayType": "table",
        "pivotAggregation": null,
        "pivotColumns": null,
        "xColumns": null,
        "yColumns": null
       },
       "removedWidgets": [],
       "schema": [],
       "type": "table"
      }
     },
     "output_type": "display_data"
    }
   ],
   "source": [
    "%sql \n",
    "--criando database\n",
    "CREATE SCHEMA IF NOT EXISTS DBTMDB;"
   ]
  },
  {
   "cell_type": "code",
   "execution_count": 0,
   "metadata": {
    "application/vnd.databricks.v1+cell": {
     "cellMetadata": {
      "byteLimit": 2048000,
      "implicitDf": true,
      "rowLimit": 10000
     },
     "inputWidgets": {},
     "nuid": "ca0fa591-438b-4266-8a47-7bc7934bb89d",
     "showTitle": false,
     "title": ""
    }
   },
   "outputs": [
    {
     "output_type": "display_data",
     "data": {
      "text/html": [
       "<style scoped>\n",
       "  .table-result-container {\n",
       "    max-height: 300px;\n",
       "    overflow: auto;\n",
       "  }\n",
       "  table, th, td {\n",
       "    border: 1px solid black;\n",
       "    border-collapse: collapse;\n",
       "  }\n",
       "  th, td {\n",
       "    padding: 5px;\n",
       "  }\n",
       "  th {\n",
       "    text-align: left;\n",
       "  }\n",
       "</style><div class='table-result-container'><table class='table-result'><thead style='background-color: white'><tr></tr></thead><tbody></tbody></table></div>"
      ]
     },
     "metadata": {
      "application/vnd.databricks.v1+output": {
       "addedWidgets": {},
       "aggData": [],
       "aggError": "",
       "aggOverflow": false,
       "aggSchema": [],
       "aggSeriesLimitReached": false,
       "aggType": "",
       "arguments": {},
       "columnCustomDisplayInfos": {},
       "data": [],
       "datasetInfos": [],
       "dbfsResultPath": null,
       "isJsonSchema": true,
       "metadata": {
        "dataframeName": null
       },
       "overflow": false,
       "plotOptions": {
        "customPlotOptions": {},
        "displayType": "table",
        "pivotAggregation": null,
        "pivotColumns": null,
        "xColumns": null,
        "yColumns": null
       },
       "removedWidgets": [],
       "schema": [],
       "type": "table"
      }
     },
     "output_type": "display_data"
    }
   ],
   "source": [
    "%sql \n",
    "--criando view/tabela de referência com dados brutos a partir do json de gêneros \n",
    "\n",
    "CREATE OR REPLACE GLOBAL TEMP VIEW TMDB_GENEROS_VW\n",
    "USING json\n",
    "OPTIONS (path=\"dbfs:/temp/TMDB/ListaGenerosFilmesTMDB.json\");\n",
    "\n"
   ]
  },
  {
   "cell_type": "code",
   "execution_count": 0,
   "metadata": {
    "application/vnd.databricks.v1+cell": {
     "cellMetadata": {
      "byteLimit": 2048000,
      "implicitDf": true,
      "rowLimit": 10000
     },
     "inputWidgets": {},
     "nuid": "8d315c04-38d6-4caf-a932-6dc63abf39f2",
     "showTitle": false,
     "title": ""
    }
   },
   "outputs": [
    {
     "output_type": "display_data",
     "data": {
      "text/html": [
       "<style scoped>\n",
       "  .table-result-container {\n",
       "    max-height: 300px;\n",
       "    overflow: auto;\n",
       "  }\n",
       "  table, th, td {\n",
       "    border: 1px solid black;\n",
       "    border-collapse: collapse;\n",
       "  }\n",
       "  th, td {\n",
       "    padding: 5px;\n",
       "  }\n",
       "  th {\n",
       "    text-align: left;\n",
       "  }\n",
       "</style><div class='table-result-container'><table class='table-result'><thead style='background-color: white'><tr><th>genres</th></tr></thead><tbody><tr><td>List(List(28, Ação), List(12, Aventura), List(16, Animação), List(35, Comédia), List(80, Crime), List(99, Documentário), List(18, Drama), List(10751, Família), List(14, Fantasia), List(36, História), List(27, Terror), List(10402, Música), List(9648, Mistério), List(10749, Romance), List(878, Ficção científica), List(10770, Cinema TV), List(53, Thriller), List(10752, Guerra), List(37, Faroeste))</td></tr></tbody></table></div>"
      ]
     },
     "metadata": {
      "application/vnd.databricks.v1+output": {
       "addedWidgets": {},
       "aggData": [],
       "aggError": "",
       "aggOverflow": false,
       "aggSchema": [],
       "aggSeriesLimitReached": false,
       "aggType": "",
       "arguments": {},
       "columnCustomDisplayInfos": {},
       "data": [
        [
         [
          [
           28,
           "Ação"
          ],
          [
           12,
           "Aventura"
          ],
          [
           16,
           "Animação"
          ],
          [
           35,
           "Comédia"
          ],
          [
           80,
           "Crime"
          ],
          [
           99,
           "Documentário"
          ],
          [
           18,
           "Drama"
          ],
          [
           10751,
           "Família"
          ],
          [
           14,
           "Fantasia"
          ],
          [
           36,
           "História"
          ],
          [
           27,
           "Terror"
          ],
          [
           10402,
           "Música"
          ],
          [
           9648,
           "Mistério"
          ],
          [
           10749,
           "Romance"
          ],
          [
           878,
           "Ficção científica"
          ],
          [
           10770,
           "Cinema TV"
          ],
          [
           53,
           "Thriller"
          ],
          [
           10752,
           "Guerra"
          ],
          [
           37,
           "Faroeste"
          ]
         ]
        ]
       ],
       "datasetInfos": [],
       "dbfsResultPath": null,
       "isJsonSchema": true,
       "metadata": {
        "dataframeName": "_sqldf",
        "executionCount": 4
       },
       "overflow": false,
       "plotOptions": {
        "customPlotOptions": {},
        "displayType": "table",
        "pivotAggregation": null,
        "pivotColumns": null,
        "xColumns": null,
        "yColumns": null
       },
       "removedWidgets": [],
       "schema": [
        {
         "metadata": "{}",
         "name": "genres",
         "type": "{\"type\":\"array\",\"elementType\":{\"type\":\"struct\",\"fields\":[{\"name\":\"id\",\"type\":\"long\",\"nullable\":true,\"metadata\":{}},{\"name\":\"name\",\"type\":\"string\",\"nullable\":true,\"metadata\":{}}]},\"containsNull\":true}"
        }
       ],
       "type": "table"
      }
     },
     "output_type": "display_data"
    }
   ],
   "source": [
    "%sql\n",
    "--para visualizar uma view gloal temporária é necessário usar o owner global_temp\n",
    "SELECT * FROM GLOBAL_TEMP.TMDB_GENEROS_VW;"
   ]
  },
  {
   "cell_type": "code",
   "execution_count": 0,
   "metadata": {
    "application/vnd.databricks.v1+cell": {
     "cellMetadata": {
      "byteLimit": 2048000,
      "implicitDf": true,
      "rowLimit": 10000
     },
     "inputWidgets": {},
     "nuid": "66aa60d8-a149-4440-bfa4-87064ee4af6f",
     "showTitle": false,
     "title": ""
    }
   },
   "outputs": [
    {
     "output_type": "display_data",
     "data": {
      "text/html": [
       "<style scoped>\n",
       "  .table-result-container {\n",
       "    max-height: 300px;\n",
       "    overflow: auto;\n",
       "  }\n",
       "  table, th, td {\n",
       "    border: 1px solid black;\n",
       "    border-collapse: collapse;\n",
       "  }\n",
       "  th, td {\n",
       "    padding: 5px;\n",
       "  }\n",
       "  th {\n",
       "    text-align: left;\n",
       "  }\n",
       "</style><div class='table-result-container'><table class='table-result'><thead style='background-color: white'><tr><th>col_name</th><th>data_type</th><th>comment</th></tr></thead><tbody><tr><td>genres</td><td>array<struct<id:bigint,name:string>></td><td>null</td></tr></tbody></table></div>"
      ]
     },
     "metadata": {
      "application/vnd.databricks.v1+output": {
       "addedWidgets": {},
       "aggData": [],
       "aggError": "",
       "aggOverflow": false,
       "aggSchema": [],
       "aggSeriesLimitReached": false,
       "aggType": "",
       "arguments": {},
       "columnCustomDisplayInfos": {},
       "data": [
        [
         "genres",
         "array<struct<id:bigint,name:string>>",
         null
        ]
       ],
       "datasetInfos": [],
       "dbfsResultPath": null,
       "isJsonSchema": true,
       "metadata": {
        "dataframeName": "_sqldf",
        "executionCount": 5
       },
       "overflow": false,
       "plotOptions": {
        "customPlotOptions": {},
        "displayType": "table",
        "pivotAggregation": null,
        "pivotColumns": null,
        "xColumns": null,
        "yColumns": null
       },
       "removedWidgets": [],
       "schema": [
        {
         "metadata": "{\"comment\":\"name of the column\"}",
         "name": "col_name",
         "type": "\"string\""
        },
        {
         "metadata": "{\"comment\":\"data type of the column\"}",
         "name": "data_type",
         "type": "\"string\""
        },
        {
         "metadata": "{\"comment\":\"comment of the column\"}",
         "name": "comment",
         "type": "\"string\""
        }
       ],
       "type": "table"
      }
     },
     "output_type": "display_data"
    }
   ],
   "source": [
    "%sql\n",
    "DESCRIBE GLOBAL_TEMP.TMDB_GENEROS_VW;"
   ]
  },
  {
   "cell_type": "code",
   "execution_count": 0,
   "metadata": {
    "application/vnd.databricks.v1+cell": {
     "cellMetadata": {
      "byteLimit": 2048000,
      "implicitDf": true,
      "rowLimit": 10000
     },
     "inputWidgets": {},
     "nuid": "f6e13ac0-9380-4a42-aa64-c3dbd457a5ed",
     "showTitle": false,
     "title": ""
    }
   },
   "outputs": [
    {
     "output_type": "display_data",
     "data": {
      "text/html": [
       "<style scoped>\n",
       "  .table-result-container {\n",
       "    max-height: 300px;\n",
       "    overflow: auto;\n",
       "  }\n",
       "  table, th, td {\n",
       "    border: 1px solid black;\n",
       "    border-collapse: collapse;\n",
       "  }\n",
       "  th, td {\n",
       "    padding: 5px;\n",
       "  }\n",
       "  th {\n",
       "    text-align: left;\n",
       "  }\n",
       "</style><div class='table-result-container'><table class='table-result'><thead style='background-color: white'><tr><th>col</th></tr></thead><tbody><tr><td>List(28, Ação)</td></tr><tr><td>List(12, Aventura)</td></tr><tr><td>List(16, Animação)</td></tr><tr><td>List(35, Comédia)</td></tr><tr><td>List(80, Crime)</td></tr><tr><td>List(99, Documentário)</td></tr><tr><td>List(18, Drama)</td></tr><tr><td>List(10751, Família)</td></tr><tr><td>List(14, Fantasia)</td></tr><tr><td>List(36, História)</td></tr><tr><td>List(27, Terror)</td></tr><tr><td>List(10402, Música)</td></tr><tr><td>List(9648, Mistério)</td></tr><tr><td>List(10749, Romance)</td></tr><tr><td>List(878, Ficção científica)</td></tr><tr><td>List(10770, Cinema TV)</td></tr><tr><td>List(53, Thriller)</td></tr><tr><td>List(10752, Guerra)</td></tr><tr><td>List(37, Faroeste)</td></tr></tbody></table></div>"
      ]
     },
     "metadata": {
      "application/vnd.databricks.v1+output": {
       "addedWidgets": {},
       "aggData": [],
       "aggError": "",
       "aggOverflow": false,
       "aggSchema": [],
       "aggSeriesLimitReached": false,
       "aggType": "",
       "arguments": {},
       "columnCustomDisplayInfos": {},
       "data": [
        [
         [
          28,
          "Ação"
         ]
        ],
        [
         [
          12,
          "Aventura"
         ]
        ],
        [
         [
          16,
          "Animação"
         ]
        ],
        [
         [
          35,
          "Comédia"
         ]
        ],
        [
         [
          80,
          "Crime"
         ]
        ],
        [
         [
          99,
          "Documentário"
         ]
        ],
        [
         [
          18,
          "Drama"
         ]
        ],
        [
         [
          10751,
          "Família"
         ]
        ],
        [
         [
          14,
          "Fantasia"
         ]
        ],
        [
         [
          36,
          "História"
         ]
        ],
        [
         [
          27,
          "Terror"
         ]
        ],
        [
         [
          10402,
          "Música"
         ]
        ],
        [
         [
          9648,
          "Mistério"
         ]
        ],
        [
         [
          10749,
          "Romance"
         ]
        ],
        [
         [
          878,
          "Ficção científica"
         ]
        ],
        [
         [
          10770,
          "Cinema TV"
         ]
        ],
        [
         [
          53,
          "Thriller"
         ]
        ],
        [
         [
          10752,
          "Guerra"
         ]
        ],
        [
         [
          37,
          "Faroeste"
         ]
        ]
       ],
       "datasetInfos": [],
       "dbfsResultPath": null,
       "isJsonSchema": true,
       "metadata": {
        "dataframeName": "_sqldf",
        "executionCount": 6
       },
       "overflow": false,
       "plotOptions": {
        "customPlotOptions": {},
        "displayType": "table",
        "pivotAggregation": null,
        "pivotColumns": null,
        "xColumns": null,
        "yColumns": null
       },
       "removedWidgets": [],
       "schema": [
        {
         "metadata": "{}",
         "name": "col",
         "type": "{\"type\":\"struct\",\"fields\":[{\"name\":\"id\",\"type\":\"long\",\"nullable\":true,\"metadata\":{}},{\"name\":\"name\",\"type\":\"string\",\"nullable\":true,\"metadata\":{}}]}"
        }
       ],
       "type": "table"
      }
     },
     "output_type": "display_data"
    }
   ],
   "source": [
    "%sql\n",
    "--usando a função explode do SparkSQL para transformar cada posição do array da lista de filmes em uma linha na tabela\n",
    "SELECT explode(genres)\n",
    "FROM GLOBAL_TEMP.TMDB_GENEROS_VW;"
   ]
  },
  {
   "cell_type": "code",
   "execution_count": 0,
   "metadata": {
    "application/vnd.databricks.v1+cell": {
     "cellMetadata": {
      "byteLimit": 2048000,
      "implicitDf": true,
      "rowLimit": 10000
     },
     "inputWidgets": {},
     "nuid": "f362c243-b9b1-4b1b-9dbd-ee6541a0c929",
     "showTitle": false,
     "title": ""
    }
   },
   "outputs": [
    {
     "output_type": "display_data",
     "data": {
      "text/html": [
       "<style scoped>\n",
       "  .table-result-container {\n",
       "    max-height: 300px;\n",
       "    overflow: auto;\n",
       "  }\n",
       "  table, th, td {\n",
       "    border: 1px solid black;\n",
       "    border-collapse: collapse;\n",
       "  }\n",
       "  th, td {\n",
       "    padding: 5px;\n",
       "  }\n",
       "  th {\n",
       "    text-align: left;\n",
       "  }\n",
       "</style><div class='table-result-container'><table class='table-result'><thead style='background-color: white'><tr><th>col_name</th><th>data_type</th><th>comment</th></tr></thead><tbody><tr><td>col</td><td>struct<id:bigint,name:string></td><td>null</td></tr></tbody></table></div>"
      ]
     },
     "metadata": {
      "application/vnd.databricks.v1+output": {
       "addedWidgets": {},
       "aggData": [],
       "aggError": "",
       "aggOverflow": false,
       "aggSchema": [],
       "aggSeriesLimitReached": false,
       "aggType": "",
       "arguments": {},
       "columnCustomDisplayInfos": {},
       "data": [
        [
         "col",
         "struct<id:bigint,name:string>",
         null
        ]
       ],
       "datasetInfos": [],
       "dbfsResultPath": null,
       "isJsonSchema": true,
       "metadata": {
        "dataframeName": "_sqldf",
        "executionCount": 7
       },
       "overflow": false,
       "plotOptions": {
        "customPlotOptions": {},
        "displayType": "table",
        "pivotAggregation": null,
        "pivotColumns": null,
        "xColumns": null,
        "yColumns": null
       },
       "removedWidgets": [],
       "schema": [
        {
         "metadata": "{\"comment\":\"name of the column\"}",
         "name": "col_name",
         "type": "\"string\""
        },
        {
         "metadata": "{\"comment\":\"data type of the column\"}",
         "name": "data_type",
         "type": "\"string\""
        },
        {
         "metadata": "{\"comment\":\"comment of the column\"}",
         "name": "comment",
         "type": "\"string\""
        }
       ],
       "type": "table"
      }
     },
     "output_type": "display_data"
    }
   ],
   "source": [
    "%sql  \n",
    "--criando view temporária para popular as linhas com elementos do array\n",
    "\n",
    "CREATE OR REPLACE GLOBAL TEMP VIEW TMDB_GENEROS_VW2 AS \n",
    "SELECT explode(genres)\n",
    "FROM GLOBAL_TEMP.TMDB_GENEROS_VW;\n",
    "\n",
    "SELECT * FROM GLOBAL_TEMP.TMDB_GENEROS_VW2;\n",
    "DESCRIBE GLOBAL_TEMP.TMDB_GENEROS_VW2;"
   ]
  },
  {
   "cell_type": "code",
   "execution_count": 0,
   "metadata": {
    "application/vnd.databricks.v1+cell": {
     "cellMetadata": {
      "byteLimit": 2048000,
      "implicitDf": true,
      "rowLimit": 10000
     },
     "inputWidgets": {},
     "nuid": "e9bbaea5-a72a-48f8-81fc-156d611fb282",
     "showTitle": false,
     "title": ""
    }
   },
   "outputs": [
    {
     "output_type": "display_data",
     "data": {
      "text/html": [
       "<style scoped>\n",
       "  .table-result-container {\n",
       "    max-height: 300px;\n",
       "    overflow: auto;\n",
       "  }\n",
       "  table, th, td {\n",
       "    border: 1px solid black;\n",
       "    border-collapse: collapse;\n",
       "  }\n",
       "  th, td {\n",
       "    padding: 5px;\n",
       "  }\n",
       "  th {\n",
       "    text-align: left;\n",
       "  }\n",
       "</style><div class='table-result-container'><table class='table-result'><thead style='background-color: white'><tr><th>ID</th><th>NAME</th></tr></thead><tbody><tr><td>12</td><td>Aventura</td></tr><tr><td>14</td><td>Fantasia</td></tr><tr><td>16</td><td>Animação</td></tr><tr><td>18</td><td>Drama</td></tr><tr><td>27</td><td>Terror</td></tr><tr><td>28</td><td>Ação</td></tr><tr><td>35</td><td>Comédia</td></tr><tr><td>36</td><td>História</td></tr><tr><td>37</td><td>Faroeste</td></tr><tr><td>53</td><td>Thriller</td></tr><tr><td>80</td><td>Crime</td></tr><tr><td>99</td><td>Documentário</td></tr><tr><td>878</td><td>Ficção científica</td></tr><tr><td>9648</td><td>Mistério</td></tr><tr><td>10402</td><td>Música</td></tr><tr><td>10749</td><td>Romance</td></tr><tr><td>10751</td><td>Família</td></tr><tr><td>10752</td><td>Guerra</td></tr><tr><td>10770</td><td>Cinema TV</td></tr></tbody></table></div>"
      ]
     },
     "metadata": {
      "application/vnd.databricks.v1+output": {
       "addedWidgets": {},
       "aggData": [],
       "aggError": "",
       "aggOverflow": false,
       "aggSchema": [],
       "aggSeriesLimitReached": false,
       "aggType": "",
       "arguments": {},
       "columnCustomDisplayInfos": {},
       "data": [
        [
         12,
         "Aventura"
        ],
        [
         14,
         "Fantasia"
        ],
        [
         16,
         "Animação"
        ],
        [
         18,
         "Drama"
        ],
        [
         27,
         "Terror"
        ],
        [
         28,
         "Ação"
        ],
        [
         35,
         "Comédia"
        ],
        [
         36,
         "História"
        ],
        [
         37,
         "Faroeste"
        ],
        [
         53,
         "Thriller"
        ],
        [
         80,
         "Crime"
        ],
        [
         99,
         "Documentário"
        ],
        [
         878,
         "Ficção científica"
        ],
        [
         9648,
         "Mistério"
        ],
        [
         10402,
         "Música"
        ],
        [
         10749,
         "Romance"
        ],
        [
         10751,
         "Família"
        ],
        [
         10752,
         "Guerra"
        ],
        [
         10770,
         "Cinema TV"
        ]
       ],
       "datasetInfos": [],
       "dbfsResultPath": null,
       "isJsonSchema": true,
       "metadata": {
        "dataframeName": "_sqldf",
        "executionCount": 8
       },
       "overflow": false,
       "plotOptions": {
        "customPlotOptions": {},
        "displayType": "table",
        "pivotAggregation": null,
        "pivotColumns": null,
        "xColumns": null,
        "yColumns": null
       },
       "removedWidgets": [],
       "schema": [
        {
         "metadata": "{}",
         "name": "ID",
         "type": "\"long\""
        },
        {
         "metadata": "{}",
         "name": "NAME",
         "type": "\"string\""
        }
       ],
       "type": "table"
      }
     },
     "output_type": "display_data"
    }
   ],
   "source": [
    "%sql\n",
    "--ordenando gêneros por id\n",
    "SELECT \n",
    "COL.ID AS ID,\n",
    "COL.NAME AS NAME\n",
    "FROM GLOBAL_TEMP.TMDB_GENEROS_VW2\n",
    "ORDER BY ID;"
   ]
  },
  {
   "cell_type": "code",
   "execution_count": 0,
   "metadata": {
    "application/vnd.databricks.v1+cell": {
     "cellMetadata": {
      "byteLimit": 2048000,
      "implicitDf": true,
      "rowLimit": 10000
     },
     "inputWidgets": {},
     "nuid": "5a1ffb10-825f-400e-ab8c-0d9c7d5ef9c0",
     "showTitle": false,
     "title": ""
    }
   },
   "outputs": [
    {
     "output_type": "display_data",
     "data": {
      "text/html": [
       "<style scoped>\n",
       "  .table-result-container {\n",
       "    max-height: 300px;\n",
       "    overflow: auto;\n",
       "  }\n",
       "  table, th, td {\n",
       "    border: 1px solid black;\n",
       "    border-collapse: collapse;\n",
       "  }\n",
       "  th, td {\n",
       "    padding: 5px;\n",
       "  }\n",
       "  th {\n",
       "    text-align: left;\n",
       "  }\n",
       "</style><div class='table-result-container'><table class='table-result'><thead style='background-color: white'><tr><th>num_affected_rows</th><th>num_inserted_rows</th></tr></thead><tbody></tbody></table></div>"
      ]
     },
     "metadata": {
      "application/vnd.databricks.v1+output": {
       "addedWidgets": {},
       "aggData": [],
       "aggError": "",
       "aggOverflow": false,
       "aggSchema": [],
       "aggSeriesLimitReached": false,
       "aggType": "",
       "arguments": {},
       "columnCustomDisplayInfos": {},
       "data": [],
       "datasetInfos": [],
       "dbfsResultPath": null,
       "isJsonSchema": true,
       "metadata": {
        "dataframeName": "_sqldf",
        "executionCount": 9
       },
       "overflow": false,
       "plotOptions": {
        "customPlotOptions": {},
        "displayType": "table",
        "pivotAggregation": null,
        "pivotColumns": null,
        "xColumns": null,
        "yColumns": null
       },
       "removedWidgets": [],
       "schema": [
        {
         "metadata": "{}",
         "name": "num_affected_rows",
         "type": "\"long\""
        },
        {
         "metadata": "{}",
         "name": "num_inserted_rows",
         "type": "\"long\""
        }
       ],
       "type": "table"
      }
     },
     "output_type": "display_data"
    }
   ],
   "source": [
    "%sql\n",
    "--Criação de tabela de gêneros, que será utilizada como referência para a tabela de filmes\n",
    "USE DBTMDB;\n",
    "\n",
    "CREATE OR REPLACE TABLE TMDB_GENEROS_REF AS \n",
    "SELECT \n",
    "COL.ID AS ID,\n",
    "COL.NAME AS NAME\n",
    "FROM GLOBAL_TEMP.TMDB_GENEROS_VW2;\n",
    "\n"
   ]
  },
  {
   "cell_type": "code",
   "execution_count": 0,
   "metadata": {
    "application/vnd.databricks.v1+cell": {
     "cellMetadata": {
      "byteLimit": 2048000,
      "implicitDf": true,
      "rowLimit": 10000
     },
     "inputWidgets": {},
     "nuid": "41564a69-1b0a-4214-9cf2-0bbbfcff3791",
     "showTitle": false,
     "title": ""
    }
   },
   "outputs": [
    {
     "output_type": "display_data",
     "data": {
      "text/html": [
       "<style scoped>\n",
       "  .table-result-container {\n",
       "    max-height: 300px;\n",
       "    overflow: auto;\n",
       "  }\n",
       "  table, th, td {\n",
       "    border: 1px solid black;\n",
       "    border-collapse: collapse;\n",
       "  }\n",
       "  th, td {\n",
       "    padding: 5px;\n",
       "  }\n",
       "  th {\n",
       "    text-align: left;\n",
       "  }\n",
       "</style><div class='table-result-container'><table class='table-result'><thead style='background-color: white'><tr><th>ID</th><th>NAME</th></tr></thead><tbody><tr><td>12</td><td>Aventura</td></tr><tr><td>14</td><td>Fantasia</td></tr><tr><td>16</td><td>Animação</td></tr><tr><td>18</td><td>Drama</td></tr><tr><td>27</td><td>Terror</td></tr><tr><td>28</td><td>Ação</td></tr><tr><td>35</td><td>Comédia</td></tr><tr><td>36</td><td>História</td></tr><tr><td>37</td><td>Faroeste</td></tr><tr><td>53</td><td>Thriller</td></tr><tr><td>80</td><td>Crime</td></tr><tr><td>99</td><td>Documentário</td></tr><tr><td>878</td><td>Ficção científica</td></tr><tr><td>9648</td><td>Mistério</td></tr><tr><td>10402</td><td>Música</td></tr><tr><td>10749</td><td>Romance</td></tr><tr><td>10751</td><td>Família</td></tr><tr><td>10752</td><td>Guerra</td></tr><tr><td>10770</td><td>Cinema TV</td></tr></tbody></table></div>"
      ]
     },
     "metadata": {
      "application/vnd.databricks.v1+output": {
       "addedWidgets": {},
       "aggData": [],
       "aggError": "",
       "aggOverflow": false,
       "aggSchema": [],
       "aggSeriesLimitReached": false,
       "aggType": "",
       "arguments": {},
       "columnCustomDisplayInfos": {},
       "data": [
        [
         12,
         "Aventura"
        ],
        [
         14,
         "Fantasia"
        ],
        [
         16,
         "Animação"
        ],
        [
         18,
         "Drama"
        ],
        [
         27,
         "Terror"
        ],
        [
         28,
         "Ação"
        ],
        [
         35,
         "Comédia"
        ],
        [
         36,
         "História"
        ],
        [
         37,
         "Faroeste"
        ],
        [
         53,
         "Thriller"
        ],
        [
         80,
         "Crime"
        ],
        [
         99,
         "Documentário"
        ],
        [
         878,
         "Ficção científica"
        ],
        [
         9648,
         "Mistério"
        ],
        [
         10402,
         "Música"
        ],
        [
         10749,
         "Romance"
        ],
        [
         10751,
         "Família"
        ],
        [
         10752,
         "Guerra"
        ],
        [
         10770,
         "Cinema TV"
        ]
       ],
       "datasetInfos": [],
       "dbfsResultPath": null,
       "isJsonSchema": true,
       "metadata": {
        "dataframeName": "_sqldf",
        "executionCount": 10
       },
       "overflow": false,
       "plotOptions": {
        "customPlotOptions": {},
        "displayType": "table",
        "pivotAggregation": null,
        "pivotColumns": null,
        "xColumns": null,
        "yColumns": null
       },
       "removedWidgets": [],
       "schema": [
        {
         "metadata": "{}",
         "name": "ID",
         "type": "\"long\""
        },
        {
         "metadata": "{}",
         "name": "NAME",
         "type": "\"string\""
        }
       ],
       "type": "table"
      }
     },
     "output_type": "display_data"
    }
   ],
   "source": [
    "%sql\n",
    "SELECT * FROM TMDB_GENEROS_REF ORDER BY ID;"
   ]
  },
  {
   "cell_type": "code",
   "execution_count": 0,
   "metadata": {
    "application/vnd.databricks.v1+cell": {
     "cellMetadata": {
      "byteLimit": 2048000,
      "rowLimit": 10000
     },
     "inputWidgets": {},
     "nuid": "e17ef219-c301-4209-ade8-8b67b6fe7580",
     "showTitle": false,
     "title": ""
    }
   },
   "outputs": [],
   "source": []
  }
 ],
 "metadata": {
  "application/vnd.databricks.v1+notebook": {
   "dashboards": [],
   "language": "python",
   "notebookMetadata": {
    "mostRecentlyExecutedCommandWithImplicitDF": {
     "commandId": 3477503901042132,
     "dataframes": [
      "_sqldf"
     ]
    },
    "pythonIndentUnit": 4
   },
   "notebookName": "2.1 - CAR_GENEROFILMES",
   "widgets": {}
  }
 },
 "nbformat": 4,
 "nbformat_minor": 0
}
