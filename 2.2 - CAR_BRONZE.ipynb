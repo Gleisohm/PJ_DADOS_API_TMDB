{
 "cells": [
  {
   "cell_type": "markdown",
   "metadata": {
    "application/vnd.databricks.v1+cell": {
     "cellMetadata": {
      "byteLimit": 2048000,
      "rowLimit": 10000
     },
     "inputWidgets": {},
     "nuid": "a85ed378-706d-409c-98cf-45e8bdb87458",
     "showTitle": false,
     "title": ""
    }
   },
   "source": [
    "### Carga da Tabela Bronze da Arquitetura Medallion"
   ]
  },
  {
   "cell_type": "code",
   "execution_count": 0,
   "metadata": {
    "application/vnd.databricks.v1+cell": {
     "cellMetadata": {
      "byteLimit": 2048000,
      "rowLimit": 10000
     },
     "inputWidgets": {},
     "nuid": "e8a40b91-8c54-4083-95fe-bb9dfc442446",
     "showTitle": false,
     "title": ""
    }
   },
   "outputs": [
    {
     "output_type": "display_data",
     "data": {
      "text/html": [
       "<style scoped>\n",
       "  .table-result-container {\n",
       "    max-height: 300px;\n",
       "    overflow: auto;\n",
       "  }\n",
       "  table, th, td {\n",
       "    border: 1px solid black;\n",
       "    border-collapse: collapse;\n",
       "  }\n",
       "  th, td {\n",
       "    padding: 5px;\n",
       "  }\n",
       "  th {\n",
       "    text-align: left;\n",
       "  }\n",
       "</style><div class='table-result-container'><table class='table-result'><thead style='background-color: white'><tr><th>path</th><th>name</th><th>size</th><th>modificationTime</th></tr></thead><tbody><tr><td>dbfs:/temp/TMDB/FilmesFavoritosTMDB_1.json</td><td>FilmesFavoritosTMDB_1.json</td><td>16840</td><td>1709308686000</td></tr><tr><td>dbfs:/temp/TMDB/FilmesFavoritosTMDB_2.json</td><td>FilmesFavoritosTMDB_2.json</td><td>15465</td><td>1709308686000</td></tr><tr><td>dbfs:/temp/TMDB/FilmesFavoritosTMDB_3.json</td><td>FilmesFavoritosTMDB_3.json</td><td>15370</td><td>1709308687000</td></tr><tr><td>dbfs:/temp/TMDB/FilmesFavoritosTMDB_4.json</td><td>FilmesFavoritosTMDB_4.json</td><td>15530</td><td>1709308687000</td></tr><tr><td>dbfs:/temp/TMDB/FilmesFavoritosTMDB_5.json</td><td>FilmesFavoritosTMDB_5.json</td><td>15468</td><td>1709308688000</td></tr><tr><td>dbfs:/temp/TMDB/ListaGenerosFilmesTMDB.json</td><td>ListaGenerosFilmesTMDB.json</td><td>698</td><td>1709231980000</td></tr><tr><td>dbfs:/temp/TMDB/TMDB_API_TOKEN.json</td><td>TMDB_API_TOKEN.json</td><td>211</td><td>1709307961000</td></tr></tbody></table></div>"
      ]
     },
     "metadata": {
      "application/vnd.databricks.v1+output": {
       "addedWidgets": {},
       "aggData": [],
       "aggError": "",
       "aggOverflow": false,
       "aggSchema": [],
       "aggSeriesLimitReached": false,
       "aggType": "",
       "arguments": {},
       "columnCustomDisplayInfos": {},
       "data": [
        [
         "dbfs:/temp/TMDB/FilmesFavoritosTMDB_1.json",
         "FilmesFavoritosTMDB_1.json",
         16840,
         1709308686000
        ],
        [
         "dbfs:/temp/TMDB/FilmesFavoritosTMDB_2.json",
         "FilmesFavoritosTMDB_2.json",
         15465,
         1709308686000
        ],
        [
         "dbfs:/temp/TMDB/FilmesFavoritosTMDB_3.json",
         "FilmesFavoritosTMDB_3.json",
         15370,
         1709308687000
        ],
        [
         "dbfs:/temp/TMDB/FilmesFavoritosTMDB_4.json",
         "FilmesFavoritosTMDB_4.json",
         15530,
         1709308687000
        ],
        [
         "dbfs:/temp/TMDB/FilmesFavoritosTMDB_5.json",
         "FilmesFavoritosTMDB_5.json",
         15468,
         1709308688000
        ],
        [
         "dbfs:/temp/TMDB/ListaGenerosFilmesTMDB.json",
         "ListaGenerosFilmesTMDB.json",
         698,
         1709231980000
        ],
        [
         "dbfs:/temp/TMDB/TMDB_API_TOKEN.json",
         "TMDB_API_TOKEN.json",
         211,
         1709307961000
        ]
       ],
       "datasetInfos": [],
       "dbfsResultPath": null,
       "isJsonSchema": true,
       "metadata": {},
       "overflow": false,
       "plotOptions": {
        "customPlotOptions": {},
        "displayType": "table",
        "pivotAggregation": null,
        "pivotColumns": null,
        "xColumns": null,
        "yColumns": null
       },
       "removedWidgets": [],
       "schema": [
        {
         "metadata": "{}",
         "name": "path",
         "type": "\"string\""
        },
        {
         "metadata": "{}",
         "name": "name",
         "type": "\"string\""
        },
        {
         "metadata": "{}",
         "name": "size",
         "type": "\"long\""
        },
        {
         "metadata": "{}",
         "name": "modificationTime",
         "type": "\"long\""
        }
       ],
       "type": "table"
      }
     },
     "output_type": "display_data"
    }
   ],
   "source": [
    "import json\n",
    "\n",
    "#consultando arquivo salvo no file system\n",
    "file = dbutils.fs.ls(f\"/temp/TMDB\")\n",
    "display (file) "
   ]
  },
  {
   "cell_type": "code",
   "execution_count": 0,
   "metadata": {
    "application/vnd.databricks.v1+cell": {
     "cellMetadata": {
      "byteLimit": 2048000,
      "implicitDf": true,
      "rowLimit": 10000
     },
     "inputWidgets": {},
     "nuid": "2c55644d-8335-4dc1-983d-f25b21288bc4",
     "showTitle": false,
     "title": ""
    }
   },
   "outputs": [
    {
     "output_type": "display_data",
     "data": {
      "text/html": [
       "<style scoped>\n",
       "  .table-result-container {\n",
       "    max-height: 300px;\n",
       "    overflow: auto;\n",
       "  }\n",
       "  table, th, td {\n",
       "    border: 1px solid black;\n",
       "    border-collapse: collapse;\n",
       "  }\n",
       "  th, td {\n",
       "    padding: 5px;\n",
       "  }\n",
       "  th {\n",
       "    text-align: left;\n",
       "  }\n",
       "</style><div class='table-result-container'><table class='table-result'><thead style='background-color: white'><tr><th>page</th><th>results</th><th>total_pages</th><th>total_results</th></tr></thead><tbody><tr><td>1</td><td>List(List(false, /tmU7GeKVybMWFButWEGl2M4GeiP.jpg, List(18, 80), 238, en, The Godfather, Em 1945, Don Corleone é o chefe de uma mafiosa família italiana de Nova York. Ele costuma apadrinhar várias pessoas, realizando importantes favores para elas, em troca de favores futuros. Com a chegada das drogas, as famílias começam uma disputa pelo promissor mercado. Quando Corleone se recusa a facilitar a entrada dos narcóticos na cidade, não oferecendo ajuda política e policial, sua família começa a sofrer atentados para que mudem de posição. É nessa complicada época que Michael, um herói de guerra nunca envolvido nos negócios da família, vê a necessidade de proteger o seu pai e tudo o que ele construiu ao longo dos anos., 110.668, /oJagOzBu9Rdd9BrciseCm3U3MCU.jpg, 1972-03-14, O Poderoso Chefão, false, 8.695, 19520), List(false, /kGzFbGhp99zva6oZODW5atUtnqi.jpg, List(18, 80), 240, en, The Godfather Part II, Após a máfia matar sua família, o jovem Vito foge da sua cidade na Sicília e vai para a América. Vito luta para manter sua família. Ele mata Black Hand Fanucci, que exigia dos comerciantes uma parte dos seus ganhos. Com a morte de Fanucci, o poderio de Vito cresce, mas sua família é o que mais importa para ele. Agora baseado no Lago Tahoe, Michael planeja fazer incursões em Las Vegas e Havana instalando negócios ligados ao lazer, mas descobre que aliados como Hyman Roth estão tentando matá-lo., 66.949, /7g6wvsWHxBQujUcSXvZLhdFpDUy.jpg, 1974-12-20, O Poderoso Chefão: Parte II, false, 8.6, 11791), List(false, /3f92DMBTFqr3wgXpfxzrb0qv8nG.jpg, List(18, 36, 10752), 424, en, Schindler's List, O alemão Oskar Schindler viu na mão de obra judia uma solução barata e viável para lucrar com negócios durante a guerra. Com sua forte influência dentro do partido nazista, foi fácil conseguir as autorizações e abrir uma fábrica. O que poderia parecer uma atitude de um homem não muito bondoso, transformou-se em um dos maiores casos de amor à vida da História, pois este alemão abdicou de toda sua fortuna para salvar a vida de mais de mil judeus em plena luta contra o extermínio alemão., 83.493, /tagKKnJLK8W5qKJW7Cl2GR2OPCs.jpg, 1993-12-15, A Lista de Schindler, false, 8.565, 15172), List(false, /kXfqcdQKsToO0OUXHcrrNCHDBzO.jpg, List(18, 80), 278, en, The Shawshank Redemption, Em 1946, Andy Dufresne, um banqueiro jovem e bem sucedido, tem a sua vida radicalmente modificada ao ser condenado por um crime que nunca cometeu, o homicídio de sua esposa e do amante dela. Ele é mandado para uma prisão que é o pesadelo de qualquer detento, a Penitenciária Estadual de Shawshank, no Maine. Lá ele irá cumprir a pena perpétua. Andy logo será apresentado a Warden Norton, o corrupto e cruel agente penitenciário, que usa a Bíblia como arma de controle e ao Capitão Byron Hadley que trata os internos como animais. Andy faz amizade com Ellis Boyd Redding, um prisioneiro que cumpre pena há 20 anos e controla o mercado negro da instituição., 128.965, /umX3lBhHoTV7Lsci140Yr8VpXyN.jpg, 1994-09-23, Um Sonho de Liberdade, false, 8.7, 25691), List(false, /l6hQWH9eDksNJNiXWYRkWqikOdu.jpg, List(14, 18, 80), 497, en, The Green Mile, Milagres acontecem em lugares inesperados, mesmo no bloco de celas para o corredor da morte na Penitenciária Cold Mountain. Lá, John Coffey, um gentil e gigante prisioneiro com poderes sobrenaturais, traz um senso de espírito e humanidade aos seus guardas e colegas de cela., 71.563, /14hEqW67IiHlKpzKMLUXyktzZIV.jpg, 1999-12-10, À Espera de um Milagre, false, 8.508, 16541), List(false, /2u7zbn8EudG6kLlBzUYqP8RyFU4.jpg, List(12, 14, 28), 122, en, The Lord of the Rings: The Return of the King, O confronto final entre as forças do bem e do mal que lutam pelo controle do futuro da Terra Média se aproxima. Sauron planeja um grande ataque a Minas Tirith, capital de Gondor, o que faz com que Gandalf e Pippin partam para o local na intenção de ajudar a resistência. Um exército é reunido por Theoden em Rohan, em mais uma tentativa de deter as forças de Sauron. Enquanto isso, Frodo, Sam e Gollum seguem sua viagem rumo à Montanha da Perdição para destruir o anel., 112.88, /aXS3D94iIO9dheHrG0BhgUR4Wuy.jpg, 2003-12-01, O Senhor dos Anéis: O Retorno do Rei, false, 8.477, 23096), List(false, /qdIMHd4sEfJSckfVJfKQvisL02a.jpg, List(35, 18, 10749), 13, en, Forrest Gump, Quarenta anos da história dos Estados Unidos, vistos pelos olhos de Forrest Gump, um rapaz com QI abaixo da média e com boas intenções. Por obra do acaso, ele consegue participar de momentos cruciais, como a Guerra do Vietnã e o Caso Watergate, mas continua pensando no seu amor de infância, Jenny Curran., 131.332, /d74WpIsH8379TIL4wUxDneRCYv2.jpg, 1994-06-23, Forrest Gump: O Contador de Histórias, false, 8.5, 26237), List(false, /uvitbjFU4JqvMwIkMWHp69bmUzG.jpg, List(18, 80), 598, pt, Cidade de Deus, Buscapé é um jovem morador da Cidade de Deus que cresce em meio à violência. Com medo de se tornar um bandido, enxerga na fotografia uma oportunidade de ter uma vida digna., 31.79, /gfnXixcGC060QcG6JPxN6AMdVsq.jpg, 2002-08-30, Cidade de Deus, false, 8.434, 6950), List(false, /ln2Gre4IYRhpjuGVybbtaF4CLo5.jpg, List(12, 18, 878), 157336, en, Interstellar, As reservas naturais da Terra estão chegando ao fim e um grupo de astronautas recebe a missão de verificar possíveis planetas para receberem a população mundial, possibilitando a continuação da espécie. Cooper é chamado para liderar o grupo e aceita a missão sabendo que pode nunca mais ver os filhos. Ao lado de Brand, Jenkins e Doyle, ele seguirá em busca de um novo lar., 138.634, /nCbkOyOMTEwlEV0LtCOvCnwEONA.jpg, 2014-11-05, Interestelar, false, 8.429, 33749), List(false, /x2RS3uTcsJJ9IfjNPcgDmukoEcQ.jpg, List(12, 14, 28), 120, en, The Lord of the Rings: The Fellowship of the Ring, Em uma terra fantástica e única, um hobbit recebe de presente de seu tio um anel mágico e maligno que precisa ser destruído antes que caia nas mãos do mal. Para isso, o hobbit Frodo tem um caminho árduo pela frente, onde encontra perigo, medo e seres bizarros. Ao seu lado para o cumprimento desta jornada, ele aos poucos pode contar com outros hobbits, um elfo, um anão, dois humanos e um mago, totalizando nove pessoas que formam a Sociedade do Anel., 121.609, /hq45YolNIGtrQZRJdjIRZOyONJa.jpg, 2001-12-18, O Senhor dos Anéis: A Sociedade do Anel, false, 8.409, 24028), List(false, /alQqTpmEkxSLgajfEYTsTH6nAKB.jpg, List(35, 18, 14), 40096, pt, O Auto da Compadecida, As aventuras dos nordestinos João Grilo, um sertanejo pobre e mentiroso, e Chicó, o mais covarde dos homens. Ambos lutam pelo pão de cada dia e atravessam por vários episódios enganando a todos do pequeno vilarejo de Taperoá, no sertão da Paraíba. A salvação da dupla acontece com a aparição da Nossa Senhora. Adaptação da obra de Ariano Suassuna., 14.879, /imcOp1kJsCsAFCoOtY5OnPrFbAf.jpg, 2000-09-15, O Auto da Compadecida, false, 8.4, 1044), List(false, /6G73mNyooWAEQTpckPSnFxFoNmc.jpg, List(12, 14, 28), 121, en, The Lord of the Rings: The Two Towers, Após a captura de Merry e Pippy pelos orcs, a Sociedade do Anel é dissolvida. Frodo e Sam seguem sua jornada rumo à Montanha da Perdição para destruir o anel e descobrem que estão sendo perseguidos pelo misterioso Gollum. Enquanto isso, Aragorn, o elfo e arqueiro Legolas e o anão Gimli partem para resgatar os hobbits sequestrados e chegam ao reino de Rohan, onde o rei Theoden foi vítima de uma maldição mortal de Saruman., 93.389, /20eUL6eN89SM0U7KPDw8iR82mOT.jpg, 2002-12-18, O Senhor dos Anéis: As Duas Torres, false, 8.392, 20890), List(false, /8ZTVqvKDQ8emSGUEMjsS4yHAwrp.jpg, List(28, 878, 12), 27205, en, Inception, Um ladrão que rouba segredos corporativos por meio do uso da tecnologia de compartilhamento de sonhos, recebe a tarefa inversa de plantar uma ideia na mente de um Diretor Executivo., 111.564, /9e3Dz7aCANy5aRUQF745IlNloJ1.jpg, 2010-07-15, A Origem, false, 8.367, 35325), List(false, /dYjZ27hDw2QFaEIfzbNGwW0IkV9.jpg, List(80, 9648, 53), 807, en, Se7en, Quando, a ponto de se aposentar, o detetive William Somerset aborda o último caso com a ajuda do recém-transferido David Mills, eles descobrem uma série de assassinatos. Logo percebem que estão lidando com um assassino que tem como alvo pessoas que ele acredita representar os sete pecados capitais., 66.41, /oN5jOhcnguePfC9u3xzUOp98HzH.jpg, 1995-09-22, Seven: Os Sete Crimes Capitais, false, 8.372, 20049), List(false, /5bzPWQ2dFUl2aZKkp7ILJVVkRed.jpg, List(12, 35, 878), 105, en, Back to the Future, Marty McFly, um típico adolescente americano dos anos 80, acidentalmente é enviado de volta ao ano de 1955 em um carro modificado para ser uma máquino do tempo, inventada por um cientista louco. Durante sua fantástica e maluca viagem no tempo, McFly tem que fazer com que seus futuros pais se encontrem e se apaixonem, para que assim ele possa ir de volta para o futuro., 63.461, /4BTW7PyEYFUFlNpuSeS9hAbpk9P.jpg, 1985-07-03, De Volta para o Futuro, false, 8.317, 19035), List(false, /4YbHir4Ka4kG7WOdh0anXv1iT8s.jpg, List(18), 637920, tr, 7. Koğuştaki Mucize, Separado de sua filha, um homem com deficiência intelectual precisa provar sua inocência ao ser preso pela morte da filha de um comandante., 25.159, /q5Sj4pMaKpdMyywQIJhexNvCZYz.jpg, 2019-10-10, Milagre na Cela 7, false, 8.269, 4281), List(false, /4I14RDX6gZPpXkHmbcqvAKpn3Dw.jpg, List(28, 18, 12), 98, en, Gladiator, Nos dias finais do reinado de Marcus Aurelius, o imperador desperta a ira de seu filho Commodus ao tornar pública sua predileção em deixar o trono para Maximus, o comandante do exército romano. Sedento pelo poder, Commodus mata seu pai, assume a coroa e ordena a morte de Maximus, que consegue fugir antes de ser pego e passa a se esconder sob a identidade de um escravo e gladiador do Império Romano., 62.87, /R1ieKOdGHYL7BRpl0iRgNV1uXw.jpg, 2000-05-04, Gladiador, false, 8.215, 17574), List(false, /bdD39MpSVhKjxarTxLSfX6baoMP.jpg, List(18, 36, 10752), 857, en, Saving Private Ryan, Ao desembarcar na Normandia, no dia 6 de junho de 1944, capitão Miller recebe a missão de comandar um grupo do segundo batalhão para o resgate do soldado James Ryan, caçula de quatro irmãos, dentre os quais três morreram em combate. Por ordens do chefe George C. Marshall, eles precisam procurar o soldado e garantir o seu retorno, com vida, para casa., 67.396, /hMLxNLCXRDd62acfCBn6mIyW1HU.jpg, 1998-07-24, O Resgate do Soldado Ryan, false, 8.214, 15089), List(false, /ncEsesgOJDNrTUED89hYbA117wo.jpg, List(28, 878), 603, en, The Matrix, Em um futuro próximo, Thomas Anderson (Keanu Reeves), um jovem programador de computador que mora em um cubículo escuro, é atormentado por estranhos pesadelos nos quais encontra-se conectado por cabos e contra sua vontade, em um imenso sistema de computadores do futuro. Em todas essas ocasiões, acorda gritando no exato momento em que os eletrodos estão para penetrar em seu cérebro. À medida que o sonho se repete, Anderson começa a ter dúvidas sobre a realidade. Por meio do encontro com os misteriosos Morpheus (Laurence Fishburne) e Trinity (Carrie-Anne Moss), Thomas descobre que é, assim como outras pessoas, vítima do Matrix, um sistema inteligente e artificial que manipula a mente das pessoas, criando a ilusão de um mundo real enquanto usa os cérebros e corpos dos indivíduos para produzir energia. Morpheus, entretanto, está convencido de que Thomas é Neo, o aguardado messias capaz de enfrentar o Matrix e conduzir as pessoas de volta à realidade e à liberdade., 80.049, /lDqMDI3xpbB9UQRyeXfei0MXhqb.jpg, 1999-03-31, Matrix, false, 8.213, 24536), List(false, /yQIBS8B9l2qXoPoPtxSXvH7CfoT.jpg, List(18, 36, 10752), 324786, en, Hacksaw Ridge, Desmond T. Doss, foi o médico do Exército Americano da Segunda Guerra Mundial, que serviu durante a Batalha de Okinawa, se recusando a matar pessoas, tornando-se o primeiro homem da história americana a receber a Medalha de Honra sem disparar um tiro., 105.449, /88sCL8OQMoieKpHClqRCCbcgH6w.jpg, 2016-10-07, Até o Último Homem, false, 8.192, 13089))</td><td>5</td><td>100</td></tr></tbody></table></div>"
      ]
     },
     "metadata": {
      "application/vnd.databricks.v1+output": {
       "addedWidgets": {},
       "aggData": [],
       "aggError": "",
       "aggOverflow": false,
       "aggSchema": [],
       "aggSeriesLimitReached": false,
       "aggType": "",
       "arguments": {},
       "columnCustomDisplayInfos": {},
       "data": [
        [
         1,
         [
          [
           false,
           "/tmU7GeKVybMWFButWEGl2M4GeiP.jpg",
           [
            18,
            80
           ],
           238,
           "en",
           "The Godfather",
           "Em 1945, Don Corleone é o chefe de uma mafiosa família italiana de Nova York. Ele costuma apadrinhar várias pessoas, realizando importantes favores para elas, em troca de favores futuros. Com a chegada das drogas, as famílias começam uma disputa pelo promissor mercado. Quando Corleone se recusa a facilitar a entrada dos narcóticos na cidade, não oferecendo ajuda política e policial, sua família começa a sofrer atentados para que mudem de posição. É nessa complicada época que Michael, um herói de guerra nunca envolvido nos negócios da família, vê a necessidade de proteger o seu pai e tudo o que ele construiu ao longo dos anos.",
           110.668,
           "/oJagOzBu9Rdd9BrciseCm3U3MCU.jpg",
           "1972-03-14",
           "O Poderoso Chefão",
           false,
           8.695,
           19520
          ],
          [
           false,
           "/kGzFbGhp99zva6oZODW5atUtnqi.jpg",
           [
            18,
            80
           ],
           240,
           "en",
           "The Godfather Part II",
           "Após a máfia matar sua família, o jovem Vito foge da sua cidade na Sicília e vai para a América. Vito luta para manter sua família. Ele mata Black Hand Fanucci, que exigia dos comerciantes uma parte dos seus ganhos. Com a morte de Fanucci, o poderio de Vito cresce, mas sua família é o que mais importa para ele. Agora baseado no Lago Tahoe, Michael planeja fazer incursões em Las Vegas e Havana instalando negócios ligados ao lazer, mas descobre que aliados como Hyman Roth estão tentando matá-lo.",
           66.949,
           "/7g6wvsWHxBQujUcSXvZLhdFpDUy.jpg",
           "1974-12-20",
           "O Poderoso Chefão: Parte II",
           false,
           8.6,
           11791
          ],
          [
           false,
           "/3f92DMBTFqr3wgXpfxzrb0qv8nG.jpg",
           [
            18,
            36,
            10752
           ],
           424,
           "en",
           "Schindler's List",
           "O alemão Oskar Schindler viu na mão de obra judia uma solução barata e viável para lucrar com negócios durante a guerra. Com sua forte influência dentro do partido nazista, foi fácil conseguir as autorizações e abrir uma fábrica. O que poderia parecer uma atitude de um homem não muito bondoso, transformou-se em um dos maiores casos de amor à vida da História, pois este alemão abdicou de toda sua fortuna para salvar a vida de mais de mil judeus em plena luta contra o extermínio alemão.",
           83.493,
           "/tagKKnJLK8W5qKJW7Cl2GR2OPCs.jpg",
           "1993-12-15",
           "A Lista de Schindler",
           false,
           8.565,
           15172
          ],
          [
           false,
           "/kXfqcdQKsToO0OUXHcrrNCHDBzO.jpg",
           [
            18,
            80
           ],
           278,
           "en",
           "The Shawshank Redemption",
           "Em 1946, Andy Dufresne, um banqueiro jovem e bem sucedido, tem a sua vida radicalmente modificada ao ser condenado por um crime que nunca cometeu, o homicídio de sua esposa e do amante dela. Ele é mandado para uma prisão que é o pesadelo de qualquer detento, a Penitenciária Estadual de Shawshank, no Maine. Lá ele irá cumprir a pena perpétua. Andy logo será apresentado a Warden Norton, o corrupto e cruel agente penitenciário, que usa a Bíblia como arma de controle e ao Capitão Byron Hadley que trata os internos como animais. Andy faz amizade com Ellis Boyd Redding, um prisioneiro que cumpre pena há 20 anos e controla o mercado negro da instituição.",
           128.965,
           "/umX3lBhHoTV7Lsci140Yr8VpXyN.jpg",
           "1994-09-23",
           "Um Sonho de Liberdade",
           false,
           8.7,
           25691
          ],
          [
           false,
           "/l6hQWH9eDksNJNiXWYRkWqikOdu.jpg",
           [
            14,
            18,
            80
           ],
           497,
           "en",
           "The Green Mile",
           "Milagres acontecem em lugares inesperados, mesmo no bloco de celas para o corredor da morte na Penitenciária Cold Mountain. Lá, John Coffey, um gentil e gigante prisioneiro com poderes sobrenaturais, traz um senso de espírito e humanidade aos seus guardas e colegas de cela.",
           71.563,
           "/14hEqW67IiHlKpzKMLUXyktzZIV.jpg",
           "1999-12-10",
           "À Espera de um Milagre",
           false,
           8.508,
           16541
          ],
          [
           false,
           "/2u7zbn8EudG6kLlBzUYqP8RyFU4.jpg",
           [
            12,
            14,
            28
           ],
           122,
           "en",
           "The Lord of the Rings: The Return of the King",
           "O confronto final entre as forças do bem e do mal que lutam pelo controle do futuro da Terra Média se aproxima. Sauron planeja um grande ataque a Minas Tirith, capital de Gondor, o que faz com que Gandalf e Pippin partam para o local na intenção de ajudar a resistência. Um exército é reunido por Theoden em Rohan, em mais uma tentativa de deter as forças de Sauron. Enquanto isso, Frodo, Sam e Gollum seguem sua viagem rumo à Montanha da Perdição para destruir o anel.",
           112.88,
           "/aXS3D94iIO9dheHrG0BhgUR4Wuy.jpg",
           "2003-12-01",
           "O Senhor dos Anéis: O Retorno do Rei",
           false,
           8.477,
           23096
          ],
          [
           false,
           "/qdIMHd4sEfJSckfVJfKQvisL02a.jpg",
           [
            35,
            18,
            10749
           ],
           13,
           "en",
           "Forrest Gump",
           "Quarenta anos da história dos Estados Unidos, vistos pelos olhos de Forrest Gump, um rapaz com QI abaixo da média e com boas intenções. Por obra do acaso, ele consegue participar de momentos cruciais, como a Guerra do Vietnã e o Caso Watergate, mas continua pensando no seu amor de infância, Jenny Curran.",
           131.332,
           "/d74WpIsH8379TIL4wUxDneRCYv2.jpg",
           "1994-06-23",
           "Forrest Gump: O Contador de Histórias",
           false,
           8.5,
           26237
          ],
          [
           false,
           "/uvitbjFU4JqvMwIkMWHp69bmUzG.jpg",
           [
            18,
            80
           ],
           598,
           "pt",
           "Cidade de Deus",
           "Buscapé é um jovem morador da Cidade de Deus que cresce em meio à violência. Com medo de se tornar um bandido, enxerga na fotografia uma oportunidade de ter uma vida digna.",
           31.79,
           "/gfnXixcGC060QcG6JPxN6AMdVsq.jpg",
           "2002-08-30",
           "Cidade de Deus",
           false,
           8.434,
           6950
          ],
          [
           false,
           "/ln2Gre4IYRhpjuGVybbtaF4CLo5.jpg",
           [
            12,
            18,
            878
           ],
           157336,
           "en",
           "Interstellar",
           "As reservas naturais da Terra estão chegando ao fim e um grupo de astronautas recebe a missão de verificar possíveis planetas para receberem a população mundial, possibilitando a continuação da espécie. Cooper é chamado para liderar o grupo e aceita a missão sabendo que pode nunca mais ver os filhos. Ao lado de Brand, Jenkins e Doyle, ele seguirá em busca de um novo lar.",
           138.634,
           "/nCbkOyOMTEwlEV0LtCOvCnwEONA.jpg",
           "2014-11-05",
           "Interestelar",
           false,
           8.429,
           33749
          ],
          [
           false,
           "/x2RS3uTcsJJ9IfjNPcgDmukoEcQ.jpg",
           [
            12,
            14,
            28
           ],
           120,
           "en",
           "The Lord of the Rings: The Fellowship of the Ring",
           "Em uma terra fantástica e única, um hobbit recebe de presente de seu tio um anel mágico e maligno que precisa ser destruído antes que caia nas mãos do mal. Para isso, o hobbit Frodo tem um caminho árduo pela frente, onde encontra perigo, medo e seres bizarros. Ao seu lado para o cumprimento desta jornada, ele aos poucos pode contar com outros hobbits, um elfo, um anão, dois humanos e um mago, totalizando nove pessoas que formam a Sociedade do Anel.",
           121.609,
           "/hq45YolNIGtrQZRJdjIRZOyONJa.jpg",
           "2001-12-18",
           "O Senhor dos Anéis: A Sociedade do Anel",
           false,
           8.409,
           24028
          ],
          [
           false,
           "/alQqTpmEkxSLgajfEYTsTH6nAKB.jpg",
           [
            35,
            18,
            14
           ],
           40096,
           "pt",
           "O Auto da Compadecida",
           "As aventuras dos nordestinos João Grilo, um sertanejo pobre e mentiroso, e Chicó, o mais covarde dos homens. Ambos lutam pelo pão de cada dia e atravessam por vários episódios enganando a todos do pequeno vilarejo de Taperoá, no sertão da Paraíba. A salvação da dupla acontece com a aparição da Nossa Senhora. Adaptação da obra de Ariano Suassuna.",
           14.879,
           "/imcOp1kJsCsAFCoOtY5OnPrFbAf.jpg",
           "2000-09-15",
           "O Auto da Compadecida",
           false,
           8.4,
           1044
          ],
          [
           false,
           "/6G73mNyooWAEQTpckPSnFxFoNmc.jpg",
           [
            12,
            14,
            28
           ],
           121,
           "en",
           "The Lord of the Rings: The Two Towers",
           "Após a captura de Merry e Pippy pelos orcs, a Sociedade do Anel é dissolvida. Frodo e Sam seguem sua jornada rumo à Montanha da Perdição para destruir o anel e descobrem que estão sendo perseguidos pelo misterioso Gollum. Enquanto isso, Aragorn, o elfo e arqueiro Legolas e o anão Gimli partem para resgatar os hobbits sequestrados e chegam ao reino de Rohan, onde o rei Theoden foi vítima de uma maldição mortal de Saruman.",
           93.389,
           "/20eUL6eN89SM0U7KPDw8iR82mOT.jpg",
           "2002-12-18",
           "O Senhor dos Anéis: As Duas Torres",
           false,
           8.392,
           20890
          ],
          [
           false,
           "/8ZTVqvKDQ8emSGUEMjsS4yHAwrp.jpg",
           [
            28,
            878,
            12
           ],
           27205,
           "en",
           "Inception",
           "Um ladrão que rouba segredos corporativos por meio do uso da tecnologia de compartilhamento de sonhos, recebe a tarefa inversa de plantar uma ideia na mente de um Diretor Executivo.",
           111.564,
           "/9e3Dz7aCANy5aRUQF745IlNloJ1.jpg",
           "2010-07-15",
           "A Origem",
           false,
           8.367,
           35325
          ],
          [
           false,
           "/dYjZ27hDw2QFaEIfzbNGwW0IkV9.jpg",
           [
            80,
            9648,
            53
           ],
           807,
           "en",
           "Se7en",
           "Quando, a ponto de se aposentar, o detetive William Somerset aborda o último caso com a ajuda do recém-transferido David Mills, eles descobrem uma série de assassinatos. Logo percebem que estão lidando com um assassino que tem como alvo pessoas que ele acredita representar os sete pecados capitais.",
           66.41,
           "/oN5jOhcnguePfC9u3xzUOp98HzH.jpg",
           "1995-09-22",
           "Seven: Os Sete Crimes Capitais",
           false,
           8.372,
           20049
          ],
          [
           false,
           "/5bzPWQ2dFUl2aZKkp7ILJVVkRed.jpg",
           [
            12,
            35,
            878
           ],
           105,
           "en",
           "Back to the Future",
           "Marty McFly, um típico adolescente americano dos anos 80, acidentalmente é enviado de volta ao ano de 1955 em um carro modificado para ser uma máquino do tempo, inventada por um cientista louco. Durante sua fantástica e maluca viagem no tempo, McFly tem que fazer com que seus futuros pais se encontrem e se apaixonem, para que assim ele possa ir de volta para o futuro.",
           63.461,
           "/4BTW7PyEYFUFlNpuSeS9hAbpk9P.jpg",
           "1985-07-03",
           "De Volta para o Futuro",
           false,
           8.317,
           19035
          ],
          [
           false,
           "/4YbHir4Ka4kG7WOdh0anXv1iT8s.jpg",
           [
            18
           ],
           637920,
           "tr",
           "7. Koğuştaki Mucize",
           "Separado de sua filha, um homem com deficiência intelectual precisa provar sua inocência ao ser preso pela morte da filha de um comandante.",
           25.159,
           "/q5Sj4pMaKpdMyywQIJhexNvCZYz.jpg",
           "2019-10-10",
           "Milagre na Cela 7",
           false,
           8.269,
           4281
          ],
          [
           false,
           "/4I14RDX6gZPpXkHmbcqvAKpn3Dw.jpg",
           [
            28,
            18,
            12
           ],
           98,
           "en",
           "Gladiator",
           "Nos dias finais do reinado de Marcus Aurelius, o imperador desperta a ira de seu filho Commodus ao tornar pública sua predileção em deixar o trono para Maximus, o comandante do exército romano. Sedento pelo poder, Commodus mata seu pai, assume a coroa e ordena a morte de Maximus, que consegue fugir antes de ser pego e passa a se esconder sob a identidade de um escravo e gladiador do Império Romano.",
           62.87,
           "/R1ieKOdGHYL7BRpl0iRgNV1uXw.jpg",
           "2000-05-04",
           "Gladiador",
           false,
           8.215,
           17574
          ],
          [
           false,
           "/bdD39MpSVhKjxarTxLSfX6baoMP.jpg",
           [
            18,
            36,
            10752
           ],
           857,
           "en",
           "Saving Private Ryan",
           "Ao desembarcar na Normandia, no dia 6 de junho de 1944, capitão Miller recebe a missão de comandar um grupo do segundo batalhão para o resgate do soldado James Ryan, caçula de quatro irmãos, dentre os quais três morreram em combate. Por ordens do chefe George C. Marshall, eles precisam procurar o soldado e garantir o seu retorno, com vida, para casa.",
           67.396,
           "/hMLxNLCXRDd62acfCBn6mIyW1HU.jpg",
           "1998-07-24",
           "O Resgate do Soldado Ryan",
           false,
           8.214,
           15089
          ],
          [
           false,
           "/ncEsesgOJDNrTUED89hYbA117wo.jpg",
           [
            28,
            878
           ],
           603,
           "en",
           "The Matrix",
           "Em um futuro próximo, Thomas Anderson (Keanu Reeves), um jovem programador de computador que mora em um cubículo escuro, é atormentado por estranhos pesadelos nos quais encontra-se conectado por cabos e contra sua vontade, em um imenso sistema de computadores do futuro. Em todas essas ocasiões, acorda gritando no exato momento em que os eletrodos estão para penetrar em seu cérebro. À medida que o sonho se repete, Anderson começa a ter dúvidas sobre a realidade. Por meio do encontro com os misteriosos Morpheus (Laurence Fishburne) e Trinity (Carrie-Anne Moss), Thomas descobre que é, assim como outras pessoas, vítima do Matrix, um sistema inteligente e artificial que manipula a mente das pessoas, criando a ilusão de um mundo real enquanto usa os cérebros e corpos dos indivíduos para produzir energia. Morpheus, entretanto, está convencido de que Thomas é Neo, o aguardado messias capaz de enfrentar o Matrix e conduzir as pessoas de volta à realidade e à liberdade.",
           80.049,
           "/lDqMDI3xpbB9UQRyeXfei0MXhqb.jpg",
           "1999-03-31",
           "Matrix",
           false,
           8.213,
           24536
          ],
          [
           false,
           "/yQIBS8B9l2qXoPoPtxSXvH7CfoT.jpg",
           [
            18,
            36,
            10752
           ],
           324786,
           "en",
           "Hacksaw Ridge",
           "Desmond T. Doss, foi o médico do Exército Americano da Segunda Guerra Mundial, que serviu durante a Batalha de Okinawa, se recusando a matar pessoas, tornando-se o primeiro homem da história americana a receber a Medalha de Honra sem disparar um tiro.",
           105.449,
           "/88sCL8OQMoieKpHClqRCCbcgH6w.jpg",
           "2016-10-07",
           "Até o Último Homem",
           false,
           8.192,
           13089
          ]
         ],
         5,
         100
        ]
       ],
       "datasetInfos": [],
       "dbfsResultPath": null,
       "isJsonSchema": true,
       "metadata": {
        "dataframeName": "_sqldf",
        "executionCount": 2
       },
       "overflow": false,
       "plotOptions": {
        "customPlotOptions": {},
        "displayType": "table",
        "pivotAggregation": null,
        "pivotColumns": null,
        "xColumns": null,
        "yColumns": null
       },
       "removedWidgets": [],
       "schema": [
        {
         "metadata": "{}",
         "name": "page",
         "type": "\"long\""
        },
        {
         "metadata": "{}",
         "name": "results",
         "type": "{\"type\":\"array\",\"elementType\":{\"type\":\"struct\",\"fields\":[{\"name\":\"adult\",\"type\":\"boolean\",\"nullable\":true,\"metadata\":{}},{\"name\":\"backdrop_path\",\"type\":\"string\",\"nullable\":true,\"metadata\":{}},{\"name\":\"genre_ids\",\"type\":{\"type\":\"array\",\"elementType\":\"long\",\"containsNull\":true},\"nullable\":true,\"metadata\":{}},{\"name\":\"id\",\"type\":\"long\",\"nullable\":true,\"metadata\":{}},{\"name\":\"original_language\",\"type\":\"string\",\"nullable\":true,\"metadata\":{}},{\"name\":\"original_title\",\"type\":\"string\",\"nullable\":true,\"metadata\":{}},{\"name\":\"overview\",\"type\":\"string\",\"nullable\":true,\"metadata\":{}},{\"name\":\"popularity\",\"type\":\"double\",\"nullable\":true,\"metadata\":{}},{\"name\":\"poster_path\",\"type\":\"string\",\"nullable\":true,\"metadata\":{}},{\"name\":\"release_date\",\"type\":\"string\",\"nullable\":true,\"metadata\":{}},{\"name\":\"title\",\"type\":\"string\",\"nullable\":true,\"metadata\":{}},{\"name\":\"video\",\"type\":\"boolean\",\"nullable\":true,\"metadata\":{}},{\"name\":\"vote_average\",\"type\":\"double\",\"nullable\":true,\"metadata\":{}},{\"name\":\"vote_count\",\"type\":\"long\",\"nullable\":true,\"metadata\":{}}]},\"containsNull\":true}"
        },
        {
         "metadata": "{}",
         "name": "total_pages",
         "type": "\"long\""
        },
        {
         "metadata": "{}",
         "name": "total_results",
         "type": "\"long\""
        }
       ],
       "type": "table"
      }
     },
     "output_type": "display_data"
    }
   ],
   "source": [
    "%sql\n",
    "--consultando arquivo json em formato de tabela com SparkSQL (saída parecida com PySpark)\n",
    "SELECT * FROM json.`dbfs:/temp/TMDB/FilmesFavoritosTMDB_1.json`\n"
   ]
  },
  {
   "cell_type": "code",
   "execution_count": 0,
   "metadata": {
    "application/vnd.databricks.v1+cell": {
     "cellMetadata": {
      "byteLimit": 2048000,
      "implicitDf": true,
      "rowLimit": 10000
     },
     "inputWidgets": {},
     "nuid": "287a2ff7-07cf-4fa9-996b-4ec93e4bc705",
     "showTitle": false,
     "title": ""
    }
   },
   "outputs": [
    {
     "output_type": "display_data",
     "data": {
      "text/html": [
       "<style scoped>\n",
       "  .table-result-container {\n",
       "    max-height: 300px;\n",
       "    overflow: auto;\n",
       "  }\n",
       "  table, th, td {\n",
       "    border: 1px solid black;\n",
       "    border-collapse: collapse;\n",
       "  }\n",
       "  th, td {\n",
       "    padding: 5px;\n",
       "  }\n",
       "  th {\n",
       "    text-align: left;\n",
       "  }\n",
       "</style><div class='table-result-container'><table class='table-result'><thead style='background-color: white'><tr></tr></thead><tbody></tbody></table></div>"
      ]
     },
     "metadata": {
      "application/vnd.databricks.v1+output": {
       "addedWidgets": {},
       "aggData": [],
       "aggError": "",
       "aggOverflow": false,
       "aggSchema": [],
       "aggSeriesLimitReached": false,
       "aggType": "",
       "arguments": {},
       "columnCustomDisplayInfos": {},
       "data": [],
       "datasetInfos": [],
       "dbfsResultPath": null,
       "isJsonSchema": true,
       "metadata": {
        "dataframeName": null
       },
       "overflow": false,
       "plotOptions": {
        "customPlotOptions": {},
        "displayType": "table",
        "pivotAggregation": null,
        "pivotColumns": null,
        "xColumns": null,
        "yColumns": null
       },
       "removedWidgets": [],
       "schema": [],
       "type": "table"
      }
     },
     "output_type": "display_data"
    }
   ],
   "source": [
    "%sql \n",
    "--criando database\n",
    "CREATE SCHEMA IF NOT EXISTS DBTMDB;"
   ]
  },
  {
   "cell_type": "code",
   "execution_count": 0,
   "metadata": {
    "application/vnd.databricks.v1+cell": {
     "cellMetadata": {
      "byteLimit": 2048000,
      "implicitDf": true,
      "rowLimit": 10000
     },
     "inputWidgets": {},
     "nuid": "86916a1c-c0c7-4dce-8579-2ba9f28d44d4",
     "showTitle": false,
     "title": ""
    }
   },
   "outputs": [
    {
     "output_type": "display_data",
     "data": {
      "text/html": [
       "<style scoped>\n",
       "  .table-result-container {\n",
       "    max-height: 300px;\n",
       "    overflow: auto;\n",
       "  }\n",
       "  table, th, td {\n",
       "    border: 1px solid black;\n",
       "    border-collapse: collapse;\n",
       "  }\n",
       "  th, td {\n",
       "    padding: 5px;\n",
       "  }\n",
       "  th {\n",
       "    text-align: left;\n",
       "  }\n",
       "</style><div class='table-result-container'><table class='table-result'><thead style='background-color: white'><tr><th>page</th><th>results</th><th>total_pages</th><th>total_results</th><th>DATA_CADASTRO</th><th>USER_CADASTRO</th></tr></thead><tbody><tr><td>1</td><td>List(List(false, /tmU7GeKVybMWFButWEGl2M4GeiP.jpg, List(18, 80), 238, en, The Godfather, Em 1945, Don Corleone é o chefe de uma mafiosa família italiana de Nova York. Ele costuma apadrinhar várias pessoas, realizando importantes favores para elas, em troca de favores futuros. Com a chegada das drogas, as famílias começam uma disputa pelo promissor mercado. Quando Corleone se recusa a facilitar a entrada dos narcóticos na cidade, não oferecendo ajuda política e policial, sua família começa a sofrer atentados para que mudem de posição. É nessa complicada época que Michael, um herói de guerra nunca envolvido nos negócios da família, vê a necessidade de proteger o seu pai e tudo o que ele construiu ao longo dos anos., 110.668, /oJagOzBu9Rdd9BrciseCm3U3MCU.jpg, 1972-03-14, O Poderoso Chefão, false, 8.695, 19520), List(false, /kGzFbGhp99zva6oZODW5atUtnqi.jpg, List(18, 80), 240, en, The Godfather Part II, Após a máfia matar sua família, o jovem Vito foge da sua cidade na Sicília e vai para a América. Vito luta para manter sua família. Ele mata Black Hand Fanucci, que exigia dos comerciantes uma parte dos seus ganhos. Com a morte de Fanucci, o poderio de Vito cresce, mas sua família é o que mais importa para ele. Agora baseado no Lago Tahoe, Michael planeja fazer incursões em Las Vegas e Havana instalando negócios ligados ao lazer, mas descobre que aliados como Hyman Roth estão tentando matá-lo., 66.949, /7g6wvsWHxBQujUcSXvZLhdFpDUy.jpg, 1974-12-20, O Poderoso Chefão: Parte II, false, 8.6, 11791), List(false, /3f92DMBTFqr3wgXpfxzrb0qv8nG.jpg, List(18, 36, 10752), 424, en, Schindler's List, O alemão Oskar Schindler viu na mão de obra judia uma solução barata e viável para lucrar com negócios durante a guerra. Com sua forte influência dentro do partido nazista, foi fácil conseguir as autorizações e abrir uma fábrica. O que poderia parecer uma atitude de um homem não muito bondoso, transformou-se em um dos maiores casos de amor à vida da História, pois este alemão abdicou de toda sua fortuna para salvar a vida de mais de mil judeus em plena luta contra o extermínio alemão., 83.493, /tagKKnJLK8W5qKJW7Cl2GR2OPCs.jpg, 1993-12-15, A Lista de Schindler, false, 8.565, 15172), List(false, /kXfqcdQKsToO0OUXHcrrNCHDBzO.jpg, List(18, 80), 278, en, The Shawshank Redemption, Em 1946, Andy Dufresne, um banqueiro jovem e bem sucedido, tem a sua vida radicalmente modificada ao ser condenado por um crime que nunca cometeu, o homicídio de sua esposa e do amante dela. Ele é mandado para uma prisão que é o pesadelo de qualquer detento, a Penitenciária Estadual de Shawshank, no Maine. Lá ele irá cumprir a pena perpétua. Andy logo será apresentado a Warden Norton, o corrupto e cruel agente penitenciário, que usa a Bíblia como arma de controle e ao Capitão Byron Hadley que trata os internos como animais. Andy faz amizade com Ellis Boyd Redding, um prisioneiro que cumpre pena há 20 anos e controla o mercado negro da instituição., 128.965, /umX3lBhHoTV7Lsci140Yr8VpXyN.jpg, 1994-09-23, Um Sonho de Liberdade, false, 8.7, 25691), List(false, /l6hQWH9eDksNJNiXWYRkWqikOdu.jpg, List(14, 18, 80), 497, en, The Green Mile, Milagres acontecem em lugares inesperados, mesmo no bloco de celas para o corredor da morte na Penitenciária Cold Mountain. Lá, John Coffey, um gentil e gigante prisioneiro com poderes sobrenaturais, traz um senso de espírito e humanidade aos seus guardas e colegas de cela., 71.563, /14hEqW67IiHlKpzKMLUXyktzZIV.jpg, 1999-12-10, À Espera de um Milagre, false, 8.508, 16541), List(false, /2u7zbn8EudG6kLlBzUYqP8RyFU4.jpg, List(12, 14, 28), 122, en, The Lord of the Rings: The Return of the King, O confronto final entre as forças do bem e do mal que lutam pelo controle do futuro da Terra Média se aproxima. Sauron planeja um grande ataque a Minas Tirith, capital de Gondor, o que faz com que Gandalf e Pippin partam para o local na intenção de ajudar a resistência. Um exército é reunido por Theoden em Rohan, em mais uma tentativa de deter as forças de Sauron. Enquanto isso, Frodo, Sam e Gollum seguem sua viagem rumo à Montanha da Perdição para destruir o anel., 112.88, /aXS3D94iIO9dheHrG0BhgUR4Wuy.jpg, 2003-12-01, O Senhor dos Anéis: O Retorno do Rei, false, 8.477, 23096), List(false, /qdIMHd4sEfJSckfVJfKQvisL02a.jpg, List(35, 18, 10749), 13, en, Forrest Gump, Quarenta anos da história dos Estados Unidos, vistos pelos olhos de Forrest Gump, um rapaz com QI abaixo da média e com boas intenções. Por obra do acaso, ele consegue participar de momentos cruciais, como a Guerra do Vietnã e o Caso Watergate, mas continua pensando no seu amor de infância, Jenny Curran., 131.332, /d74WpIsH8379TIL4wUxDneRCYv2.jpg, 1994-06-23, Forrest Gump: O Contador de Histórias, false, 8.5, 26237), List(false, /uvitbjFU4JqvMwIkMWHp69bmUzG.jpg, List(18, 80), 598, pt, Cidade de Deus, Buscapé é um jovem morador da Cidade de Deus que cresce em meio à violência. Com medo de se tornar um bandido, enxerga na fotografia uma oportunidade de ter uma vida digna., 31.79, /gfnXixcGC060QcG6JPxN6AMdVsq.jpg, 2002-08-30, Cidade de Deus, false, 8.434, 6950), List(false, /ln2Gre4IYRhpjuGVybbtaF4CLo5.jpg, List(12, 18, 878), 157336, en, Interstellar, As reservas naturais da Terra estão chegando ao fim e um grupo de astronautas recebe a missão de verificar possíveis planetas para receberem a população mundial, possibilitando a continuação da espécie. Cooper é chamado para liderar o grupo e aceita a missão sabendo que pode nunca mais ver os filhos. Ao lado de Brand, Jenkins e Doyle, ele seguirá em busca de um novo lar., 138.634, /nCbkOyOMTEwlEV0LtCOvCnwEONA.jpg, 2014-11-05, Interestelar, false, 8.429, 33749), List(false, /x2RS3uTcsJJ9IfjNPcgDmukoEcQ.jpg, List(12, 14, 28), 120, en, The Lord of the Rings: The Fellowship of the Ring, Em uma terra fantástica e única, um hobbit recebe de presente de seu tio um anel mágico e maligno que precisa ser destruído antes que caia nas mãos do mal. Para isso, o hobbit Frodo tem um caminho árduo pela frente, onde encontra perigo, medo e seres bizarros. Ao seu lado para o cumprimento desta jornada, ele aos poucos pode contar com outros hobbits, um elfo, um anão, dois humanos e um mago, totalizando nove pessoas que formam a Sociedade do Anel., 121.609, /hq45YolNIGtrQZRJdjIRZOyONJa.jpg, 2001-12-18, O Senhor dos Anéis: A Sociedade do Anel, false, 8.409, 24028), List(false, /alQqTpmEkxSLgajfEYTsTH6nAKB.jpg, List(35, 18, 14), 40096, pt, O Auto da Compadecida, As aventuras dos nordestinos João Grilo, um sertanejo pobre e mentiroso, e Chicó, o mais covarde dos homens. Ambos lutam pelo pão de cada dia e atravessam por vários episódios enganando a todos do pequeno vilarejo de Taperoá, no sertão da Paraíba. A salvação da dupla acontece com a aparição da Nossa Senhora. Adaptação da obra de Ariano Suassuna., 14.879, /imcOp1kJsCsAFCoOtY5OnPrFbAf.jpg, 2000-09-15, O Auto da Compadecida, false, 8.4, 1044), List(false, /6G73mNyooWAEQTpckPSnFxFoNmc.jpg, List(12, 14, 28), 121, en, The Lord of the Rings: The Two Towers, Após a captura de Merry e Pippy pelos orcs, a Sociedade do Anel é dissolvida. Frodo e Sam seguem sua jornada rumo à Montanha da Perdição para destruir o anel e descobrem que estão sendo perseguidos pelo misterioso Gollum. Enquanto isso, Aragorn, o elfo e arqueiro Legolas e o anão Gimli partem para resgatar os hobbits sequestrados e chegam ao reino de Rohan, onde o rei Theoden foi vítima de uma maldição mortal de Saruman., 93.389, /20eUL6eN89SM0U7KPDw8iR82mOT.jpg, 2002-12-18, O Senhor dos Anéis: As Duas Torres, false, 8.392, 20890), List(false, /8ZTVqvKDQ8emSGUEMjsS4yHAwrp.jpg, List(28, 878, 12), 27205, en, Inception, Um ladrão que rouba segredos corporativos por meio do uso da tecnologia de compartilhamento de sonhos, recebe a tarefa inversa de plantar uma ideia na mente de um Diretor Executivo., 111.564, /9e3Dz7aCANy5aRUQF745IlNloJ1.jpg, 2010-07-15, A Origem, false, 8.367, 35325), List(false, /dYjZ27hDw2QFaEIfzbNGwW0IkV9.jpg, List(80, 9648, 53), 807, en, Se7en, Quando, a ponto de se aposentar, o detetive William Somerset aborda o último caso com a ajuda do recém-transferido David Mills, eles descobrem uma série de assassinatos. Logo percebem que estão lidando com um assassino que tem como alvo pessoas que ele acredita representar os sete pecados capitais., 66.41, /oN5jOhcnguePfC9u3xzUOp98HzH.jpg, 1995-09-22, Seven: Os Sete Crimes Capitais, false, 8.372, 20049), List(false, /5bzPWQ2dFUl2aZKkp7ILJVVkRed.jpg, List(12, 35, 878), 105, en, Back to the Future, Marty McFly, um típico adolescente americano dos anos 80, acidentalmente é enviado de volta ao ano de 1955 em um carro modificado para ser uma máquino do tempo, inventada por um cientista louco. Durante sua fantástica e maluca viagem no tempo, McFly tem que fazer com que seus futuros pais se encontrem e se apaixonem, para que assim ele possa ir de volta para o futuro., 63.461, /4BTW7PyEYFUFlNpuSeS9hAbpk9P.jpg, 1985-07-03, De Volta para o Futuro, false, 8.317, 19035), List(false, /4YbHir4Ka4kG7WOdh0anXv1iT8s.jpg, List(18), 637920, tr, 7. Koğuştaki Mucize, Separado de sua filha, um homem com deficiência intelectual precisa provar sua inocência ao ser preso pela morte da filha de um comandante., 25.159, /q5Sj4pMaKpdMyywQIJhexNvCZYz.jpg, 2019-10-10, Milagre na Cela 7, false, 8.269, 4281), List(false, /4I14RDX6gZPpXkHmbcqvAKpn3Dw.jpg, List(28, 18, 12), 98, en, Gladiator, Nos dias finais do reinado de Marcus Aurelius, o imperador desperta a ira de seu filho Commodus ao tornar pública sua predileção em deixar o trono para Maximus, o comandante do exército romano. Sedento pelo poder, Commodus mata seu pai, assume a coroa e ordena a morte de Maximus, que consegue fugir antes de ser pego e passa a se esconder sob a identidade de um escravo e gladiador do Império Romano., 62.87, /R1ieKOdGHYL7BRpl0iRgNV1uXw.jpg, 2000-05-04, Gladiador, false, 8.215, 17574), List(false, /bdD39MpSVhKjxarTxLSfX6baoMP.jpg, List(18, 36, 10752), 857, en, Saving Private Ryan, Ao desembarcar na Normandia, no dia 6 de junho de 1944, capitão Miller recebe a missão de comandar um grupo do segundo batalhão para o resgate do soldado James Ryan, caçula de quatro irmãos, dentre os quais três morreram em combate. Por ordens do chefe George C. Marshall, eles precisam procurar o soldado e garantir o seu retorno, com vida, para casa., 67.396, /hMLxNLCXRDd62acfCBn6mIyW1HU.jpg, 1998-07-24, O Resgate do Soldado Ryan, false, 8.214, 15089), List(false, /ncEsesgOJDNrTUED89hYbA117wo.jpg, List(28, 878), 603, en, The Matrix, Em um futuro próximo, Thomas Anderson (Keanu Reeves), um jovem programador de computador que mora em um cubículo escuro, é atormentado por estranhos pesadelos nos quais encontra-se conectado por cabos e contra sua vontade, em um imenso sistema de computadores do futuro. Em todas essas ocasiões, acorda gritando no exato momento em que os eletrodos estão para penetrar em seu cérebro. À medida que o sonho se repete, Anderson começa a ter dúvidas sobre a realidade. Por meio do encontro com os misteriosos Morpheus (Laurence Fishburne) e Trinity (Carrie-Anne Moss), Thomas descobre que é, assim como outras pessoas, vítima do Matrix, um sistema inteligente e artificial que manipula a mente das pessoas, criando a ilusão de um mundo real enquanto usa os cérebros e corpos dos indivíduos para produzir energia. Morpheus, entretanto, está convencido de que Thomas é Neo, o aguardado messias capaz de enfrentar o Matrix e conduzir as pessoas de volta à realidade e à liberdade., 80.049, /lDqMDI3xpbB9UQRyeXfei0MXhqb.jpg, 1999-03-31, Matrix, false, 8.213, 24536), List(false, /yQIBS8B9l2qXoPoPtxSXvH7CfoT.jpg, List(18, 36, 10752), 324786, en, Hacksaw Ridge, Desmond T. Doss, foi o médico do Exército Americano da Segunda Guerra Mundial, que serviu durante a Batalha de Okinawa, se recusando a matar pessoas, tornando-se o primeiro homem da história americana a receber a Medalha de Honra sem disparar um tiro., 105.449, /88sCL8OQMoieKpHClqRCCbcgH6w.jpg, 2016-10-07, Até o Último Homem, false, 8.192, 13089))</td><td>5</td><td>100</td><td>2024-03-01T16:01:59.797Z</td><td>gleisonbob@gmail.com</td></tr></tbody></table></div>"
      ]
     },
     "metadata": {
      "application/vnd.databricks.v1+output": {
       "addedWidgets": {},
       "aggData": [],
       "aggError": "",
       "aggOverflow": false,
       "aggSchema": [],
       "aggSeriesLimitReached": false,
       "aggType": "",
       "arguments": {},
       "columnCustomDisplayInfos": {},
       "data": [
        [
         1,
         [
          [
           false,
           "/tmU7GeKVybMWFButWEGl2M4GeiP.jpg",
           [
            18,
            80
           ],
           238,
           "en",
           "The Godfather",
           "Em 1945, Don Corleone é o chefe de uma mafiosa família italiana de Nova York. Ele costuma apadrinhar várias pessoas, realizando importantes favores para elas, em troca de favores futuros. Com a chegada das drogas, as famílias começam uma disputa pelo promissor mercado. Quando Corleone se recusa a facilitar a entrada dos narcóticos na cidade, não oferecendo ajuda política e policial, sua família começa a sofrer atentados para que mudem de posição. É nessa complicada época que Michael, um herói de guerra nunca envolvido nos negócios da família, vê a necessidade de proteger o seu pai e tudo o que ele construiu ao longo dos anos.",
           110.668,
           "/oJagOzBu9Rdd9BrciseCm3U3MCU.jpg",
           "1972-03-14",
           "O Poderoso Chefão",
           false,
           8.695,
           19520
          ],
          [
           false,
           "/kGzFbGhp99zva6oZODW5atUtnqi.jpg",
           [
            18,
            80
           ],
           240,
           "en",
           "The Godfather Part II",
           "Após a máfia matar sua família, o jovem Vito foge da sua cidade na Sicília e vai para a América. Vito luta para manter sua família. Ele mata Black Hand Fanucci, que exigia dos comerciantes uma parte dos seus ganhos. Com a morte de Fanucci, o poderio de Vito cresce, mas sua família é o que mais importa para ele. Agora baseado no Lago Tahoe, Michael planeja fazer incursões em Las Vegas e Havana instalando negócios ligados ao lazer, mas descobre que aliados como Hyman Roth estão tentando matá-lo.",
           66.949,
           "/7g6wvsWHxBQujUcSXvZLhdFpDUy.jpg",
           "1974-12-20",
           "O Poderoso Chefão: Parte II",
           false,
           8.6,
           11791
          ],
          [
           false,
           "/3f92DMBTFqr3wgXpfxzrb0qv8nG.jpg",
           [
            18,
            36,
            10752
           ],
           424,
           "en",
           "Schindler's List",
           "O alemão Oskar Schindler viu na mão de obra judia uma solução barata e viável para lucrar com negócios durante a guerra. Com sua forte influência dentro do partido nazista, foi fácil conseguir as autorizações e abrir uma fábrica. O que poderia parecer uma atitude de um homem não muito bondoso, transformou-se em um dos maiores casos de amor à vida da História, pois este alemão abdicou de toda sua fortuna para salvar a vida de mais de mil judeus em plena luta contra o extermínio alemão.",
           83.493,
           "/tagKKnJLK8W5qKJW7Cl2GR2OPCs.jpg",
           "1993-12-15",
           "A Lista de Schindler",
           false,
           8.565,
           15172
          ],
          [
           false,
           "/kXfqcdQKsToO0OUXHcrrNCHDBzO.jpg",
           [
            18,
            80
           ],
           278,
           "en",
           "The Shawshank Redemption",
           "Em 1946, Andy Dufresne, um banqueiro jovem e bem sucedido, tem a sua vida radicalmente modificada ao ser condenado por um crime que nunca cometeu, o homicídio de sua esposa e do amante dela. Ele é mandado para uma prisão que é o pesadelo de qualquer detento, a Penitenciária Estadual de Shawshank, no Maine. Lá ele irá cumprir a pena perpétua. Andy logo será apresentado a Warden Norton, o corrupto e cruel agente penitenciário, que usa a Bíblia como arma de controle e ao Capitão Byron Hadley que trata os internos como animais. Andy faz amizade com Ellis Boyd Redding, um prisioneiro que cumpre pena há 20 anos e controla o mercado negro da instituição.",
           128.965,
           "/umX3lBhHoTV7Lsci140Yr8VpXyN.jpg",
           "1994-09-23",
           "Um Sonho de Liberdade",
           false,
           8.7,
           25691
          ],
          [
           false,
           "/l6hQWH9eDksNJNiXWYRkWqikOdu.jpg",
           [
            14,
            18,
            80
           ],
           497,
           "en",
           "The Green Mile",
           "Milagres acontecem em lugares inesperados, mesmo no bloco de celas para o corredor da morte na Penitenciária Cold Mountain. Lá, John Coffey, um gentil e gigante prisioneiro com poderes sobrenaturais, traz um senso de espírito e humanidade aos seus guardas e colegas de cela.",
           71.563,
           "/14hEqW67IiHlKpzKMLUXyktzZIV.jpg",
           "1999-12-10",
           "À Espera de um Milagre",
           false,
           8.508,
           16541
          ],
          [
           false,
           "/2u7zbn8EudG6kLlBzUYqP8RyFU4.jpg",
           [
            12,
            14,
            28
           ],
           122,
           "en",
           "The Lord of the Rings: The Return of the King",
           "O confronto final entre as forças do bem e do mal que lutam pelo controle do futuro da Terra Média se aproxima. Sauron planeja um grande ataque a Minas Tirith, capital de Gondor, o que faz com que Gandalf e Pippin partam para o local na intenção de ajudar a resistência. Um exército é reunido por Theoden em Rohan, em mais uma tentativa de deter as forças de Sauron. Enquanto isso, Frodo, Sam e Gollum seguem sua viagem rumo à Montanha da Perdição para destruir o anel.",
           112.88,
           "/aXS3D94iIO9dheHrG0BhgUR4Wuy.jpg",
           "2003-12-01",
           "O Senhor dos Anéis: O Retorno do Rei",
           false,
           8.477,
           23096
          ],
          [
           false,
           "/qdIMHd4sEfJSckfVJfKQvisL02a.jpg",
           [
            35,
            18,
            10749
           ],
           13,
           "en",
           "Forrest Gump",
           "Quarenta anos da história dos Estados Unidos, vistos pelos olhos de Forrest Gump, um rapaz com QI abaixo da média e com boas intenções. Por obra do acaso, ele consegue participar de momentos cruciais, como a Guerra do Vietnã e o Caso Watergate, mas continua pensando no seu amor de infância, Jenny Curran.",
           131.332,
           "/d74WpIsH8379TIL4wUxDneRCYv2.jpg",
           "1994-06-23",
           "Forrest Gump: O Contador de Histórias",
           false,
           8.5,
           26237
          ],
          [
           false,
           "/uvitbjFU4JqvMwIkMWHp69bmUzG.jpg",
           [
            18,
            80
           ],
           598,
           "pt",
           "Cidade de Deus",
           "Buscapé é um jovem morador da Cidade de Deus que cresce em meio à violência. Com medo de se tornar um bandido, enxerga na fotografia uma oportunidade de ter uma vida digna.",
           31.79,
           "/gfnXixcGC060QcG6JPxN6AMdVsq.jpg",
           "2002-08-30",
           "Cidade de Deus",
           false,
           8.434,
           6950
          ],
          [
           false,
           "/ln2Gre4IYRhpjuGVybbtaF4CLo5.jpg",
           [
            12,
            18,
            878
           ],
           157336,
           "en",
           "Interstellar",
           "As reservas naturais da Terra estão chegando ao fim e um grupo de astronautas recebe a missão de verificar possíveis planetas para receberem a população mundial, possibilitando a continuação da espécie. Cooper é chamado para liderar o grupo e aceita a missão sabendo que pode nunca mais ver os filhos. Ao lado de Brand, Jenkins e Doyle, ele seguirá em busca de um novo lar.",
           138.634,
           "/nCbkOyOMTEwlEV0LtCOvCnwEONA.jpg",
           "2014-11-05",
           "Interestelar",
           false,
           8.429,
           33749
          ],
          [
           false,
           "/x2RS3uTcsJJ9IfjNPcgDmukoEcQ.jpg",
           [
            12,
            14,
            28
           ],
           120,
           "en",
           "The Lord of the Rings: The Fellowship of the Ring",
           "Em uma terra fantástica e única, um hobbit recebe de presente de seu tio um anel mágico e maligno que precisa ser destruído antes que caia nas mãos do mal. Para isso, o hobbit Frodo tem um caminho árduo pela frente, onde encontra perigo, medo e seres bizarros. Ao seu lado para o cumprimento desta jornada, ele aos poucos pode contar com outros hobbits, um elfo, um anão, dois humanos e um mago, totalizando nove pessoas que formam a Sociedade do Anel.",
           121.609,
           "/hq45YolNIGtrQZRJdjIRZOyONJa.jpg",
           "2001-12-18",
           "O Senhor dos Anéis: A Sociedade do Anel",
           false,
           8.409,
           24028
          ],
          [
           false,
           "/alQqTpmEkxSLgajfEYTsTH6nAKB.jpg",
           [
            35,
            18,
            14
           ],
           40096,
           "pt",
           "O Auto da Compadecida",
           "As aventuras dos nordestinos João Grilo, um sertanejo pobre e mentiroso, e Chicó, o mais covarde dos homens. Ambos lutam pelo pão de cada dia e atravessam por vários episódios enganando a todos do pequeno vilarejo de Taperoá, no sertão da Paraíba. A salvação da dupla acontece com a aparição da Nossa Senhora. Adaptação da obra de Ariano Suassuna.",
           14.879,
           "/imcOp1kJsCsAFCoOtY5OnPrFbAf.jpg",
           "2000-09-15",
           "O Auto da Compadecida",
           false,
           8.4,
           1044
          ],
          [
           false,
           "/6G73mNyooWAEQTpckPSnFxFoNmc.jpg",
           [
            12,
            14,
            28
           ],
           121,
           "en",
           "The Lord of the Rings: The Two Towers",
           "Após a captura de Merry e Pippy pelos orcs, a Sociedade do Anel é dissolvida. Frodo e Sam seguem sua jornada rumo à Montanha da Perdição para destruir o anel e descobrem que estão sendo perseguidos pelo misterioso Gollum. Enquanto isso, Aragorn, o elfo e arqueiro Legolas e o anão Gimli partem para resgatar os hobbits sequestrados e chegam ao reino de Rohan, onde o rei Theoden foi vítima de uma maldição mortal de Saruman.",
           93.389,
           "/20eUL6eN89SM0U7KPDw8iR82mOT.jpg",
           "2002-12-18",
           "O Senhor dos Anéis: As Duas Torres",
           false,
           8.392,
           20890
          ],
          [
           false,
           "/8ZTVqvKDQ8emSGUEMjsS4yHAwrp.jpg",
           [
            28,
            878,
            12
           ],
           27205,
           "en",
           "Inception",
           "Um ladrão que rouba segredos corporativos por meio do uso da tecnologia de compartilhamento de sonhos, recebe a tarefa inversa de plantar uma ideia na mente de um Diretor Executivo.",
           111.564,
           "/9e3Dz7aCANy5aRUQF745IlNloJ1.jpg",
           "2010-07-15",
           "A Origem",
           false,
           8.367,
           35325
          ],
          [
           false,
           "/dYjZ27hDw2QFaEIfzbNGwW0IkV9.jpg",
           [
            80,
            9648,
            53
           ],
           807,
           "en",
           "Se7en",
           "Quando, a ponto de se aposentar, o detetive William Somerset aborda o último caso com a ajuda do recém-transferido David Mills, eles descobrem uma série de assassinatos. Logo percebem que estão lidando com um assassino que tem como alvo pessoas que ele acredita representar os sete pecados capitais.",
           66.41,
           "/oN5jOhcnguePfC9u3xzUOp98HzH.jpg",
           "1995-09-22",
           "Seven: Os Sete Crimes Capitais",
           false,
           8.372,
           20049
          ],
          [
           false,
           "/5bzPWQ2dFUl2aZKkp7ILJVVkRed.jpg",
           [
            12,
            35,
            878
           ],
           105,
           "en",
           "Back to the Future",
           "Marty McFly, um típico adolescente americano dos anos 80, acidentalmente é enviado de volta ao ano de 1955 em um carro modificado para ser uma máquino do tempo, inventada por um cientista louco. Durante sua fantástica e maluca viagem no tempo, McFly tem que fazer com que seus futuros pais se encontrem e se apaixonem, para que assim ele possa ir de volta para o futuro.",
           63.461,
           "/4BTW7PyEYFUFlNpuSeS9hAbpk9P.jpg",
           "1985-07-03",
           "De Volta para o Futuro",
           false,
           8.317,
           19035
          ],
          [
           false,
           "/4YbHir4Ka4kG7WOdh0anXv1iT8s.jpg",
           [
            18
           ],
           637920,
           "tr",
           "7. Koğuştaki Mucize",
           "Separado de sua filha, um homem com deficiência intelectual precisa provar sua inocência ao ser preso pela morte da filha de um comandante.",
           25.159,
           "/q5Sj4pMaKpdMyywQIJhexNvCZYz.jpg",
           "2019-10-10",
           "Milagre na Cela 7",
           false,
           8.269,
           4281
          ],
          [
           false,
           "/4I14RDX6gZPpXkHmbcqvAKpn3Dw.jpg",
           [
            28,
            18,
            12
           ],
           98,
           "en",
           "Gladiator",
           "Nos dias finais do reinado de Marcus Aurelius, o imperador desperta a ira de seu filho Commodus ao tornar pública sua predileção em deixar o trono para Maximus, o comandante do exército romano. Sedento pelo poder, Commodus mata seu pai, assume a coroa e ordena a morte de Maximus, que consegue fugir antes de ser pego e passa a se esconder sob a identidade de um escravo e gladiador do Império Romano.",
           62.87,
           "/R1ieKOdGHYL7BRpl0iRgNV1uXw.jpg",
           "2000-05-04",
           "Gladiador",
           false,
           8.215,
           17574
          ],
          [
           false,
           "/bdD39MpSVhKjxarTxLSfX6baoMP.jpg",
           [
            18,
            36,
            10752
           ],
           857,
           "en",
           "Saving Private Ryan",
           "Ao desembarcar na Normandia, no dia 6 de junho de 1944, capitão Miller recebe a missão de comandar um grupo do segundo batalhão para o resgate do soldado James Ryan, caçula de quatro irmãos, dentre os quais três morreram em combate. Por ordens do chefe George C. Marshall, eles precisam procurar o soldado e garantir o seu retorno, com vida, para casa.",
           67.396,
           "/hMLxNLCXRDd62acfCBn6mIyW1HU.jpg",
           "1998-07-24",
           "O Resgate do Soldado Ryan",
           false,
           8.214,
           15089
          ],
          [
           false,
           "/ncEsesgOJDNrTUED89hYbA117wo.jpg",
           [
            28,
            878
           ],
           603,
           "en",
           "The Matrix",
           "Em um futuro próximo, Thomas Anderson (Keanu Reeves), um jovem programador de computador que mora em um cubículo escuro, é atormentado por estranhos pesadelos nos quais encontra-se conectado por cabos e contra sua vontade, em um imenso sistema de computadores do futuro. Em todas essas ocasiões, acorda gritando no exato momento em que os eletrodos estão para penetrar em seu cérebro. À medida que o sonho se repete, Anderson começa a ter dúvidas sobre a realidade. Por meio do encontro com os misteriosos Morpheus (Laurence Fishburne) e Trinity (Carrie-Anne Moss), Thomas descobre que é, assim como outras pessoas, vítima do Matrix, um sistema inteligente e artificial que manipula a mente das pessoas, criando a ilusão de um mundo real enquanto usa os cérebros e corpos dos indivíduos para produzir energia. Morpheus, entretanto, está convencido de que Thomas é Neo, o aguardado messias capaz de enfrentar o Matrix e conduzir as pessoas de volta à realidade e à liberdade.",
           80.049,
           "/lDqMDI3xpbB9UQRyeXfei0MXhqb.jpg",
           "1999-03-31",
           "Matrix",
           false,
           8.213,
           24536
          ],
          [
           false,
           "/yQIBS8B9l2qXoPoPtxSXvH7CfoT.jpg",
           [
            18,
            36,
            10752
           ],
           324786,
           "en",
           "Hacksaw Ridge",
           "Desmond T. Doss, foi o médico do Exército Americano da Segunda Guerra Mundial, que serviu durante a Batalha de Okinawa, se recusando a matar pessoas, tornando-se o primeiro homem da história americana a receber a Medalha de Honra sem disparar um tiro.",
           105.449,
           "/88sCL8OQMoieKpHClqRCCbcgH6w.jpg",
           "2016-10-07",
           "Até o Último Homem",
           false,
           8.192,
           13089
          ]
         ],
         5,
         100,
         "2024-03-01T16:01:59.797Z",
         "gleisonbob@gmail.com"
        ]
       ],
       "datasetInfos": [],
       "dbfsResultPath": null,
       "isJsonSchema": true,
       "metadata": {
        "dataframeName": "_sqldf",
        "executionCount": 3
       },
       "overflow": false,
       "plotOptions": {
        "customPlotOptions": {},
        "displayType": "table",
        "pivotAggregation": null,
        "pivotColumns": null,
        "xColumns": null,
        "yColumns": null
       },
       "removedWidgets": [],
       "schema": [
        {
         "metadata": "{}",
         "name": "page",
         "type": "\"long\""
        },
        {
         "metadata": "{}",
         "name": "results",
         "type": "{\"type\":\"array\",\"elementType\":{\"type\":\"struct\",\"fields\":[{\"name\":\"adult\",\"type\":\"boolean\",\"nullable\":true,\"metadata\":{}},{\"name\":\"backdrop_path\",\"type\":\"string\",\"nullable\":true,\"metadata\":{}},{\"name\":\"genre_ids\",\"type\":{\"type\":\"array\",\"elementType\":\"long\",\"containsNull\":true},\"nullable\":true,\"metadata\":{}},{\"name\":\"id\",\"type\":\"long\",\"nullable\":true,\"metadata\":{}},{\"name\":\"original_language\",\"type\":\"string\",\"nullable\":true,\"metadata\":{}},{\"name\":\"original_title\",\"type\":\"string\",\"nullable\":true,\"metadata\":{}},{\"name\":\"overview\",\"type\":\"string\",\"nullable\":true,\"metadata\":{}},{\"name\":\"popularity\",\"type\":\"double\",\"nullable\":true,\"metadata\":{}},{\"name\":\"poster_path\",\"type\":\"string\",\"nullable\":true,\"metadata\":{}},{\"name\":\"release_date\",\"type\":\"string\",\"nullable\":true,\"metadata\":{}},{\"name\":\"title\",\"type\":\"string\",\"nullable\":true,\"metadata\":{}},{\"name\":\"video\",\"type\":\"boolean\",\"nullable\":true,\"metadata\":{}},{\"name\":\"vote_average\",\"type\":\"double\",\"nullable\":true,\"metadata\":{}},{\"name\":\"vote_count\",\"type\":\"long\",\"nullable\":true,\"metadata\":{}}]},\"containsNull\":true}"
        },
        {
         "metadata": "{}",
         "name": "total_pages",
         "type": "\"long\""
        },
        {
         "metadata": "{}",
         "name": "total_results",
         "type": "\"long\""
        },
        {
         "metadata": "{}",
         "name": "DATA_CADASTRO",
         "type": "\"timestamp\""
        },
        {
         "metadata": "{}",
         "name": "USER_CADASTRO",
         "type": "\"string\""
        }
       ],
       "type": "table"
      }
     },
     "output_type": "display_data"
    }
   ],
   "source": [
    "%sql\n",
    "\n",
    "USE DBTMDB;\n",
    "\n",
    "-- Criando a view temporária TMDB_BRONZE_VW com novas colunas\n",
    "CREATE OR REPLACE TABLE TMDB_BRONZE\n",
    "AS\n",
    "SELECT\n",
    "    *,  -- Selecionando todas as colunas existentes no arquivo JSON\n",
    "    current_timestamp() AS DATA_CADASTRO,\n",
    "    --date_format(current_timestamp(), 'dd-MM-yyyy HH:MM:SS') AS DATA_CADASTRO,\n",
    "    current_user() AS USER_CADASTRO\n",
    "FROM\n",
    "    (SELECT * FROM json.`dbfs:/temp/TMDB/FilmesFavoritosTMDB_1.json`) AS TEMP_VIEW;\n",
    "\n",
    "\n",
    "SELECT * FROM TMDB_BRONZE;"
   ]
  },
  {
   "cell_type": "code",
   "execution_count": 0,
   "metadata": {
    "application/vnd.databricks.v1+cell": {
     "cellMetadata": {
      "byteLimit": 2048000,
      "implicitDf": true,
      "rowLimit": 10000
     },
     "inputWidgets": {},
     "nuid": "9e0f456c-b854-4034-9f8c-25d0b966aa05",
     "showTitle": false,
     "title": ""
    }
   },
   "outputs": [
    {
     "output_type": "display_data",
     "data": {
      "text/html": [
       "<style scoped>\n",
       "  .table-result-container {\n",
       "    max-height: 300px;\n",
       "    overflow: auto;\n",
       "  }\n",
       "  table, th, td {\n",
       "    border: 1px solid black;\n",
       "    border-collapse: collapse;\n",
       "  }\n",
       "  th, td {\n",
       "    padding: 5px;\n",
       "  }\n",
       "  th {\n",
       "    text-align: left;\n",
       "  }\n",
       "</style><div class='table-result-container'><table class='table-result'><thead style='background-color: white'><tr><th>num_affected_rows</th><th>num_inserted_rows</th></tr></thead><tbody><tr><td>4</td><td>4</td></tr></tbody></table></div>"
      ]
     },
     "metadata": {
      "application/vnd.databricks.v1+output": {
       "addedWidgets": {},
       "aggData": [],
       "aggError": "",
       "aggOverflow": false,
       "aggSchema": [],
       "aggSeriesLimitReached": false,
       "aggType": "",
       "arguments": {},
       "columnCustomDisplayInfos": {},
       "data": [
        [
         4,
         4
        ]
       ],
       "datasetInfos": [],
       "dbfsResultPath": null,
       "isJsonSchema": true,
       "metadata": {
        "dataframeName": "_sqldf",
        "executionCount": 4
       },
       "overflow": false,
       "plotOptions": {
        "customPlotOptions": {},
        "displayType": "table",
        "pivotAggregation": null,
        "pivotColumns": null,
        "xColumns": null,
        "yColumns": null
       },
       "removedWidgets": [],
       "schema": [
        {
         "metadata": "{}",
         "name": "num_affected_rows",
         "type": "\"long\""
        },
        {
         "metadata": "{}",
         "name": "num_inserted_rows",
         "type": "\"long\""
        }
       ],
       "type": "table"
      }
     },
     "output_type": "display_data"
    }
   ],
   "source": [
    "%sql\n",
    "USE DBTMDB; \n",
    "\n",
    "/* Populando a tabela bronze utilizando os 4 arquivos JSON restantes */\n",
    " \n",
    "INSERT INTO TMDB_BRONZE\n",
    "SELECT\n",
    "    *,  -- Selecionando todas as colunas existentes no arquivo JSON\n",
    "    current_timestamp() AS DATA_CADASTRO,\n",
    "    current_user() AS USER_CADASTRO\n",
    "FROM\n",
    "(    \n",
    "    SELECT * FROM json.`dbfs:/temp/TMDB/FilmesFavoritosTMDB_2.json`\n",
    "    UNION ALL\n",
    "    SELECT * FROM json.`dbfs:/temp/TMDB/FilmesFavoritosTMDB_3.json`\n",
    "    UNION ALL\n",
    "    SELECT * FROM json.`dbfs:/temp/TMDB/FilmesFavoritosTMDB_4.json`\n",
    "    UNION ALL\n",
    "    SELECT * FROM json.`dbfs:/temp/TMDB/FilmesFavoritosTMDB_5.json`\n",
    ") AS TEMP_VIEW2;"
   ]
  },
  {
   "cell_type": "code",
   "execution_count": 0,
   "metadata": {
    "application/vnd.databricks.v1+cell": {
     "cellMetadata": {
      "byteLimit": 2048000,
      "implicitDf": true,
      "rowLimit": 10000
     },
     "inputWidgets": {},
     "nuid": "05596874-77ba-4e81-a58b-46b3120e2f08",
     "showTitle": false,
     "title": ""
    }
   },
   "outputs": [
    {
     "output_type": "display_data",
     "data": {
      "text/html": [
       "<style scoped>\n",
       "  .table-result-container {\n",
       "    max-height: 300px;\n",
       "    overflow: auto;\n",
       "  }\n",
       "  table, th, td {\n",
       "    border: 1px solid black;\n",
       "    border-collapse: collapse;\n",
       "  }\n",
       "  th, td {\n",
       "    padding: 5px;\n",
       "  }\n",
       "  th {\n",
       "    text-align: left;\n",
       "  }\n",
       "</style><div class='table-result-container'><table class='table-result'><thead style='background-color: white'><tr><th>page</th><th>results</th><th>total_pages</th><th>total_results</th><th>DATA_CADASTRO</th><th>USER_CADASTRO</th></tr></thead><tbody><tr><td>1</td><td>List(List(false, /tmU7GeKVybMWFButWEGl2M4GeiP.jpg, List(18, 80), 238, en, The Godfather, Em 1945, Don Corleone é o chefe de uma mafiosa família italiana de Nova York. Ele costuma apadrinhar várias pessoas, realizando importantes favores para elas, em troca de favores futuros. Com a chegada das drogas, as famílias começam uma disputa pelo promissor mercado. Quando Corleone se recusa a facilitar a entrada dos narcóticos na cidade, não oferecendo ajuda política e policial, sua família começa a sofrer atentados para que mudem de posição. É nessa complicada época que Michael, um herói de guerra nunca envolvido nos negócios da família, vê a necessidade de proteger o seu pai e tudo o que ele construiu ao longo dos anos., 110.668, /oJagOzBu9Rdd9BrciseCm3U3MCU.jpg, 1972-03-14, O Poderoso Chefão, false, 8.695, 19520), List(false, /kGzFbGhp99zva6oZODW5atUtnqi.jpg, List(18, 80), 240, en, The Godfather Part II, Após a máfia matar sua família, o jovem Vito foge da sua cidade na Sicília e vai para a América. Vito luta para manter sua família. Ele mata Black Hand Fanucci, que exigia dos comerciantes uma parte dos seus ganhos. Com a morte de Fanucci, o poderio de Vito cresce, mas sua família é o que mais importa para ele. Agora baseado no Lago Tahoe, Michael planeja fazer incursões em Las Vegas e Havana instalando negócios ligados ao lazer, mas descobre que aliados como Hyman Roth estão tentando matá-lo., 66.949, /7g6wvsWHxBQujUcSXvZLhdFpDUy.jpg, 1974-12-20, O Poderoso Chefão: Parte II, false, 8.6, 11791), List(false, /3f92DMBTFqr3wgXpfxzrb0qv8nG.jpg, List(18, 36, 10752), 424, en, Schindler's List, O alemão Oskar Schindler viu na mão de obra judia uma solução barata e viável para lucrar com negócios durante a guerra. Com sua forte influência dentro do partido nazista, foi fácil conseguir as autorizações e abrir uma fábrica. O que poderia parecer uma atitude de um homem não muito bondoso, transformou-se em um dos maiores casos de amor à vida da História, pois este alemão abdicou de toda sua fortuna para salvar a vida de mais de mil judeus em plena luta contra o extermínio alemão., 83.493, /tagKKnJLK8W5qKJW7Cl2GR2OPCs.jpg, 1993-12-15, A Lista de Schindler, false, 8.565, 15172), List(false, /kXfqcdQKsToO0OUXHcrrNCHDBzO.jpg, List(18, 80), 278, en, The Shawshank Redemption, Em 1946, Andy Dufresne, um banqueiro jovem e bem sucedido, tem a sua vida radicalmente modificada ao ser condenado por um crime que nunca cometeu, o homicídio de sua esposa e do amante dela. Ele é mandado para uma prisão que é o pesadelo de qualquer detento, a Penitenciária Estadual de Shawshank, no Maine. Lá ele irá cumprir a pena perpétua. Andy logo será apresentado a Warden Norton, o corrupto e cruel agente penitenciário, que usa a Bíblia como arma de controle e ao Capitão Byron Hadley que trata os internos como animais. Andy faz amizade com Ellis Boyd Redding, um prisioneiro que cumpre pena há 20 anos e controla o mercado negro da instituição., 128.965, /umX3lBhHoTV7Lsci140Yr8VpXyN.jpg, 1994-09-23, Um Sonho de Liberdade, false, 8.7, 25691), List(false, /l6hQWH9eDksNJNiXWYRkWqikOdu.jpg, List(14, 18, 80), 497, en, The Green Mile, Milagres acontecem em lugares inesperados, mesmo no bloco de celas para o corredor da morte na Penitenciária Cold Mountain. Lá, John Coffey, um gentil e gigante prisioneiro com poderes sobrenaturais, traz um senso de espírito e humanidade aos seus guardas e colegas de cela., 71.563, /14hEqW67IiHlKpzKMLUXyktzZIV.jpg, 1999-12-10, À Espera de um Milagre, false, 8.508, 16541), List(false, /2u7zbn8EudG6kLlBzUYqP8RyFU4.jpg, List(12, 14, 28), 122, en, The Lord of the Rings: The Return of the King, O confronto final entre as forças do bem e do mal que lutam pelo controle do futuro da Terra Média se aproxima. Sauron planeja um grande ataque a Minas Tirith, capital de Gondor, o que faz com que Gandalf e Pippin partam para o local na intenção de ajudar a resistência. Um exército é reunido por Theoden em Rohan, em mais uma tentativa de deter as forças de Sauron. Enquanto isso, Frodo, Sam e Gollum seguem sua viagem rumo à Montanha da Perdição para destruir o anel., 112.88, /aXS3D94iIO9dheHrG0BhgUR4Wuy.jpg, 2003-12-01, O Senhor dos Anéis: O Retorno do Rei, false, 8.477, 23096), List(false, /qdIMHd4sEfJSckfVJfKQvisL02a.jpg, List(35, 18, 10749), 13, en, Forrest Gump, Quarenta anos da história dos Estados Unidos, vistos pelos olhos de Forrest Gump, um rapaz com QI abaixo da média e com boas intenções. Por obra do acaso, ele consegue participar de momentos cruciais, como a Guerra do Vietnã e o Caso Watergate, mas continua pensando no seu amor de infância, Jenny Curran., 131.332, /d74WpIsH8379TIL4wUxDneRCYv2.jpg, 1994-06-23, Forrest Gump: O Contador de Histórias, false, 8.5, 26237), List(false, /uvitbjFU4JqvMwIkMWHp69bmUzG.jpg, List(18, 80), 598, pt, Cidade de Deus, Buscapé é um jovem morador da Cidade de Deus que cresce em meio à violência. Com medo de se tornar um bandido, enxerga na fotografia uma oportunidade de ter uma vida digna., 31.79, /gfnXixcGC060QcG6JPxN6AMdVsq.jpg, 2002-08-30, Cidade de Deus, false, 8.434, 6950), List(false, /ln2Gre4IYRhpjuGVybbtaF4CLo5.jpg, List(12, 18, 878), 157336, en, Interstellar, As reservas naturais da Terra estão chegando ao fim e um grupo de astronautas recebe a missão de verificar possíveis planetas para receberem a população mundial, possibilitando a continuação da espécie. Cooper é chamado para liderar o grupo e aceita a missão sabendo que pode nunca mais ver os filhos. Ao lado de Brand, Jenkins e Doyle, ele seguirá em busca de um novo lar., 138.634, /nCbkOyOMTEwlEV0LtCOvCnwEONA.jpg, 2014-11-05, Interestelar, false, 8.429, 33749), List(false, /x2RS3uTcsJJ9IfjNPcgDmukoEcQ.jpg, List(12, 14, 28), 120, en, The Lord of the Rings: The Fellowship of the Ring, Em uma terra fantástica e única, um hobbit recebe de presente de seu tio um anel mágico e maligno que precisa ser destruído antes que caia nas mãos do mal. Para isso, o hobbit Frodo tem um caminho árduo pela frente, onde encontra perigo, medo e seres bizarros. Ao seu lado para o cumprimento desta jornada, ele aos poucos pode contar com outros hobbits, um elfo, um anão, dois humanos e um mago, totalizando nove pessoas que formam a Sociedade do Anel., 121.609, /hq45YolNIGtrQZRJdjIRZOyONJa.jpg, 2001-12-18, O Senhor dos Anéis: A Sociedade do Anel, false, 8.409, 24028), List(false, /alQqTpmEkxSLgajfEYTsTH6nAKB.jpg, List(35, 18, 14), 40096, pt, O Auto da Compadecida, As aventuras dos nordestinos João Grilo, um sertanejo pobre e mentiroso, e Chicó, o mais covarde dos homens. Ambos lutam pelo pão de cada dia e atravessam por vários episódios enganando a todos do pequeno vilarejo de Taperoá, no sertão da Paraíba. A salvação da dupla acontece com a aparição da Nossa Senhora. Adaptação da obra de Ariano Suassuna., 14.879, /imcOp1kJsCsAFCoOtY5OnPrFbAf.jpg, 2000-09-15, O Auto da Compadecida, false, 8.4, 1044), List(false, /6G73mNyooWAEQTpckPSnFxFoNmc.jpg, List(12, 14, 28), 121, en, The Lord of the Rings: The Two Towers, Após a captura de Merry e Pippy pelos orcs, a Sociedade do Anel é dissolvida. Frodo e Sam seguem sua jornada rumo à Montanha da Perdição para destruir o anel e descobrem que estão sendo perseguidos pelo misterioso Gollum. Enquanto isso, Aragorn, o elfo e arqueiro Legolas e o anão Gimli partem para resgatar os hobbits sequestrados e chegam ao reino de Rohan, onde o rei Theoden foi vítima de uma maldição mortal de Saruman., 93.389, /20eUL6eN89SM0U7KPDw8iR82mOT.jpg, 2002-12-18, O Senhor dos Anéis: As Duas Torres, false, 8.392, 20890), List(false, /8ZTVqvKDQ8emSGUEMjsS4yHAwrp.jpg, List(28, 878, 12), 27205, en, Inception, Um ladrão que rouba segredos corporativos por meio do uso da tecnologia de compartilhamento de sonhos, recebe a tarefa inversa de plantar uma ideia na mente de um Diretor Executivo., 111.564, /9e3Dz7aCANy5aRUQF745IlNloJ1.jpg, 2010-07-15, A Origem, false, 8.367, 35325), List(false, /dYjZ27hDw2QFaEIfzbNGwW0IkV9.jpg, List(80, 9648, 53), 807, en, Se7en, Quando, a ponto de se aposentar, o detetive William Somerset aborda o último caso com a ajuda do recém-transferido David Mills, eles descobrem uma série de assassinatos. Logo percebem que estão lidando com um assassino que tem como alvo pessoas que ele acredita representar os sete pecados capitais., 66.41, /oN5jOhcnguePfC9u3xzUOp98HzH.jpg, 1995-09-22, Seven: Os Sete Crimes Capitais, false, 8.372, 20049), List(false, /5bzPWQ2dFUl2aZKkp7ILJVVkRed.jpg, List(12, 35, 878), 105, en, Back to the Future, Marty McFly, um típico adolescente americano dos anos 80, acidentalmente é enviado de volta ao ano de 1955 em um carro modificado para ser uma máquino do tempo, inventada por um cientista louco. Durante sua fantástica e maluca viagem no tempo, McFly tem que fazer com que seus futuros pais se encontrem e se apaixonem, para que assim ele possa ir de volta para o futuro., 63.461, /4BTW7PyEYFUFlNpuSeS9hAbpk9P.jpg, 1985-07-03, De Volta para o Futuro, false, 8.317, 19035), List(false, /4YbHir4Ka4kG7WOdh0anXv1iT8s.jpg, List(18), 637920, tr, 7. Koğuştaki Mucize, Separado de sua filha, um homem com deficiência intelectual precisa provar sua inocência ao ser preso pela morte da filha de um comandante., 25.159, /q5Sj4pMaKpdMyywQIJhexNvCZYz.jpg, 2019-10-10, Milagre na Cela 7, false, 8.269, 4281), List(false, /4I14RDX6gZPpXkHmbcqvAKpn3Dw.jpg, List(28, 18, 12), 98, en, Gladiator, Nos dias finais do reinado de Marcus Aurelius, o imperador desperta a ira de seu filho Commodus ao tornar pública sua predileção em deixar o trono para Maximus, o comandante do exército romano. Sedento pelo poder, Commodus mata seu pai, assume a coroa e ordena a morte de Maximus, que consegue fugir antes de ser pego e passa a se esconder sob a identidade de um escravo e gladiador do Império Romano., 62.87, /R1ieKOdGHYL7BRpl0iRgNV1uXw.jpg, 2000-05-04, Gladiador, false, 8.215, 17574), List(false, /bdD39MpSVhKjxarTxLSfX6baoMP.jpg, List(18, 36, 10752), 857, en, Saving Private Ryan, Ao desembarcar na Normandia, no dia 6 de junho de 1944, capitão Miller recebe a missão de comandar um grupo do segundo batalhão para o resgate do soldado James Ryan, caçula de quatro irmãos, dentre os quais três morreram em combate. Por ordens do chefe George C. Marshall, eles precisam procurar o soldado e garantir o seu retorno, com vida, para casa., 67.396, /hMLxNLCXRDd62acfCBn6mIyW1HU.jpg, 1998-07-24, O Resgate do Soldado Ryan, false, 8.214, 15089), List(false, /ncEsesgOJDNrTUED89hYbA117wo.jpg, List(28, 878), 603, en, The Matrix, Em um futuro próximo, Thomas Anderson (Keanu Reeves), um jovem programador de computador que mora em um cubículo escuro, é atormentado por estranhos pesadelos nos quais encontra-se conectado por cabos e contra sua vontade, em um imenso sistema de computadores do futuro. Em todas essas ocasiões, acorda gritando no exato momento em que os eletrodos estão para penetrar em seu cérebro. À medida que o sonho se repete, Anderson começa a ter dúvidas sobre a realidade. Por meio do encontro com os misteriosos Morpheus (Laurence Fishburne) e Trinity (Carrie-Anne Moss), Thomas descobre que é, assim como outras pessoas, vítima do Matrix, um sistema inteligente e artificial que manipula a mente das pessoas, criando a ilusão de um mundo real enquanto usa os cérebros e corpos dos indivíduos para produzir energia. Morpheus, entretanto, está convencido de que Thomas é Neo, o aguardado messias capaz de enfrentar o Matrix e conduzir as pessoas de volta à realidade e à liberdade., 80.049, /lDqMDI3xpbB9UQRyeXfei0MXhqb.jpg, 1999-03-31, Matrix, false, 8.213, 24536), List(false, /yQIBS8B9l2qXoPoPtxSXvH7CfoT.jpg, List(18, 36, 10752), 324786, en, Hacksaw Ridge, Desmond T. Doss, foi o médico do Exército Americano da Segunda Guerra Mundial, que serviu durante a Batalha de Okinawa, se recusando a matar pessoas, tornando-se o primeiro homem da história americana a receber a Medalha de Honra sem disparar um tiro., 105.449, /88sCL8OQMoieKpHClqRCCbcgH6w.jpg, 2016-10-07, Até o Último Homem, false, 8.192, 13089))</td><td>5</td><td>100</td><td>2024-03-01T16:01:59.797Z</td><td>gleisonbob@gmail.com</td></tr><tr><td>2</td><td>List(List(false, /pyviqHJMXSxo7R43lkZpSrvkQpm.jpg, List(27, 10402, 9648), 92060, en, Michael Jackson's Thriller, , 14.46, /dYHGoPMkZMVuBA4EydmDQMo1EEv.jpg, 1983-11-14, Michael Jackson's Thriller, false, 8.186, 633), List(false, /7oJ5wrbS9Zs9AoxTjNb1siJKVq6.jpg, List(80, 53, 18), 475557, en, Joker, Isolado, intimidado e desconsiderado pela sociedade, o fracassado comediante Arthur Fleck inicia seu caminho como uma mente criminosa após assassinar três homens em pleno metrô. Sua ação inicia um movimento popular contra a elite de Gotham City, da qual Thomas Wayne é seu maior representante., 85.044, /xLxgVxFWvb9hhUyCDDXxRPPnFck.jpg, 2019-10-01, Coringa, false, 8.164, 24160), List(false, /1ZSWFzAP4AZuFCigZZoib2RdcUO.jpg, List(18, 9648, 53), 411088, es, Contratiempo, Após acordar ao lado de sua amante assassinada em um quarto de hotel, um empresário contrata uma advogada para descobrir como ele acabou sendo suspeito de um homicídio., 43.877, /pOnbhr6DbPgKjvcNexbRdmR37De.jpg, 2017-01-06, Um Contratempo, false, 8.122, 4328), List(false, /vdpE5pjJVql5aD6pnzRqlFmgxXf.jpg, List(18, 36), 906126, es, La sociedad de la nieve, Em 13 de outubro de 1972, o voo 571 da Força Aérea Uruguaia, fretado para levar um time de rúgbi ao Chile, cai em uma geleira no coração da Cordilheira dos Andes., 169.113, /7fQTmvKgVGxifieVryqqlxohkoW.jpg, 2023-12-13, A Sociedade da Neve, false, 8.081, 2117), List(false, /2P0toWq3feNvFAzf28j7vNc1IuZ.jpg, List(80, 18, 35), 106646, en, The Wolf of Wall Street, Durante seis meses, Jordan Belfort (Leonardo DiCaprio) trabalhou duro em uma corretora de Wall Street, seguindo os ensinamentos de seu mentor Mark Hanna (Matthew McConaughey). Quando finalmente consegue ser contratado como corretor da firma, acontece o Black Monday, que faz com que as bolsas de vários países caiam repentinamente. Sem emprego e bastante ambicioso, ele acaba trabalhando para uma empresa de fundo de quintal que lida com papéis de baixo valor, que não estão na bolsa de valores. É lá que Belfort tem a idéia de montar uma empresa focada neste tipo de negócio, cujas vendas são de valores mais baixos mas, em compensação, o retorno para o corretor é bem mais vantajoso. Ao lado de Donnie (Jonah Hill) e outros amigos dos velhos tempos, ele cria a Stratton Oakmont, uma empresa que faz com que todos enriqueçam rapidamente e, também, levem uma vida dedicada ao prazer., 89.248, /esJTXTdj4JZDyP5LUI1Fq3kyNda.jpg, 2013-12-25, O Lobo de Wall Street, false, 8.035, 22956), List(false, /jFp5aAlGQ1H3gwdORL2urr8dnoN.jpg, List(36, 18, 53, 10752), 205596, en, The Imitation Game, Em 1939, a recém-criada agência de inteligência britânica MI6 recruta Alan Turing, um aluno da Universidade de Cambridge, para entender códigos nazistas, incluindo o \"Enigma\", que criptógrafos acreditavam ser inquebrável. A equipe de Turing, incluindo Joan Clarke, analisa as mensagens de \"Enigma\", enquanto ele constrói uma máquina para decifrá-las., 75.54, /bwWCFjhwrs5my4FUoeWdTa2GYlB.jpg, 2014-11-14, O Jogo da Imitação, false, 8.005, 16365), List(false, /dcvbs8z0GEXslC1kCT77x19XDeR.jpg, List(10402, 18), 424694, en, Bohemian Rhapsody, Freddie Mercury e seus companheiros Brian May, Roger Taylor e John Deacon mudam o mundo da música para sempre ao formar a banda Queen, durante a década de 1970. Porém, quando o estilo de vida extravagante de Mercury começa a sair do controle, a banda tem que enfrentar o desafio de conciliar a fama e o sucesso com suas vidas pessoais cada vez mais complicadas., 45.171, /qxgdqcxI216kEoypGbA9BemB7mW.jpg, 2018-10-24, Bohemian Rhapsody, false, 7.99, 16301), List(false, /79bJL9ydAMYVltuNTt4VhxORqIz.jpg, List(12, 878), 329, en, Jurassic Park, Um parque construído por um milionário tem dinossauros diversos como habitantes, extintos a sessenta e cinco milhões de anos. Isto é possível por ter sido encontrado um inseto fossilizado, que tinha sugado sangue destes dinossauros, de onde pôde-se isolar o DNA, o código químico da vida e, a partir deste ponto, recriá-los em laboratório. Mas, o que parecia ser um sonho se torna um pesadelo, quando a experiência sai do controle de seus criadores., 44.225, /cV3JgTAq5mX6Zjy8GVSqXHncUHH.jpg, 1993-06-11, Jurassic Park: O Parque dos Dinossauros, false, 7.9, 15585), List(false, /8lBcqakI3F19NWkXdqE0M8W76b9.jpg, List(28, 18, 36, 10752), 197, en, Braveheart, No século XIII, soldados ingleses matam a mulher do escocês William Wallace, bem na sua noite de núpcias. Para vingar a amada, ele resolve liderar seu povo em uma luta contra o cruel Rei inglês Edward I. Com a ajuda de Robert e Bruce, ele vai deflagrar uma violenta batalha com o objetivo de libertar a Escócia de uma vez por todas., 40.497, /tWBbNikf5ng7BuNGA55MkvhLrag.jpg, 1995-05-24, Coração Valente, false, 7.94, 9629), List(false, /hpGkXl6iNdtQLXHS7xiv57N217B.jpg, List(18, 36, 10751), 491480, en, The Boy Who Harnessed the Wind, Inspirado por um livro de ciências, um garoto constrói uma turbina eólica para salvar seu vilarejo da fome. Baseado em uma história real., 36.953, /jZofpz4gmiH7MQAYWrgvTtdIq3l.jpg, 2019-02-14, O Menino que Descobriu o Vento, false, 7.922, 1575), List(false, /z2uuQasY4gQJ8VDAFki746JWeQJ.jpg, List(99, 12), 515042, en, Free Solo, Aos 30 anos de idade, Alex Honnold já era um dos mais renomados alpinistas de sua geração. Porém, independente de todas as suas conquistas, ele permaneceu obcecado com um desafio que nenhum outro alpinista havia conseguido realizar: escalar sem equipamento de segurança a rocha El Capitan, no Parque Nacional de Yosemite, na Califórnia. Os diretores E. Chai Vasarhelyi e Jimmy Chin acompanham Honnold por dois anos enquanto ele testa os limites de sua ambição., 16.278, /v4QfYZMACODlWul9doN9RxE99ag.jpg, 2018-09-28, Free Solo, false, 7.923, 1235), List(false, /sCzcYW9h55WcesOqA12cgEr9Exw.jpg, List(18, 10749), 597, en, Titanic, Um artista pobre e uma jovem rica se conhecem e se apaixonam na fatídica jornada do Titanic, em 1912. Embora esteja noiva do arrogante herdeiro de uma siderúrgica, a jovem desafia sua família e amigos em busca do verdadeiro amor., 109.553, /9xjZS2rlVxm8SFx8kPC3aIGCOYQ.jpg, 1997-11-18, Titanic, false, 7.905, 24340), List(false, /nKOQiWjhv6LXXSR3PiIab3LrKtU.jpg, List(18), 1402, en, The Pursuit of Happyness, Chris enfrenta sérios problemas financeiros e Linda, sua esposa, decide partir. Ele agora é pai solteiro e precisa cuidar de Christopher, seu filho de 5 anos. Chris tenta usar sua habilidade como vendedor para conseguir um emprego melhor, mas só consegue um estágio não remunerado. Seus problemas financeiros não podem esperar uma promoção e eles acabam despejados. Chris e Christopher passam a dormir em abrigos ou onde quer que consigam um refúgio, mantendo a esperança de que dias melhores virão., 50.997, /vHGC2sSh7pBWXY0qzMdPD7fcjzS.jpg, 2006-12-14, À Procura da Felicidade, false, 7.9, 9423), List(false, /s46UYRkMY33leTQ9Y6gc3XVJnHR.jpg, List(16, 12, 9648), 712454, fr, Le Sommet des dieux, Um fotojornalista que investiga a primeira expedição ao Everest acaba se envolvendo na busca por um respeitado alpinista que desapareceu., 13.307, /fj8wv7ip5JbnJFqwNicNKHLClYH.jpg, 2021-09-22, Viagem ao Topo da Terra, false, 7.843, 318), List(false, /7UTQCis1B8oWNjIMzQq57LPqma2.jpg, List(18), 596, en, The Grapes of Wrath, Tom, filho mais velho de uma pobre família de trabalhadores rurais, retorna para casa após cumprir pena por homicídio involuntário. Ele planeja levar os parentes até a Califórnia, onde dizem que trabalho não falta. Durante a viagem eles passam por diversos tipos de provações e quando finalmente chegam na \"Terra Prometida\" descobrem que é um lugar bem pior do que aquele que deixaram., 14.718, /xg2lYQ05OJ0t7pI6ESV8d3zrydU.jpg, 1940-03-15, As Vinhas da Ira, false, 7.835, 905), List(false, /jkkw7YyfWO1Vc0i6YFU1JQef8DV.jpg, List(18, 28, 80), 47931, pt, Tropa de Elite 2, O destino da cidade do Rio de Janeiro e de Nascimento se cruzam em \"Tropa de Elite 2\", quando suas obrigações de pai se chocam com as de policial. Mais maduro, estratégico e solitário, o agora Coronel Nascimento faz o bope crescer e coloca o tráfico de drogas de joelho. Isto apenas para descobrir que na segurança pública do Rio de Janeiro nada é o que parece. O sistema se reinventa e descobre como lucrar sem o intermédio do tráfico. Em perseguição ao caminho trilhado pelo sistema, Nascimento vai além dos limites do quartel, revelando as ligações das milícias com o Estado. E o preço por essa descoberta é alto: o inimigo agora é outro., 30.32, /8G7F938AHqBBLc5yJXPUJhSJzN5.jpg, 2010-10-08, Tropa de Elite 2: O Inimigo Agora é Outro, false, 7.814, 1758), List(false, /mvyERNa0oNsBjbHqn5qSGMHk2FM.jpg, List(12, 18), 5915, en, Into the Wild, Início da década de 90. Christopher McCandless é um jovem recém-formado, que decide viajar sem rumo pelos Estados Unidos em busca da liberdade. Durante sua jornada pela Dakota do Sul, Arizona e Califórnia ele conhece pessoas que mudam sua vida, assim como sua presença também modifica as delas. Até que, após dois anos na estrada, Christopher decide fazer a maior das viagens e partir rumo ao Alasca., 33.734, /bv2od9QMVaojT9lI02Uk47Z40Ue.jpg, 2007-09-21, Na Natureza Selvagem, false, 7.807, 9217), List(false, /eTvN54pd83TrSEOz6wbsXEJktCV.jpg, List(10752, 28, 53), 882569, en, Guy Ritchie's The Covenant, Um sargento do Exército é resgatado de uma missão no Afeganistão pelo seu intérprete. Naquela que seria a sua última missão no estrangeiro, Kinley fica à beira da morte mas sobrevive graças a Ahmed, que o protege e o carrega por quilometros a fim de garantir a sua segurança. Sem se lembrar muito bem do que aconteceu, o sargento apenas sabe que quando o homem se encontra em risco de vida, como a sua família, é a sua verdadeira missão retribuir o favor e ajudá-lo a sobreviver., 78.062, /pTQZT9R6YjKrweJ0llPtq57j1Z0.jpg, 2023-04-19, O Pacto, false, 7.803, 2101), List(false, /yPgAHVzCF0yJGhxupwVwknOHdJj.jpg, List(18), 1366, en, Rocky, Rocky Balboa, um pequeno boxeador da classe trabalhadora da Filadélfia, é arbitrariamente escolhido para lutar contra o campeão dos pesos pesados, Apollo Creed, quando o adversário do invicto lutador agendado para a luta é ferido. Durante o treinamento com o mal-humorado Mickey Goldmill, Rocky timidamente começa um relacionamento com Adrian, a invisível irmã de Paulie, seu amigo empacotador de carne., 56.14, /b9B1DXcPNsJfTtc4x2LKA3bykoJ.jpg, 1976-11-21, Rocky: Um Lutador, false, 7.789, 7419), List(false, /kZZ9JuZ5CMvH0Y2LwboekvXIHqQ.jpg, List(18, 10752, 28), 49046, de, Im Westen nichts Neues, Convocado para a linha de frente da Primeira Guerra Mundial, o adolescente Paul encara a dura realidade da vida nas trincheiras., 59.446, /qmcKs0Aoft7MBdBoj1haZyPRgM2.jpg, 2022-10-07, Nada de Novo no Front, false, 7.735, 3459))</td><td>5</td><td>100</td><td>2024-03-01T16:02:17.084Z</td><td>gleisonbob@gmail.com</td></tr><tr><td>4</td><td>List(List(false, /3Fz4yEKvlavO48R9vytUQfSBAEY.jpg, List(53, 28, 80), 156022, en, The Equalizer, O ex-agente secreto Robert McCall acredita que seu passado ficou para trás e tenta viver uma nova vida. Porém, quando ele conhece Teri, uma jovem que está em poder de uma quadrilha russa, ele simplesmente não consegue ignorá-la. Munido de suas extraordinárias habilidades, ele ressurge como um verdadeiro anjo vingador. Fora da aposentadoria e com um novo desejo de fazer justiça, McCall decide ajudar quem foi brutalizado e oprimido., 138.275, /xTSOdJ0Ljs439lnKB7NsWlTibZN.jpg, 2014-09-24, O Protetor, false, 7.269, 8577), List(false, /6iUNJZymJBMXXriQyFZfLAKnjO6.jpg, List(28, 12, 14), 297762, en, Wonder Woman, Treinada desde cedo para ser uma guerreira imbatível, Diana Prince (Gal Gadot) nunca saiu da paradisíaca ilha em que é reconhecida como Princesa das Amazonas. Quando o piloto Steve Trevor (Chris Pine) se acidenta e cai numa praia do local, ela descobre que uma guerra sem precedentes está se espalhando pelo mundo e decide deixar seu lar certa de que pode parar o conflito. Lutando para acabar com todas as lutas, Diana percebe o alcance de seus poderes e sua verdadeira missão na Terra., 89.338, /ujQthWB6c0ojlARk28NSTmqidbF.jpg, 2017-05-30, Mulher-Maravilha, false, 7.232, 19333), List(false, /usw8PMcbWqAtmABo2jO7KRRSrqi.jpg, List(18, 878, 53), 6479, en, I Am Legend, Robert Neville é um brilhante cientista e o único sobrevivente de uma epidemia que transformou os humanos em mutantes sedentos por sangue. Andando pela cidade de Nova York, ele procura por outros possíveis sobreviventes e tenta achar a cura da praga usando seu próprio sangue, que é imune., 61.776, /6urQ17k0Pepx8RoYVeRbwaCSVIS.jpg, 2007-12-12, Eu Sou a Lenda, false, 7.201, 15087), List(false, /1GJvBE7UWU1WOVi0XREl4JQc7f8.jpg, List(28, 12, 35, 878), 607, en, Men in Black, Kay e Jay, os Homens de Preto, são o maior segredo já mantido no universo. Eles são agentes de uma agência não-oficial do governo e responsáveis por monitorar todos os encontros com alienígenas na Terra. Ao investigar uma série de atividades extraterrestres, descobrem um terrorista intergaláctico cuja missão é assassinar dois embaixadores de galáxias opostas., 51.986, /bUA0TD2COayMP6ur9Qbewdbbm2e.jpg, 1997-07-02, MIB - Homens de Preto, false, 7.19, 13170), List(false, /fPg31FANBYhrV2z0vZB4nIonKbI.jpg, List(28, 12, 10752), 1271, en, 300, Em 480 a.C., Leônidas, o rei de Esparta, comanda seu pequeno batalhão de 300 soldados contra um exército de mais de 1 milhão na Batalha das Termópilas., 45.619, /h7Lcio0c9ohxPhSZg42eTlKIVVY.jpg, 2007-03-07, 300, false, 7.18, 13156), List(false, /c9xSFZQtC4c16Vn5CMOaB1pGk9J.jpg, List(18, 36, 10752, 28), 2024, en, The Patriot, Benjamin Martin é um veterano de guerra que renunciou às armas e decidiu viver em paz com sua família. Mas, quando os ingleses trazerem a Guerra da Independência até o seu quintal, Benjamin não vê outra saída a não ser pegar nas armas novamente, desta vez acompanhado de seu filho idealista, liderando uma rebelião contra o implacável e equipado exército britânico. No processo, ele descobre que só pode proteger sua família lutando pela liberdade da jovem nação., 45.235, /oe26GVJTIEFLW8WjGMj1K0MbWUJ.jpg, 2000-06-28, O Patriota, false, 7.176, 3685), List(false, /dgiOBykxfUAtb01VUnkHsTCwfsG.jpg, List(12, 18, 36), 978, en, Seven Years in Tibet, A história do austríaco alpinista Heinrich Harrer, cuja tentativa de escalar o pico do Himalaia é interrompida pela Segunda Guerra Mundial. Depois de muitas aventuras, ele se encontra no Tibet, onde faz amizade com o Dalai Lama, ganhando maturidade e humildade., 25.213, /a8IRkaTST3gY1OY77WPwuA52Okr.jpg, 1997-09-12, Sete Anos no Tibet, false, 7.173, 2694), List(false, /a2n6bKD7qhCPCAEALgsAhWOAQcc.jpg, List(878, 53, 18), 49047, en, Gravity, Matt Kowalski é um astronauta experiente que está em missão de conserto ao telescópio Hubble juntamente com a doutora Ryan Stone. Ambos são surpreendidos por uma chuva de destroços decorrente da destruição de um satélite por um míssil russo, que faz com que sejam jogados no espaço sideral. Sem qualquer apoio da base terrestre da NASA, eles precisam encontrar um meio de sobreviver em meio a um ambiente completamente inóspito para a vida humana., 33.539, /eHLufJ1bHy4PtEBJdPSTu4jIhZ0.jpg, 2013-10-03, Gravidade, false, 7.165, 14760), List(false, /4YrguU26cw69ZGnyDmd6lbitajG.jpg, List(35, 18), 440472, en, The Upside, Um jovem negro aceita trabalhar para um homem branco paraplégico e acaba dando início a uma grande e inusitada amizade. Versão americana de \"Intocáveis\", filme francês de 2012 que fez grande sucesso mundial., 27.425, /lYv3Mwm3t7FWEMli8ASMIhZBUBC.jpg, 2019-01-10, Amigos para Sempre, false, 7.146, 1200), List(false, /2Gq4teAIkVVv0kc6JsfU66C3VOJ.jpg, List(53, 18, 9648), 9741, en, Unbreakable, Um espantoso desastre de trem deixa os Estados Unidos em choque. Todos os passageiros das locomotivas acabam mortos, exceto David Dunne, que sai completamente ileso do acidente, deixando todos, inclusive os médicos e ele próprio, em choque. Enquanto busca explicações sobre o que poderia ter salvado sua vida, David encontra Elijah Price, um desconhecido que apresenta uma explicação no mínimo bizarra para o fato., 46.347, /t0NieBaFxHuHr692RkjccBAnU9X.jpg, 2000-11-22, Corpo Fechado, false, 7.139, 8842), List(false, /5i6SjyDbDWqyun8klUuCxrlFbyw.jpg, List(18, 28), 677179, en, Creed III, Depois de dominar o mundo do boxe, Adonis Creed tem prosperado em sua carreira e vida familiar. Quando um amigo de infância e ex-prodígio do boxe, Damien Anderson, ressurge depois de cumprir uma longa sentença na prisão, ele está ansioso para provar que merece sua chance no ringue. O confronto entre ex-amigos é mais do que apenas uma briga. Para acertar as contas, Adonis deve colocar seu futuro em risco para lutar contra Damien - um lutador que não tem nada a perder., 112.575, /3VkER73o8NDqAYf5gI5bXwhtGbW.jpg, 2023-03-01, Creed III, false, 7.135, 2262), List(false, /1TUg5pO1VZ4B0Q1amk3OlXvlpXV.jpg, List(12, 18, 10751, 16), 420818, en, The Lion King, Simba é um jovem leão cujo destino é se tornar o rei da selva. Entretanto, uma armadilha elaborada por seu tio Scar faz com que Mufasa, o atual rei, morra ao tentar salvar o filhote. Consumido pela culpa, Simba deixa o reino rumo a um local distante, onde encontra amigos que o ensinam a mais uma vez ter prazer pela vida., 91.147, /wrHr8eEJYDAA7WYybyH162s4oZ4.jpg, 2019-07-12, O Rei Leão, false, 7.117, 9562), List(false, /awDWfEXyD2BGM8ZspyFRHKxce1F.jpg, List(12, 35, 18), 59468, en, The Way, O oftalmologista Tom Avery (Martin Sheen) e seu único filho Daniel (Emilio Estevez) têm uma relação distante. Quando o rapaz viaja para a Espanha para cruzar o Caminho de Santiago de Compostela, acaba perdendo a vida em uma fatalidade. Tom, então, vai até a França para recolher o corpo de seu filho. Chegando lá, ele resolve fazer o Caminho, completando o percurso que Daniel havia começado, levando junto as cinzas do rapaz. Durante a empreitada, ele encontra companheiros que vão lhe mostrar que nenhum caminho deve ser percorrido sozinho., 19.485, /4wJb8HLMWaJXrYznXNf7eqFUJKL.jpg, 2010-09-10, Em Busca de um Caminho, false, 7.106, 540), List(false, /uy2trYgO8MOQfQXlvMaLhBnkUqg.jpg, List(18, 28, 53), 7485, en, Shooter, O atirador Marksman Bob Lee Swagger deixa o exército e desaparece sem deixar rastros. Ele volta para impedir o assassinato do Presidente dos Estados Unidos, mas é enganado e passa a ser perseguido como criminoso., 57.376, /qluvMxXA2p15s7egazJn9vhX5Gi.jpg, 2007-03-22, Atirador, false, 7.114, 4574), List(false, /1Dp18gkAs9bJ1lzB2HKvboAHRN0.jpg, List(28, 53, 80, 12), 9316, th, องค์บาก, Uma valiosa estátua de Buda é roubada do templo de um vilarejo na Tailândia. Para recuperá-la e restabelecer a honra em sua terra natal, um lutador precisa enfrentar a gangue do chefão do crime na capital do país., 43.786, /656do53t3n3FqkOJZZ249izDMn5.jpg, 2003-01-21, Ong-Bak: Guerreiro Sagrado, false, 7.095, 1588), List(false, /viBWzktrBmhzRw4ehmUIrrN4C0z.jpg, List(12, 18, 53), 44115, en, 127 Hours, Ao explorar um cânion remoto em Utah, o alpinista e aventureiro Aron Ralston fica preso em uma fenda quando uma pedra cai. Nos cinco dias seguintes, Ralston examina sua vida e considera suas opções, as quais o levam a uma situação angustiante. Aron precisa tomar uma atitude para que possa se libertar e tentar voltar para a civilização., 27.905, /1HoqPAq2HMUMwI0u4mpcBN4v9WJ.jpg, 2010-11-12, 127 Horas, false, 7.078, 7183), List(false, /n2pSbjJHR0g1MPJ1wq3n3OA7MPl.jpg, List(80, 53, 18), 302946, en, The Accountant, O matemático Christian Wolff sente-se muito mais à vontade lidando com números do que com pessoas. Atualmente, trabalha como contador autônomo para uma das maiores organizações criminosas do mundo. Com a receita federal no encalço, ele resolve mudar de ares e atender um novo cliente, uma empresa de equipamentos robóticos onde um dos funcionários descobriu um desvio gigantesco de recursos. À medida que Christian se aprofunda nos registros da empresa e se aproxima da verdade, o número de cadáveres começa a crescer rapidamente., 44.034, /vgJt4ADIjm5U2y3oPLu6kXEXOCY.jpg, 2016-10-13, O Contador, false, 7.071, 5788), List(false, /pxK1iK6anS6erGg4QePmMKbB1E7.jpg, List(12, 28, 53, 878), 604, en, The Matrix Reloaded, Após derrotar as máquinas em seu combate inicial, Neo ainda vive na Nabucodonosor ao lado de Morpheus, Trinity e Link, o novo tripulante da nave. As máquinas estão realizando uma grande ofensiva contra Zion, onde 250 mil delas escavam rumo à cidade e podem alcançá-la em poucos dias. A Nabucodonosor é convocada para retornar a Zion e participar da reunião que definirá o contra-ataque para salvar a humanidade da extinção. Entretanto, um recado enviado pelo Oráculo faz com que Neo retorne à Matrix., 46.439, /e7DdXOXP6mH2y7Fv7ujrk5tlsh7.jpg, 2003-05-15, Matrix Reloaded, false, 7.0, 10445), List(false, /n6SYYIOCazHCyOL4CBq4EcGKvFd.jpg, List(18), 228970, en, Wild, Após a morte de sua mãe, um divórcio e uma fase de autodestruição repleta de heroína, Cheryl Strayed (Reese Witherspoon) decide mudar e investir em uma nova vida junto à natureza selvagem. Para tanto, ela se aventura em uma trilha de 1100 milhas pela costa do oceano Pacífico., 17.626, /l0b26MyxquriVDIcfNgo84Gg1v4.jpg, 2014-01-16, Livre, false, 7.023, 2365), List(false, /3tkDMNfM2YuIAJlvGO6rfIzAnfG.jpg, List(18, 878, 53), 619264, es, El hoyo, Em uma prisão onde os detentos são alimentados por uma plataforma descendente, os que estão nos níveis mais altos comem mais do que precisam enquanto os dos andares mais baixos ficam com as migalhas. Até que um homem decide mudar o sistema., 30.058, /kY0ET33EoiJhjaPCzzvywCDqP6b.jpg, 2019-11-08, O Poço, false, 6.978, 6525))</td><td>5</td><td>100</td><td>2024-03-01T16:02:17.084Z</td><td>gleisonbob@gmail.com</td></tr><tr><td>5</td><td>List(List(false, /zv1xOEQzebKyku349qDZ085FZlO.jpg, List(10752, 36, 10749, 18, 28), 676, en, Pearl Harbor, Dois pilotos e amigos de longa data se apaixonam pela mesma mulher, mas precisam deixar suas diferenças de lado quando os japoneses atacam a base naval de Pearl Harbor em 7 de dezembro de 1941., 47.984, /y8A0Cvp8WQmZ3bjbnsL53lY0dsC.jpg, 2001-05-21, Pearl Harbor, false, 6.938, 6141), List(false, /iZ2816km53S1Qvs0w2nUOL6jpP7.jpg, List(28, 12, 878), 157350, en, Divergent, Na futurística cidade de Chicago, ao completar 16 anos, Beatrice precisa escolher entre as diferentes facções em que a cidade está dividida. Cada uma representa um valor diferente e, ao contrário de sua família, a jovem opta pela facção dos destemidos, a Audácia. Ela então se torna Tris e inicia uma jornada para afastar seus medos e descobrir quem realmente é. Durante essa jornada, acaba conhecendo o jovem Quatro, um rapaz experiente que tem o dom de intrigá-la e de encantá-la ao mesmo tempo., 44.145, /gktEuhRYZrlinT3sLSt7Fvmqbe5.jpg, 2014-03-14, Divergente, false, 6.921, 12363), List(false, /oLma4sWjqlXVr0E3jpaXQCytuG9.jpg, List(12, 35, 14), 512200, en, Jumanji: The Next Level, A turma está de volta, mas o jogo mudou. Quando voltam para Jumanji para resgatar um amigo, descobrem que nada do que esperavam. Com mais ação e surpresas, os jogadores terão que desbravar partes desconhecidas e inexploradas, dos desertos áridos até montanhas de neve, para escapar., 56.716, /bBRDUTr6jgbD8I8A9DvVGrVbdfB.jpg, 2019-12-04, Jumanji: Próxima Fase, false, 6.914, 8191), List(false, /keMt6SKTiTBBW0WtCLcqEfpEj9G.jpg, List(12, 14), 10323, en, Clash of the Titans, Deuses do Olimpo, terríveis monstros mitológicos e heróis mortais fazem deste espetáculo de imaginação uma aventura imperdível. Harry Hamlin é Perseu, o filho mortal de Zeus (Laurence Olivier), que luta para salvar a vida da princesa Andrômeda (Judi Bowker) do monstro marinho Kraken. Para tal, ele precisa de uma arma tão letal quanto difícil de conseguir: A cabeça de Medusa! Acompanhado de um grupo de corajosos guerreiros e montado no fabuloso Pegasus, o cavalo alado, Perseu parte em uma aventura sem precedentes pelas terras fantásticas da mitologia grega., 37.365, /5LObtR57MxWD7Me0tiRaqgrqKQD.jpg, 1981-06-12, Fúria de Titãs, false, 6.89, 706), List(false, /uw4SnKFZ453Gxmj5XR5Susj8TNo.jpg, List(28, 12, 878), 602, en, Independence Day, Perto do Dia da Independência dos Estados Unidos, o país fica em pânico com uma invasão alienígena. Preparados para um ataque iminente dos extraterrestres, a humanidade precisa se unir antes que uma catástrofe mundial ocorra., 44.539, /7KGNAWjp0QFcynhtLoLXXa3F4Hc.jpg, 1996-06-25, Independence Day, false, 6.876, 9121), List(false, /hrtjErTwP1AvNLDsIO5jTPOihAd.jpg, List(28), 1102776, fr, AKA, Um homem enfrenta um dilema moral depois de se infiltrar em um grupo criminoso. A situação piora quando o filho do chefe, um garoto de oito anos, entra na jogada., 29.365, /mOP3FjJuOe38grWMgdtuVGNMFzZ.jpg, 2023-04-28, Agente Infiltrado, false, 6.884, 585), List(false, /qWE206uqSbEXLVATvbB6fUIX8WE.jpg, List(80, 53, 28, 9648), 291805, en, Now You See Me 2, Após enganarem o FBI, os cavaleiros Daniel Atlas, Merritt McKinney e Jack Wilder estão foragidos. Eles seguem as ordens de Dylan Rhodes, que segue trabalhando no FBI de forma a impedir os avanços na procura dos próprios cavaleiros. Paralelamente, o grupo planeja seu novo ato: desmascarar um jovem gênio da informática, cujo novo lançamento coleta dados pessoais dos usuários., 38.311, /9uCUHxN5MD4vX6q1YEnpL6bQLiw.jpg, 2016-06-02, Truque de Mestre: O 2º Ato, false, 6.8, 10374), List(false, /m4JzTSFDqWnvLkjTKIm4kyDXbTO.jpg, List(12, 18, 36), 253412, en, Everest, Inspirado nos incríveis acontecimentos em torno da montanha mais alta do mundo, Evereste documenta a inspiradora jornada de dois diferentes grupos de expedição que são desafiados além de seus limites quando são acometidos por uma das maiores avalanches já registradas. Com a coragem testada por um dos fenômenos mais severos do planeta, os escaladores terão de enfrentar obstáculos quase impossíveis em busca de sobrevivência., 27.633, /2PkYTktwBeaB7xbBatMJmAY67lD.jpg, 2015-09-10, Evereste, false, 6.815, 4686), List(false, /fgKEdhRw9IgI9KGjLe4w5ghIjA3.jpg, List(28, 35, 80, 53), 9737, en, Bad Boys, Um carregamento de heroína confiscada avaliada em um milhão de dólares foi simplesmente roubado do depósito da polícia. O sumiço das dorgas pode destruir as carreiras dos detetives Mike Lawrey e Marcus Burnett e acabar com a divisão de narcóticos do Departamento de Polícia de Miami. Quando as investigações ameaçam os traficantes e eles raptam a única testemunha do caso – uma bela informante da polícia que se torna amiga dos Bad Boys – as coisas se tornam pessoais!, 46.225, /sgOKUBTjMOdmgdtCQ50E1R5UaaF.jpg, 1995-04-07, Os Bad Boys, false, 6.789, 5906), List(false, /hMclNPye6G3ouN5QdusrlTK0SaE.jpg, List(18, 9648, 53, 80), 9481, en, The Bone Collector, A policial Amelia Donaghy está na perseguição de um assassino em série cujo cartão de visita é um pequeno pedaço de osso extraído de cada uma de suas vítimas. Incapaz de decifrar as pistas enigmáticas que o assassino deixa para trás na cena do crime, Amelia apela para o tetraplégico especialista em criminologia forense, Lincoln Rhyme, para ajudar. Com ela agindo como intermediária de Rhyme, os dois se juntam na esperança de descobrir quem pode ser a próxima vítima., 36.079, /sljvAAegS4up3fT4P51UNwVmNvu.jpg, 1999-11-04, O Colecionador de Ossos, false, 6.788, 3286), List(false, /aPrrrGtSjXbw8XnpzsVJgF0ioq3.jpg, List(28, 53, 878), 20504, en, The Book of Eli, Trinta anos depois da guerra ter dizimado o mundo, um guerreiro solitário chamado Eli caminha por horizontes arruinados dando esperança para os que restaram. Apenas um outro homem compreende o poder de um livro que Eli carrega e está determinado a se apoderar dele. Apesar de Eli preferir a paz, ele arriscará a sua vida para proteger a sua carga preciosa, pois precisa cumprir o seu destino de ajudar a restaurar a humanidade., 35.055, /AvPmDjktmbme4QTGRiQxUj2dbJV.jpg, 2010-01-14, O Livro de Eli, false, 6.782, 5793), List(false, /7bN5BIbOZJ1h9Atp59fptJuwKV0.jpg, List(28, 18, 53), 416194, no, Skjelvet, Em 1904, um terremoto de magnitude 5,4 na escala Richter sacudiu Oslo. Seu epicentro foi no \"Oslo Graben\", uma fenda que atravessa diretamente a cidade. Desde então, a população da capital norueguesa pode esperar futuros terremotos na área., 25.61, /oujtI4p0lolCnjBt2kvkPvmm0qK.jpg, 2018-08-31, Terremoto, false, 6.767, 703), List(false, /z7noaCJ4KtmhwHw7QcNtnMMo4Qy.jpg, List(28, 53, 80), 345887, en, The Equalizer 2, Criminosos assassinam Susan Plummer, a melhor amiga de Robert McCall e sua ex-colega de trabalho. Obcecado, Robert pensa apenas em eliminar o bando de assassinos profissionais que destruiu sua vida., 83.366, /REWunAyKGCbxvg2UJGMEHuQd2c.jpg, 2018-07-19, O Protetor 2, false, 6.739, 4981), List(false, /pjT0N04IPMimSgCRD0a26BRSWrj.jpg, List(35, 10749, 12), 421447, fr, L'Ascension, \"Para você, eu poderia escalar o Everest!\" Samy teria feito melhor se tivesse ficado calado aquele dia... Especialmente por que Nadia não acredita muito em palavras. Por amor a ela, Samy deixa projetos de vida de lado e vai subir os 8.848 metros que fazem do Everest o telhado do mundo., 15.182, /jxmnYUawdlSUctpN1JJ9wvE47ZH.jpg, 2017-01-25, A Escalada, false, 6.728, 826), List(false, /cj0VkGBTywa7WTIPPW9xgqmUVWl.jpg, List(53, 9648), 13448, en, Angels & Demons, O professor de simbologia Robert Langdon (Tom Hanks), depois de decifrar o código DaVinci, é chamado pelo Vaticano para investigar o misterioso desaparecimento de quatro cardeais. Agora, além de enfrentar a resistência da própria igreja em ajudá-lo nos detalhes de sua investigação, Langdon precisa decifrar charadas numa verdadeira corrida contra o tempo porque a sociedade secreta por trás do crime em andamento tem planos de explodir o Vaticano., 44.114, /pVhKBn8HTJVksw3Msk76MgMogiy.jpg, 2009-05-13, Anjos e Demônios, false, 6.708, 6515), List(false, /4pl165EUdvveHCr4J4YcHVA1MnD.jpg, List(80, 28, 878), 9739, en, Demolition Man, O policial John Spartan e o violento bandido Simon Phoenix são condenados a um encarceramento criogênico conhecido como CryoPrison. Quando Spartan é finalmente descongelado 36 anos depois, já é 2032 e Los Angeles é agora uma utopia pacifista chamada San Angeles (junção de Los Angeles com San Francisco). Porém com Phoenix novamente à solta, Spartan deve colaborar com uma policial, Lenina, para apreender o assassino., 60.419, /2BjAYQNwmdIZF6XQQ2rLOrios1Q.jpg, 1993-10-08, O Demolidor, false, 6.708, 3441), List(false, /a5nAHzJAwdaH0Esu6FSpjvnwK6x.jpg, List(18, 36, 10752), 2016, fr, Indigènes, Em 1943, 130 mil soldados originários das colônias francesas na África foram para a Europa lutar na 2ª Guerra Mundial e ajudar a libertar uma pátria-mãe na qual nunca antes haviam estado. Entre eles estavam Saïd, Messaoud, Abdelkader e Yassir, que precisam lidar com o preconceito existente ao mesmo tempo em que lutam pela vitória da França., 12.205, /oZoVn9SD9779SGDPiDcm8T5iR0Q.jpg, 2006-09-27, Dias de Glória, false, 6.694, 350), List(false, /9W0aXF5HhGilDHloymf7sTCne8z.jpg, List(28, 53, 18), 336882, no, Bølgen, Localizado na Noruega, o Fiorde de Geiranger é um dos pontos turísticos mais espetaculares da região, mas também é um local propício para cataclismas. Após anos no centro de alerta do local, o geólogo Kristian sente que alguma coisa não está normal, os substratos estão mudando. Em plena alta temporada turística, uma onda gigante atinge o local, colocando a montanha abaixo e dando apenas dez minutos para que as pessoas consigam chegar a um terreno elevado., 19.243, /1y2F6xuKuSpXd7OaMa6K4vetzGb.jpg, 2015-08-28, A Onda, false, 6.68, 1227), List(false, /wUzCzeM7ZRG0kHHOU8wiTrXdocd.jpg, List(35), 1624, en, Liar Liar, Um falante advogado habituado a mentir que, por causa do pedido de aniversário de seu filho, se vê forçado a falar somente a verdade nas próximas 24 horas., 41.284, /9fViD1rsvp95an7PN0oj3dqGIk0.jpg, 1997-03-21, O Mentiroso, false, 6.683, 5328), List(false, /jw88BtmMliB1Mbwf3JyfYszS4Xk.jpg, List(18, 53, 878, 9648), 2675, en, Signs, No condado de Bucks (Pensilvânia), vive o viúvo Graham Hess e seus dois filhos, Morgan e Bo. Ele costumava ser o pastor da região, mas se recusa a ser chamado assim desde que sua mulher, Colleen, morreu atropelada por Ray Reddy, um de seus vizinhos. Os Hess ficam intrigados com o aparecimento de misteriosos círculos em sua plantação sem que haja o menor vestígio de quem os fez ou por qual motivo teriam sido feitos., 30.726, /d5AV8UQEd7y7VZ4ZdiRTkC5TLTj.jpg, 2002-08-02, Sinais, false, 6.7, 5307))</td><td>5</td><td>100</td><td>2024-03-01T16:02:17.084Z</td><td>gleisonbob@gmail.com</td></tr><tr><td>3</td><td>List(List(false, /3dPhs7hUnQLphDFzdkD407VZDYo.jpg, List(18, 12, 878), 286217, en, The Martian, O astronauta Mark Watney é enviado a uma missão em Marte. Após uma severa tempestade ele é dado como morto, abandonado pelos colegas e acorda sozinho no misterioso planeta com escassos suprimentos, sem saber como reencontrar os companheiros ou retornar à Terra., 55.162, /fG3S4zdgnsaF77tJGK3rA9tHBu4.jpg, 2015-09-30, Perdido em Marte, false, 7.683, 18974), List(false, /ioqaIhJSkwa9DGRHGtOOUTiGRs2.jpg, List(12, 18), 8358, en, Cast Away, Chuck Noland (Tom Hanks) um inspetor da Federal Express (FedEx), multinacional encarregada de enviar cargas e correspondências, que tem por função checar vários escritórios da empresa pelo planeta. Porém, em uma de suas costumeiras viagens ocorre um acidente, que o deixa preso em uma ilha completamente deserta por 4 anos. Com sua noiva (Helen Hunt) e seus amigos imaginando que ele morrera no acidente, Chuck precisa lutar para sobreviver, tanto fisicamente quanto emocionalmente, a fim de que um dia consiga retornar civilização., 53.659, /eaJRnsUIxOeMgpY81iIgGr372vp.jpg, 2000-12-22, Náufrago, false, 7.664, 10847), List(false, /6dpnthrofbqWmvapUyvqCrkdHG.jpg, List(28, 53, 878), 218, en, The Terminator, Em um futuro próximo, a guerra entre humanos e máquinas foi iniciada. Com a tecnologia a seu dispor, um plano inusitado é arquitetado pelas máquinas ao enviar para o passado um andróide com a missão de matar a mãe daquele que viria a se transformar num líder e seu pior inimigo. Contudo, os humanos também conseguem enviar seu representante para proteger a mulher e tentar garantir o futuro da humanidade., 74.649, /fo4SSoNT1ASI4JP7dOLrosWNWKa.jpg, 1984-10-26, O Exterminador do Futuro, false, 7.655, 12279), List(false, /zRo7v3syLG19ZaLxZRFRLN1L9iX.jpg, List(878, 12, 18, 28), 871, en, Planet of the Apes, George Taylor, um astronauta americano, viaja por séculos em estado de hibernação. Ao acordar, ele e seus companheiros se vêem em um planeta dominado por macacos, no qual os humanos são tratados como escravos e nem mesmo tem o dom da fala., 54.161, /wTYTjSUqdra9WKzp7w2aOwYDosS.jpg, 1968-02-07, O Planeta dos Macacos, false, 7.651, 3226), List(false, /inJjDhCjfhh3RtrJWBmmDqeuSYC.jpg, List(28, 878, 53), 399566, en, Godzilla vs. Kong, Em uma época em que os monstros andam na Terra, a luta da humanidade por seu futuro coloca Godzilla e Kong em rota de colisão que verá as duas forças mais poderosas da natureza no planeta se confrontarem em uma batalha espetacular para as idades. Enquanto Monarch embarca em uma missão perigosa em terreno desconhecido e descobre pistas sobre as origens dos Titãs, uma conspiração humana ameaça tirar as criaturas, boas e más, da face da terra para sempre., 123.696, /klAIFewuqcyEmH1SMtR2XbMyqzM.jpg, 2021-03-24, Godzilla vs. Kong, false, 7.632, 9398), List(false, /8rpDcsfLJypbO6vREc0547VKqEv.jpg, List(878, 12, 28), 76600, en, Avatar: The Way of Water, 12 anos depois de explorar Pandora e se juntar aos Na'vi, Jake Sully formou uma família com Neytiri e se estabeleceu entre os clãs do novo mundo. Porém, a paz não durará para sempre., 214.785, /mbYQLLluS651W89jO7MOZcLSCUw.jpg, 2022-12-14, Avatar: O Caminho da Água, false, 7.632, 10922), List(false, /npCPnwDyWfQltGfIZKN6WqeUXGI.jpg, List(14, 12, 28), 57158, en, The Hobbit: The Desolation of Smaug, Ao lado de um grupo de anões e de Gandalf, Bilbo segue em direção à Montanha Solitária, onde deverá ajudar seus companheiros a retomar a Pedra de Arken. O problema é que o artefato está perdido em meio a um tesouro protegido pelo temido dragão Smaug., 77.15, /beqHE5BZY5LczMxJezL4FdY7mBp.jpg, 2013-12-11, O Hobbit: A Desolação de Smaug, false, 7.57, 12584), List(false, /yriYPLqyFqPW0QXaegT1KmWXk9a.jpg, List(878, 53), 1954, en, The Butterfly Effect, Evan é um jovem que luta para esquecer fatos de sua infância. Para isso, ele decide realizar uma regressão onde volta também fisicamente ao seu corpo de criança, tendo condições de alterar seu próprio passado. Porém, ao tentar consertar seus antigos problemas, ele acaba criando novos, já que toda mudança que realiza gera consequências em seu futuro., 55.858, /tvBGnEzDMK09PvH0fESCnrhpAeo.jpg, 2004-01-17, Efeito Borboleta, false, 7.568, 7133), List(false, /mFreKKBNnB2v678aDq0IZ2jaD8K.jpg, List(37, 18, 12), 281957, en, The Revenant, Em uma expedição pelo desconhecido deserto americano, o lendário explorador Hugh Glass é brutalmente atacado por um urso e deixado como morto pelos membros de sua própria equipe de caça. Em uma luta para sobreviver, Glass resiste à dor inimaginável, bem como à traição de seu confidente, John Fitzgerald. Guiado pela força de vontade e pelo amor de sua família, Glass deve navegar um inverno brutal em uma incessante busca por sobrevivência e redenção., 48.48, /x1jViuXsm5ZmrR6uFmxU6AVdXzs.jpg, 2015-12-25, O Regresso, false, 7.531, 17500), List(false, /kdbLf3aTQsEXqYlH9vA4fzmnSFz.jpg, List(10752, 18, 28), 228150, en, Fury, Durante o final da Segunda Guerra Mundial, um grupo de cinco soldados americanos é encarregado de atacar os nazistas dentro da própria Alemanha. Apesar de estarem em quantidade inferior e terem poucas armas, eles são liderados pelo enfurecido Wardaddy, sargento que pretende levá-los à vitória, enquanto ensina o novato Norman a lutar., 77.83, /8WtUjpboPESZbabGbC4ryd81KcR.jpg, 2014-10-15, Corações de Ferro, false, 7.526, 11375), List(false, /YL3GPOiDcNraIJOVDCZsoOBoDy.jpg, List(878, 28, 12, 53), 106, en, Predator, O major Alan \"Dutch\" Schaefer lidera uma equipe de resgate em uma selva da América Central, para tentar encontrar um ministro estrangeiro e funcionários do governo que saíram da rota e se perderam. O exército acredita que eles estejam nas mãos de guerrilheiros, mas o que eles não imaginam é que a floresta esconde uma ameaça mortal, um ser de outro planeta, fortemente armado, que sente enorme prazer em matar., 86.429, /2B6yDvD0hre65fyRi9LC3UJ9uSq.jpg, 1987-06-12, O Predador, false, 7.519, 7571), List(false, /mkfRdkM7FtmOndrh1jML3MIRB2i.jpg, List(28, 80, 18), 2034, en, Training Day, Jake Hoyt, um jovem policial de Los Angeles, entra para a equipe de narcóticos da polícia e recebe como oficial de treinamento e parcerio Alonzo Harris, um policial veterano e corrupto. Com o passar do dia, o jovem é exposto a todo tipo de corrupção e é ainda acusado de assassinato, acontecimentos que são orquestrados por Alonzo a fim de encobrir um engano cometido por ele junto à máfia russa, que pode fazer com que ele seja morto se não conseguir uma grande quantia de dinheiro até a meia-noite., 39.719, /ju2TUNXdCosCMOWXJA1BxtylyOj.jpg, 2001-10-05, Dia de Treinamento, false, 7.496, 5580), List(false, /lMGW6hh6EF0DhucvUvuCuAVxzZU.jpg, List(99, 28, 12, 18), 11194, en, Touching the Void, , 13.429, /fsydA5H8FSDaYlYWddfMpMpDUX.jpg, 2003-09-05, Touching the Void, false, 7.497, 376), List(false, /hZoXUcBN0CgD7s1QgmO7OZSHzBx.jpg, List(18), 18925, en, Facing the Giants, Técnico do Shiloh Eagles há seis anos, Grant Taylor (Alex Kendrick) nunca conseguiu levar sua equipe ao título da temporada. Além do mau desempenho no trabalho, Grant deve enfrentar outros problemas graves em casa e seu estado psicológico e moral nunca esteve tão abatido. Quando tudo parece estar prestes a ir por água abaixo, uma intervenção misteriosa muda o seu destino., 27.376, /sb59Xr3ckkUH7r6EtCZC9EBV5JB.jpg, 2006-09-29, Desafiando Gigantes, false, 7.5, 393), List(false, /tC78Pck2YCsUAtEdZwuHYUFYtOj.jpg, List(28, 53, 80), 926393, en, The Equalizer 3, Sentindo-se em casa no sul da Itália, o ex-agente Robert McCall logo descobre que seus novos amigos estão sob o controle dos chefes do crime local.  À medida que os acontecimentos se tornam mortais, McCall sabe o que tem de fazer: tornar-se o protetor dos seus amigos, enfrentando a máfia., 160.196, /AnJOKbSQsp0QqiUhsQooqFRjPsD.jpg, 2023-08-30, O Protetor: Capítulo Final, false, 7.394, 2319), List(false, /xyXmtuvsoM5J3yNad0nvcetpBdY.jpg, List(12, 14, 28), 49051, en, The Hobbit: An Unexpected Journey, Como a maioria dos hobbits, Bilbo Bolseiro leva uma vida tranquila até o dia em que recebe uma missão do mago Gandalf. Acompanhado por um grupo de anões, ele parte numa jornada até a Montanha Solitária para libertar o Reino de Erebor do dragão Smaug., 75.133, /qmHzmfcCWKyQZ8NFQkIYH8JdShI.jpg, 2012-12-12, O Hobbit: Uma Jornada Inesperada, false, 7.347, 17737), List(false, /1R6cvRtZgsYCkh8UFuWFN33xBP4.jpg, List(28, 53), 545609, en, Extraction, Em Bangladesh, o mercenário Tyler Rake luta para sobreviver durante a missão para resgatar o filho de um chefão do crime., 50.98, /zxahunlqvMPWzUBd1XSRsGawdS9.jpg, 2020-04-24, Resgate, false, 7.342, 5755), List(false, /bVmSXNgH1gpHYTDyF9Q826YwJT5.jpg, List(28, 12, 14), 122917, en, The Hobbit: The Battle of the Five Armies, O dragão Smaug lança sua fúria ardente contra a Cidade do Lago que fica próxima da montanha de Erebor. Bard consegue derrotá-lo, mas, rapidamente, sem a ameaça do dragão, inicia-se uma batalha pelo controle de Erebor e sua riqueza. Os anões, liderados por Thorin, adentram a montanha e estão dispostos a impedir a entrada de elfos, anões e orcs. Bilbo Bolseiro e Gandalf tentam impedir a guerra., 152.894, /5tGL0dbQpAkK9ItUaDrUbTvTMDp.jpg, 2014-12-10, O Hobbit: A Batalha dos Cinco Exércitos, false, 7.313, 13652), List(false, /zlU8BIkgY7E6SMfD3USTWC6bchL.jpg, List(878, 28, 18, 53), 119450, en, Dawn of the Planet of the Apes, Em 2026, a humanidade está enfrentando sua pior crise e está muito próxima da extinção por conta de um vírus mortal. Um grupo de sobreviventes organiza uma expedição pelas florestas próximas de São Francisco em busca de uma nova fonte de energia quando se deparam com uma comunidade, muito evoluída, de macacos liderados por César. Alguns dissidentes, mesmo com o pacto de paz firmado, quebram a trégua e dão início a uma guerra sem precedentes entre as duas espécies., 112.553, /4vLhF6R3lmhTjTVUdK4gI1s5a8v.jpg, 2014-07-08, Planeta dos Macacos: O Confronto, false, 7.3, 10615), List(false, /xDpa4rl47if5ixG1VRmzHErzy8h.jpg, List(53, 28, 18, 878), 61791, en, Rise of the Planet of the Apes, Nossa maior descoberta tornar-se-á a maior ameaça para a humanidade quando um cientista na iminência de um grande avanço da medicina começa a fazer testes num jovem chimpanzé chamado César. Quando o chimpanzé desenvolve inteligência e emoções semelhantes às dos humanos, uma batalha épica surge para determinar a espécie dominante no planeta!, 75.958, /qxe4ONZAgtC0mfsIuOyqVU9JREj.jpg, 2011-08-03, Planeta dos Macacos: A Origem, false, 7.3, 11094))</td><td>5</td><td>100</td><td>2024-03-01T16:02:17.084Z</td><td>gleisonbob@gmail.com</td></tr></tbody></table></div>"
      ]
     },
     "metadata": {
      "application/vnd.databricks.v1+output": {
       "addedWidgets": {},
       "aggData": [],
       "aggError": "",
       "aggOverflow": false,
       "aggSchema": [],
       "aggSeriesLimitReached": false,
       "aggType": "",
       "arguments": {},
       "columnCustomDisplayInfos": {},
       "data": [
        [
         1,
         [
          [
           false,
           "/tmU7GeKVybMWFButWEGl2M4GeiP.jpg",
           [
            18,
            80
           ],
           238,
           "en",
           "The Godfather",
           "Em 1945, Don Corleone é o chefe de uma mafiosa família italiana de Nova York. Ele costuma apadrinhar várias pessoas, realizando importantes favores para elas, em troca de favores futuros. Com a chegada das drogas, as famílias começam uma disputa pelo promissor mercado. Quando Corleone se recusa a facilitar a entrada dos narcóticos na cidade, não oferecendo ajuda política e policial, sua família começa a sofrer atentados para que mudem de posição. É nessa complicada época que Michael, um herói de guerra nunca envolvido nos negócios da família, vê a necessidade de proteger o seu pai e tudo o que ele construiu ao longo dos anos.",
           110.668,
           "/oJagOzBu9Rdd9BrciseCm3U3MCU.jpg",
           "1972-03-14",
           "O Poderoso Chefão",
           false,
           8.695,
           19520
          ],
          [
           false,
           "/kGzFbGhp99zva6oZODW5atUtnqi.jpg",
           [
            18,
            80
           ],
           240,
           "en",
           "The Godfather Part II",
           "Após a máfia matar sua família, o jovem Vito foge da sua cidade na Sicília e vai para a América. Vito luta para manter sua família. Ele mata Black Hand Fanucci, que exigia dos comerciantes uma parte dos seus ganhos. Com a morte de Fanucci, o poderio de Vito cresce, mas sua família é o que mais importa para ele. Agora baseado no Lago Tahoe, Michael planeja fazer incursões em Las Vegas e Havana instalando negócios ligados ao lazer, mas descobre que aliados como Hyman Roth estão tentando matá-lo.",
           66.949,
           "/7g6wvsWHxBQujUcSXvZLhdFpDUy.jpg",
           "1974-12-20",
           "O Poderoso Chefão: Parte II",
           false,
           8.6,
           11791
          ],
          [
           false,
           "/3f92DMBTFqr3wgXpfxzrb0qv8nG.jpg",
           [
            18,
            36,
            10752
           ],
           424,
           "en",
           "Schindler's List",
           "O alemão Oskar Schindler viu na mão de obra judia uma solução barata e viável para lucrar com negócios durante a guerra. Com sua forte influência dentro do partido nazista, foi fácil conseguir as autorizações e abrir uma fábrica. O que poderia parecer uma atitude de um homem não muito bondoso, transformou-se em um dos maiores casos de amor à vida da História, pois este alemão abdicou de toda sua fortuna para salvar a vida de mais de mil judeus em plena luta contra o extermínio alemão.",
           83.493,
           "/tagKKnJLK8W5qKJW7Cl2GR2OPCs.jpg",
           "1993-12-15",
           "A Lista de Schindler",
           false,
           8.565,
           15172
          ],
          [
           false,
           "/kXfqcdQKsToO0OUXHcrrNCHDBzO.jpg",
           [
            18,
            80
           ],
           278,
           "en",
           "The Shawshank Redemption",
           "Em 1946, Andy Dufresne, um banqueiro jovem e bem sucedido, tem a sua vida radicalmente modificada ao ser condenado por um crime que nunca cometeu, o homicídio de sua esposa e do amante dela. Ele é mandado para uma prisão que é o pesadelo de qualquer detento, a Penitenciária Estadual de Shawshank, no Maine. Lá ele irá cumprir a pena perpétua. Andy logo será apresentado a Warden Norton, o corrupto e cruel agente penitenciário, que usa a Bíblia como arma de controle e ao Capitão Byron Hadley que trata os internos como animais. Andy faz amizade com Ellis Boyd Redding, um prisioneiro que cumpre pena há 20 anos e controla o mercado negro da instituição.",
           128.965,
           "/umX3lBhHoTV7Lsci140Yr8VpXyN.jpg",
           "1994-09-23",
           "Um Sonho de Liberdade",
           false,
           8.7,
           25691
          ],
          [
           false,
           "/l6hQWH9eDksNJNiXWYRkWqikOdu.jpg",
           [
            14,
            18,
            80
           ],
           497,
           "en",
           "The Green Mile",
           "Milagres acontecem em lugares inesperados, mesmo no bloco de celas para o corredor da morte na Penitenciária Cold Mountain. Lá, John Coffey, um gentil e gigante prisioneiro com poderes sobrenaturais, traz um senso de espírito e humanidade aos seus guardas e colegas de cela.",
           71.563,
           "/14hEqW67IiHlKpzKMLUXyktzZIV.jpg",
           "1999-12-10",
           "À Espera de um Milagre",
           false,
           8.508,
           16541
          ],
          [
           false,
           "/2u7zbn8EudG6kLlBzUYqP8RyFU4.jpg",
           [
            12,
            14,
            28
           ],
           122,
           "en",
           "The Lord of the Rings: The Return of the King",
           "O confronto final entre as forças do bem e do mal que lutam pelo controle do futuro da Terra Média se aproxima. Sauron planeja um grande ataque a Minas Tirith, capital de Gondor, o que faz com que Gandalf e Pippin partam para o local na intenção de ajudar a resistência. Um exército é reunido por Theoden em Rohan, em mais uma tentativa de deter as forças de Sauron. Enquanto isso, Frodo, Sam e Gollum seguem sua viagem rumo à Montanha da Perdição para destruir o anel.",
           112.88,
           "/aXS3D94iIO9dheHrG0BhgUR4Wuy.jpg",
           "2003-12-01",
           "O Senhor dos Anéis: O Retorno do Rei",
           false,
           8.477,
           23096
          ],
          [
           false,
           "/qdIMHd4sEfJSckfVJfKQvisL02a.jpg",
           [
            35,
            18,
            10749
           ],
           13,
           "en",
           "Forrest Gump",
           "Quarenta anos da história dos Estados Unidos, vistos pelos olhos de Forrest Gump, um rapaz com QI abaixo da média e com boas intenções. Por obra do acaso, ele consegue participar de momentos cruciais, como a Guerra do Vietnã e o Caso Watergate, mas continua pensando no seu amor de infância, Jenny Curran.",
           131.332,
           "/d74WpIsH8379TIL4wUxDneRCYv2.jpg",
           "1994-06-23",
           "Forrest Gump: O Contador de Histórias",
           false,
           8.5,
           26237
          ],
          [
           false,
           "/uvitbjFU4JqvMwIkMWHp69bmUzG.jpg",
           [
            18,
            80
           ],
           598,
           "pt",
           "Cidade de Deus",
           "Buscapé é um jovem morador da Cidade de Deus que cresce em meio à violência. Com medo de se tornar um bandido, enxerga na fotografia uma oportunidade de ter uma vida digna.",
           31.79,
           "/gfnXixcGC060QcG6JPxN6AMdVsq.jpg",
           "2002-08-30",
           "Cidade de Deus",
           false,
           8.434,
           6950
          ],
          [
           false,
           "/ln2Gre4IYRhpjuGVybbtaF4CLo5.jpg",
           [
            12,
            18,
            878
           ],
           157336,
           "en",
           "Interstellar",
           "As reservas naturais da Terra estão chegando ao fim e um grupo de astronautas recebe a missão de verificar possíveis planetas para receberem a população mundial, possibilitando a continuação da espécie. Cooper é chamado para liderar o grupo e aceita a missão sabendo que pode nunca mais ver os filhos. Ao lado de Brand, Jenkins e Doyle, ele seguirá em busca de um novo lar.",
           138.634,
           "/nCbkOyOMTEwlEV0LtCOvCnwEONA.jpg",
           "2014-11-05",
           "Interestelar",
           false,
           8.429,
           33749
          ],
          [
           false,
           "/x2RS3uTcsJJ9IfjNPcgDmukoEcQ.jpg",
           [
            12,
            14,
            28
           ],
           120,
           "en",
           "The Lord of the Rings: The Fellowship of the Ring",
           "Em uma terra fantástica e única, um hobbit recebe de presente de seu tio um anel mágico e maligno que precisa ser destruído antes que caia nas mãos do mal. Para isso, o hobbit Frodo tem um caminho árduo pela frente, onde encontra perigo, medo e seres bizarros. Ao seu lado para o cumprimento desta jornada, ele aos poucos pode contar com outros hobbits, um elfo, um anão, dois humanos e um mago, totalizando nove pessoas que formam a Sociedade do Anel.",
           121.609,
           "/hq45YolNIGtrQZRJdjIRZOyONJa.jpg",
           "2001-12-18",
           "O Senhor dos Anéis: A Sociedade do Anel",
           false,
           8.409,
           24028
          ],
          [
           false,
           "/alQqTpmEkxSLgajfEYTsTH6nAKB.jpg",
           [
            35,
            18,
            14
           ],
           40096,
           "pt",
           "O Auto da Compadecida",
           "As aventuras dos nordestinos João Grilo, um sertanejo pobre e mentiroso, e Chicó, o mais covarde dos homens. Ambos lutam pelo pão de cada dia e atravessam por vários episódios enganando a todos do pequeno vilarejo de Taperoá, no sertão da Paraíba. A salvação da dupla acontece com a aparição da Nossa Senhora. Adaptação da obra de Ariano Suassuna.",
           14.879,
           "/imcOp1kJsCsAFCoOtY5OnPrFbAf.jpg",
           "2000-09-15",
           "O Auto da Compadecida",
           false,
           8.4,
           1044
          ],
          [
           false,
           "/6G73mNyooWAEQTpckPSnFxFoNmc.jpg",
           [
            12,
            14,
            28
           ],
           121,
           "en",
           "The Lord of the Rings: The Two Towers",
           "Após a captura de Merry e Pippy pelos orcs, a Sociedade do Anel é dissolvida. Frodo e Sam seguem sua jornada rumo à Montanha da Perdição para destruir o anel e descobrem que estão sendo perseguidos pelo misterioso Gollum. Enquanto isso, Aragorn, o elfo e arqueiro Legolas e o anão Gimli partem para resgatar os hobbits sequestrados e chegam ao reino de Rohan, onde o rei Theoden foi vítima de uma maldição mortal de Saruman.",
           93.389,
           "/20eUL6eN89SM0U7KPDw8iR82mOT.jpg",
           "2002-12-18",
           "O Senhor dos Anéis: As Duas Torres",
           false,
           8.392,
           20890
          ],
          [
           false,
           "/8ZTVqvKDQ8emSGUEMjsS4yHAwrp.jpg",
           [
            28,
            878,
            12
           ],
           27205,
           "en",
           "Inception",
           "Um ladrão que rouba segredos corporativos por meio do uso da tecnologia de compartilhamento de sonhos, recebe a tarefa inversa de plantar uma ideia na mente de um Diretor Executivo.",
           111.564,
           "/9e3Dz7aCANy5aRUQF745IlNloJ1.jpg",
           "2010-07-15",
           "A Origem",
           false,
           8.367,
           35325
          ],
          [
           false,
           "/dYjZ27hDw2QFaEIfzbNGwW0IkV9.jpg",
           [
            80,
            9648,
            53
           ],
           807,
           "en",
           "Se7en",
           "Quando, a ponto de se aposentar, o detetive William Somerset aborda o último caso com a ajuda do recém-transferido David Mills, eles descobrem uma série de assassinatos. Logo percebem que estão lidando com um assassino que tem como alvo pessoas que ele acredita representar os sete pecados capitais.",
           66.41,
           "/oN5jOhcnguePfC9u3xzUOp98HzH.jpg",
           "1995-09-22",
           "Seven: Os Sete Crimes Capitais",
           false,
           8.372,
           20049
          ],
          [
           false,
           "/5bzPWQ2dFUl2aZKkp7ILJVVkRed.jpg",
           [
            12,
            35,
            878
           ],
           105,
           "en",
           "Back to the Future",
           "Marty McFly, um típico adolescente americano dos anos 80, acidentalmente é enviado de volta ao ano de 1955 em um carro modificado para ser uma máquino do tempo, inventada por um cientista louco. Durante sua fantástica e maluca viagem no tempo, McFly tem que fazer com que seus futuros pais se encontrem e se apaixonem, para que assim ele possa ir de volta para o futuro.",
           63.461,
           "/4BTW7PyEYFUFlNpuSeS9hAbpk9P.jpg",
           "1985-07-03",
           "De Volta para o Futuro",
           false,
           8.317,
           19035
          ],
          [
           false,
           "/4YbHir4Ka4kG7WOdh0anXv1iT8s.jpg",
           [
            18
           ],
           637920,
           "tr",
           "7. Koğuştaki Mucize",
           "Separado de sua filha, um homem com deficiência intelectual precisa provar sua inocência ao ser preso pela morte da filha de um comandante.",
           25.159,
           "/q5Sj4pMaKpdMyywQIJhexNvCZYz.jpg",
           "2019-10-10",
           "Milagre na Cela 7",
           false,
           8.269,
           4281
          ],
          [
           false,
           "/4I14RDX6gZPpXkHmbcqvAKpn3Dw.jpg",
           [
            28,
            18,
            12
           ],
           98,
           "en",
           "Gladiator",
           "Nos dias finais do reinado de Marcus Aurelius, o imperador desperta a ira de seu filho Commodus ao tornar pública sua predileção em deixar o trono para Maximus, o comandante do exército romano. Sedento pelo poder, Commodus mata seu pai, assume a coroa e ordena a morte de Maximus, que consegue fugir antes de ser pego e passa a se esconder sob a identidade de um escravo e gladiador do Império Romano.",
           62.87,
           "/R1ieKOdGHYL7BRpl0iRgNV1uXw.jpg",
           "2000-05-04",
           "Gladiador",
           false,
           8.215,
           17574
          ],
          [
           false,
           "/bdD39MpSVhKjxarTxLSfX6baoMP.jpg",
           [
            18,
            36,
            10752
           ],
           857,
           "en",
           "Saving Private Ryan",
           "Ao desembarcar na Normandia, no dia 6 de junho de 1944, capitão Miller recebe a missão de comandar um grupo do segundo batalhão para o resgate do soldado James Ryan, caçula de quatro irmãos, dentre os quais três morreram em combate. Por ordens do chefe George C. Marshall, eles precisam procurar o soldado e garantir o seu retorno, com vida, para casa.",
           67.396,
           "/hMLxNLCXRDd62acfCBn6mIyW1HU.jpg",
           "1998-07-24",
           "O Resgate do Soldado Ryan",
           false,
           8.214,
           15089
          ],
          [
           false,
           "/ncEsesgOJDNrTUED89hYbA117wo.jpg",
           [
            28,
            878
           ],
           603,
           "en",
           "The Matrix",
           "Em um futuro próximo, Thomas Anderson (Keanu Reeves), um jovem programador de computador que mora em um cubículo escuro, é atormentado por estranhos pesadelos nos quais encontra-se conectado por cabos e contra sua vontade, em um imenso sistema de computadores do futuro. Em todas essas ocasiões, acorda gritando no exato momento em que os eletrodos estão para penetrar em seu cérebro. À medida que o sonho se repete, Anderson começa a ter dúvidas sobre a realidade. Por meio do encontro com os misteriosos Morpheus (Laurence Fishburne) e Trinity (Carrie-Anne Moss), Thomas descobre que é, assim como outras pessoas, vítima do Matrix, um sistema inteligente e artificial que manipula a mente das pessoas, criando a ilusão de um mundo real enquanto usa os cérebros e corpos dos indivíduos para produzir energia. Morpheus, entretanto, está convencido de que Thomas é Neo, o aguardado messias capaz de enfrentar o Matrix e conduzir as pessoas de volta à realidade e à liberdade.",
           80.049,
           "/lDqMDI3xpbB9UQRyeXfei0MXhqb.jpg",
           "1999-03-31",
           "Matrix",
           false,
           8.213,
           24536
          ],
          [
           false,
           "/yQIBS8B9l2qXoPoPtxSXvH7CfoT.jpg",
           [
            18,
            36,
            10752
           ],
           324786,
           "en",
           "Hacksaw Ridge",
           "Desmond T. Doss, foi o médico do Exército Americano da Segunda Guerra Mundial, que serviu durante a Batalha de Okinawa, se recusando a matar pessoas, tornando-se o primeiro homem da história americana a receber a Medalha de Honra sem disparar um tiro.",
           105.449,
           "/88sCL8OQMoieKpHClqRCCbcgH6w.jpg",
           "2016-10-07",
           "Até o Último Homem",
           false,
           8.192,
           13089
          ]
         ],
         5,
         100,
         "2024-03-01T16:01:59.797Z",
         "gleisonbob@gmail.com"
        ],
        [
         2,
         [
          [
           false,
           "/pyviqHJMXSxo7R43lkZpSrvkQpm.jpg",
           [
            27,
            10402,
            9648
           ],
           92060,
           "en",
           "Michael Jackson's Thriller",
           "",
           14.46,
           "/dYHGoPMkZMVuBA4EydmDQMo1EEv.jpg",
           "1983-11-14",
           "Michael Jackson's Thriller",
           false,
           8.186,
           633
          ],
          [
           false,
           "/7oJ5wrbS9Zs9AoxTjNb1siJKVq6.jpg",
           [
            80,
            53,
            18
           ],
           475557,
           "en",
           "Joker",
           "Isolado, intimidado e desconsiderado pela sociedade, o fracassado comediante Arthur Fleck inicia seu caminho como uma mente criminosa após assassinar três homens em pleno metrô. Sua ação inicia um movimento popular contra a elite de Gotham City, da qual Thomas Wayne é seu maior representante.",
           85.044,
           "/xLxgVxFWvb9hhUyCDDXxRPPnFck.jpg",
           "2019-10-01",
           "Coringa",
           false,
           8.164,
           24160
          ],
          [
           false,
           "/1ZSWFzAP4AZuFCigZZoib2RdcUO.jpg",
           [
            18,
            9648,
            53
           ],
           411088,
           "es",
           "Contratiempo",
           "Após acordar ao lado de sua amante assassinada em um quarto de hotel, um empresário contrata uma advogada para descobrir como ele acabou sendo suspeito de um homicídio.",
           43.877,
           "/pOnbhr6DbPgKjvcNexbRdmR37De.jpg",
           "2017-01-06",
           "Um Contratempo",
           false,
           8.122,
           4328
          ],
          [
           false,
           "/vdpE5pjJVql5aD6pnzRqlFmgxXf.jpg",
           [
            18,
            36
           ],
           906126,
           "es",
           "La sociedad de la nieve",
           "Em 13 de outubro de 1972, o voo 571 da Força Aérea Uruguaia, fretado para levar um time de rúgbi ao Chile, cai em uma geleira no coração da Cordilheira dos Andes.",
           169.113,
           "/7fQTmvKgVGxifieVryqqlxohkoW.jpg",
           "2023-12-13",
           "A Sociedade da Neve",
           false,
           8.081,
           2117
          ],
          [
           false,
           "/2P0toWq3feNvFAzf28j7vNc1IuZ.jpg",
           [
            80,
            18,
            35
           ],
           106646,
           "en",
           "The Wolf of Wall Street",
           "Durante seis meses, Jordan Belfort (Leonardo DiCaprio) trabalhou duro em uma corretora de Wall Street, seguindo os ensinamentos de seu mentor Mark Hanna (Matthew McConaughey). Quando finalmente consegue ser contratado como corretor da firma, acontece o Black Monday, que faz com que as bolsas de vários países caiam repentinamente. Sem emprego e bastante ambicioso, ele acaba trabalhando para uma empresa de fundo de quintal que lida com papéis de baixo valor, que não estão na bolsa de valores. É lá que Belfort tem a idéia de montar uma empresa focada neste tipo de negócio, cujas vendas são de valores mais baixos mas, em compensação, o retorno para o corretor é bem mais vantajoso. Ao lado de Donnie (Jonah Hill) e outros amigos dos velhos tempos, ele cria a Stratton Oakmont, uma empresa que faz com que todos enriqueçam rapidamente e, também, levem uma vida dedicada ao prazer.",
           89.248,
           "/esJTXTdj4JZDyP5LUI1Fq3kyNda.jpg",
           "2013-12-25",
           "O Lobo de Wall Street",
           false,
           8.035,
           22956
          ],
          [
           false,
           "/jFp5aAlGQ1H3gwdORL2urr8dnoN.jpg",
           [
            36,
            18,
            53,
            10752
           ],
           205596,
           "en",
           "The Imitation Game",
           "Em 1939, a recém-criada agência de inteligência britânica MI6 recruta Alan Turing, um aluno da Universidade de Cambridge, para entender códigos nazistas, incluindo o \"Enigma\", que criptógrafos acreditavam ser inquebrável. A equipe de Turing, incluindo Joan Clarke, analisa as mensagens de \"Enigma\", enquanto ele constrói uma máquina para decifrá-las.",
           75.54,
           "/bwWCFjhwrs5my4FUoeWdTa2GYlB.jpg",
           "2014-11-14",
           "O Jogo da Imitação",
           false,
           8.005,
           16365
          ],
          [
           false,
           "/dcvbs8z0GEXslC1kCT77x19XDeR.jpg",
           [
            10402,
            18
           ],
           424694,
           "en",
           "Bohemian Rhapsody",
           "Freddie Mercury e seus companheiros Brian May, Roger Taylor e John Deacon mudam o mundo da música para sempre ao formar a banda Queen, durante a década de 1970. Porém, quando o estilo de vida extravagante de Mercury começa a sair do controle, a banda tem que enfrentar o desafio de conciliar a fama e o sucesso com suas vidas pessoais cada vez mais complicadas.",
           45.171,
           "/qxgdqcxI216kEoypGbA9BemB7mW.jpg",
           "2018-10-24",
           "Bohemian Rhapsody",
           false,
           7.99,
           16301
          ],
          [
           false,
           "/79bJL9ydAMYVltuNTt4VhxORqIz.jpg",
           [
            12,
            878
           ],
           329,
           "en",
           "Jurassic Park",
           "Um parque construído por um milionário tem dinossauros diversos como habitantes, extintos a sessenta e cinco milhões de anos. Isto é possível por ter sido encontrado um inseto fossilizado, que tinha sugado sangue destes dinossauros, de onde pôde-se isolar o DNA, o código químico da vida e, a partir deste ponto, recriá-los em laboratório. Mas, o que parecia ser um sonho se torna um pesadelo, quando a experiência sai do controle de seus criadores.",
           44.225,
           "/cV3JgTAq5mX6Zjy8GVSqXHncUHH.jpg",
           "1993-06-11",
           "Jurassic Park: O Parque dos Dinossauros",
           false,
           7.9,
           15585
          ],
          [
           false,
           "/8lBcqakI3F19NWkXdqE0M8W76b9.jpg",
           [
            28,
            18,
            36,
            10752
           ],
           197,
           "en",
           "Braveheart",
           "No século XIII, soldados ingleses matam a mulher do escocês William Wallace, bem na sua noite de núpcias. Para vingar a amada, ele resolve liderar seu povo em uma luta contra o cruel Rei inglês Edward I. Com a ajuda de Robert e Bruce, ele vai deflagrar uma violenta batalha com o objetivo de libertar a Escócia de uma vez por todas.",
           40.497,
           "/tWBbNikf5ng7BuNGA55MkvhLrag.jpg",
           "1995-05-24",
           "Coração Valente",
           false,
           7.94,
           9629
          ],
          [
           false,
           "/hpGkXl6iNdtQLXHS7xiv57N217B.jpg",
           [
            18,
            36,
            10751
           ],
           491480,
           "en",
           "The Boy Who Harnessed the Wind",
           "Inspirado por um livro de ciências, um garoto constrói uma turbina eólica para salvar seu vilarejo da fome. Baseado em uma história real.",
           36.953,
           "/jZofpz4gmiH7MQAYWrgvTtdIq3l.jpg",
           "2019-02-14",
           "O Menino que Descobriu o Vento",
           false,
           7.922,
           1575
          ],
          [
           false,
           "/z2uuQasY4gQJ8VDAFki746JWeQJ.jpg",
           [
            99,
            12
           ],
           515042,
           "en",
           "Free Solo",
           "Aos 30 anos de idade, Alex Honnold já era um dos mais renomados alpinistas de sua geração. Porém, independente de todas as suas conquistas, ele permaneceu obcecado com um desafio que nenhum outro alpinista havia conseguido realizar: escalar sem equipamento de segurança a rocha El Capitan, no Parque Nacional de Yosemite, na Califórnia. Os diretores E. Chai Vasarhelyi e Jimmy Chin acompanham Honnold por dois anos enquanto ele testa os limites de sua ambição.",
           16.278,
           "/v4QfYZMACODlWul9doN9RxE99ag.jpg",
           "2018-09-28",
           "Free Solo",
           false,
           7.923,
           1235
          ],
          [
           false,
           "/sCzcYW9h55WcesOqA12cgEr9Exw.jpg",
           [
            18,
            10749
           ],
           597,
           "en",
           "Titanic",
           "Um artista pobre e uma jovem rica se conhecem e se apaixonam na fatídica jornada do Titanic, em 1912. Embora esteja noiva do arrogante herdeiro de uma siderúrgica, a jovem desafia sua família e amigos em busca do verdadeiro amor.",
           109.553,
           "/9xjZS2rlVxm8SFx8kPC3aIGCOYQ.jpg",
           "1997-11-18",
           "Titanic",
           false,
           7.905,
           24340
          ],
          [
           false,
           "/nKOQiWjhv6LXXSR3PiIab3LrKtU.jpg",
           [
            18
           ],
           1402,
           "en",
           "The Pursuit of Happyness",
           "Chris enfrenta sérios problemas financeiros e Linda, sua esposa, decide partir. Ele agora é pai solteiro e precisa cuidar de Christopher, seu filho de 5 anos. Chris tenta usar sua habilidade como vendedor para conseguir um emprego melhor, mas só consegue um estágio não remunerado. Seus problemas financeiros não podem esperar uma promoção e eles acabam despejados. Chris e Christopher passam a dormir em abrigos ou onde quer que consigam um refúgio, mantendo a esperança de que dias melhores virão.",
           50.997,
           "/vHGC2sSh7pBWXY0qzMdPD7fcjzS.jpg",
           "2006-12-14",
           "À Procura da Felicidade",
           false,
           7.9,
           9423
          ],
          [
           false,
           "/s46UYRkMY33leTQ9Y6gc3XVJnHR.jpg",
           [
            16,
            12,
            9648
           ],
           712454,
           "fr",
           "Le Sommet des dieux",
           "Um fotojornalista que investiga a primeira expedição ao Everest acaba se envolvendo na busca por um respeitado alpinista que desapareceu.",
           13.307,
           "/fj8wv7ip5JbnJFqwNicNKHLClYH.jpg",
           "2021-09-22",
           "Viagem ao Topo da Terra",
           false,
           7.843,
           318
          ],
          [
           false,
           "/7UTQCis1B8oWNjIMzQq57LPqma2.jpg",
           [
            18
           ],
           596,
           "en",
           "The Grapes of Wrath",
           "Tom, filho mais velho de uma pobre família de trabalhadores rurais, retorna para casa após cumprir pena por homicídio involuntário. Ele planeja levar os parentes até a Califórnia, onde dizem que trabalho não falta. Durante a viagem eles passam por diversos tipos de provações e quando finalmente chegam na \"Terra Prometida\" descobrem que é um lugar bem pior do que aquele que deixaram.",
           14.718,
           "/xg2lYQ05OJ0t7pI6ESV8d3zrydU.jpg",
           "1940-03-15",
           "As Vinhas da Ira",
           false,
           7.835,
           905
          ],
          [
           false,
           "/jkkw7YyfWO1Vc0i6YFU1JQef8DV.jpg",
           [
            18,
            28,
            80
           ],
           47931,
           "pt",
           "Tropa de Elite 2",
           "O destino da cidade do Rio de Janeiro e de Nascimento se cruzam em \"Tropa de Elite 2\", quando suas obrigações de pai se chocam com as de policial. Mais maduro, estratégico e solitário, o agora Coronel Nascimento faz o bope crescer e coloca o tráfico de drogas de joelho. Isto apenas para descobrir que na segurança pública do Rio de Janeiro nada é o que parece. O sistema se reinventa e descobre como lucrar sem o intermédio do tráfico. Em perseguição ao caminho trilhado pelo sistema, Nascimento vai além dos limites do quartel, revelando as ligações das milícias com o Estado. E o preço por essa descoberta é alto: o inimigo agora é outro.",
           30.32,
           "/8G7F938AHqBBLc5yJXPUJhSJzN5.jpg",
           "2010-10-08",
           "Tropa de Elite 2: O Inimigo Agora é Outro",
           false,
           7.814,
           1758
          ],
          [
           false,
           "/mvyERNa0oNsBjbHqn5qSGMHk2FM.jpg",
           [
            12,
            18
           ],
           5915,
           "en",
           "Into the Wild",
           "Início da década de 90. Christopher McCandless é um jovem recém-formado, que decide viajar sem rumo pelos Estados Unidos em busca da liberdade. Durante sua jornada pela Dakota do Sul, Arizona e Califórnia ele conhece pessoas que mudam sua vida, assim como sua presença também modifica as delas. Até que, após dois anos na estrada, Christopher decide fazer a maior das viagens e partir rumo ao Alasca.",
           33.734,
           "/bv2od9QMVaojT9lI02Uk47Z40Ue.jpg",
           "2007-09-21",
           "Na Natureza Selvagem",
           false,
           7.807,
           9217
          ],
          [
           false,
           "/eTvN54pd83TrSEOz6wbsXEJktCV.jpg",
           [
            10752,
            28,
            53
           ],
           882569,
           "en",
           "Guy Ritchie's The Covenant",
           "Um sargento do Exército é resgatado de uma missão no Afeganistão pelo seu intérprete. Naquela que seria a sua última missão no estrangeiro, Kinley fica à beira da morte mas sobrevive graças a Ahmed, que o protege e o carrega por quilometros a fim de garantir a sua segurança. Sem se lembrar muito bem do que aconteceu, o sargento apenas sabe que quando o homem se encontra em risco de vida, como a sua família, é a sua verdadeira missão retribuir o favor e ajudá-lo a sobreviver.",
           78.062,
           "/pTQZT9R6YjKrweJ0llPtq57j1Z0.jpg",
           "2023-04-19",
           "O Pacto",
           false,
           7.803,
           2101
          ],
          [
           false,
           "/yPgAHVzCF0yJGhxupwVwknOHdJj.jpg",
           [
            18
           ],
           1366,
           "en",
           "Rocky",
           "Rocky Balboa, um pequeno boxeador da classe trabalhadora da Filadélfia, é arbitrariamente escolhido para lutar contra o campeão dos pesos pesados, Apollo Creed, quando o adversário do invicto lutador agendado para a luta é ferido. Durante o treinamento com o mal-humorado Mickey Goldmill, Rocky timidamente começa um relacionamento com Adrian, a invisível irmã de Paulie, seu amigo empacotador de carne.",
           56.14,
           "/b9B1DXcPNsJfTtc4x2LKA3bykoJ.jpg",
           "1976-11-21",
           "Rocky: Um Lutador",
           false,
           7.789,
           7419
          ],
          [
           false,
           "/kZZ9JuZ5CMvH0Y2LwboekvXIHqQ.jpg",
           [
            18,
            10752,
            28
           ],
           49046,
           "de",
           "Im Westen nichts Neues",
           "Convocado para a linha de frente da Primeira Guerra Mundial, o adolescente Paul encara a dura realidade da vida nas trincheiras.",
           59.446,
           "/qmcKs0Aoft7MBdBoj1haZyPRgM2.jpg",
           "2022-10-07",
           "Nada de Novo no Front",
           false,
           7.735,
           3459
          ]
         ],
         5,
         100,
         "2024-03-01T16:02:17.084Z",
         "gleisonbob@gmail.com"
        ],
        [
         4,
         [
          [
           false,
           "/3Fz4yEKvlavO48R9vytUQfSBAEY.jpg",
           [
            53,
            28,
            80
           ],
           156022,
           "en",
           "The Equalizer",
           "O ex-agente secreto Robert McCall acredita que seu passado ficou para trás e tenta viver uma nova vida. Porém, quando ele conhece Teri, uma jovem que está em poder de uma quadrilha russa, ele simplesmente não consegue ignorá-la. Munido de suas extraordinárias habilidades, ele ressurge como um verdadeiro anjo vingador. Fora da aposentadoria e com um novo desejo de fazer justiça, McCall decide ajudar quem foi brutalizado e oprimido.",
           138.275,
           "/xTSOdJ0Ljs439lnKB7NsWlTibZN.jpg",
           "2014-09-24",
           "O Protetor",
           false,
           7.269,
           8577
          ],
          [
           false,
           "/6iUNJZymJBMXXriQyFZfLAKnjO6.jpg",
           [
            28,
            12,
            14
           ],
           297762,
           "en",
           "Wonder Woman",
           "Treinada desde cedo para ser uma guerreira imbatível, Diana Prince (Gal Gadot) nunca saiu da paradisíaca ilha em que é reconhecida como Princesa das Amazonas. Quando o piloto Steve Trevor (Chris Pine) se acidenta e cai numa praia do local, ela descobre que uma guerra sem precedentes está se espalhando pelo mundo e decide deixar seu lar certa de que pode parar o conflito. Lutando para acabar com todas as lutas, Diana percebe o alcance de seus poderes e sua verdadeira missão na Terra.",
           89.338,
           "/ujQthWB6c0ojlARk28NSTmqidbF.jpg",
           "2017-05-30",
           "Mulher-Maravilha",
           false,
           7.232,
           19333
          ],
          [
           false,
           "/usw8PMcbWqAtmABo2jO7KRRSrqi.jpg",
           [
            18,
            878,
            53
           ],
           6479,
           "en",
           "I Am Legend",
           "Robert Neville é um brilhante cientista e o único sobrevivente de uma epidemia que transformou os humanos em mutantes sedentos por sangue. Andando pela cidade de Nova York, ele procura por outros possíveis sobreviventes e tenta achar a cura da praga usando seu próprio sangue, que é imune.",
           61.776,
           "/6urQ17k0Pepx8RoYVeRbwaCSVIS.jpg",
           "2007-12-12",
           "Eu Sou a Lenda",
           false,
           7.201,
           15087
          ],
          [
           false,
           "/1GJvBE7UWU1WOVi0XREl4JQc7f8.jpg",
           [
            28,
            12,
            35,
            878
           ],
           607,
           "en",
           "Men in Black",
           "Kay e Jay, os Homens de Preto, são o maior segredo já mantido no universo. Eles são agentes de uma agência não-oficial do governo e responsáveis por monitorar todos os encontros com alienígenas na Terra. Ao investigar uma série de atividades extraterrestres, descobrem um terrorista intergaláctico cuja missão é assassinar dois embaixadores de galáxias opostas.",
           51.986,
           "/bUA0TD2COayMP6ur9Qbewdbbm2e.jpg",
           "1997-07-02",
           "MIB - Homens de Preto",
           false,
           7.19,
           13170
          ],
          [
           false,
           "/fPg31FANBYhrV2z0vZB4nIonKbI.jpg",
           [
            28,
            12,
            10752
           ],
           1271,
           "en",
           "300",
           "Em 480 a.C., Leônidas, o rei de Esparta, comanda seu pequeno batalhão de 300 soldados contra um exército de mais de 1 milhão na Batalha das Termópilas.",
           45.619,
           "/h7Lcio0c9ohxPhSZg42eTlKIVVY.jpg",
           "2007-03-07",
           "300",
           false,
           7.18,
           13156
          ],
          [
           false,
           "/c9xSFZQtC4c16Vn5CMOaB1pGk9J.jpg",
           [
            18,
            36,
            10752,
            28
           ],
           2024,
           "en",
           "The Patriot",
           "Benjamin Martin é um veterano de guerra que renunciou às armas e decidiu viver em paz com sua família. Mas, quando os ingleses trazerem a Guerra da Independência até o seu quintal, Benjamin não vê outra saída a não ser pegar nas armas novamente, desta vez acompanhado de seu filho idealista, liderando uma rebelião contra o implacável e equipado exército britânico. No processo, ele descobre que só pode proteger sua família lutando pela liberdade da jovem nação.",
           45.235,
           "/oe26GVJTIEFLW8WjGMj1K0MbWUJ.jpg",
           "2000-06-28",
           "O Patriota",
           false,
           7.176,
           3685
          ],
          [
           false,
           "/dgiOBykxfUAtb01VUnkHsTCwfsG.jpg",
           [
            12,
            18,
            36
           ],
           978,
           "en",
           "Seven Years in Tibet",
           "A história do austríaco alpinista Heinrich Harrer, cuja tentativa de escalar o pico do Himalaia é interrompida pela Segunda Guerra Mundial. Depois de muitas aventuras, ele se encontra no Tibet, onde faz amizade com o Dalai Lama, ganhando maturidade e humildade.",
           25.213,
           "/a8IRkaTST3gY1OY77WPwuA52Okr.jpg",
           "1997-09-12",
           "Sete Anos no Tibet",
           false,
           7.173,
           2694
          ],
          [
           false,
           "/a2n6bKD7qhCPCAEALgsAhWOAQcc.jpg",
           [
            878,
            53,
            18
           ],
           49047,
           "en",
           "Gravity",
           "Matt Kowalski é um astronauta experiente que está em missão de conserto ao telescópio Hubble juntamente com a doutora Ryan Stone. Ambos são surpreendidos por uma chuva de destroços decorrente da destruição de um satélite por um míssil russo, que faz com que sejam jogados no espaço sideral. Sem qualquer apoio da base terrestre da NASA, eles precisam encontrar um meio de sobreviver em meio a um ambiente completamente inóspito para a vida humana.",
           33.539,
           "/eHLufJ1bHy4PtEBJdPSTu4jIhZ0.jpg",
           "2013-10-03",
           "Gravidade",
           false,
           7.165,
           14760
          ],
          [
           false,
           "/4YrguU26cw69ZGnyDmd6lbitajG.jpg",
           [
            35,
            18
           ],
           440472,
           "en",
           "The Upside",
           "Um jovem negro aceita trabalhar para um homem branco paraplégico e acaba dando início a uma grande e inusitada amizade. Versão americana de \"Intocáveis\", filme francês de 2012 que fez grande sucesso mundial.",
           27.425,
           "/lYv3Mwm3t7FWEMli8ASMIhZBUBC.jpg",
           "2019-01-10",
           "Amigos para Sempre",
           false,
           7.146,
           1200
          ],
          [
           false,
           "/2Gq4teAIkVVv0kc6JsfU66C3VOJ.jpg",
           [
            53,
            18,
            9648
           ],
           9741,
           "en",
           "Unbreakable",
           "Um espantoso desastre de trem deixa os Estados Unidos em choque. Todos os passageiros das locomotivas acabam mortos, exceto David Dunne, que sai completamente ileso do acidente, deixando todos, inclusive os médicos e ele próprio, em choque. Enquanto busca explicações sobre o que poderia ter salvado sua vida, David encontra Elijah Price, um desconhecido que apresenta uma explicação no mínimo bizarra para o fato.",
           46.347,
           "/t0NieBaFxHuHr692RkjccBAnU9X.jpg",
           "2000-11-22",
           "Corpo Fechado",
           false,
           7.139,
           8842
          ],
          [
           false,
           "/5i6SjyDbDWqyun8klUuCxrlFbyw.jpg",
           [
            18,
            28
           ],
           677179,
           "en",
           "Creed III",
           "Depois de dominar o mundo do boxe, Adonis Creed tem prosperado em sua carreira e vida familiar. Quando um amigo de infância e ex-prodígio do boxe, Damien Anderson, ressurge depois de cumprir uma longa sentença na prisão, ele está ansioso para provar que merece sua chance no ringue. O confronto entre ex-amigos é mais do que apenas uma briga. Para acertar as contas, Adonis deve colocar seu futuro em risco para lutar contra Damien - um lutador que não tem nada a perder.",
           112.575,
           "/3VkER73o8NDqAYf5gI5bXwhtGbW.jpg",
           "2023-03-01",
           "Creed III",
           false,
           7.135,
           2262
          ],
          [
           false,
           "/1TUg5pO1VZ4B0Q1amk3OlXvlpXV.jpg",
           [
            12,
            18,
            10751,
            16
           ],
           420818,
           "en",
           "The Lion King",
           "Simba é um jovem leão cujo destino é se tornar o rei da selva. Entretanto, uma armadilha elaborada por seu tio Scar faz com que Mufasa, o atual rei, morra ao tentar salvar o filhote. Consumido pela culpa, Simba deixa o reino rumo a um local distante, onde encontra amigos que o ensinam a mais uma vez ter prazer pela vida.",
           91.147,
           "/wrHr8eEJYDAA7WYybyH162s4oZ4.jpg",
           "2019-07-12",
           "O Rei Leão",
           false,
           7.117,
           9562
          ],
          [
           false,
           "/awDWfEXyD2BGM8ZspyFRHKxce1F.jpg",
           [
            12,
            35,
            18
           ],
           59468,
           "en",
           "The Way",
           "O oftalmologista Tom Avery (Martin Sheen) e seu único filho Daniel (Emilio Estevez) têm uma relação distante. Quando o rapaz viaja para a Espanha para cruzar o Caminho de Santiago de Compostela, acaba perdendo a vida em uma fatalidade. Tom, então, vai até a França para recolher o corpo de seu filho. Chegando lá, ele resolve fazer o Caminho, completando o percurso que Daniel havia começado, levando junto as cinzas do rapaz. Durante a empreitada, ele encontra companheiros que vão lhe mostrar que nenhum caminho deve ser percorrido sozinho.",
           19.485,
           "/4wJb8HLMWaJXrYznXNf7eqFUJKL.jpg",
           "2010-09-10",
           "Em Busca de um Caminho",
           false,
           7.106,
           540
          ],
          [
           false,
           "/uy2trYgO8MOQfQXlvMaLhBnkUqg.jpg",
           [
            18,
            28,
            53
           ],
           7485,
           "en",
           "Shooter",
           "O atirador Marksman Bob Lee Swagger deixa o exército e desaparece sem deixar rastros. Ele volta para impedir o assassinato do Presidente dos Estados Unidos, mas é enganado e passa a ser perseguido como criminoso.",
           57.376,
           "/qluvMxXA2p15s7egazJn9vhX5Gi.jpg",
           "2007-03-22",
           "Atirador",
           false,
           7.114,
           4574
          ],
          [
           false,
           "/1Dp18gkAs9bJ1lzB2HKvboAHRN0.jpg",
           [
            28,
            53,
            80,
            12
           ],
           9316,
           "th",
           "องค์บาก",
           "Uma valiosa estátua de Buda é roubada do templo de um vilarejo na Tailândia. Para recuperá-la e restabelecer a honra em sua terra natal, um lutador precisa enfrentar a gangue do chefão do crime na capital do país.",
           43.786,
           "/656do53t3n3FqkOJZZ249izDMn5.jpg",
           "2003-01-21",
           "Ong-Bak: Guerreiro Sagrado",
           false,
           7.095,
           1588
          ],
          [
           false,
           "/viBWzktrBmhzRw4ehmUIrrN4C0z.jpg",
           [
            12,
            18,
            53
           ],
           44115,
           "en",
           "127 Hours",
           "Ao explorar um cânion remoto em Utah, o alpinista e aventureiro Aron Ralston fica preso em uma fenda quando uma pedra cai. Nos cinco dias seguintes, Ralston examina sua vida e considera suas opções, as quais o levam a uma situação angustiante. Aron precisa tomar uma atitude para que possa se libertar e tentar voltar para a civilização.",
           27.905,
           "/1HoqPAq2HMUMwI0u4mpcBN4v9WJ.jpg",
           "2010-11-12",
           "127 Horas",
           false,
           7.078,
           7183
          ],
          [
           false,
           "/n2pSbjJHR0g1MPJ1wq3n3OA7MPl.jpg",
           [
            80,
            53,
            18
           ],
           302946,
           "en",
           "The Accountant",
           "O matemático Christian Wolff sente-se muito mais à vontade lidando com números do que com pessoas. Atualmente, trabalha como contador autônomo para uma das maiores organizações criminosas do mundo. Com a receita federal no encalço, ele resolve mudar de ares e atender um novo cliente, uma empresa de equipamentos robóticos onde um dos funcionários descobriu um desvio gigantesco de recursos. À medida que Christian se aprofunda nos registros da empresa e se aproxima da verdade, o número de cadáveres começa a crescer rapidamente.",
           44.034,
           "/vgJt4ADIjm5U2y3oPLu6kXEXOCY.jpg",
           "2016-10-13",
           "O Contador",
           false,
           7.071,
           5788
          ],
          [
           false,
           "/pxK1iK6anS6erGg4QePmMKbB1E7.jpg",
           [
            12,
            28,
            53,
            878
           ],
           604,
           "en",
           "The Matrix Reloaded",
           "Após derrotar as máquinas em seu combate inicial, Neo ainda vive na Nabucodonosor ao lado de Morpheus, Trinity e Link, o novo tripulante da nave. As máquinas estão realizando uma grande ofensiva contra Zion, onde 250 mil delas escavam rumo à cidade e podem alcançá-la em poucos dias. A Nabucodonosor é convocada para retornar a Zion e participar da reunião que definirá o contra-ataque para salvar a humanidade da extinção. Entretanto, um recado enviado pelo Oráculo faz com que Neo retorne à Matrix.",
           46.439,
           "/e7DdXOXP6mH2y7Fv7ujrk5tlsh7.jpg",
           "2003-05-15",
           "Matrix Reloaded",
           false,
           7.0,
           10445
          ],
          [
           false,
           "/n6SYYIOCazHCyOL4CBq4EcGKvFd.jpg",
           [
            18
           ],
           228970,
           "en",
           "Wild",
           "Após a morte de sua mãe, um divórcio e uma fase de autodestruição repleta de heroína, Cheryl Strayed (Reese Witherspoon) decide mudar e investir em uma nova vida junto à natureza selvagem. Para tanto, ela se aventura em uma trilha de 1100 milhas pela costa do oceano Pacífico.",
           17.626,
           "/l0b26MyxquriVDIcfNgo84Gg1v4.jpg",
           "2014-01-16",
           "Livre",
           false,
           7.023,
           2365
          ],
          [
           false,
           "/3tkDMNfM2YuIAJlvGO6rfIzAnfG.jpg",
           [
            18,
            878,
            53
           ],
           619264,
           "es",
           "El hoyo",
           "Em uma prisão onde os detentos são alimentados por uma plataforma descendente, os que estão nos níveis mais altos comem mais do que precisam enquanto os dos andares mais baixos ficam com as migalhas. Até que um homem decide mudar o sistema.",
           30.058,
           "/kY0ET33EoiJhjaPCzzvywCDqP6b.jpg",
           "2019-11-08",
           "O Poço",
           false,
           6.978,
           6525
          ]
         ],
         5,
         100,
         "2024-03-01T16:02:17.084Z",
         "gleisonbob@gmail.com"
        ],
        [
         5,
         [
          [
           false,
           "/zv1xOEQzebKyku349qDZ085FZlO.jpg",
           [
            10752,
            36,
            10749,
            18,
            28
           ],
           676,
           "en",
           "Pearl Harbor",
           "Dois pilotos e amigos de longa data se apaixonam pela mesma mulher, mas precisam deixar suas diferenças de lado quando os japoneses atacam a base naval de Pearl Harbor em 7 de dezembro de 1941.",
           47.984,
           "/y8A0Cvp8WQmZ3bjbnsL53lY0dsC.jpg",
           "2001-05-21",
           "Pearl Harbor",
           false,
           6.938,
           6141
          ],
          [
           false,
           "/iZ2816km53S1Qvs0w2nUOL6jpP7.jpg",
           [
            28,
            12,
            878
           ],
           157350,
           "en",
           "Divergent",
           "Na futurística cidade de Chicago, ao completar 16 anos, Beatrice precisa escolher entre as diferentes facções em que a cidade está dividida. Cada uma representa um valor diferente e, ao contrário de sua família, a jovem opta pela facção dos destemidos, a Audácia. Ela então se torna Tris e inicia uma jornada para afastar seus medos e descobrir quem realmente é. Durante essa jornada, acaba conhecendo o jovem Quatro, um rapaz experiente que tem o dom de intrigá-la e de encantá-la ao mesmo tempo.",
           44.145,
           "/gktEuhRYZrlinT3sLSt7Fvmqbe5.jpg",
           "2014-03-14",
           "Divergente",
           false,
           6.921,
           12363
          ],
          [
           false,
           "/oLma4sWjqlXVr0E3jpaXQCytuG9.jpg",
           [
            12,
            35,
            14
           ],
           512200,
           "en",
           "Jumanji: The Next Level",
           "A turma está de volta, mas o jogo mudou. Quando voltam para Jumanji para resgatar um amigo, descobrem que nada do que esperavam. Com mais ação e surpresas, os jogadores terão que desbravar partes desconhecidas e inexploradas, dos desertos áridos até montanhas de neve, para escapar.",
           56.716,
           "/bBRDUTr6jgbD8I8A9DvVGrVbdfB.jpg",
           "2019-12-04",
           "Jumanji: Próxima Fase",
           false,
           6.914,
           8191
          ],
          [
           false,
           "/keMt6SKTiTBBW0WtCLcqEfpEj9G.jpg",
           [
            12,
            14
           ],
           10323,
           "en",
           "Clash of the Titans",
           "Deuses do Olimpo, terríveis monstros mitológicos e heróis mortais fazem deste espetáculo de imaginação uma aventura imperdível. Harry Hamlin é Perseu, o filho mortal de Zeus (Laurence Olivier), que luta para salvar a vida da princesa Andrômeda (Judi Bowker) do monstro marinho Kraken. Para tal, ele precisa de uma arma tão letal quanto difícil de conseguir: A cabeça de Medusa! Acompanhado de um grupo de corajosos guerreiros e montado no fabuloso Pegasus, o cavalo alado, Perseu parte em uma aventura sem precedentes pelas terras fantásticas da mitologia grega.",
           37.365,
           "/5LObtR57MxWD7Me0tiRaqgrqKQD.jpg",
           "1981-06-12",
           "Fúria de Titãs",
           false,
           6.89,
           706
          ],
          [
           false,
           "/uw4SnKFZ453Gxmj5XR5Susj8TNo.jpg",
           [
            28,
            12,
            878
           ],
           602,
           "en",
           "Independence Day",
           "Perto do Dia da Independência dos Estados Unidos, o país fica em pânico com uma invasão alienígena. Preparados para um ataque iminente dos extraterrestres, a humanidade precisa se unir antes que uma catástrofe mundial ocorra.",
           44.539,
           "/7KGNAWjp0QFcynhtLoLXXa3F4Hc.jpg",
           "1996-06-25",
           "Independence Day",
           false,
           6.876,
           9121
          ],
          [
           false,
           "/hrtjErTwP1AvNLDsIO5jTPOihAd.jpg",
           [
            28
           ],
           1102776,
           "fr",
           "AKA",
           "Um homem enfrenta um dilema moral depois de se infiltrar em um grupo criminoso. A situação piora quando o filho do chefe, um garoto de oito anos, entra na jogada.",
           29.365,
           "/mOP3FjJuOe38grWMgdtuVGNMFzZ.jpg",
           "2023-04-28",
           "Agente Infiltrado",
           false,
           6.884,
           585
          ],
          [
           false,
           "/qWE206uqSbEXLVATvbB6fUIX8WE.jpg",
           [
            80,
            53,
            28,
            9648
           ],
           291805,
           "en",
           "Now You See Me 2",
           "Após enganarem o FBI, os cavaleiros Daniel Atlas, Merritt McKinney e Jack Wilder estão foragidos. Eles seguem as ordens de Dylan Rhodes, que segue trabalhando no FBI de forma a impedir os avanços na procura dos próprios cavaleiros. Paralelamente, o grupo planeja seu novo ato: desmascarar um jovem gênio da informática, cujo novo lançamento coleta dados pessoais dos usuários.",
           38.311,
           "/9uCUHxN5MD4vX6q1YEnpL6bQLiw.jpg",
           "2016-06-02",
           "Truque de Mestre: O 2º Ato",
           false,
           6.8,
           10374
          ],
          [
           false,
           "/m4JzTSFDqWnvLkjTKIm4kyDXbTO.jpg",
           [
            12,
            18,
            36
           ],
           253412,
           "en",
           "Everest",
           "Inspirado nos incríveis acontecimentos em torno da montanha mais alta do mundo, Evereste documenta a inspiradora jornada de dois diferentes grupos de expedição que são desafiados além de seus limites quando são acometidos por uma das maiores avalanches já registradas. Com a coragem testada por um dos fenômenos mais severos do planeta, os escaladores terão de enfrentar obstáculos quase impossíveis em busca de sobrevivência.",
           27.633,
           "/2PkYTktwBeaB7xbBatMJmAY67lD.jpg",
           "2015-09-10",
           "Evereste",
           false,
           6.815,
           4686
          ],
          [
           false,
           "/fgKEdhRw9IgI9KGjLe4w5ghIjA3.jpg",
           [
            28,
            35,
            80,
            53
           ],
           9737,
           "en",
           "Bad Boys",
           "Um carregamento de heroína confiscada avaliada em um milhão de dólares foi simplesmente roubado do depósito da polícia. O sumiço das dorgas pode destruir as carreiras dos detetives Mike Lawrey e Marcus Burnett e acabar com a divisão de narcóticos do Departamento de Polícia de Miami. Quando as investigações ameaçam os traficantes e eles raptam a única testemunha do caso – uma bela informante da polícia que se torna amiga dos Bad Boys – as coisas se tornam pessoais!",
           46.225,
           "/sgOKUBTjMOdmgdtCQ50E1R5UaaF.jpg",
           "1995-04-07",
           "Os Bad Boys",
           false,
           6.789,
           5906
          ],
          [
           false,
           "/hMclNPye6G3ouN5QdusrlTK0SaE.jpg",
           [
            18,
            9648,
            53,
            80
           ],
           9481,
           "en",
           "The Bone Collector",
           "A policial Amelia Donaghy está na perseguição de um assassino em série cujo cartão de visita é um pequeno pedaço de osso extraído de cada uma de suas vítimas. Incapaz de decifrar as pistas enigmáticas que o assassino deixa para trás na cena do crime, Amelia apela para o tetraplégico especialista em criminologia forense, Lincoln Rhyme, para ajudar. Com ela agindo como intermediária de Rhyme, os dois se juntam na esperança de descobrir quem pode ser a próxima vítima.",
           36.079,
           "/sljvAAegS4up3fT4P51UNwVmNvu.jpg",
           "1999-11-04",
           "O Colecionador de Ossos",
           false,
           6.788,
           3286
          ],
          [
           false,
           "/aPrrrGtSjXbw8XnpzsVJgF0ioq3.jpg",
           [
            28,
            53,
            878
           ],
           20504,
           "en",
           "The Book of Eli",
           "Trinta anos depois da guerra ter dizimado o mundo, um guerreiro solitário chamado Eli caminha por horizontes arruinados dando esperança para os que restaram. Apenas um outro homem compreende o poder de um livro que Eli carrega e está determinado a se apoderar dele. Apesar de Eli preferir a paz, ele arriscará a sua vida para proteger a sua carga preciosa, pois precisa cumprir o seu destino de ajudar a restaurar a humanidade.",
           35.055,
           "/AvPmDjktmbme4QTGRiQxUj2dbJV.jpg",
           "2010-01-14",
           "O Livro de Eli",
           false,
           6.782,
           5793
          ],
          [
           false,
           "/7bN5BIbOZJ1h9Atp59fptJuwKV0.jpg",
           [
            28,
            18,
            53
           ],
           416194,
           "no",
           "Skjelvet",
           "Em 1904, um terremoto de magnitude 5,4 na escala Richter sacudiu Oslo. Seu epicentro foi no \"Oslo Graben\", uma fenda que atravessa diretamente a cidade. Desde então, a população da capital norueguesa pode esperar futuros terremotos na área.",
           25.61,
           "/oujtI4p0lolCnjBt2kvkPvmm0qK.jpg",
           "2018-08-31",
           "Terremoto",
           false,
           6.767,
           703
          ],
          [
           false,
           "/z7noaCJ4KtmhwHw7QcNtnMMo4Qy.jpg",
           [
            28,
            53,
            80
           ],
           345887,
           "en",
           "The Equalizer 2",
           "Criminosos assassinam Susan Plummer, a melhor amiga de Robert McCall e sua ex-colega de trabalho. Obcecado, Robert pensa apenas em eliminar o bando de assassinos profissionais que destruiu sua vida.",
           83.366,
           "/REWunAyKGCbxvg2UJGMEHuQd2c.jpg",
           "2018-07-19",
           "O Protetor 2",
           false,
           6.739,
           4981
          ],
          [
           false,
           "/pjT0N04IPMimSgCRD0a26BRSWrj.jpg",
           [
            35,
            10749,
            12
           ],
           421447,
           "fr",
           "L'Ascension",
           "\"Para você, eu poderia escalar o Everest!\" Samy teria feito melhor se tivesse ficado calado aquele dia... Especialmente por que Nadia não acredita muito em palavras. Por amor a ela, Samy deixa projetos de vida de lado e vai subir os 8.848 metros que fazem do Everest o telhado do mundo.",
           15.182,
           "/jxmnYUawdlSUctpN1JJ9wvE47ZH.jpg",
           "2017-01-25",
           "A Escalada",
           false,
           6.728,
           826
          ],
          [
           false,
           "/cj0VkGBTywa7WTIPPW9xgqmUVWl.jpg",
           [
            53,
            9648
           ],
           13448,
           "en",
           "Angels & Demons",
           "O professor de simbologia Robert Langdon (Tom Hanks), depois de decifrar o código DaVinci, é chamado pelo Vaticano para investigar o misterioso desaparecimento de quatro cardeais. Agora, além de enfrentar a resistência da própria igreja em ajudá-lo nos detalhes de sua investigação, Langdon precisa decifrar charadas numa verdadeira corrida contra o tempo porque a sociedade secreta por trás do crime em andamento tem planos de explodir o Vaticano.",
           44.114,
           "/pVhKBn8HTJVksw3Msk76MgMogiy.jpg",
           "2009-05-13",
           "Anjos e Demônios",
           false,
           6.708,
           6515
          ],
          [
           false,
           "/4pl165EUdvveHCr4J4YcHVA1MnD.jpg",
           [
            80,
            28,
            878
           ],
           9739,
           "en",
           "Demolition Man",
           "O policial John Spartan e o violento bandido Simon Phoenix são condenados a um encarceramento criogênico conhecido como CryoPrison. Quando Spartan é finalmente descongelado 36 anos depois, já é 2032 e Los Angeles é agora uma utopia pacifista chamada San Angeles (junção de Los Angeles com San Francisco). Porém com Phoenix novamente à solta, Spartan deve colaborar com uma policial, Lenina, para apreender o assassino.",
           60.419,
           "/2BjAYQNwmdIZF6XQQ2rLOrios1Q.jpg",
           "1993-10-08",
           "O Demolidor",
           false,
           6.708,
           3441
          ],
          [
           false,
           "/a5nAHzJAwdaH0Esu6FSpjvnwK6x.jpg",
           [
            18,
            36,
            10752
           ],
           2016,
           "fr",
           "Indigènes",
           "Em 1943, 130 mil soldados originários das colônias francesas na África foram para a Europa lutar na 2ª Guerra Mundial e ajudar a libertar uma pátria-mãe na qual nunca antes haviam estado. Entre eles estavam Saïd, Messaoud, Abdelkader e Yassir, que precisam lidar com o preconceito existente ao mesmo tempo em que lutam pela vitória da França.",
           12.205,
           "/oZoVn9SD9779SGDPiDcm8T5iR0Q.jpg",
           "2006-09-27",
           "Dias de Glória",
           false,
           6.694,
           350
          ],
          [
           false,
           "/9W0aXF5HhGilDHloymf7sTCne8z.jpg",
           [
            28,
            53,
            18
           ],
           336882,
           "no",
           "Bølgen",
           "Localizado na Noruega, o Fiorde de Geiranger é um dos pontos turísticos mais espetaculares da região, mas também é um local propício para cataclismas. Após anos no centro de alerta do local, o geólogo Kristian sente que alguma coisa não está normal, os substratos estão mudando. Em plena alta temporada turística, uma onda gigante atinge o local, colocando a montanha abaixo e dando apenas dez minutos para que as pessoas consigam chegar a um terreno elevado.",
           19.243,
           "/1y2F6xuKuSpXd7OaMa6K4vetzGb.jpg",
           "2015-08-28",
           "A Onda",
           false,
           6.68,
           1227
          ],
          [
           false,
           "/wUzCzeM7ZRG0kHHOU8wiTrXdocd.jpg",
           [
            35
           ],
           1624,
           "en",
           "Liar Liar",
           "Um falante advogado habituado a mentir que, por causa do pedido de aniversário de seu filho, se vê forçado a falar somente a verdade nas próximas 24 horas.",
           41.284,
           "/9fViD1rsvp95an7PN0oj3dqGIk0.jpg",
           "1997-03-21",
           "O Mentiroso",
           false,
           6.683,
           5328
          ],
          [
           false,
           "/jw88BtmMliB1Mbwf3JyfYszS4Xk.jpg",
           [
            18,
            53,
            878,
            9648
           ],
           2675,
           "en",
           "Signs",
           "No condado de Bucks (Pensilvânia), vive o viúvo Graham Hess e seus dois filhos, Morgan e Bo. Ele costumava ser o pastor da região, mas se recusa a ser chamado assim desde que sua mulher, Colleen, morreu atropelada por Ray Reddy, um de seus vizinhos. Os Hess ficam intrigados com o aparecimento de misteriosos círculos em sua plantação sem que haja o menor vestígio de quem os fez ou por qual motivo teriam sido feitos.",
           30.726,
           "/d5AV8UQEd7y7VZ4ZdiRTkC5TLTj.jpg",
           "2002-08-02",
           "Sinais",
           false,
           6.7,
           5307
          ]
         ],
         5,
         100,
         "2024-03-01T16:02:17.084Z",
         "gleisonbob@gmail.com"
        ],
        [
         3,
         [
          [
           false,
           "/3dPhs7hUnQLphDFzdkD407VZDYo.jpg",
           [
            18,
            12,
            878
           ],
           286217,
           "en",
           "The Martian",
           "O astronauta Mark Watney é enviado a uma missão em Marte. Após uma severa tempestade ele é dado como morto, abandonado pelos colegas e acorda sozinho no misterioso planeta com escassos suprimentos, sem saber como reencontrar os companheiros ou retornar à Terra.",
           55.162,
           "/fG3S4zdgnsaF77tJGK3rA9tHBu4.jpg",
           "2015-09-30",
           "Perdido em Marte",
           false,
           7.683,
           18974
          ],
          [
           false,
           "/ioqaIhJSkwa9DGRHGtOOUTiGRs2.jpg",
           [
            12,
            18
           ],
           8358,
           "en",
           "Cast Away",
           "Chuck Noland (Tom Hanks) um inspetor da Federal Express (FedEx), multinacional encarregada de enviar cargas e correspondências, que tem por função checar vários escritórios da empresa pelo planeta. Porém, em uma de suas costumeiras viagens ocorre um acidente, que o deixa preso em uma ilha completamente deserta por 4 anos. Com sua noiva (Helen Hunt) e seus amigos imaginando que ele morrera no acidente, Chuck precisa lutar para sobreviver, tanto fisicamente quanto emocionalmente, a fim de que um dia consiga retornar civilização.",
           53.659,
           "/eaJRnsUIxOeMgpY81iIgGr372vp.jpg",
           "2000-12-22",
           "Náufrago",
           false,
           7.664,
           10847
          ],
          [
           false,
           "/6dpnthrofbqWmvapUyvqCrkdHG.jpg",
           [
            28,
            53,
            878
           ],
           218,
           "en",
           "The Terminator",
           "Em um futuro próximo, a guerra entre humanos e máquinas foi iniciada. Com a tecnologia a seu dispor, um plano inusitado é arquitetado pelas máquinas ao enviar para o passado um andróide com a missão de matar a mãe daquele que viria a se transformar num líder e seu pior inimigo. Contudo, os humanos também conseguem enviar seu representante para proteger a mulher e tentar garantir o futuro da humanidade.",
           74.649,
           "/fo4SSoNT1ASI4JP7dOLrosWNWKa.jpg",
           "1984-10-26",
           "O Exterminador do Futuro",
           false,
           7.655,
           12279
          ],
          [
           false,
           "/zRo7v3syLG19ZaLxZRFRLN1L9iX.jpg",
           [
            878,
            12,
            18,
            28
           ],
           871,
           "en",
           "Planet of the Apes",
           "George Taylor, um astronauta americano, viaja por séculos em estado de hibernação. Ao acordar, ele e seus companheiros se vêem em um planeta dominado por macacos, no qual os humanos são tratados como escravos e nem mesmo tem o dom da fala.",
           54.161,
           "/wTYTjSUqdra9WKzp7w2aOwYDosS.jpg",
           "1968-02-07",
           "O Planeta dos Macacos",
           false,
           7.651,
           3226
          ],
          [
           false,
           "/inJjDhCjfhh3RtrJWBmmDqeuSYC.jpg",
           [
            28,
            878,
            53
           ],
           399566,
           "en",
           "Godzilla vs. Kong",
           "Em uma época em que os monstros andam na Terra, a luta da humanidade por seu futuro coloca Godzilla e Kong em rota de colisão que verá as duas forças mais poderosas da natureza no planeta se confrontarem em uma batalha espetacular para as idades. Enquanto Monarch embarca em uma missão perigosa em terreno desconhecido e descobre pistas sobre as origens dos Titãs, uma conspiração humana ameaça tirar as criaturas, boas e más, da face da terra para sempre.",
           123.696,
           "/klAIFewuqcyEmH1SMtR2XbMyqzM.jpg",
           "2021-03-24",
           "Godzilla vs. Kong",
           false,
           7.632,
           9398
          ],
          [
           false,
           "/8rpDcsfLJypbO6vREc0547VKqEv.jpg",
           [
            878,
            12,
            28
           ],
           76600,
           "en",
           "Avatar: The Way of Water",
           "12 anos depois de explorar Pandora e se juntar aos Na'vi, Jake Sully formou uma família com Neytiri e se estabeleceu entre os clãs do novo mundo. Porém, a paz não durará para sempre.",
           214.785,
           "/mbYQLLluS651W89jO7MOZcLSCUw.jpg",
           "2022-12-14",
           "Avatar: O Caminho da Água",
           false,
           7.632,
           10922
          ],
          [
           false,
           "/npCPnwDyWfQltGfIZKN6WqeUXGI.jpg",
           [
            14,
            12,
            28
           ],
           57158,
           "en",
           "The Hobbit: The Desolation of Smaug",
           "Ao lado de um grupo de anões e de Gandalf, Bilbo segue em direção à Montanha Solitária, onde deverá ajudar seus companheiros a retomar a Pedra de Arken. O problema é que o artefato está perdido em meio a um tesouro protegido pelo temido dragão Smaug.",
           77.15,
           "/beqHE5BZY5LczMxJezL4FdY7mBp.jpg",
           "2013-12-11",
           "O Hobbit: A Desolação de Smaug",
           false,
           7.57,
           12584
          ],
          [
           false,
           "/yriYPLqyFqPW0QXaegT1KmWXk9a.jpg",
           [
            878,
            53
           ],
           1954,
           "en",
           "The Butterfly Effect",
           "Evan é um jovem que luta para esquecer fatos de sua infância. Para isso, ele decide realizar uma regressão onde volta também fisicamente ao seu corpo de criança, tendo condições de alterar seu próprio passado. Porém, ao tentar consertar seus antigos problemas, ele acaba criando novos, já que toda mudança que realiza gera consequências em seu futuro.",
           55.858,
           "/tvBGnEzDMK09PvH0fESCnrhpAeo.jpg",
           "2004-01-17",
           "Efeito Borboleta",
           false,
           7.568,
           7133
          ],
          [
           false,
           "/mFreKKBNnB2v678aDq0IZ2jaD8K.jpg",
           [
            37,
            18,
            12
           ],
           281957,
           "en",
           "The Revenant",
           "Em uma expedição pelo desconhecido deserto americano, o lendário explorador Hugh Glass é brutalmente atacado por um urso e deixado como morto pelos membros de sua própria equipe de caça. Em uma luta para sobreviver, Glass resiste à dor inimaginável, bem como à traição de seu confidente, John Fitzgerald. Guiado pela força de vontade e pelo amor de sua família, Glass deve navegar um inverno brutal em uma incessante busca por sobrevivência e redenção.",
           48.48,
           "/x1jViuXsm5ZmrR6uFmxU6AVdXzs.jpg",
           "2015-12-25",
           "O Regresso",
           false,
           7.531,
           17500
          ],
          [
           false,
           "/kdbLf3aTQsEXqYlH9vA4fzmnSFz.jpg",
           [
            10752,
            18,
            28
           ],
           228150,
           "en",
           "Fury",
           "Durante o final da Segunda Guerra Mundial, um grupo de cinco soldados americanos é encarregado de atacar os nazistas dentro da própria Alemanha. Apesar de estarem em quantidade inferior e terem poucas armas, eles são liderados pelo enfurecido Wardaddy, sargento que pretende levá-los à vitória, enquanto ensina o novato Norman a lutar.",
           77.83,
           "/8WtUjpboPESZbabGbC4ryd81KcR.jpg",
           "2014-10-15",
           "Corações de Ferro",
           false,
           7.526,
           11375
          ],
          [
           false,
           "/YL3GPOiDcNraIJOVDCZsoOBoDy.jpg",
           [
            878,
            28,
            12,
            53
           ],
           106,
           "en",
           "Predator",
           "O major Alan \"Dutch\" Schaefer lidera uma equipe de resgate em uma selva da América Central, para tentar encontrar um ministro estrangeiro e funcionários do governo que saíram da rota e se perderam. O exército acredita que eles estejam nas mãos de guerrilheiros, mas o que eles não imaginam é que a floresta esconde uma ameaça mortal, um ser de outro planeta, fortemente armado, que sente enorme prazer em matar.",
           86.429,
           "/2B6yDvD0hre65fyRi9LC3UJ9uSq.jpg",
           "1987-06-12",
           "O Predador",
           false,
           7.519,
           7571
          ],
          [
           false,
           "/mkfRdkM7FtmOndrh1jML3MIRB2i.jpg",
           [
            28,
            80,
            18
           ],
           2034,
           "en",
           "Training Day",
           "Jake Hoyt, um jovem policial de Los Angeles, entra para a equipe de narcóticos da polícia e recebe como oficial de treinamento e parcerio Alonzo Harris, um policial veterano e corrupto. Com o passar do dia, o jovem é exposto a todo tipo de corrupção e é ainda acusado de assassinato, acontecimentos que são orquestrados por Alonzo a fim de encobrir um engano cometido por ele junto à máfia russa, que pode fazer com que ele seja morto se não conseguir uma grande quantia de dinheiro até a meia-noite.",
           39.719,
           "/ju2TUNXdCosCMOWXJA1BxtylyOj.jpg",
           "2001-10-05",
           "Dia de Treinamento",
           false,
           7.496,
           5580
          ],
          [
           false,
           "/lMGW6hh6EF0DhucvUvuCuAVxzZU.jpg",
           [
            99,
            28,
            12,
            18
           ],
           11194,
           "en",
           "Touching the Void",
           "",
           13.429,
           "/fsydA5H8FSDaYlYWddfMpMpDUX.jpg",
           "2003-09-05",
           "Touching the Void",
           false,
           7.497,
           376
          ],
          [
           false,
           "/hZoXUcBN0CgD7s1QgmO7OZSHzBx.jpg",
           [
            18
           ],
           18925,
           "en",
           "Facing the Giants",
           "Técnico do Shiloh Eagles há seis anos, Grant Taylor (Alex Kendrick) nunca conseguiu levar sua equipe ao título da temporada. Além do mau desempenho no trabalho, Grant deve enfrentar outros problemas graves em casa e seu estado psicológico e moral nunca esteve tão abatido. Quando tudo parece estar prestes a ir por água abaixo, uma intervenção misteriosa muda o seu destino.",
           27.376,
           "/sb59Xr3ckkUH7r6EtCZC9EBV5JB.jpg",
           "2006-09-29",
           "Desafiando Gigantes",
           false,
           7.5,
           393
          ],
          [
           false,
           "/tC78Pck2YCsUAtEdZwuHYUFYtOj.jpg",
           [
            28,
            53,
            80
           ],
           926393,
           "en",
           "The Equalizer 3",
           "Sentindo-se em casa no sul da Itália, o ex-agente Robert McCall logo descobre que seus novos amigos estão sob o controle dos chefes do crime local.  À medida que os acontecimentos se tornam mortais, McCall sabe o que tem de fazer: tornar-se o protetor dos seus amigos, enfrentando a máfia.",
           160.196,
           "/AnJOKbSQsp0QqiUhsQooqFRjPsD.jpg",
           "2023-08-30",
           "O Protetor: Capítulo Final",
           false,
           7.394,
           2319
          ],
          [
           false,
           "/xyXmtuvsoM5J3yNad0nvcetpBdY.jpg",
           [
            12,
            14,
            28
           ],
           49051,
           "en",
           "The Hobbit: An Unexpected Journey",
           "Como a maioria dos hobbits, Bilbo Bolseiro leva uma vida tranquila até o dia em que recebe uma missão do mago Gandalf. Acompanhado por um grupo de anões, ele parte numa jornada até a Montanha Solitária para libertar o Reino de Erebor do dragão Smaug.",
           75.133,
           "/qmHzmfcCWKyQZ8NFQkIYH8JdShI.jpg",
           "2012-12-12",
           "O Hobbit: Uma Jornada Inesperada",
           false,
           7.347,
           17737
          ],
          [
           false,
           "/1R6cvRtZgsYCkh8UFuWFN33xBP4.jpg",
           [
            28,
            53
           ],
           545609,
           "en",
           "Extraction",
           "Em Bangladesh, o mercenário Tyler Rake luta para sobreviver durante a missão para resgatar o filho de um chefão do crime.",
           50.98,
           "/zxahunlqvMPWzUBd1XSRsGawdS9.jpg",
           "2020-04-24",
           "Resgate",
           false,
           7.342,
           5755
          ],
          [
           false,
           "/bVmSXNgH1gpHYTDyF9Q826YwJT5.jpg",
           [
            28,
            12,
            14
           ],
           122917,
           "en",
           "The Hobbit: The Battle of the Five Armies",
           "O dragão Smaug lança sua fúria ardente contra a Cidade do Lago que fica próxima da montanha de Erebor. Bard consegue derrotá-lo, mas, rapidamente, sem a ameaça do dragão, inicia-se uma batalha pelo controle de Erebor e sua riqueza. Os anões, liderados por Thorin, adentram a montanha e estão dispostos a impedir a entrada de elfos, anões e orcs. Bilbo Bolseiro e Gandalf tentam impedir a guerra.",
           152.894,
           "/5tGL0dbQpAkK9ItUaDrUbTvTMDp.jpg",
           "2014-12-10",
           "O Hobbit: A Batalha dos Cinco Exércitos",
           false,
           7.313,
           13652
          ],
          [
           false,
           "/zlU8BIkgY7E6SMfD3USTWC6bchL.jpg",
           [
            878,
            28,
            18,
            53
           ],
           119450,
           "en",
           "Dawn of the Planet of the Apes",
           "Em 2026, a humanidade está enfrentando sua pior crise e está muito próxima da extinção por conta de um vírus mortal. Um grupo de sobreviventes organiza uma expedição pelas florestas próximas de São Francisco em busca de uma nova fonte de energia quando se deparam com uma comunidade, muito evoluída, de macacos liderados por César. Alguns dissidentes, mesmo com o pacto de paz firmado, quebram a trégua e dão início a uma guerra sem precedentes entre as duas espécies.",
           112.553,
           "/4vLhF6R3lmhTjTVUdK4gI1s5a8v.jpg",
           "2014-07-08",
           "Planeta dos Macacos: O Confronto",
           false,
           7.3,
           10615
          ],
          [
           false,
           "/xDpa4rl47if5ixG1VRmzHErzy8h.jpg",
           [
            53,
            28,
            18,
            878
           ],
           61791,
           "en",
           "Rise of the Planet of the Apes",
           "Nossa maior descoberta tornar-se-á a maior ameaça para a humanidade quando um cientista na iminência de um grande avanço da medicina começa a fazer testes num jovem chimpanzé chamado César. Quando o chimpanzé desenvolve inteligência e emoções semelhantes às dos humanos, uma batalha épica surge para determinar a espécie dominante no planeta!",
           75.958,
           "/qxe4ONZAgtC0mfsIuOyqVU9JREj.jpg",
           "2011-08-03",
           "Planeta dos Macacos: A Origem",
           false,
           7.3,
           11094
          ]
         ],
         5,
         100,
         "2024-03-01T16:02:17.084Z",
         "gleisonbob@gmail.com"
        ]
       ],
       "datasetInfos": [],
       "dbfsResultPath": null,
       "isJsonSchema": true,
       "metadata": {
        "dataframeName": "_sqldf",
        "executionCount": 5
       },
       "overflow": false,
       "plotOptions": {
        "customPlotOptions": {},
        "displayType": "table",
        "pivotAggregation": null,
        "pivotColumns": null,
        "xColumns": null,
        "yColumns": null
       },
       "removedWidgets": [],
       "schema": [
        {
         "metadata": "{}",
         "name": "page",
         "type": "\"long\""
        },
        {
         "metadata": "{}",
         "name": "results",
         "type": "{\"type\":\"array\",\"elementType\":{\"type\":\"struct\",\"fields\":[{\"name\":\"adult\",\"type\":\"boolean\",\"nullable\":true,\"metadata\":{}},{\"name\":\"backdrop_path\",\"type\":\"string\",\"nullable\":true,\"metadata\":{}},{\"name\":\"genre_ids\",\"type\":{\"type\":\"array\",\"elementType\":\"long\",\"containsNull\":true},\"nullable\":true,\"metadata\":{}},{\"name\":\"id\",\"type\":\"long\",\"nullable\":true,\"metadata\":{}},{\"name\":\"original_language\",\"type\":\"string\",\"nullable\":true,\"metadata\":{}},{\"name\":\"original_title\",\"type\":\"string\",\"nullable\":true,\"metadata\":{}},{\"name\":\"overview\",\"type\":\"string\",\"nullable\":true,\"metadata\":{}},{\"name\":\"popularity\",\"type\":\"double\",\"nullable\":true,\"metadata\":{}},{\"name\":\"poster_path\",\"type\":\"string\",\"nullable\":true,\"metadata\":{}},{\"name\":\"release_date\",\"type\":\"string\",\"nullable\":true,\"metadata\":{}},{\"name\":\"title\",\"type\":\"string\",\"nullable\":true,\"metadata\":{}},{\"name\":\"video\",\"type\":\"boolean\",\"nullable\":true,\"metadata\":{}},{\"name\":\"vote_average\",\"type\":\"double\",\"nullable\":true,\"metadata\":{}},{\"name\":\"vote_count\",\"type\":\"long\",\"nullable\":true,\"metadata\":{}}]},\"containsNull\":true}"
        },
        {
         "metadata": "{}",
         "name": "total_pages",
         "type": "\"long\""
        },
        {
         "metadata": "{}",
         "name": "total_results",
         "type": "\"long\""
        },
        {
         "metadata": "{}",
         "name": "DATA_CADASTRO",
         "type": "\"timestamp\""
        },
        {
         "metadata": "{}",
         "name": "USER_CADASTRO",
         "type": "\"string\""
        }
       ],
       "type": "table"
      }
     },
     "output_type": "display_data"
    }
   ],
   "source": [
    "%sql\n",
    "SELECT * FROM DBTMDB.TMDB_BRONZE;"
   ]
  },
  {
   "cell_type": "code",
   "execution_count": 0,
   "metadata": {
    "application/vnd.databricks.v1+cell": {
     "cellMetadata": {
      "byteLimit": 2048000,
      "implicitDf": true,
      "rowLimit": 10000
     },
     "inputWidgets": {},
     "nuid": "688a38a1-b7ec-4ddc-b124-babebd396a65",
     "showTitle": false,
     "title": ""
    }
   },
   "outputs": [
    {
     "output_type": "display_data",
     "data": {
      "text/html": [
       "<style scoped>\n",
       "  .table-result-container {\n",
       "    max-height: 300px;\n",
       "    overflow: auto;\n",
       "  }\n",
       "  table, th, td {\n",
       "    border: 1px solid black;\n",
       "    border-collapse: collapse;\n",
       "  }\n",
       "  th, td {\n",
       "    padding: 5px;\n",
       "  }\n",
       "  th {\n",
       "    text-align: left;\n",
       "  }\n",
       "</style><div class='table-result-container'><table class='table-result'><thead style='background-color: white'><tr><th>count(1)</th></tr></thead><tbody><tr><td>5</td></tr></tbody></table></div>"
      ]
     },
     "metadata": {
      "application/vnd.databricks.v1+output": {
       "addedWidgets": {},
       "aggData": [],
       "aggError": "",
       "aggOverflow": false,
       "aggSchema": [],
       "aggSeriesLimitReached": false,
       "aggType": "",
       "arguments": {},
       "columnCustomDisplayInfos": {},
       "data": [
        [
         5
        ]
       ],
       "datasetInfos": [],
       "dbfsResultPath": null,
       "isJsonSchema": true,
       "metadata": {
        "dataframeName": "_sqldf",
        "executionCount": 6
       },
       "overflow": false,
       "plotOptions": {
        "customPlotOptions": {},
        "displayType": "table",
        "pivotAggregation": null,
        "pivotColumns": null,
        "xColumns": null,
        "yColumns": null
       },
       "removedWidgets": [],
       "schema": [
        {
         "metadata": "{\"__autoGeneratedAlias\":\"true\"}",
         "name": "count(1)",
         "type": "\"long\""
        }
       ],
       "type": "table"
      }
     },
     "output_type": "display_data"
    }
   ],
   "source": [
    "%sql\n",
    "SELECT COUNT(1) FROM DBTMDB.TMDB_BRONZE;"
   ]
  },
  {
   "cell_type": "code",
   "execution_count": 0,
   "metadata": {
    "application/vnd.databricks.v1+cell": {
     "cellMetadata": {
      "byteLimit": 2048000,
      "rowLimit": 10000
     },
     "inputWidgets": {},
     "nuid": "40330647-902d-4352-a466-5168898a6327",
     "showTitle": false,
     "title": ""
    }
   },
   "outputs": [],
   "source": []
  }
 ],
 "metadata": {
  "application/vnd.databricks.v1+notebook": {
   "dashboards": [],
   "language": "python",
   "notebookMetadata": {
    "mostRecentlyExecutedCommandWithImplicitDF": {
     "commandId": 324900361992140,
     "dataframes": [
      "_sqldf"
     ]
    },
    "pythonIndentUnit": 4
   },
   "notebookName": "2.2 - CAR_BRONZE",
   "widgets": {}
  }
 },
 "nbformat": 4,
 "nbformat_minor": 0
}
